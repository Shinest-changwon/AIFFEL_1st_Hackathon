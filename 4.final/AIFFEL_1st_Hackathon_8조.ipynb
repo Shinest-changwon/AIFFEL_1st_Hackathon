{
 "cells": [
  {
   "cell_type": "markdown",
   "id": "alleged-forward",
   "metadata": {
    "id": "alleged-forward"
   },
   "source": [
    "# AIFFEL_1st_Hackathon :: 8조(JYK)\n",
    "---"
   ]
  },
  {
   "cell_type": "markdown",
   "id": "overall-indicator",
   "metadata": {
    "id": "overall-indicator"
   },
   "source": [
    "## 데이터 살펴보기\n",
    "---"
   ]
  },
  {
   "cell_type": "markdown",
   "id": "talented-retreat",
   "metadata": {
    "id": "talented-retreat"
   },
   "source": [
    "### 데이터 불러오기"
   ]
  },
  {
   "cell_type": "code",
   "execution_count": 1,
   "id": "interstate-foundation",
   "metadata": {
    "id": "interstate-foundation",
    "outputId": "5847871e-1896-4b7a-b8b1-2f4901eab82d"
   },
   "outputs": [
    {
     "name": "stdout",
     "output_type": "stream",
     "text": [
      "time: 246 µs (started: 2021-02-10 14:55:45 +09:00)\n"
     ]
    }
   ],
   "source": [
    "import os\n",
    "from os.path import join\n",
    "\n",
    "import pandas as pd\n",
    "import numpy as np\n",
    "import missingno as msno\n",
    "\n",
    "import seaborn as sns\n",
    "import matplotlib.pyplot as plt\n",
    "%matplotlib inline\n",
    "%config InlineBackend.figure_format = 'retina'\n",
    "\n",
    "%load_ext autotime"
   ]
  },
  {
   "cell_type": "code",
   "execution_count": 2,
   "id": "behavioral-interstate",
   "metadata": {
    "id": "behavioral-interstate",
    "outputId": "ddc1aff6-3675-4184-adc2-2bdf07f1b575"
   },
   "outputs": [
    {
     "name": "stdout",
     "output_type": "stream",
     "text": [
      "1 Physical GPUs, 1 Logical GPUs\n",
      "time: 1.35 s (started: 2021-02-10 14:55:46 +09:00)\n"
     ]
    }
   ],
   "source": [
    "import tensorflow as tf\n",
    "\n",
    "def init_gpu():\n",
    "    gpus = tf.config.experimental.list_physical_devices('GPU')\n",
    "    if gpus:\n",
    "      try:\n",
    "        # Currently, memory growth needs to be the same across GPUs\n",
    "        for gpu in gpus:\n",
    "          tf.config.experimental.set_memory_growth(gpu, True)\n",
    "        logical_gpus = tf.config.experimental.list_logical_devices('GPU')\n",
    "        print(len(gpus), \"Physical GPUs,\", len(logical_gpus), \"Logical GPUs\")\n",
    "      except RuntimeError as e:\n",
    "        # Memory growth must be set before GPUs have been initialized\n",
    "        print(e)\n",
    "        \n",
    "init_gpu()"
   ]
  },
  {
   "cell_type": "code",
   "execution_count": 3,
   "id": "public-render",
   "metadata": {
    "id": "public-render",
    "outputId": "fa98f7bf-a718-4d8d-d464-6b022891c02c"
   },
   "outputs": [
    {
     "name": "stdout",
     "output_type": "stream",
     "text": [
      "/home/aiffel-dj1/workspace/aiffel-exploration-workspace/E10_kaggle/AIFFEL_1st_Hackathon/2.code\n",
      "time: 115 ms (started: 2021-02-10 14:55:47 +09:00)\n"
     ]
    }
   ],
   "source": [
    "!pwd"
   ]
  },
  {
   "cell_type": "code",
   "execution_count": 4,
   "id": "exact-globe",
   "metadata": {
    "id": "exact-globe",
    "outputId": "3c28086c-88e6-410e-e7f2-73e222f30746"
   },
   "outputs": [
    {
     "name": "stdout",
     "output_type": "stream",
     "text": [
      "time: 609 µs (started: 2021-02-10 14:55:49 +09:00)\n"
     ]
    }
   ],
   "source": [
    "# workspace_dir을 pwd에서 확인한 본인의 주소로 바꿔주세요\n",
    "workspace_dir = os.getenv('HOME') + '/workspace/aiffel-exploration-workspace/E10_kaggle/AIFFEL_1st_Hackathon'"
   ]
  },
  {
   "cell_type": "code",
   "execution_count": 5,
   "id": "efficient-station",
   "metadata": {
    "id": "efficient-station",
    "outputId": "df974628-4355-45b5-82d7-2cce5c3b980c"
   },
   "outputs": [
    {
     "name": "stdout",
     "output_type": "stream",
     "text": [
      "train data dim : (2935849, 6)\n",
      "test data dim : (214200, 3)\n",
      "submission dim : (214200, 2)\n",
      "item_categories data dim : (84, 2)\n",
      "items data dim : (22170, 3)\n",
      "shops data dim : (60, 2)\n",
      "time: 1.08 s (started: 2021-02-10 14:55:49 +09:00)\n"
     ]
    }
   ],
   "source": [
    "data_dir = workspace_dir + '/1.data'\n",
    "code_dir = workspace_dir + '/2.code'\n",
    "submission_dir = workspace_dir + '/3.submission'\n",
    "\n",
    "train_data_path = join(data_dir, 'sales_train.csv')\n",
    "test_data_path = join(data_dir, 'test.csv')\n",
    "sample_submission_data_path = join(data_dir,'sample_submission.csv')\n",
    "item_categories_data_path = join(data_dir, 'item_categories.csv')\n",
    "items_data_path = join(data_dir, 'items.csv')\n",
    "shops_data_path = join(data_dir, 'shops.csv')\n",
    "\n",
    "train = pd.read_csv(train_data_path)\n",
    "test = pd.read_csv(test_data_path)\n",
    "sample_submission = pd.read_csv(sample_submission_data_path)\n",
    "item_categories = pd.read_csv(item_categories_data_path)\n",
    "items = pd.read_csv(items_data_path)\n",
    "shops = pd.read_csv(shops_data_path)\n",
    "\n",
    "item_categories_with_eng_name_data_path = join(data_dir, 'item_category_with_eng_name.csv')\n",
    "item_categories_eng = pd.read_csv(item_categories_with_eng_name_data_path)\n",
    "\n",
    "print('train data dim : {}'.format(train.shape)) # 훈련 데이터 형태\n",
    "print('test data dim : {}'.format(test.shape))    # 시험 데이터 형태\n",
    "print('submission dim : {}'.format(sample_submission.shape)) # 제출 샘플 데이터 형태\n",
    "print('item_categories data dim : {}'.format(item_categories.shape)) # 아이템 카데고리 데이터 형태\n",
    "print('items data dim : {}'.format(items.shape)) # 아이템 데이터 형태\n",
    "print('shops data dim : {}'.format(shops.shape)) # 상점 데이터 형태"
   ]
  },
  {
   "cell_type": "markdown",
   "id": "convertible-cassette",
   "metadata": {
    "id": "convertible-cassette"
   },
   "source": [
    "### 데이터 살펴보기\n",
    "데이터 의존도가 낮은 순으로 탐색"
   ]
  },
  {
   "cell_type": "markdown",
   "id": "premier-foundation",
   "metadata": {
    "id": "premier-foundation"
   },
   "source": [
    "#### item_categories\n",
    "- item_categories.csv의 데이터 프레임\n",
    "- name of item category"
   ]
  },
  {
   "cell_type": "code",
   "execution_count": 6,
   "id": "robust-watershed",
   "metadata": {
    "id": "robust-watershed"
   },
   "outputs": [
    {
     "name": "stdout",
     "output_type": "stream",
     "text": [
      "<class 'pandas.core.frame.DataFrame'>\n",
      "RangeIndex: 84 entries, 0 to 83\n",
      "Data columns (total 2 columns):\n",
      " #   Column              Non-Null Count  Dtype \n",
      "---  ------              --------------  ----- \n",
      " 0   item_category_name  84 non-null     object\n",
      " 1   item_category_id    84 non-null     int64 \n",
      "dtypes: int64(1), object(1)\n",
      "memory usage: 1.4+ KB\n",
      "time: 8.71 ms (started: 2021-02-10 14:55:53 +09:00)\n"
     ]
    }
   ],
   "source": [
    "item_categories.info()"
   ]
  },
  {
   "cell_type": "code",
   "execution_count": 7,
   "id": "conscious-island",
   "metadata": {
    "id": "conscious-island"
   },
   "outputs": [
    {
     "data": {
      "text/html": [
       "<div>\n",
       "<style scoped>\n",
       "    .dataframe tbody tr th:only-of-type {\n",
       "        vertical-align: middle;\n",
       "    }\n",
       "\n",
       "    .dataframe tbody tr th {\n",
       "        vertical-align: top;\n",
       "    }\n",
       "\n",
       "    .dataframe thead th {\n",
       "        text-align: right;\n",
       "    }\n",
       "</style>\n",
       "<table border=\"1\" class=\"dataframe\">\n",
       "  <thead>\n",
       "    <tr style=\"text-align: right;\">\n",
       "      <th></th>\n",
       "      <th>item_category_name</th>\n",
       "      <th>item_category_id</th>\n",
       "    </tr>\n",
       "  </thead>\n",
       "  <tbody>\n",
       "    <tr>\n",
       "      <th>74</th>\n",
       "      <td>Программы - MAC (Цифра)</td>\n",
       "      <td>74</td>\n",
       "    </tr>\n",
       "    <tr>\n",
       "      <th>75</th>\n",
       "      <td>Программы - Для дома и офиса</td>\n",
       "      <td>75</td>\n",
       "    </tr>\n",
       "    <tr>\n",
       "      <th>76</th>\n",
       "      <td>Программы - Для дома и офиса (Цифра)</td>\n",
       "      <td>76</td>\n",
       "    </tr>\n",
       "    <tr>\n",
       "      <th>77</th>\n",
       "      <td>Программы - Обучающие</td>\n",
       "      <td>77</td>\n",
       "    </tr>\n",
       "    <tr>\n",
       "      <th>78</th>\n",
       "      <td>Программы - Обучающие (Цифра)</td>\n",
       "      <td>78</td>\n",
       "    </tr>\n",
       "    <tr>\n",
       "      <th>79</th>\n",
       "      <td>Служебные</td>\n",
       "      <td>79</td>\n",
       "    </tr>\n",
       "    <tr>\n",
       "      <th>80</th>\n",
       "      <td>Служебные - Билеты</td>\n",
       "      <td>80</td>\n",
       "    </tr>\n",
       "    <tr>\n",
       "      <th>81</th>\n",
       "      <td>Чистые носители (шпиль)</td>\n",
       "      <td>81</td>\n",
       "    </tr>\n",
       "    <tr>\n",
       "      <th>82</th>\n",
       "      <td>Чистые носители (штучные)</td>\n",
       "      <td>82</td>\n",
       "    </tr>\n",
       "    <tr>\n",
       "      <th>83</th>\n",
       "      <td>Элементы питания</td>\n",
       "      <td>83</td>\n",
       "    </tr>\n",
       "  </tbody>\n",
       "</table>\n",
       "</div>"
      ],
      "text/plain": [
       "                      item_category_name  item_category_id\n",
       "74               Программы - MAC (Цифра)                74\n",
       "75          Программы - Для дома и офиса                75\n",
       "76  Программы - Для дома и офиса (Цифра)                76\n",
       "77                 Программы - Обучающие                77\n",
       "78         Программы - Обучающие (Цифра)                78\n",
       "79                             Служебные                79\n",
       "80                    Служебные - Билеты                80\n",
       "81               Чистые носители (шпиль)                81\n",
       "82             Чистые носители (штучные)                82\n",
       "83                      Элементы питания                83"
      ]
     },
     "execution_count": 7,
     "metadata": {},
     "output_type": "execute_result"
    },
    {
     "name": "stdout",
     "output_type": "stream",
     "text": [
      "time: 12.6 ms (started: 2021-02-10 14:55:53 +09:00)\n"
     ]
    }
   ],
   "source": [
    "item_categories.tail(10)"
   ]
  },
  {
   "cell_type": "markdown",
   "id": "ancient-impossible",
   "metadata": {
    "id": "ancient-impossible"
   },
   "source": [
    "- 러시아어로는 데이터를 이해하는 것에 어려움인 있어 item_category_name을 영어로 번역한 item_category_name_eng column을 가지는 문서 파일을 불러와 `item_categories_eng`로 저장하였다."
   ]
  },
  {
   "cell_type": "code",
   "execution_count": 8,
   "id": "miniature-pasta",
   "metadata": {
    "id": "miniature-pasta"
   },
   "outputs": [
    {
     "name": "stdout",
     "output_type": "stream",
     "text": [
      "time: 2.54 ms (started: 2021-02-10 14:55:54 +09:00)\n"
     ]
    }
   ],
   "source": [
    "item_categories_with_eng_name_data_path = join(data_dir, 'item_category_with_eng_name.csv')\n",
    "item_categories_eng = pd.read_csv(item_categories_with_eng_name_data_path)"
   ]
  },
  {
   "cell_type": "code",
   "execution_count": 9,
   "id": "configured-oasis",
   "metadata": {
    "id": "configured-oasis"
   },
   "outputs": [
    {
     "name": "stdout",
     "output_type": "stream",
     "text": [
      "<class 'pandas.core.frame.DataFrame'>\n",
      "RangeIndex: 84 entries, 0 to 83\n",
      "Data columns (total 3 columns):\n",
      " #   Column                  Non-Null Count  Dtype \n",
      "---  ------                  --------------  ----- \n",
      " 0   item_category_id        84 non-null     int64 \n",
      " 1   item_category_name      84 non-null     object\n",
      " 2   item_category_name_eng  84 non-null     object\n",
      "dtypes: int64(1), object(2)\n",
      "memory usage: 2.1+ KB\n",
      "time: 3.62 ms (started: 2021-02-10 14:55:54 +09:00)\n"
     ]
    }
   ],
   "source": [
    "item_categories_eng.info()"
   ]
  },
  {
   "cell_type": "code",
   "execution_count": 10,
   "id": "LgR8I-21YkMi",
   "metadata": {
    "id": "LgR8I-21YkMi"
   },
   "outputs": [
    {
     "data": {
      "text/html": [
       "<div>\n",
       "<style scoped>\n",
       "    .dataframe tbody tr th:only-of-type {\n",
       "        vertical-align: middle;\n",
       "    }\n",
       "\n",
       "    .dataframe tbody tr th {\n",
       "        vertical-align: top;\n",
       "    }\n",
       "\n",
       "    .dataframe thead th {\n",
       "        text-align: right;\n",
       "    }\n",
       "</style>\n",
       "<table border=\"1\" class=\"dataframe\">\n",
       "  <thead>\n",
       "    <tr style=\"text-align: right;\">\n",
       "      <th></th>\n",
       "      <th>item_category_id</th>\n",
       "      <th>item_category_name</th>\n",
       "      <th>item_category_name_eng</th>\n",
       "    </tr>\n",
       "  </thead>\n",
       "  <tbody>\n",
       "    <tr>\n",
       "      <th>74</th>\n",
       "      <td>74</td>\n",
       "      <td>Программы - MAC (Цифра)</td>\n",
       "      <td>Programs - MAC (Digital)</td>\n",
       "    </tr>\n",
       "    <tr>\n",
       "      <th>75</th>\n",
       "      <td>75</td>\n",
       "      <td>Программы - Для дома и офиса</td>\n",
       "      <td>Programs - For Home and Office</td>\n",
       "    </tr>\n",
       "    <tr>\n",
       "      <th>76</th>\n",
       "      <td>76</td>\n",
       "      <td>Программы - Для дома и офиса (Цифра)</td>\n",
       "      <td>Programs - For Home and Office (Digital)</td>\n",
       "    </tr>\n",
       "    <tr>\n",
       "      <th>77</th>\n",
       "      <td>77</td>\n",
       "      <td>Программы - Обучающие</td>\n",
       "      <td>Programs - Educational</td>\n",
       "    </tr>\n",
       "    <tr>\n",
       "      <th>78</th>\n",
       "      <td>78</td>\n",
       "      <td>Программы - Обучающие (Цифра)</td>\n",
       "      <td>Programs - Educational (Digital)</td>\n",
       "    </tr>\n",
       "    <tr>\n",
       "      <th>79</th>\n",
       "      <td>79</td>\n",
       "      <td>Служебные</td>\n",
       "      <td>Service</td>\n",
       "    </tr>\n",
       "    <tr>\n",
       "      <th>80</th>\n",
       "      <td>80</td>\n",
       "      <td>Служебные - Билеты</td>\n",
       "      <td>Service - Tickets</td>\n",
       "    </tr>\n",
       "    <tr>\n",
       "      <th>81</th>\n",
       "      <td>81</td>\n",
       "      <td>Чистые носители (шпиль)</td>\n",
       "      <td>Blank media (spire)</td>\n",
       "    </tr>\n",
       "    <tr>\n",
       "      <th>82</th>\n",
       "      <td>82</td>\n",
       "      <td>Чистые носители (штучные)</td>\n",
       "      <td>Blank media (piece)</td>\n",
       "    </tr>\n",
       "    <tr>\n",
       "      <th>83</th>\n",
       "      <td>83</td>\n",
       "      <td>Элементы питания</td>\n",
       "      <td>Batteries</td>\n",
       "    </tr>\n",
       "  </tbody>\n",
       "</table>\n",
       "</div>"
      ],
      "text/plain": [
       "    item_category_id                    item_category_name  \\\n",
       "74                74               Программы - MAC (Цифра)   \n",
       "75                75          Программы - Для дома и офиса   \n",
       "76                76  Программы - Для дома и офиса (Цифра)   \n",
       "77                77                 Программы - Обучающие   \n",
       "78                78         Программы - Обучающие (Цифра)   \n",
       "79                79                             Служебные   \n",
       "80                80                    Служебные - Билеты   \n",
       "81                81               Чистые носители (шпиль)   \n",
       "82                82             Чистые носители (штучные)   \n",
       "83                83                      Элементы питания   \n",
       "\n",
       "                      item_category_name_eng  \n",
       "74                  Programs - MAC (Digital)  \n",
       "75            Programs - For Home and Office  \n",
       "76  Programs - For Home and Office (Digital)  \n",
       "77                    Programs - Educational  \n",
       "78          Programs - Educational (Digital)  \n",
       "79                                   Service  \n",
       "80                         Service - Tickets  \n",
       "81                       Blank media (spire)  \n",
       "82                       Blank media (piece)  \n",
       "83                                 Batteries  "
      ]
     },
     "execution_count": 10,
     "metadata": {},
     "output_type": "execute_result"
    },
    {
     "name": "stdout",
     "output_type": "stream",
     "text": [
      "time: 6.46 ms (started: 2021-02-10 14:55:54 +09:00)\n"
     ]
    }
   ],
   "source": [
    "item_categories_eng.tail(10)"
   ]
  },
  {
   "cell_type": "markdown",
   "id": "qSLiUSXhYlKo",
   "metadata": {
    "id": "qSLiUSXhYlKo"
   },
   "source": [
    "- 결측치 확인"
   ]
  },
  {
   "cell_type": "code",
   "execution_count": 11,
   "id": "L1JCpsmxYnE3",
   "metadata": {
    "id": "L1JCpsmxYnE3"
   },
   "outputs": [
    {
     "data": {
      "text/plain": [
       "item_category_id          0\n",
       "item_category_name        0\n",
       "item_category_name_eng    0\n",
       "dtype: int64"
      ]
     },
     "execution_count": 11,
     "metadata": {},
     "output_type": "execute_result"
    },
    {
     "name": "stdout",
     "output_type": "stream",
     "text": [
      "time: 3.03 ms (started: 2021-02-10 14:55:54 +09:00)\n"
     ]
    }
   ],
   "source": [
    "np.sum(pd.isnull(item_categories_eng))"
   ]
  },
  {
   "cell_type": "markdown",
   "id": "dZnEe7RLYqIg",
   "metadata": {
    "id": "dZnEe7RLYqIg"
   },
   "source": [
    "- `get_item_category_name(id, lang=\"ru\")`"
   ]
  },
  {
   "cell_type": "code",
   "execution_count": 12,
   "id": "bEE1rmPXYqGg",
   "metadata": {
    "id": "bEE1rmPXYqGg"
   },
   "outputs": [
    {
     "name": "stdout",
     "output_type": "stream",
     "text": [
      "time: 712 µs (started: 2021-02-10 14:55:55 +09:00)\n"
     ]
    }
   ],
   "source": [
    "def get_item_category_name(id, lang=\"ru\"):\n",
    "    item = item_categories_eng[item_categories_eng['item_category_id'] == id].reset_index(drop=True)\n",
    "    if len(item) <= 0 : print(f'[get_item_category_name] Invalid id {id}')\n",
    "    elif lang == \"ru\": return item.loc[0]['item_category_name']\n",
    "    elif lang == \"eng\": return item.loc[0]['item_category_name_eng']"
   ]
  },
  {
   "cell_type": "code",
   "execution_count": 13,
   "id": "RwYCszh5YqEQ",
   "metadata": {
    "id": "RwYCszh5YqEQ"
   },
   "outputs": [
    {
     "name": "stdout",
     "output_type": "stream",
     "text": [
      "[get_item_category_name] Invalid id 84\n"
     ]
    },
    {
     "data": {
      "text/plain": [
       "('Элементы питания', 'Batteries', None)"
      ]
     },
     "execution_count": 13,
     "metadata": {},
     "output_type": "execute_result"
    },
    {
     "name": "stdout",
     "output_type": "stream",
     "text": [
      "time: 5.18 ms (started: 2021-02-10 14:55:55 +09:00)\n"
     ]
    }
   ],
   "source": [
    "get_item_category_name(83), get_item_category_name(83, 'eng'), get_item_category_name(84)"
   ]
  },
  {
   "cell_type": "markdown",
   "id": "SLGQ7r9GYqCA",
   "metadata": {
    "id": "SLGQ7r9GYqCA"
   },
   "source": [
    "#### items\n",
    "- items.csv의 데이터 프레임\n",
    "- 판매 품목의 id, name, category(FK, item_categories.item_category_id)에 관한 정보를 가지고 있다."
   ]
  },
  {
   "cell_type": "code",
   "execution_count": 14,
   "id": "SkteqRpNYp_h",
   "metadata": {
    "id": "SkteqRpNYp_h"
   },
   "outputs": [
    {
     "name": "stdout",
     "output_type": "stream",
     "text": [
      "<class 'pandas.core.frame.DataFrame'>\n",
      "RangeIndex: 22170 entries, 0 to 22169\n",
      "Data columns (total 3 columns):\n",
      " #   Column            Non-Null Count  Dtype \n",
      "---  ------            --------------  ----- \n",
      " 0   item_name         22170 non-null  object\n",
      " 1   item_id           22170 non-null  int64 \n",
      " 2   item_category_id  22170 non-null  int64 \n",
      "dtypes: int64(2), object(1)\n",
      "memory usage: 519.7+ KB\n",
      "time: 4.77 ms (started: 2021-02-10 14:55:56 +09:00)\n"
     ]
    }
   ],
   "source": [
    "items.info()"
   ]
  },
  {
   "cell_type": "code",
   "execution_count": 15,
   "id": "_0bjLtefYp9O",
   "metadata": {
    "id": "_0bjLtefYp9O"
   },
   "outputs": [
    {
     "data": {
      "text/html": [
       "<div>\n",
       "<style scoped>\n",
       "    .dataframe tbody tr th:only-of-type {\n",
       "        vertical-align: middle;\n",
       "    }\n",
       "\n",
       "    .dataframe tbody tr th {\n",
       "        vertical-align: top;\n",
       "    }\n",
       "\n",
       "    .dataframe thead th {\n",
       "        text-align: right;\n",
       "    }\n",
       "</style>\n",
       "<table border=\"1\" class=\"dataframe\">\n",
       "  <thead>\n",
       "    <tr style=\"text-align: right;\">\n",
       "      <th></th>\n",
       "      <th>item_name</th>\n",
       "      <th>item_id</th>\n",
       "      <th>item_category_id</th>\n",
       "    </tr>\n",
       "  </thead>\n",
       "  <tbody>\n",
       "    <tr>\n",
       "      <th>22160</th>\n",
       "      <td>ЯРМАРКА ТЩЕСЛАВИЯ (Регион)</td>\n",
       "      <td>22160</td>\n",
       "      <td>40</td>\n",
       "    </tr>\n",
       "    <tr>\n",
       "      <th>22161</th>\n",
       "      <td>ЯРОСЛАВ. ТЫСЯЧУ ЛЕТ НАЗАД э (BD)</td>\n",
       "      <td>22161</td>\n",
       "      <td>37</td>\n",
       "    </tr>\n",
       "    <tr>\n",
       "      <th>22162</th>\n",
       "      <td>ЯРОСТЬ</td>\n",
       "      <td>22162</td>\n",
       "      <td>40</td>\n",
       "    </tr>\n",
       "    <tr>\n",
       "      <th>22163</th>\n",
       "      <td>ЯРОСТЬ ( регион)</td>\n",
       "      <td>22163</td>\n",
       "      <td>40</td>\n",
       "    </tr>\n",
       "    <tr>\n",
       "      <th>22164</th>\n",
       "      <td>ЯРОСТЬ (BD)</td>\n",
       "      <td>22164</td>\n",
       "      <td>37</td>\n",
       "    </tr>\n",
       "    <tr>\n",
       "      <th>22165</th>\n",
       "      <td>Ядерный титбит 2 [PC, Цифровая версия]</td>\n",
       "      <td>22165</td>\n",
       "      <td>31</td>\n",
       "    </tr>\n",
       "    <tr>\n",
       "      <th>22166</th>\n",
       "      <td>Язык запросов 1С:Предприятия  [Цифровая версия]</td>\n",
       "      <td>22166</td>\n",
       "      <td>54</td>\n",
       "    </tr>\n",
       "    <tr>\n",
       "      <th>22167</th>\n",
       "      <td>Язык запросов 1С:Предприятия 8 (+CD). Хрустале...</td>\n",
       "      <td>22167</td>\n",
       "      <td>49</td>\n",
       "    </tr>\n",
       "    <tr>\n",
       "      <th>22168</th>\n",
       "      <td>Яйцо для Little Inu</td>\n",
       "      <td>22168</td>\n",
       "      <td>62</td>\n",
       "    </tr>\n",
       "    <tr>\n",
       "      <th>22169</th>\n",
       "      <td>Яйцо дракона (Игра престолов)</td>\n",
       "      <td>22169</td>\n",
       "      <td>69</td>\n",
       "    </tr>\n",
       "  </tbody>\n",
       "</table>\n",
       "</div>"
      ],
      "text/plain": [
       "                                               item_name  item_id  \\\n",
       "22160                         ЯРМАРКА ТЩЕСЛАВИЯ (Регион)    22160   \n",
       "22161                   ЯРОСЛАВ. ТЫСЯЧУ ЛЕТ НАЗАД э (BD)    22161   \n",
       "22162                                             ЯРОСТЬ    22162   \n",
       "22163                                   ЯРОСТЬ ( регион)    22163   \n",
       "22164                                        ЯРОСТЬ (BD)    22164   \n",
       "22165             Ядерный титбит 2 [PC, Цифровая версия]    22165   \n",
       "22166    Язык запросов 1С:Предприятия  [Цифровая версия]    22166   \n",
       "22167  Язык запросов 1С:Предприятия 8 (+CD). Хрустале...    22167   \n",
       "22168                                Яйцо для Little Inu    22168   \n",
       "22169                      Яйцо дракона (Игра престолов)    22169   \n",
       "\n",
       "       item_category_id  \n",
       "22160                40  \n",
       "22161                37  \n",
       "22162                40  \n",
       "22163                40  \n",
       "22164                37  \n",
       "22165                31  \n",
       "22166                54  \n",
       "22167                49  \n",
       "22168                62  \n",
       "22169                69  "
      ]
     },
     "execution_count": 15,
     "metadata": {},
     "output_type": "execute_result"
    },
    {
     "name": "stdout",
     "output_type": "stream",
     "text": [
      "time: 5.61 ms (started: 2021-02-10 14:55:56 +09:00)\n"
     ]
    }
   ],
   "source": [
    "items.tail(10)"
   ]
  },
  {
   "cell_type": "markdown",
   "id": "VUxdYcZrYp7B",
   "metadata": {
    "id": "VUxdYcZrYp7B"
   },
   "source": [
    "- 결측치 확인"
   ]
  },
  {
   "cell_type": "code",
   "execution_count": 16,
   "id": "nHG8mGm8Yp42",
   "metadata": {
    "id": "nHG8mGm8Yp42"
   },
   "outputs": [
    {
     "data": {
      "text/plain": [
       "item_name           0\n",
       "item_id             0\n",
       "item_category_id    0\n",
       "dtype: int64"
      ]
     },
     "execution_count": 16,
     "metadata": {},
     "output_type": "execute_result"
    },
    {
     "name": "stdout",
     "output_type": "stream",
     "text": [
      "time: 3.86 ms (started: 2021-02-10 14:55:57 +09:00)\n"
     ]
    }
   ],
   "source": [
    "np.sum(pd.isnull(items))"
   ]
  },
  {
   "cell_type": "markdown",
   "id": "kqJ8C0oEYp2M",
   "metadata": {
    "id": "kqJ8C0oEYp2M"
   },
   "source": [
    "- `get_item_name(id)`"
   ]
  },
  {
   "cell_type": "code",
   "execution_count": 17,
   "id": "kuniuD6oYp0G",
   "metadata": {
    "id": "kuniuD6oYp0G"
   },
   "outputs": [
    {
     "name": "stdout",
     "output_type": "stream",
     "text": [
      "time: 700 µs (started: 2021-02-10 14:55:57 +09:00)\n"
     ]
    }
   ],
   "source": [
    "def get_item_name(id, lang=\"ru\"):\n",
    "    item = items[items['item_id'] == id].reset_index(drop=True)\n",
    "    return item.loc[0]['item_name'] if len(item) > 0 else print(f'[get_item_name] Invalid id {id}')"
   ]
  },
  {
   "cell_type": "markdown",
   "id": "qgnfrtDOYpxj",
   "metadata": {
    "id": "qgnfrtDOYpxj"
   },
   "source": [
    "- `get_item_category_id(id)`"
   ]
  },
  {
   "cell_type": "code",
   "execution_count": 18,
   "id": "V_NR4GU3Y8Qz",
   "metadata": {
    "id": "V_NR4GU3Y8Qz"
   },
   "outputs": [
    {
     "name": "stdout",
     "output_type": "stream",
     "text": [
      "time: 512 µs (started: 2021-02-10 14:55:57 +09:00)\n"
     ]
    }
   ],
   "source": [
    "def get_item_category_id(id):\n",
    "    item = items[items['item_id'] == id].reset_index(drop=True)\n",
    "    return item.loc[0]['item_category_id'] if len(item) > 0 else print(f'[get_item_name] Invalid id {id}')"
   ]
  },
  {
   "cell_type": "code",
   "execution_count": 19,
   "id": "JKyLZ9EoY8OI",
   "metadata": {
    "id": "JKyLZ9EoY8OI"
   },
   "outputs": [
    {
     "name": "stdout",
     "output_type": "stream",
     "text": [
      "[get_item_name] Invalid id 22170\n"
     ]
    },
    {
     "data": {
      "text/plain": [
       "('Яйцо дракона (Игра престолов)', None)"
      ]
     },
     "execution_count": 19,
     "metadata": {},
     "output_type": "execute_result"
    },
    {
     "name": "stdout",
     "output_type": "stream",
     "text": [
      "time: 5.45 ms (started: 2021-02-10 14:55:58 +09:00)\n"
     ]
    }
   ],
   "source": [
    "get_item_name(22169), get_item_name(22170)"
   ]
  },
  {
   "cell_type": "markdown",
   "id": "Cp3GN82MY8LQ",
   "metadata": {
    "id": "Cp3GN82MY8LQ"
   },
   "source": [
    "#### shops\n",
    "- shops.csv의 데이터 프레임\n",
    "- 가게의 id, name에 관한 정보를 가지고 있다."
   ]
  },
  {
   "cell_type": "code",
   "execution_count": 20,
   "id": "9TzRx0NeY8II",
   "metadata": {
    "id": "9TzRx0NeY8II"
   },
   "outputs": [
    {
     "name": "stdout",
     "output_type": "stream",
     "text": [
      "<class 'pandas.core.frame.DataFrame'>\n",
      "RangeIndex: 60 entries, 0 to 59\n",
      "Data columns (total 2 columns):\n",
      " #   Column     Non-Null Count  Dtype \n",
      "---  ------     --------------  ----- \n",
      " 0   shop_name  60 non-null     object\n",
      " 1   shop_id    60 non-null     int64 \n",
      "dtypes: int64(1), object(1)\n",
      "memory usage: 1.1+ KB\n",
      "time: 5.08 ms (started: 2021-02-10 14:55:59 +09:00)\n"
     ]
    }
   ],
   "source": [
    "shops.info()"
   ]
  },
  {
   "cell_type": "code",
   "execution_count": 21,
   "id": "SV_m-y-mY8FY",
   "metadata": {
    "id": "SV_m-y-mY8FY"
   },
   "outputs": [
    {
     "data": {
      "text/html": [
       "<div>\n",
       "<style scoped>\n",
       "    .dataframe tbody tr th:only-of-type {\n",
       "        vertical-align: middle;\n",
       "    }\n",
       "\n",
       "    .dataframe tbody tr th {\n",
       "        vertical-align: top;\n",
       "    }\n",
       "\n",
       "    .dataframe thead th {\n",
       "        text-align: right;\n",
       "    }\n",
       "</style>\n",
       "<table border=\"1\" class=\"dataframe\">\n",
       "  <thead>\n",
       "    <tr style=\"text-align: right;\">\n",
       "      <th></th>\n",
       "      <th>shop_name</th>\n",
       "      <th>shop_id</th>\n",
       "    </tr>\n",
       "  </thead>\n",
       "  <tbody>\n",
       "    <tr>\n",
       "      <th>50</th>\n",
       "      <td>Тюмень ТЦ \"Гудвин\"</td>\n",
       "      <td>50</td>\n",
       "    </tr>\n",
       "    <tr>\n",
       "      <th>51</th>\n",
       "      <td>Тюмень ТЦ \"Зеленый Берег\"</td>\n",
       "      <td>51</td>\n",
       "    </tr>\n",
       "    <tr>\n",
       "      <th>52</th>\n",
       "      <td>Уфа ТК \"Центральный\"</td>\n",
       "      <td>52</td>\n",
       "    </tr>\n",
       "    <tr>\n",
       "      <th>53</th>\n",
       "      <td>Уфа ТЦ \"Семья\" 2</td>\n",
       "      <td>53</td>\n",
       "    </tr>\n",
       "    <tr>\n",
       "      <th>54</th>\n",
       "      <td>Химки ТЦ \"Мега\"</td>\n",
       "      <td>54</td>\n",
       "    </tr>\n",
       "    <tr>\n",
       "      <th>55</th>\n",
       "      <td>Цифровой склад 1С-Онлайн</td>\n",
       "      <td>55</td>\n",
       "    </tr>\n",
       "    <tr>\n",
       "      <th>56</th>\n",
       "      <td>Чехов ТРЦ \"Карнавал\"</td>\n",
       "      <td>56</td>\n",
       "    </tr>\n",
       "    <tr>\n",
       "      <th>57</th>\n",
       "      <td>Якутск Орджоникидзе, 56</td>\n",
       "      <td>57</td>\n",
       "    </tr>\n",
       "    <tr>\n",
       "      <th>58</th>\n",
       "      <td>Якутск ТЦ \"Центральный\"</td>\n",
       "      <td>58</td>\n",
       "    </tr>\n",
       "    <tr>\n",
       "      <th>59</th>\n",
       "      <td>Ярославль ТЦ \"Альтаир\"</td>\n",
       "      <td>59</td>\n",
       "    </tr>\n",
       "  </tbody>\n",
       "</table>\n",
       "</div>"
      ],
      "text/plain": [
       "                    shop_name  shop_id\n",
       "50         Тюмень ТЦ \"Гудвин\"       50\n",
       "51  Тюмень ТЦ \"Зеленый Берег\"       51\n",
       "52       Уфа ТК \"Центральный\"       52\n",
       "53           Уфа ТЦ \"Семья\" 2       53\n",
       "54            Химки ТЦ \"Мега\"       54\n",
       "55   Цифровой склад 1С-Онлайн       55\n",
       "56       Чехов ТРЦ \"Карнавал\"       56\n",
       "57    Якутск Орджоникидзе, 56       57\n",
       "58    Якутск ТЦ \"Центральный\"       58\n",
       "59     Ярославль ТЦ \"Альтаир\"       59"
      ]
     },
     "execution_count": 21,
     "metadata": {},
     "output_type": "execute_result"
    },
    {
     "name": "stdout",
     "output_type": "stream",
     "text": [
      "time: 5.63 ms (started: 2021-02-10 14:55:59 +09:00)\n"
     ]
    }
   ],
   "source": [
    "shops.tail(10)"
   ]
  },
  {
   "cell_type": "markdown",
   "id": "UGDpyzfeY8C6",
   "metadata": {
    "id": "UGDpyzfeY8C6"
   },
   "source": [
    "- 결측치 확인"
   ]
  },
  {
   "cell_type": "code",
   "execution_count": 22,
   "id": "JysGycgHY8As",
   "metadata": {
    "id": "JysGycgHY8As"
   },
   "outputs": [
    {
     "data": {
      "text/plain": [
       "shop_name    0\n",
       "shop_id      0\n",
       "dtype: int64"
      ]
     },
     "execution_count": 22,
     "metadata": {},
     "output_type": "execute_result"
    },
    {
     "name": "stdout",
     "output_type": "stream",
     "text": [
      "time: 3.33 ms (started: 2021-02-10 14:56:00 +09:00)\n"
     ]
    }
   ],
   "source": [
    "np.sum(pd.isnull(shops))"
   ]
  },
  {
   "cell_type": "markdown",
   "id": "3z4cGzCHY7Mj",
   "metadata": {
    "id": "3z4cGzCHY7Mj"
   },
   "source": [
    "#### train"
   ]
  },
  {
   "cell_type": "code",
   "execution_count": 23,
   "id": "uhhMi0epY7X2",
   "metadata": {
    "id": "uhhMi0epY7X2"
   },
   "outputs": [
    {
     "name": "stdout",
     "output_type": "stream",
     "text": [
      "<class 'pandas.core.frame.DataFrame'>\n",
      "RangeIndex: 2935849 entries, 0 to 2935848\n",
      "Data columns (total 6 columns):\n",
      " #   Column          Dtype  \n",
      "---  ------          -----  \n",
      " 0   date            object \n",
      " 1   date_block_num  int64  \n",
      " 2   shop_id         int64  \n",
      " 3   item_id         int64  \n",
      " 4   item_price      float64\n",
      " 5   item_cnt_day    float64\n",
      "dtypes: float64(2), int64(3), object(1)\n",
      "memory usage: 134.4+ MB\n",
      "time: 3 ms (started: 2021-02-10 14:56:00 +09:00)\n"
     ]
    }
   ],
   "source": [
    "train.info()"
   ]
  },
  {
   "cell_type": "code",
   "execution_count": 24,
   "id": "GvWIKFQdYpqK",
   "metadata": {
    "id": "GvWIKFQdYpqK"
   },
   "outputs": [
    {
     "data": {
      "text/html": [
       "<div>\n",
       "<style scoped>\n",
       "    .dataframe tbody tr th:only-of-type {\n",
       "        vertical-align: middle;\n",
       "    }\n",
       "\n",
       "    .dataframe tbody tr th {\n",
       "        vertical-align: top;\n",
       "    }\n",
       "\n",
       "    .dataframe thead th {\n",
       "        text-align: right;\n",
       "    }\n",
       "</style>\n",
       "<table border=\"1\" class=\"dataframe\">\n",
       "  <thead>\n",
       "    <tr style=\"text-align: right;\">\n",
       "      <th></th>\n",
       "      <th>date</th>\n",
       "      <th>date_block_num</th>\n",
       "      <th>shop_id</th>\n",
       "      <th>item_id</th>\n",
       "      <th>item_price</th>\n",
       "      <th>item_cnt_day</th>\n",
       "    </tr>\n",
       "  </thead>\n",
       "  <tbody>\n",
       "    <tr>\n",
       "      <th>0</th>\n",
       "      <td>02.01.2013</td>\n",
       "      <td>0</td>\n",
       "      <td>59</td>\n",
       "      <td>22154</td>\n",
       "      <td>999.00</td>\n",
       "      <td>1.0</td>\n",
       "    </tr>\n",
       "    <tr>\n",
       "      <th>1</th>\n",
       "      <td>03.01.2013</td>\n",
       "      <td>0</td>\n",
       "      <td>25</td>\n",
       "      <td>2552</td>\n",
       "      <td>899.00</td>\n",
       "      <td>1.0</td>\n",
       "    </tr>\n",
       "    <tr>\n",
       "      <th>2</th>\n",
       "      <td>05.01.2013</td>\n",
       "      <td>0</td>\n",
       "      <td>25</td>\n",
       "      <td>2552</td>\n",
       "      <td>899.00</td>\n",
       "      <td>-1.0</td>\n",
       "    </tr>\n",
       "    <tr>\n",
       "      <th>3</th>\n",
       "      <td>06.01.2013</td>\n",
       "      <td>0</td>\n",
       "      <td>25</td>\n",
       "      <td>2554</td>\n",
       "      <td>1709.05</td>\n",
       "      <td>1.0</td>\n",
       "    </tr>\n",
       "    <tr>\n",
       "      <th>4</th>\n",
       "      <td>15.01.2013</td>\n",
       "      <td>0</td>\n",
       "      <td>25</td>\n",
       "      <td>2555</td>\n",
       "      <td>1099.00</td>\n",
       "      <td>1.0</td>\n",
       "    </tr>\n",
       "    <tr>\n",
       "      <th>...</th>\n",
       "      <td>...</td>\n",
       "      <td>...</td>\n",
       "      <td>...</td>\n",
       "      <td>...</td>\n",
       "      <td>...</td>\n",
       "      <td>...</td>\n",
       "    </tr>\n",
       "    <tr>\n",
       "      <th>2935844</th>\n",
       "      <td>10.10.2015</td>\n",
       "      <td>33</td>\n",
       "      <td>25</td>\n",
       "      <td>7409</td>\n",
       "      <td>299.00</td>\n",
       "      <td>1.0</td>\n",
       "    </tr>\n",
       "    <tr>\n",
       "      <th>2935845</th>\n",
       "      <td>09.10.2015</td>\n",
       "      <td>33</td>\n",
       "      <td>25</td>\n",
       "      <td>7460</td>\n",
       "      <td>299.00</td>\n",
       "      <td>1.0</td>\n",
       "    </tr>\n",
       "    <tr>\n",
       "      <th>2935846</th>\n",
       "      <td>14.10.2015</td>\n",
       "      <td>33</td>\n",
       "      <td>25</td>\n",
       "      <td>7459</td>\n",
       "      <td>349.00</td>\n",
       "      <td>1.0</td>\n",
       "    </tr>\n",
       "    <tr>\n",
       "      <th>2935847</th>\n",
       "      <td>22.10.2015</td>\n",
       "      <td>33</td>\n",
       "      <td>25</td>\n",
       "      <td>7440</td>\n",
       "      <td>299.00</td>\n",
       "      <td>1.0</td>\n",
       "    </tr>\n",
       "    <tr>\n",
       "      <th>2935848</th>\n",
       "      <td>03.10.2015</td>\n",
       "      <td>33</td>\n",
       "      <td>25</td>\n",
       "      <td>7460</td>\n",
       "      <td>299.00</td>\n",
       "      <td>1.0</td>\n",
       "    </tr>\n",
       "  </tbody>\n",
       "</table>\n",
       "<p>2935849 rows × 6 columns</p>\n",
       "</div>"
      ],
      "text/plain": [
       "               date  date_block_num  shop_id  item_id  item_price  \\\n",
       "0        02.01.2013               0       59    22154      999.00   \n",
       "1        03.01.2013               0       25     2552      899.00   \n",
       "2        05.01.2013               0       25     2552      899.00   \n",
       "3        06.01.2013               0       25     2554     1709.05   \n",
       "4        15.01.2013               0       25     2555     1099.00   \n",
       "...             ...             ...      ...      ...         ...   \n",
       "2935844  10.10.2015              33       25     7409      299.00   \n",
       "2935845  09.10.2015              33       25     7460      299.00   \n",
       "2935846  14.10.2015              33       25     7459      349.00   \n",
       "2935847  22.10.2015              33       25     7440      299.00   \n",
       "2935848  03.10.2015              33       25     7460      299.00   \n",
       "\n",
       "         item_cnt_day  \n",
       "0                 1.0  \n",
       "1                 1.0  \n",
       "2                -1.0  \n",
       "3                 1.0  \n",
       "4                 1.0  \n",
       "...               ...  \n",
       "2935844           1.0  \n",
       "2935845           1.0  \n",
       "2935846           1.0  \n",
       "2935847           1.0  \n",
       "2935848           1.0  \n",
       "\n",
       "[2935849 rows x 6 columns]"
      ]
     },
     "execution_count": 24,
     "metadata": {},
     "output_type": "execute_result"
    },
    {
     "name": "stdout",
     "output_type": "stream",
     "text": [
      "time: 10.7 ms (started: 2021-02-10 14:56:00 +09:00)\n"
     ]
    }
   ],
   "source": [
    "train"
   ]
  },
  {
   "cell_type": "markdown",
   "id": "T23VYcjMYpde",
   "metadata": {
    "id": "T23VYcjMYpde"
   },
   "source": [
    "- date가 '일/월/년' 순이기 때문에 sort를 하거나 할 때 불편한 사항이 있다. date의 format을 '년월일'로 변경한다."
   ]
  },
  {
   "cell_type": "code",
   "execution_count": 25,
   "id": "cN1QhS_hZOMk",
   "metadata": {
    "id": "cN1QhS_hZOMk"
   },
   "outputs": [
    {
     "name": "stdout",
     "output_type": "stream",
     "text": [
      "time: 1.64 s (started: 2021-02-10 14:56:01 +09:00)\n"
     ]
    }
   ],
   "source": [
    "def change_date(date):\n",
    "    splited = date.split('.')\n",
    "    return f'{splited[2]}{splited[1]}{splited[0]}'\n",
    "train['date'] = train['date'].apply(change_date).astype(str)"
   ]
  },
  {
   "cell_type": "code",
   "execution_count": 26,
   "id": "XNa13OcmZOKi",
   "metadata": {
    "id": "XNa13OcmZOKi"
   },
   "outputs": [
    {
     "data": {
      "text/html": [
       "<div>\n",
       "<style scoped>\n",
       "    .dataframe tbody tr th:only-of-type {\n",
       "        vertical-align: middle;\n",
       "    }\n",
       "\n",
       "    .dataframe tbody tr th {\n",
       "        vertical-align: top;\n",
       "    }\n",
       "\n",
       "    .dataframe thead th {\n",
       "        text-align: right;\n",
       "    }\n",
       "</style>\n",
       "<table border=\"1\" class=\"dataframe\">\n",
       "  <thead>\n",
       "    <tr style=\"text-align: right;\">\n",
       "      <th></th>\n",
       "      <th>date</th>\n",
       "      <th>date_block_num</th>\n",
       "      <th>shop_id</th>\n",
       "      <th>item_id</th>\n",
       "      <th>item_price</th>\n",
       "      <th>item_cnt_day</th>\n",
       "    </tr>\n",
       "  </thead>\n",
       "  <tbody>\n",
       "    <tr>\n",
       "      <th>count</th>\n",
       "      <td>2935849</td>\n",
       "      <td>2935849</td>\n",
       "      <td>2935849</td>\n",
       "      <td>2935849</td>\n",
       "      <td>2935849.0</td>\n",
       "      <td>2935849.0</td>\n",
       "    </tr>\n",
       "    <tr>\n",
       "      <th>min</th>\n",
       "      <td>20130101</td>\n",
       "      <td>0</td>\n",
       "      <td>0</td>\n",
       "      <td>0</td>\n",
       "      <td>-1.0</td>\n",
       "      <td>-22.0</td>\n",
       "    </tr>\n",
       "    <tr>\n",
       "      <th>max</th>\n",
       "      <td>20151031</td>\n",
       "      <td>33</td>\n",
       "      <td>59</td>\n",
       "      <td>22169</td>\n",
       "      <td>307980.0</td>\n",
       "      <td>2169.0</td>\n",
       "    </tr>\n",
       "  </tbody>\n",
       "</table>\n",
       "</div>"
      ],
      "text/plain": [
       "           date  date_block_num  shop_id  item_id  item_price  item_cnt_day\n",
       "count   2935849         2935849  2935849  2935849   2935849.0     2935849.0\n",
       "min    20130101               0        0        0        -1.0         -22.0\n",
       "max    20151031              33       59    22169    307980.0        2169.0"
      ]
     },
     "execution_count": 26,
     "metadata": {},
     "output_type": "execute_result"
    },
    {
     "name": "stdout",
     "output_type": "stream",
     "text": [
      "time: 726 ms (started: 2021-02-10 14:56:03 +09:00)\n"
     ]
    }
   ],
   "source": [
    "# mean 하지 말것, 터짐\n",
    "train.agg(['count','min','max'])"
   ]
  },
  {
   "cell_type": "markdown",
   "id": "6ox5F3oMZOIP",
   "metadata": {
    "id": "6ox5F3oMZOIP"
   },
   "source": [
    "- 데이터 유효성 확인\n",
    "    1. train.shop_id는 shop.shop_id에 존재해야 한다.\n",
    "    2. train.item_id는 shop.item_id에 존재해야 한다.\n",
    "    3. date와 date_block_num가 알맞게 매치되어야 한다."
   ]
  },
  {
   "cell_type": "code",
   "execution_count": 27,
   "id": "L4JpEl2BZOGK",
   "metadata": {
    "id": "L4JpEl2BZOGK"
   },
   "outputs": [
    {
     "data": {
      "text/plain": [
       "True"
      ]
     },
     "execution_count": 27,
     "metadata": {},
     "output_type": "execute_result"
    },
    {
     "name": "stdout",
     "output_type": "stream",
     "text": [
      "time: 18.1 ms (started: 2021-02-10 14:56:03 +09:00)\n"
     ]
    }
   ],
   "source": [
    "# train.shop_id는 shop.shop_id에 존재해야 한다.\n",
    "train_shop = train['shop_id'].unique()\n",
    "shops_shop = shops['shop_id'].unique()\n",
    "\n",
    "is_shop_exist = lambda x : x in shops_shop\n",
    "validation_shop_id_res = np.array([ is_shop_exist(shop) for shop in train_shop ])\n",
    "validation_shop_id_res.all()"
   ]
  },
  {
   "cell_type": "code",
   "execution_count": 28,
   "id": "khvPcgx0ZODn",
   "metadata": {
    "id": "khvPcgx0ZODn"
   },
   "outputs": [
    {
     "data": {
      "text/plain": [
       "True"
      ]
     },
     "execution_count": 28,
     "metadata": {},
     "output_type": "execute_result"
    },
    {
     "name": "stdout",
     "output_type": "stream",
     "text": [
      "time: 328 ms (started: 2021-02-10 14:56:03 +09:00)\n"
     ]
    }
   ],
   "source": [
    "# train.item_id는 shop.item_id에 존재해야 한다.\n",
    "train_item = train['item_id'].unique()\n",
    "items_item = items['item_id'].unique()\n",
    "\n",
    "is_item_exist = lambda x : x in items_item\n",
    "validation_item_id_res = np.array([ is_item_exist(item) for item in train_item ])\n",
    "validation_item_id_res.all()"
   ]
  },
  {
   "cell_type": "code",
   "execution_count": 29,
   "id": "8ddyfHLvZOBq",
   "metadata": {
    "id": "8ddyfHLvZOBq"
   },
   "outputs": [
    {
     "data": {
      "text/plain": [
       "{'201301': 0,\n",
       " '201302': 1,\n",
       " '201303': 2,\n",
       " '201304': 3,\n",
       " '201305': 4,\n",
       " '201306': 5,\n",
       " '201307': 6,\n",
       " '201308': 7,\n",
       " '201309': 8,\n",
       " '201310': 9,\n",
       " '201311': 10,\n",
       " '201312': 11,\n",
       " '201401': 12,\n",
       " '201402': 13,\n",
       " '201403': 14,\n",
       " '201404': 15,\n",
       " '201405': 16,\n",
       " '201406': 17,\n",
       " '201407': 18,\n",
       " '201408': 19,\n",
       " '201409': 20,\n",
       " '201410': 21,\n",
       " '201411': 22,\n",
       " '201412': 23,\n",
       " '201501': 24,\n",
       " '201502': 25,\n",
       " '201503': 26,\n",
       " '201504': 27,\n",
       " '201505': 28,\n",
       " '201506': 29,\n",
       " '201507': 30,\n",
       " '201508': 31,\n",
       " '201509': 32,\n",
       " '201510': 33,\n",
       " '201511': 34,\n",
       " '201512': 35}"
      ]
     },
     "execution_count": 29,
     "metadata": {},
     "output_type": "execute_result"
    },
    {
     "name": "stdout",
     "output_type": "stream",
     "text": [
      "time: 2.76 ms (started: 2021-02-10 14:56:04 +09:00)\n"
     ]
    }
   ],
   "source": [
    "# date와 date_block_num가 알맞게 매치되어야 한다.\n",
    "year = ['2013', '2014', '2015']\n",
    "month = ['01','02','03','04','05','06','07','08','09','10','11','12']\n",
    "date_block_list = [ f'{y}{m}' for y in year for m in month ]\n",
    "date_block_num_dict = { n : i for i, n in enumerate(date_block_list)}\n",
    "date_block_num_dict"
   ]
  },
  {
   "cell_type": "code",
   "execution_count": 30,
   "id": "P2DFNDOjZN_R",
   "metadata": {
    "id": "P2DFNDOjZN_R"
   },
   "outputs": [
    {
     "data": {
      "text/plain": [
       "True"
      ]
     },
     "execution_count": 30,
     "metadata": {},
     "output_type": "execute_result"
    },
    {
     "name": "stdout",
     "output_type": "stream",
     "text": [
      "time: 3.39 s (started: 2021-02-10 14:56:04 +09:00)\n"
     ]
    }
   ],
   "source": [
    "train_date = train.loc[:, 'date':'date_block_num'].values\n",
    "is_correct_block_num = lambda d, dn: True if date_block_num_dict[d] == dn else False\n",
    "res = np.array([ is_correct_block_num(d[:6], dn) for d, dn in train_date ])\n",
    "res.all()"
   ]
  },
  {
   "cell_type": "markdown",
   "id": "g-fBYMo8ZN8y",
   "metadata": {
    "id": "g-fBYMo8ZN8y"
   },
   "source": [
    "- 확인 결과, train의 item_id, shop_id, date_block_num은 유효한 데이터이다."
   ]
  },
  {
   "cell_type": "markdown",
   "id": "giOKBePgZN6Y",
   "metadata": {
    "id": "giOKBePgZN6Y"
   },
   "source": [
    "#### test\n",
    "- test.csv의 데이터 프레임\n",
    "- 테스트에 사용될 데이터로, ID, shop_id, item_id를 column으로 가지고 있다."
   ]
  },
  {
   "cell_type": "code",
   "execution_count": 31,
   "id": "gR7X56hLZZuw",
   "metadata": {
    "id": "gR7X56hLZZuw"
   },
   "outputs": [
    {
     "name": "stdout",
     "output_type": "stream",
     "text": [
      "<class 'pandas.core.frame.DataFrame'>\n",
      "RangeIndex: 214200 entries, 0 to 214199\n",
      "Data columns (total 3 columns):\n",
      " #   Column   Non-Null Count   Dtype\n",
      "---  ------   --------------   -----\n",
      " 0   ID       214200 non-null  int64\n",
      " 1   shop_id  214200 non-null  int64\n",
      " 2   item_id  214200 non-null  int64\n",
      "dtypes: int64(3)\n",
      "memory usage: 4.9 MB\n",
      "time: 4.91 ms (started: 2021-02-10 14:56:07 +09:00)\n"
     ]
    }
   ],
   "source": [
    "test.info()"
   ]
  },
  {
   "cell_type": "markdown",
   "id": "ITOBFHdeZZsk",
   "metadata": {
    "id": "ITOBFHdeZZsk"
   },
   "source": [
    "#### sample_submission\n",
    "- sample_submission.csv의 데이터 프레임\n",
    "- 테스트 결과를 저장할 csv의 파일을 옳바른 포맷을 정의하고 있다.\n",
    "- ID는 test.ID와 같은 값을 가진다.\n",
    "- item_cnt_month는 train date 이후 한달(2015/11)간 특정 가게(shop_id)에서 특정 아이템(item_id)가 얼마나 판매될지를 예측한 값이다."
   ]
  },
  {
   "cell_type": "code",
   "execution_count": 32,
   "id": "hZBwdkn4ZZqK",
   "metadata": {
    "id": "hZBwdkn4ZZqK"
   },
   "outputs": [
    {
     "data": {
      "text/html": [
       "<div>\n",
       "<style scoped>\n",
       "    .dataframe tbody tr th:only-of-type {\n",
       "        vertical-align: middle;\n",
       "    }\n",
       "\n",
       "    .dataframe tbody tr th {\n",
       "        vertical-align: top;\n",
       "    }\n",
       "\n",
       "    .dataframe thead th {\n",
       "        text-align: right;\n",
       "    }\n",
       "</style>\n",
       "<table border=\"1\" class=\"dataframe\">\n",
       "  <thead>\n",
       "    <tr style=\"text-align: right;\">\n",
       "      <th></th>\n",
       "      <th>ID</th>\n",
       "      <th>item_cnt_month</th>\n",
       "    </tr>\n",
       "  </thead>\n",
       "  <tbody>\n",
       "    <tr>\n",
       "      <th>214195</th>\n",
       "      <td>214195</td>\n",
       "      <td>0.5</td>\n",
       "    </tr>\n",
       "    <tr>\n",
       "      <th>214196</th>\n",
       "      <td>214196</td>\n",
       "      <td>0.5</td>\n",
       "    </tr>\n",
       "    <tr>\n",
       "      <th>214197</th>\n",
       "      <td>214197</td>\n",
       "      <td>0.5</td>\n",
       "    </tr>\n",
       "    <tr>\n",
       "      <th>214198</th>\n",
       "      <td>214198</td>\n",
       "      <td>0.5</td>\n",
       "    </tr>\n",
       "    <tr>\n",
       "      <th>214199</th>\n",
       "      <td>214199</td>\n",
       "      <td>0.5</td>\n",
       "    </tr>\n",
       "  </tbody>\n",
       "</table>\n",
       "</div>"
      ],
      "text/plain": [
       "            ID  item_cnt_month\n",
       "214195  214195             0.5\n",
       "214196  214196             0.5\n",
       "214197  214197             0.5\n",
       "214198  214198             0.5\n",
       "214199  214199             0.5"
      ]
     },
     "execution_count": 32,
     "metadata": {},
     "output_type": "execute_result"
    },
    {
     "name": "stdout",
     "output_type": "stream",
     "text": [
      "time: 6.93 ms (started: 2021-02-10 14:56:07 +09:00)\n"
     ]
    }
   ],
   "source": [
    "sample_submission.tail()"
   ]
  },
  {
   "cell_type": "markdown",
   "id": "lvRP5ET5ZZn6",
   "metadata": {
    "id": "lvRP5ET5ZZn6"
   },
   "source": [
    "### 이상치 탐색"
   ]
  },
  {
   "cell_type": "code",
   "execution_count": 33,
   "id": "TMaDxMNjZwkU",
   "metadata": {
    "id": "TMaDxMNjZwkU"
   },
   "outputs": [
    {
     "name": "stdout",
     "output_type": "stream",
     "text": [
      "time: 482 µs (started: 2021-02-10 14:56:07 +09:00)\n"
     ]
    }
   ],
   "source": [
    "import matplotlib.pyplot as plt\n",
    "import seaborn as sns"
   ]
  },
  {
   "cell_type": "markdown",
   "id": "GKCeYA6sZZl6",
   "metadata": {
    "id": "GKCeYA6sZZl6"
   },
   "source": [
    "#### train.item_price"
   ]
  },
  {
   "cell_type": "code",
   "execution_count": 34,
   "id": "AC_s7MUTZZjl",
   "metadata": {
    "id": "AC_s7MUTZZjl"
   },
   "outputs": [
    {
     "name": "stdout",
     "output_type": "stream",
     "text": [
      "time: 39.2 ms (started: 2021-02-10 14:56:07 +09:00)\n"
     ]
    }
   ],
   "source": [
    "price_mean = train['item_price'].mean()\n",
    "price_max = train['item_price'].max() + 100\n",
    "price_min = train['item_price'].min() - 100"
   ]
  },
  {
   "cell_type": "code",
   "execution_count": 35,
   "id": "PE0tm3uHZZhR",
   "metadata": {
    "id": "PE0tm3uHZZhR"
   },
   "outputs": [
    {
     "data": {
      "image/png": "[encoded data removed]",
      "text/plain": [
       "<Figure size 720x360 with 1 Axes>"
      ]
     },
     "metadata": {
      "image/png": {
       "height": 332,
       "width": 631
      },
      "needs_background": "light"
     },
     "output_type": "display_data"
    },
    {
     "name": "stdout",
     "output_type": "stream",
     "text": [
      "time: 7.72 s (started: 2021-02-10 14:56:07 +09:00)\n"
     ]
    }
   ],
   "source": [
    "fig, ax1 = plt.subplots(1, figsize=(10,5))\n",
    "sns.scatterplot(data=train , x='date_block_num', y='item_price', palette=\"ch:r=-.2,d=.3_r\", ax=ax1)\n",
    "ax1.set_title('train.item_price')\n",
    "ax1.set_ylim(top=price_max, bottom=price_min)\n",
    "plt.show()"
   ]
  },
  {
   "cell_type": "markdown",
   "id": "aA0aVbcjZ0KU",
   "metadata": {
    "id": "aA0aVbcjZ0KU"
   },
   "source": [
    "- 그래프상에서 너무 큰 값이 발견 되었다. 이 값에 대해 자세히 알아보자."
   ]
  },
  {
   "cell_type": "code",
   "execution_count": 36,
   "id": "RBSbwSGeZ0IO",
   "metadata": {
    "id": "RBSbwSGeZ0IO"
   },
   "outputs": [
    {
     "data": {
      "text/html": [
       "<div>\n",
       "<style scoped>\n",
       "    .dataframe tbody tr th:only-of-type {\n",
       "        vertical-align: middle;\n",
       "    }\n",
       "\n",
       "    .dataframe tbody tr th {\n",
       "        vertical-align: top;\n",
       "    }\n",
       "\n",
       "    .dataframe thead th {\n",
       "        text-align: right;\n",
       "    }\n",
       "</style>\n",
       "<table border=\"1\" class=\"dataframe\">\n",
       "  <thead>\n",
       "    <tr style=\"text-align: right;\">\n",
       "      <th></th>\n",
       "      <th>date</th>\n",
       "      <th>date_block_num</th>\n",
       "      <th>shop_id</th>\n",
       "      <th>item_id</th>\n",
       "      <th>item_price</th>\n",
       "      <th>item_cnt_day</th>\n",
       "    </tr>\n",
       "  </thead>\n",
       "  <tbody>\n",
       "    <tr>\n",
       "      <th>1163158</th>\n",
       "      <td>20131213</td>\n",
       "      <td>11</td>\n",
       "      <td>12</td>\n",
       "      <td>6066</td>\n",
       "      <td>307980.0</td>\n",
       "      <td>1.0</td>\n",
       "    </tr>\n",
       "  </tbody>\n",
       "</table>\n",
       "</div>"
      ],
      "text/plain": [
       "             date  date_block_num  shop_id  item_id  item_price  item_cnt_day\n",
       "1163158  20131213              11       12     6066    307980.0           1.0"
      ]
     },
     "execution_count": 36,
     "metadata": {},
     "output_type": "execute_result"
    },
    {
     "name": "stdout",
     "output_type": "stream",
     "text": [
      "time: 8.68 ms (started: 2021-02-10 14:56:15 +09:00)\n"
     ]
    }
   ],
   "source": [
    "train[train['item_price'] > 100000]"
   ]
  },
  {
   "cell_type": "code",
   "execution_count": 37,
   "id": "pmtfZ2JzZ0Fk",
   "metadata": {
    "id": "pmtfZ2JzZ0Fk"
   },
   "outputs": [
    {
     "name": "stdout",
     "output_type": "stream",
     "text": [
      "item name : Radmin 3  - 522 лиц.\n",
      "item catetgory : Programs - For Home and Office\n",
      "time: 4.53 ms (started: 2021-02-10 14:56:15 +09:00)\n"
     ]
    }
   ],
   "source": [
    "print(f'item name : {get_item_name(6066)}')\n",
    "print(f'item catetgory : {get_item_category_name(get_item_category_id(6066), \"eng\")}')"
   ]
  },
  {
   "cell_type": "markdown",
   "id": "tnZHPLqAZ0DT",
   "metadata": {
    "id": "tnZHPLqAZ0DT"
   },
   "source": [
    "- 발견된 데이터가 이상치인지 특이치인지 확인하기 위하여 제품의 정보를 인터넷상으로 찾아 보았다.\n",
    "- 데이터 제공자인 1C의 제품 판매 홈페이지(https://online.1c.ru/)에서 아래와 같은 제품을 확인할 수 있었다. \n",
    "![note_01_price_outlier](https://user-images.githubusercontent.com/16831323/107468811-08232500-6bac-11eb-8fa8-9d5bbe059bcf.png)\n",
    "\n",
    "\n",
    "- 해당 데이터는 Radmin이라는 운영체제로 인터넷상에서는 최대 25개의 라이센스를 묶음으로 판매하고 있다. item_name 정보를 기반으로 추리하면, 문제의 데이터 ***Radmin 3  - 522 лиц.***은 Radmin 라이센스 522개를 묶음으로 판매한 것으로 생각할 수 있다. 관공서나 기업에서 단체구매를 했다고 생각할 수 있을 것이다.\n",
    "- 하지만 금액적으로 살펴 보았을 때, 한개의 라이센스의 가격이 1250이기 때문에 522개를 판매했다는 가정이 맞을려면 652500(1250\\*522)가 되어야하는데, 데이터상의 값은 307980보다 월등히 높은 값을 보인다. 실생활을 생각해 보면 대량구매를 할 때, 할인을 받는 경우가 왕왕있다. 이점을 고려하면 652500 * 0.472 = 307980이므로 52.8%를 할인 받았다고 볼 수 있다.\n",
    "- 충분히 나올 수 있는 수치이기는하나 522개의 운영체제를 한번에 사는 것은 흔하지 않은 이벤트 이기 때문에 이상치로 분류하여 제거하는 곳이 옳아 보인다."
   ]
  },
  {
   "cell_type": "code",
   "execution_count": 38,
   "id": "2f9JQN3wZz-9",
   "metadata": {
    "id": "2f9JQN3wZz-9"
   },
   "outputs": [
    {
     "data": {
      "text/html": [
       "<div>\n",
       "<style scoped>\n",
       "    .dataframe tbody tr th:only-of-type {\n",
       "        vertical-align: middle;\n",
       "    }\n",
       "\n",
       "    .dataframe tbody tr th {\n",
       "        vertical-align: top;\n",
       "    }\n",
       "\n",
       "    .dataframe thead th {\n",
       "        text-align: right;\n",
       "    }\n",
       "</style>\n",
       "<table border=\"1\" class=\"dataframe\">\n",
       "  <thead>\n",
       "    <tr style=\"text-align: right;\">\n",
       "      <th></th>\n",
       "      <th>date</th>\n",
       "      <th>date_block_num</th>\n",
       "      <th>shop_id</th>\n",
       "      <th>item_id</th>\n",
       "      <th>item_price</th>\n",
       "      <th>item_cnt_day</th>\n",
       "    </tr>\n",
       "  </thead>\n",
       "  <tbody>\n",
       "    <tr>\n",
       "      <th>484683</th>\n",
       "      <td>20130515</td>\n",
       "      <td>4</td>\n",
       "      <td>32</td>\n",
       "      <td>2973</td>\n",
       "      <td>-1.0</td>\n",
       "      <td>1.0</td>\n",
       "    </tr>\n",
       "  </tbody>\n",
       "</table>\n",
       "</div>"
      ],
      "text/plain": [
       "            date  date_block_num  shop_id  item_id  item_price  item_cnt_day\n",
       "484683  20130515               4       32     2973        -1.0           1.0"
      ]
     },
     "execution_count": 38,
     "metadata": {},
     "output_type": "execute_result"
    },
    {
     "name": "stdout",
     "output_type": "stream",
     "text": [
      "time: 11.6 ms (started: 2021-02-10 14:56:15 +09:00)\n"
     ]
    }
   ],
   "source": [
    "train[train['item_price'] < 0]"
   ]
  },
  {
   "cell_type": "markdown",
   "id": "npaDSqZPZz5j",
   "metadata": {
    "id": "npaDSqZPZz5j"
   },
   "source": [
    "- 아이템의 가격이 음수인 경우가 있었다. 잘못 입력된 데이터로 생각하여 삭제하기로 한다."
   ]
  },
  {
   "cell_type": "markdown",
   "id": "w-uhS1nxf_nM",
   "metadata": {
    "id": "w-uhS1nxf_nM"
   },
   "source": [
    " #### train.item_cnt_day"
   ]
  },
  {
   "cell_type": "code",
   "execution_count": 39,
   "id": "ShuQwnuhf_lV",
   "metadata": {
    "id": "ShuQwnuhf_lV"
   },
   "outputs": [
    {
     "data": {
      "image/png": "[encoded data removed]",
      "text/plain": [
       "<Figure size 720x360 with 1 Axes>"
      ]
     },
     "metadata": {
      "image/png": {
       "height": 332,
       "width": 618
      },
      "needs_background": "light"
     },
     "output_type": "display_data"
    },
    {
     "name": "stdout",
     "output_type": "stream",
     "text": [
      "time: 9.11 s (started: 2021-02-10 14:56:15 +09:00)\n"
     ]
    }
   ],
   "source": [
    "fig, ax1 = plt.subplots(1, figsize=(10,5))\n",
    "sns.scatterplot(data=train , x='date_block_num', y='item_cnt_day', ax=ax1)\n",
    "ax1.set_title('train.item_cnt_day')\n",
    "plt.show()"
   ]
  },
  {
   "cell_type": "code",
   "execution_count": 41,
   "id": "signal-explanation",
   "metadata": {},
   "outputs": [
    {
     "data": {
      "text/html": [
       "<div>\n",
       "<style scoped>\n",
       "    .dataframe tbody tr th:only-of-type {\n",
       "        vertical-align: middle;\n",
       "    }\n",
       "\n",
       "    .dataframe tbody tr th {\n",
       "        vertical-align: top;\n",
       "    }\n",
       "\n",
       "    .dataframe thead th {\n",
       "        text-align: right;\n",
       "    }\n",
       "</style>\n",
       "<table border=\"1\" class=\"dataframe\">\n",
       "  <thead>\n",
       "    <tr style=\"text-align: right;\">\n",
       "      <th></th>\n",
       "      <th>date</th>\n",
       "      <th>date_block_num</th>\n",
       "      <th>shop_id</th>\n",
       "      <th>item_id</th>\n",
       "      <th>item_price</th>\n",
       "      <th>item_cnt_day</th>\n",
       "    </tr>\n",
       "  </thead>\n",
       "  <tbody>\n",
       "    <tr>\n",
       "      <th>2326930</th>\n",
       "      <td>20150115</td>\n",
       "      <td>24</td>\n",
       "      <td>12</td>\n",
       "      <td>20949</td>\n",
       "      <td>4.000000</td>\n",
       "      <td>1000.0</td>\n",
       "    </tr>\n",
       "    <tr>\n",
       "      <th>2909818</th>\n",
       "      <td>20151028</td>\n",
       "      <td>33</td>\n",
       "      <td>12</td>\n",
       "      <td>11373</td>\n",
       "      <td>0.908714</td>\n",
       "      <td>2169.0</td>\n",
       "    </tr>\n",
       "  </tbody>\n",
       "</table>\n",
       "</div>"
      ],
      "text/plain": [
       "             date  date_block_num  shop_id  item_id  item_price  item_cnt_day\n",
       "2326930  20150115              24       12    20949    4.000000        1000.0\n",
       "2909818  20151028              33       12    11373    0.908714        2169.0"
      ]
     },
     "execution_count": 41,
     "metadata": {},
     "output_type": "execute_result"
    },
    {
     "name": "stdout",
     "output_type": "stream",
     "text": [
      "time: 9.64 ms (started: 2021-02-10 14:57:03 +09:00)\n"
     ]
    }
   ],
   "source": [
    "train[train['item_cnt_day'] > 800]"
   ]
  },
  {
   "cell_type": "markdown",
   "id": "ItYOKJmkf_jU",
   "metadata": {
    "id": "ItYOKJmkf_jU"
   },
   "source": [
    "- 그래프의 모양을 통하여 너무 데이터가 2개 존재함을 알 수 있다.\n",
    "- 너무 큰 데이터 1. ['item_id']==11373\n",
    "    - 가격 동일 카테고리의 제품들에 비해 가격이 너무 저렴하고 판매량이 높으면 item_name `issue`라는 단어를 포함하고 있다.배송이 이렇게 많다는거면 할인 이벤트라고 볼 수 있을 것 같다.\n",
    "    - 일반적이지 않은 데이터이므로 삭제하도록 한다.\n",
    "- 너무 큰 데이터 2.\n",
    "    - 데이터의 양이 1000인데, 카테고리르 살펴보니 T셔츠였다.\n",
    "    - 단체 주문 등 일반적으로 발생할 수 있는 문제이기 때문에 삭제하지 않는다."
   ]
  },
  {
   "cell_type": "code",
   "execution_count": 40,
   "id": "j0iq73ubf_hR",
   "metadata": {
    "id": "j0iq73ubf_hR"
   },
   "outputs": [
    {
     "data": {
      "image/png": "[encoded data removed]",
      "text/plain": [
       "<Figure size 720x360 with 1 Axes>"
      ]
     },
     "metadata": {
      "image/png": {
       "height": 332,
       "width": 620
      },
      "needs_background": "light"
     },
     "output_type": "display_data"
    },
    {
     "name": "stdout",
     "output_type": "stream",
     "text": [
      "time: 6.03 s (started: 2021-02-10 14:56:24 +09:00)\n"
     ]
    }
   ],
   "source": [
    "fig, ax1 = plt.subplots(1, figsize=(10,5))\n",
    "sns.scatterplot(data=train , x='date_block_num', y='item_cnt_day', ax=ax1)\n",
    "ax1.set_ylim(top=0)\n",
    "ax1.set_title('train.item_cnt_day')\n",
    "plt.show()"
   ]
  },
  {
   "cell_type": "markdown",
   "id": "bl6XCS7qf_fT",
   "metadata": {
    "id": "bl6XCS7qf_fT"
   },
   "source": [
    "- 반대로 너무 작은 데이터(음수)가 존재하였다. 이는 반품 된 상품으로 생각할 수 있으므로, 특이치라 판단하여 삭제하지 않는다."
   ]
  },
  {
   "cell_type": "markdown",
   "id": "warming-mouth",
   "metadata": {
    "id": "warming-mouth"
   },
   "source": [
    "## 전처리\n",
    "---"
   ]
  },
  {
   "cell_type": "markdown",
   "id": "forced-broadcasting",
   "metadata": {
    "id": "forced-broadcasting"
   },
   "source": [
    "### 결측치 탐색"
   ]
  },
  {
   "cell_type": "markdown",
   "id": "resistant-verification",
   "metadata": {
    "id": "resistant-verification"
   },
   "source": [
    "#### train\n",
    "- train 데이터의 결측치를 확인하고, 그에 대한 처리를 진행한다."
   ]
  },
  {
   "cell_type": "code",
   "execution_count": null,
   "id": "tough-works",
   "metadata": {
    "id": "tough-works",
    "outputId": "193f9c3b-7ccb-402f-a339-6b9003dac966"
   },
   "outputs": [
    {
     "data": {
      "text/plain": [
       "date              0\n",
       "date_block_num    0\n",
       "shop_id           0\n",
       "item_id           0\n",
       "item_price        0\n",
       "item_cnt_day      0\n",
       "dtype: int64"
      ]
     },
     "execution_count": 7,
     "metadata": {
      "tags": []
     },
     "output_type": "execute_result"
    },
    {
     "name": "stdout",
     "output_type": "stream",
     "text": [
      "time: 127 ms (started: 2021-02-10 01:07:18 +09:00)\n"
     ]
    }
   ],
   "source": [
    "np.sum(pd.isnull(train))"
   ]
  },
  {
   "cell_type": "code",
   "execution_count": null,
   "id": "executed-tunisia",
   "metadata": {
    "id": "executed-tunisia",
    "outputId": "0f9daa01-137c-4d39-8d9f-3aa78d23ed85"
   },
   "outputs": [
    {
     "data": {
      "text/plain": [
       "<matplotlib.axes._subplots.AxesSubplot at 0x7f3b1c3c6490>"
      ]
     },
     "execution_count": 8,
     "metadata": {
      "tags": []
     },
     "output_type": "execute_result"
    },
    {
     "data": {
      "image/png": "[encoded data removed]",
      "text/plain": [
       "<Figure size 1800x720 with 2 Axes>"
      ]
     },
     "metadata": {
      "image/png": {
       "height": 680,
       "width": 1514
      },
      "needs_background": "light",
      "tags": []
     },
     "output_type": "display_data"
    },
    {
     "name": "stdout",
     "output_type": "stream",
     "text": [
      "time: 4 s (started: 2021-02-10 01:07:19 +09:00)\n"
     ]
    }
   ],
   "source": [
    "msno.matrix(train)"
   ]
  },
  {
   "cell_type": "markdown",
   "id": "future-europe",
   "metadata": {
    "id": "future-europe"
   },
   "source": [
    "- train 데이터에서는 결측치가 확인되지 않았다."
   ]
  },
  {
   "cell_type": "markdown",
   "id": "placed-circus",
   "metadata": {
    "id": "placed-circus"
   },
   "source": [
    "#### test"
   ]
  },
  {
   "cell_type": "code",
   "execution_count": null,
   "id": "synthetic-inflation",
   "metadata": {
    "id": "synthetic-inflation",
    "outputId": "c569571f-2e7f-4be8-ed53-d91b1b45c891"
   },
   "outputs": [
    {
     "data": {
      "text/plain": [
       "ID         0\n",
       "shop_id    0\n",
       "item_id    0\n",
       "dtype: int64"
      ]
     },
     "execution_count": 9,
     "metadata": {
      "tags": []
     },
     "output_type": "execute_result"
    },
    {
     "name": "stdout",
     "output_type": "stream",
     "text": [
      "time: 4.11 ms (started: 2021-02-10 01:07:23 +09:00)\n"
     ]
    }
   ],
   "source": [
    "np.sum(pd.isnull(test))"
   ]
  },
  {
   "cell_type": "markdown",
   "id": "verified-devices",
   "metadata": {
    "id": "verified-devices"
   },
   "source": [
    "- test 데이터에서도 결측치가 확인되지 않았다."
   ]
  },
  {
   "cell_type": "code",
   "execution_count": null,
   "id": "immune-london",
   "metadata": {
    "id": "immune-london",
    "outputId": "9fd8d2bf-a2f5-46bd-f78d-9f7c2b179b55"
   },
   "outputs": [
    {
     "name": "stdout",
     "output_type": "stream",
     "text": [
      "time: 49.8 ms (started: 2021-02-10 01:07:23 +09:00)\n"
     ]
    }
   ],
   "source": [
    "train_ori = train.copy()"
   ]
  },
  {
   "cell_type": "markdown",
   "id": "further-statistics",
   "metadata": {
    "id": "further-statistics"
   },
   "source": [
    "### 이상치 변경"
   ]
  },
  {
   "cell_type": "markdown",
   "id": "unable-width",
   "metadata": {
    "id": "unable-width"
   },
   "source": [
    "- 너무 높은 `item_price`를 가진 데이터 제거"
   ]
  },
  {
   "cell_type": "code",
   "execution_count": null,
   "id": "combined-trauma",
   "metadata": {
    "id": "combined-trauma",
    "outputId": "8a9f580a-d21d-45d4-d74a-d6dc3dfb3fc7"
   },
   "outputs": [
    {
     "data": {
      "text/html": [
       "<div>\n",
       "<style scoped>\n",
       "    .dataframe tbody tr th:only-of-type {\n",
       "        vertical-align: middle;\n",
       "    }\n",
       "\n",
       "    .dataframe tbody tr th {\n",
       "        vertical-align: top;\n",
       "    }\n",
       "\n",
       "    .dataframe thead th {\n",
       "        text-align: right;\n",
       "    }\n",
       "</style>\n",
       "<table border=\"1\" class=\"dataframe\">\n",
       "  <thead>\n",
       "    <tr style=\"text-align: right;\">\n",
       "      <th></th>\n",
       "      <th>date</th>\n",
       "      <th>date_block_num</th>\n",
       "      <th>shop_id</th>\n",
       "      <th>item_id</th>\n",
       "      <th>item_price</th>\n",
       "      <th>item_cnt_day</th>\n",
       "    </tr>\n",
       "  </thead>\n",
       "  <tbody>\n",
       "    <tr>\n",
       "      <th>1163158</th>\n",
       "      <td>13.12.2013</td>\n",
       "      <td>11</td>\n",
       "      <td>12</td>\n",
       "      <td>6066</td>\n",
       "      <td>307980.0</td>\n",
       "      <td>1.0</td>\n",
       "    </tr>\n",
       "  </tbody>\n",
       "</table>\n",
       "</div>"
      ],
      "text/plain": [
       "               date  date_block_num  shop_id  item_id  item_price  \\\n",
       "1163158  13.12.2013              11       12     6066    307980.0   \n",
       "\n",
       "         item_cnt_day  \n",
       "1163158           1.0  "
      ]
     },
     "execution_count": 77,
     "metadata": {
      "tags": []
     },
     "output_type": "execute_result"
    },
    {
     "name": "stdout",
     "output_type": "stream",
     "text": [
      "time: 12.5 ms (started: 2021-02-10 08:24:06 +09:00)\n"
     ]
    }
   ],
   "source": [
    "high_price_row = train[train['item_price'] > 100000]\n",
    "high_price_row"
   ]
  },
  {
   "cell_type": "code",
   "execution_count": null,
   "id": "lucky-engagement",
   "metadata": {
    "id": "lucky-engagement",
    "outputId": "7077159b-9a2d-4d72-d76e-b90e3e096d10"
   },
   "outputs": [
    {
     "data": {
      "text/html": [
       "<div>\n",
       "<style scoped>\n",
       "    .dataframe tbody tr th:only-of-type {\n",
       "        vertical-align: middle;\n",
       "    }\n",
       "\n",
       "    .dataframe tbody tr th {\n",
       "        vertical-align: top;\n",
       "    }\n",
       "\n",
       "    .dataframe thead th {\n",
       "        text-align: right;\n",
       "    }\n",
       "</style>\n",
       "<table border=\"1\" class=\"dataframe\">\n",
       "  <thead>\n",
       "    <tr style=\"text-align: right;\">\n",
       "      <th></th>\n",
       "      <th>date</th>\n",
       "      <th>date_block_num</th>\n",
       "      <th>shop_id</th>\n",
       "      <th>item_id</th>\n",
       "      <th>item_price</th>\n",
       "      <th>item_cnt_day</th>\n",
       "    </tr>\n",
       "  </thead>\n",
       "  <tbody>\n",
       "  </tbody>\n",
       "</table>\n",
       "</div>"
      ],
      "text/plain": [
       "Empty DataFrame\n",
       "Columns: [date, date_block_num, shop_id, item_id, item_price, item_cnt_day]\n",
       "Index: []"
      ]
     },
     "execution_count": 78,
     "metadata": {
      "tags": []
     },
     "output_type": "execute_result"
    },
    {
     "name": "stdout",
     "output_type": "stream",
     "text": [
      "time: 125 ms (started: 2021-02-10 08:24:06 +09:00)\n"
     ]
    }
   ],
   "source": [
    "train_outlier_removed = train.drop(high_price_row.index)\n",
    "train_outlier_removed[train_outlier_removed['item_price'] > 100000]"
   ]
  },
  {
   "cell_type": "markdown",
   "id": "massive-occasion",
   "metadata": {
    "id": "massive-occasion"
   },
   "source": [
    "- `item_price`가 음수인 데이터 제거"
   ]
  },
  {
   "cell_type": "code",
   "execution_count": null,
   "id": "simplified-meeting",
   "metadata": {
    "id": "simplified-meeting",
    "outputId": "2dc180d3-0e04-43c6-f135-b3f57d974181"
   },
   "outputs": [
    {
     "data": {
      "text/html": [
       "<div>\n",
       "<style scoped>\n",
       "    .dataframe tbody tr th:only-of-type {\n",
       "        vertical-align: middle;\n",
       "    }\n",
       "\n",
       "    .dataframe tbody tr th {\n",
       "        vertical-align: top;\n",
       "    }\n",
       "\n",
       "    .dataframe thead th {\n",
       "        text-align: right;\n",
       "    }\n",
       "</style>\n",
       "<table border=\"1\" class=\"dataframe\">\n",
       "  <thead>\n",
       "    <tr style=\"text-align: right;\">\n",
       "      <th></th>\n",
       "      <th>date</th>\n",
       "      <th>date_block_num</th>\n",
       "      <th>shop_id</th>\n",
       "      <th>item_id</th>\n",
       "      <th>item_price</th>\n",
       "      <th>item_cnt_day</th>\n",
       "    </tr>\n",
       "  </thead>\n",
       "  <tbody>\n",
       "    <tr>\n",
       "      <th>484683</th>\n",
       "      <td>15.05.2013</td>\n",
       "      <td>4</td>\n",
       "      <td>32</td>\n",
       "      <td>2973</td>\n",
       "      <td>-1.0</td>\n",
       "      <td>1.0</td>\n",
       "    </tr>\n",
       "  </tbody>\n",
       "</table>\n",
       "</div>"
      ],
      "text/plain": [
       "              date  date_block_num  shop_id  item_id  item_price  item_cnt_day\n",
       "484683  15.05.2013               4       32     2973        -1.0           1.0"
      ]
     },
     "execution_count": 79,
     "metadata": {
      "tags": []
     },
     "output_type": "execute_result"
    },
    {
     "name": "stdout",
     "output_type": "stream",
     "text": [
      "time: 11.2 ms (started: 2021-02-10 08:24:09 +09:00)\n"
     ]
    }
   ],
   "source": [
    "minor_price_row = train_outlier_removed[train_outlier_removed['item_price'] < 0]\n",
    "minor_price_row"
   ]
  },
  {
   "cell_type": "code",
   "execution_count": null,
   "id": "ranging-sixth",
   "metadata": {
    "id": "ranging-sixth",
    "outputId": "a8c86917-59c0-4d9f-d802-9c63faa65e66"
   },
   "outputs": [
    {
     "data": {
      "text/html": [
       "<div>\n",
       "<style scoped>\n",
       "    .dataframe tbody tr th:only-of-type {\n",
       "        vertical-align: middle;\n",
       "    }\n",
       "\n",
       "    .dataframe tbody tr th {\n",
       "        vertical-align: top;\n",
       "    }\n",
       "\n",
       "    .dataframe thead th {\n",
       "        text-align: right;\n",
       "    }\n",
       "</style>\n",
       "<table border=\"1\" class=\"dataframe\">\n",
       "  <thead>\n",
       "    <tr style=\"text-align: right;\">\n",
       "      <th></th>\n",
       "      <th>date</th>\n",
       "      <th>date_block_num</th>\n",
       "      <th>shop_id</th>\n",
       "      <th>item_id</th>\n",
       "      <th>item_price</th>\n",
       "      <th>item_cnt_day</th>\n",
       "    </tr>\n",
       "  </thead>\n",
       "  <tbody>\n",
       "  </tbody>\n",
       "</table>\n",
       "</div>"
      ],
      "text/plain": [
       "Empty DataFrame\n",
       "Columns: [date, date_block_num, shop_id, item_id, item_price, item_cnt_day]\n",
       "Index: []"
      ]
     },
     "execution_count": 80,
     "metadata": {
      "tags": []
     },
     "output_type": "execute_result"
    },
    {
     "name": "stdout",
     "output_type": "stream",
     "text": [
      "time: 230 ms (started: 2021-02-10 08:24:09 +09:00)\n"
     ]
    }
   ],
   "source": [
    "train_outlier_removed = train_outlier_removed.drop(minor_price_row.index)\n",
    "train_outlier_removed[train_outlier_removed['item_price'] < 0]"
   ]
  },
  {
   "cell_type": "markdown",
   "id": "current-search",
   "metadata": {
    "id": "current-search"
   },
   "source": [
    "- 너무 높은 `item_cnt_day`를 가지는 데이터 제거"
   ]
  },
  {
   "cell_type": "code",
   "execution_count": null,
   "id": "prompt-therapy",
   "metadata": {
    "id": "prompt-therapy",
    "outputId": "5b0e7d76-9d53-4607-829b-f494b9246276"
   },
   "outputs": [
    {
     "data": {
      "text/html": [
       "<div>\n",
       "<style scoped>\n",
       "    .dataframe tbody tr th:only-of-type {\n",
       "        vertical-align: middle;\n",
       "    }\n",
       "\n",
       "    .dataframe tbody tr th {\n",
       "        vertical-align: top;\n",
       "    }\n",
       "\n",
       "    .dataframe thead th {\n",
       "        text-align: right;\n",
       "    }\n",
       "</style>\n",
       "<table border=\"1\" class=\"dataframe\">\n",
       "  <thead>\n",
       "    <tr style=\"text-align: right;\">\n",
       "      <th></th>\n",
       "      <th>date</th>\n",
       "      <th>date_block_num</th>\n",
       "      <th>shop_id</th>\n",
       "      <th>item_id</th>\n",
       "      <th>item_price</th>\n",
       "      <th>item_cnt_day</th>\n",
       "    </tr>\n",
       "  </thead>\n",
       "  <tbody>\n",
       "    <tr>\n",
       "      <th>2909818</th>\n",
       "      <td>28.10.2015</td>\n",
       "      <td>33</td>\n",
       "      <td>12</td>\n",
       "      <td>11373</td>\n",
       "      <td>0.908714</td>\n",
       "      <td>2169.0</td>\n",
       "    </tr>\n",
       "  </tbody>\n",
       "</table>\n",
       "</div>"
      ],
      "text/plain": [
       "               date  date_block_num  shop_id  item_id  item_price  \\\n",
       "2909818  28.10.2015              33       12    11373    0.908714   \n",
       "\n",
       "         item_cnt_day  \n",
       "2909818        2169.0  "
      ]
     },
     "execution_count": 81,
     "metadata": {
      "tags": []
     },
     "output_type": "execute_result"
    },
    {
     "name": "stdout",
     "output_type": "stream",
     "text": [
      "time: 10.2 ms (started: 2021-02-10 08:24:13 +09:00)\n"
     ]
    }
   ],
   "source": [
    "high_cnt_row = train_outlier_removed[train_outlier_removed['item_cnt_day'] > 1000]\n",
    "high_cnt_row"
   ]
  },
  {
   "cell_type": "code",
   "execution_count": null,
   "id": "stable-candy",
   "metadata": {
    "id": "stable-candy",
    "outputId": "79c14ed0-4960-489e-e072-67fafaab3e6e"
   },
   "outputs": [
    {
     "data": {
      "text/html": [
       "<div>\n",
       "<style scoped>\n",
       "    .dataframe tbody tr th:only-of-type {\n",
       "        vertical-align: middle;\n",
       "    }\n",
       "\n",
       "    .dataframe tbody tr th {\n",
       "        vertical-align: top;\n",
       "    }\n",
       "\n",
       "    .dataframe thead th {\n",
       "        text-align: right;\n",
       "    }\n",
       "</style>\n",
       "<table border=\"1\" class=\"dataframe\">\n",
       "  <thead>\n",
       "    <tr style=\"text-align: right;\">\n",
       "      <th></th>\n",
       "      <th>date</th>\n",
       "      <th>date_block_num</th>\n",
       "      <th>shop_id</th>\n",
       "      <th>item_id</th>\n",
       "      <th>item_price</th>\n",
       "      <th>item_cnt_day</th>\n",
       "    </tr>\n",
       "  </thead>\n",
       "  <tbody>\n",
       "  </tbody>\n",
       "</table>\n",
       "</div>"
      ],
      "text/plain": [
       "Empty DataFrame\n",
       "Columns: [date, date_block_num, shop_id, item_id, item_price, item_cnt_day]\n",
       "Index: []"
      ]
     },
     "execution_count": 82,
     "metadata": {
      "tags": []
     },
     "output_type": "execute_result"
    },
    {
     "name": "stdout",
     "output_type": "stream",
     "text": [
      "time: 207 ms (started: 2021-02-10 08:24:13 +09:00)\n"
     ]
    }
   ],
   "source": [
    "train_outlier_removed = train_outlier_removed.drop(high_cnt_row.index)\n",
    "train_outlier_removed[train_outlier_removed['item_cnt_day'] > 1000]"
   ]
  },
  {
   "cell_type": "markdown",
   "id": "conceptual-aviation",
   "metadata": {
    "id": "conceptual-aviation"
   },
   "source": [
    "### 불필요한 Column 제거"
   ]
  },
  {
   "cell_type": "markdown",
   "id": "immediate-annex",
   "metadata": {
    "id": "immediate-annex"
   },
   "source": [
    "- train 데이터에서 `date`를 제거한다."
   ]
  },
  {
   "cell_type": "code",
   "execution_count": null,
   "id": "destroyed-transport",
   "metadata": {
    "id": "destroyed-transport",
    "outputId": "8152cfb9-0491-44d9-98ac-f5b4464011f7"
   },
   "outputs": [
    {
     "data": {
      "text/html": [
       "<div>\n",
       "<style scoped>\n",
       "    .dataframe tbody tr th:only-of-type {\n",
       "        vertical-align: middle;\n",
       "    }\n",
       "\n",
       "    .dataframe tbody tr th {\n",
       "        vertical-align: top;\n",
       "    }\n",
       "\n",
       "    .dataframe thead th {\n",
       "        text-align: right;\n",
       "    }\n",
       "</style>\n",
       "<table border=\"1\" class=\"dataframe\">\n",
       "  <thead>\n",
       "    <tr style=\"text-align: right;\">\n",
       "      <th></th>\n",
       "      <th>date_block_num</th>\n",
       "      <th>shop_id</th>\n",
       "      <th>item_id</th>\n",
       "      <th>item_price</th>\n",
       "      <th>item_cnt_day</th>\n",
       "    </tr>\n",
       "  </thead>\n",
       "  <tbody>\n",
       "    <tr>\n",
       "      <th>0</th>\n",
       "      <td>0</td>\n",
       "      <td>59</td>\n",
       "      <td>22154</td>\n",
       "      <td>999.00</td>\n",
       "      <td>1.00</td>\n",
       "    </tr>\n",
       "    <tr>\n",
       "      <th>1</th>\n",
       "      <td>0</td>\n",
       "      <td>25</td>\n",
       "      <td>2552</td>\n",
       "      <td>899.00</td>\n",
       "      <td>1.00</td>\n",
       "    </tr>\n",
       "    <tr>\n",
       "      <th>2</th>\n",
       "      <td>0</td>\n",
       "      <td>25</td>\n",
       "      <td>2552</td>\n",
       "      <td>899.00</td>\n",
       "      <td>-1.00</td>\n",
       "    </tr>\n",
       "    <tr>\n",
       "      <th>3</th>\n",
       "      <td>0</td>\n",
       "      <td>25</td>\n",
       "      <td>2554</td>\n",
       "      <td>1709.05</td>\n",
       "      <td>1.00</td>\n",
       "    </tr>\n",
       "    <tr>\n",
       "      <th>4</th>\n",
       "      <td>0</td>\n",
       "      <td>25</td>\n",
       "      <td>2555</td>\n",
       "      <td>1099.00</td>\n",
       "      <td>1.00</td>\n",
       "    </tr>\n",
       "    <tr>\n",
       "      <th>...</th>\n",
       "      <td>...</td>\n",
       "      <td>...</td>\n",
       "      <td>...</td>\n",
       "      <td>...</td>\n",
       "      <td>...</td>\n",
       "    </tr>\n",
       "    <tr>\n",
       "      <th>2935844</th>\n",
       "      <td>33</td>\n",
       "      <td>25</td>\n",
       "      <td>7409</td>\n",
       "      <td>299.00</td>\n",
       "      <td>1.00</td>\n",
       "    </tr>\n",
       "    <tr>\n",
       "      <th>2935845</th>\n",
       "      <td>33</td>\n",
       "      <td>25</td>\n",
       "      <td>7460</td>\n",
       "      <td>299.00</td>\n",
       "      <td>1.00</td>\n",
       "    </tr>\n",
       "    <tr>\n",
       "      <th>2935846</th>\n",
       "      <td>33</td>\n",
       "      <td>25</td>\n",
       "      <td>7459</td>\n",
       "      <td>349.00</td>\n",
       "      <td>1.00</td>\n",
       "    </tr>\n",
       "    <tr>\n",
       "      <th>2935847</th>\n",
       "      <td>33</td>\n",
       "      <td>25</td>\n",
       "      <td>7440</td>\n",
       "      <td>299.00</td>\n",
       "      <td>1.00</td>\n",
       "    </tr>\n",
       "    <tr>\n",
       "      <th>2935848</th>\n",
       "      <td>33</td>\n",
       "      <td>25</td>\n",
       "      <td>7460</td>\n",
       "      <td>299.00</td>\n",
       "      <td>1.00</td>\n",
       "    </tr>\n",
       "  </tbody>\n",
       "</table>\n",
       "<p>2935846 rows × 5 columns</p>\n",
       "</div>"
      ],
      "text/plain": [
       "         date_block_num  shop_id  item_id  item_price  item_cnt_day\n",
       "0                     0       59    22154      999.00          1.00\n",
       "1                     0       25     2552      899.00          1.00\n",
       "2                     0       25     2552      899.00         -1.00\n",
       "3                     0       25     2554     1709.05          1.00\n",
       "4                     0       25     2555     1099.00          1.00\n",
       "...                 ...      ...      ...         ...           ...\n",
       "2935844              33       25     7409      299.00          1.00\n",
       "2935845              33       25     7460      299.00          1.00\n",
       "2935846              33       25     7459      349.00          1.00\n",
       "2935847              33       25     7440      299.00          1.00\n",
       "2935848              33       25     7460      299.00          1.00\n",
       "\n",
       "[2935846 rows x 5 columns]"
      ]
     },
     "execution_count": 223,
     "metadata": {
      "tags": []
     },
     "output_type": "execute_result"
    },
    {
     "name": "stdout",
     "output_type": "stream",
     "text": [
      "time: 51.5 ms (started: 2021-02-10 10:17:03 +09:00)\n"
     ]
    }
   ],
   "source": [
    "train_remove_column = train_outlier_removed.drop(['date'], axis=1)\n",
    "train_remove_column"
   ]
  },
  {
   "cell_type": "markdown",
   "id": "robust-convention",
   "metadata": {
    "id": "robust-convention"
   },
   "source": [
    "### train 데이터 그룹화"
   ]
  },
  {
   "cell_type": "markdown",
   "id": "downtown-assist",
   "metadata": {
    "id": "downtown-assist"
   },
   "source": [
    "- date_block_num, shop_id, item_id를 기준으로 item_cnt_day를 더한 데이터프레임 a와 date_block_num, shop_id, item_id를 기준으로 item_price를 평균낸 데이터프레임 b를 합하여 새로운 train 데이터를 생성한다."
   ]
  },
  {
   "cell_type": "code",
   "execution_count": null,
   "id": "about-fusion",
   "metadata": {
    "id": "about-fusion",
    "outputId": "afc0d447-9c44-4297-8f03-b7b195a1c3ad"
   },
   "outputs": [
    {
     "data": {
      "text/html": [
       "<div>\n",
       "<style scoped>\n",
       "    .dataframe tbody tr th:only-of-type {\n",
       "        vertical-align: middle;\n",
       "    }\n",
       "\n",
       "    .dataframe tbody tr th {\n",
       "        vertical-align: top;\n",
       "    }\n",
       "\n",
       "    .dataframe thead th {\n",
       "        text-align: right;\n",
       "    }\n",
       "</style>\n",
       "<table border=\"1\" class=\"dataframe\">\n",
       "  <thead>\n",
       "    <tr style=\"text-align: right;\">\n",
       "      <th></th>\n",
       "      <th>date_block_num</th>\n",
       "      <th>shop_id</th>\n",
       "      <th>item_id</th>\n",
       "      <th>item_price</th>\n",
       "      <th>item_cnt_day</th>\n",
       "    </tr>\n",
       "  </thead>\n",
       "  <tbody>\n",
       "    <tr>\n",
       "      <th>0</th>\n",
       "      <td>0</td>\n",
       "      <td>0</td>\n",
       "      <td>32</td>\n",
       "      <td>884.00</td>\n",
       "      <td>6.00</td>\n",
       "    </tr>\n",
       "    <tr>\n",
       "      <th>1</th>\n",
       "      <td>0</td>\n",
       "      <td>0</td>\n",
       "      <td>33</td>\n",
       "      <td>1041.00</td>\n",
       "      <td>3.00</td>\n",
       "    </tr>\n",
       "    <tr>\n",
       "      <th>2</th>\n",
       "      <td>0</td>\n",
       "      <td>0</td>\n",
       "      <td>35</td>\n",
       "      <td>247.00</td>\n",
       "      <td>1.00</td>\n",
       "    </tr>\n",
       "    <tr>\n",
       "      <th>3</th>\n",
       "      <td>0</td>\n",
       "      <td>0</td>\n",
       "      <td>43</td>\n",
       "      <td>221.00</td>\n",
       "      <td>1.00</td>\n",
       "    </tr>\n",
       "    <tr>\n",
       "      <th>4</th>\n",
       "      <td>0</td>\n",
       "      <td>0</td>\n",
       "      <td>51</td>\n",
       "      <td>257.00</td>\n",
       "      <td>2.00</td>\n",
       "    </tr>\n",
       "  </tbody>\n",
       "</table>\n",
       "</div>"
      ],
      "text/plain": [
       "   date_block_num  shop_id  item_id  item_price  item_cnt_day\n",
       "0               0        0       32      884.00          6.00\n",
       "1               0        0       33     1041.00          3.00\n",
       "2               0        0       35      247.00          1.00\n",
       "3               0        0       43      221.00          1.00\n",
       "4               0        0       51      257.00          2.00"
      ]
     },
     "execution_count": 224,
     "metadata": {
      "tags": []
     },
     "output_type": "execute_result"
    },
    {
     "name": "stdout",
     "output_type": "stream",
     "text": [
      "time: 632 ms (started: 2021-02-10 10:17:11 +09:00)\n"
     ]
    }
   ],
   "source": [
    "a = train_remove_column.groupby(['date_block_num','shop_id','item_id']).sum().reset_index()\n",
    "a.head()"
   ]
  },
  {
   "cell_type": "code",
   "execution_count": null,
   "id": "conscious-midnight",
   "metadata": {
    "id": "conscious-midnight",
    "outputId": "ededeef0-9be4-4414-e516-96ef989d6e27"
   },
   "outputs": [
    {
     "data": {
      "text/html": [
       "<div>\n",
       "<style scoped>\n",
       "    .dataframe tbody tr th:only-of-type {\n",
       "        vertical-align: middle;\n",
       "    }\n",
       "\n",
       "    .dataframe tbody tr th {\n",
       "        vertical-align: top;\n",
       "    }\n",
       "\n",
       "    .dataframe thead th {\n",
       "        text-align: right;\n",
       "    }\n",
       "</style>\n",
       "<table border=\"1\" class=\"dataframe\">\n",
       "  <thead>\n",
       "    <tr style=\"text-align: right;\">\n",
       "      <th></th>\n",
       "      <th>date_block_num</th>\n",
       "      <th>shop_id</th>\n",
       "      <th>item_id</th>\n",
       "      <th>item_price</th>\n",
       "      <th>item_cnt_day</th>\n",
       "    </tr>\n",
       "  </thead>\n",
       "  <tbody>\n",
       "    <tr>\n",
       "      <th>0</th>\n",
       "      <td>0</td>\n",
       "      <td>0</td>\n",
       "      <td>32</td>\n",
       "      <td>221.00</td>\n",
       "      <td>1.50</td>\n",
       "    </tr>\n",
       "    <tr>\n",
       "      <th>1</th>\n",
       "      <td>0</td>\n",
       "      <td>0</td>\n",
       "      <td>33</td>\n",
       "      <td>347.00</td>\n",
       "      <td>1.00</td>\n",
       "    </tr>\n",
       "    <tr>\n",
       "      <th>2</th>\n",
       "      <td>0</td>\n",
       "      <td>0</td>\n",
       "      <td>35</td>\n",
       "      <td>247.00</td>\n",
       "      <td>1.00</td>\n",
       "    </tr>\n",
       "    <tr>\n",
       "      <th>3</th>\n",
       "      <td>0</td>\n",
       "      <td>0</td>\n",
       "      <td>43</td>\n",
       "      <td>221.00</td>\n",
       "      <td>1.00</td>\n",
       "    </tr>\n",
       "    <tr>\n",
       "      <th>4</th>\n",
       "      <td>0</td>\n",
       "      <td>0</td>\n",
       "      <td>51</td>\n",
       "      <td>128.50</td>\n",
       "      <td>1.00</td>\n",
       "    </tr>\n",
       "  </tbody>\n",
       "</table>\n",
       "</div>"
      ],
      "text/plain": [
       "   date_block_num  shop_id  item_id  item_price  item_cnt_day\n",
       "0               0        0       32      221.00          1.50\n",
       "1               0        0       33      347.00          1.00\n",
       "2               0        0       35      247.00          1.00\n",
       "3               0        0       43      221.00          1.00\n",
       "4               0        0       51      128.50          1.00"
      ]
     },
     "execution_count": 225,
     "metadata": {
      "tags": []
     },
     "output_type": "execute_result"
    },
    {
     "name": "stdout",
     "output_type": "stream",
     "text": [
      "time: 589 ms (started: 2021-02-10 10:17:12 +09:00)\n"
     ]
    }
   ],
   "source": [
    "b = train_remove_column.groupby(['date_block_num','shop_id','item_id']).mean().reset_index()\n",
    "b.head()"
   ]
  },
  {
   "cell_type": "code",
   "execution_count": null,
   "id": "pregnant-nickname",
   "metadata": {
    "id": "pregnant-nickname",
    "outputId": "ac12a9c0-a895-4bb5-c2fc-e58a905844c4"
   },
   "outputs": [
    {
     "data": {
      "text/html": [
       "<div>\n",
       "<style scoped>\n",
       "    .dataframe tbody tr th:only-of-type {\n",
       "        vertical-align: middle;\n",
       "    }\n",
       "\n",
       "    .dataframe tbody tr th {\n",
       "        vertical-align: top;\n",
       "    }\n",
       "\n",
       "    .dataframe thead th {\n",
       "        text-align: right;\n",
       "    }\n",
       "</style>\n",
       "<table border=\"1\" class=\"dataframe\">\n",
       "  <thead>\n",
       "    <tr style=\"text-align: right;\">\n",
       "      <th></th>\n",
       "      <th>date_block_num</th>\n",
       "      <th>shop_id</th>\n",
       "      <th>item_id</th>\n",
       "      <th>item_price</th>\n",
       "      <th>item_cnt_day</th>\n",
       "    </tr>\n",
       "  </thead>\n",
       "  <tbody>\n",
       "    <tr>\n",
       "      <th>0</th>\n",
       "      <td>0</td>\n",
       "      <td>0</td>\n",
       "      <td>32</td>\n",
       "      <td>221.00</td>\n",
       "      <td>6.00</td>\n",
       "    </tr>\n",
       "    <tr>\n",
       "      <th>1</th>\n",
       "      <td>0</td>\n",
       "      <td>0</td>\n",
       "      <td>33</td>\n",
       "      <td>347.00</td>\n",
       "      <td>3.00</td>\n",
       "    </tr>\n",
       "    <tr>\n",
       "      <th>2</th>\n",
       "      <td>0</td>\n",
       "      <td>0</td>\n",
       "      <td>35</td>\n",
       "      <td>247.00</td>\n",
       "      <td>1.00</td>\n",
       "    </tr>\n",
       "    <tr>\n",
       "      <th>3</th>\n",
       "      <td>0</td>\n",
       "      <td>0</td>\n",
       "      <td>43</td>\n",
       "      <td>221.00</td>\n",
       "      <td>1.00</td>\n",
       "    </tr>\n",
       "    <tr>\n",
       "      <th>4</th>\n",
       "      <td>0</td>\n",
       "      <td>0</td>\n",
       "      <td>51</td>\n",
       "      <td>128.50</td>\n",
       "      <td>2.00</td>\n",
       "    </tr>\n",
       "    <tr>\n",
       "      <th>...</th>\n",
       "      <td>...</td>\n",
       "      <td>...</td>\n",
       "      <td>...</td>\n",
       "      <td>...</td>\n",
       "      <td>...</td>\n",
       "    </tr>\n",
       "    <tr>\n",
       "      <th>1609118</th>\n",
       "      <td>33</td>\n",
       "      <td>59</td>\n",
       "      <td>22087</td>\n",
       "      <td>119.00</td>\n",
       "      <td>6.00</td>\n",
       "    </tr>\n",
       "    <tr>\n",
       "      <th>1609119</th>\n",
       "      <td>33</td>\n",
       "      <td>59</td>\n",
       "      <td>22088</td>\n",
       "      <td>119.00</td>\n",
       "      <td>2.00</td>\n",
       "    </tr>\n",
       "    <tr>\n",
       "      <th>1609120</th>\n",
       "      <td>33</td>\n",
       "      <td>59</td>\n",
       "      <td>22091</td>\n",
       "      <td>179.00</td>\n",
       "      <td>1.00</td>\n",
       "    </tr>\n",
       "    <tr>\n",
       "      <th>1609121</th>\n",
       "      <td>33</td>\n",
       "      <td>59</td>\n",
       "      <td>22100</td>\n",
       "      <td>629.00</td>\n",
       "      <td>1.00</td>\n",
       "    </tr>\n",
       "    <tr>\n",
       "      <th>1609122</th>\n",
       "      <td>33</td>\n",
       "      <td>59</td>\n",
       "      <td>22102</td>\n",
       "      <td>1250.00</td>\n",
       "      <td>1.00</td>\n",
       "    </tr>\n",
       "  </tbody>\n",
       "</table>\n",
       "<p>1609123 rows × 5 columns</p>\n",
       "</div>"
      ],
      "text/plain": [
       "         date_block_num  shop_id  item_id  item_price  item_cnt_day\n",
       "0                     0        0       32      221.00          6.00\n",
       "1                     0        0       33      347.00          3.00\n",
       "2                     0        0       35      247.00          1.00\n",
       "3                     0        0       43      221.00          1.00\n",
       "4                     0        0       51      128.50          2.00\n",
       "...                 ...      ...      ...         ...           ...\n",
       "1609118              33       59    22087      119.00          6.00\n",
       "1609119              33       59    22088      119.00          2.00\n",
       "1609120              33       59    22091      179.00          1.00\n",
       "1609121              33       59    22100      629.00          1.00\n",
       "1609122              33       59    22102     1250.00          1.00\n",
       "\n",
       "[1609123 rows x 5 columns]"
      ]
     },
     "execution_count": 226,
     "metadata": {
      "tags": []
     },
     "output_type": "execute_result"
    },
    {
     "name": "stdout",
     "output_type": "stream",
     "text": [
      "time: 28.4 ms (started: 2021-02-10 10:17:13 +09:00)\n"
     ]
    }
   ],
   "source": [
    "train_merged = a.copy()\n",
    "train_merged['item_price'] = b['item_price']\n",
    "train_merged"
   ]
  },
  {
   "cell_type": "code",
   "execution_count": null,
   "id": "forbidden-radiation",
   "metadata": {
    "id": "forbidden-radiation",
    "outputId": "3c5c0d2e-7d69-4d93-de11-cc10a0127ef3"
   },
   "outputs": [
    {
     "data": {
      "text/html": [
       "<div>\n",
       "<style scoped>\n",
       "    .dataframe tbody tr th:only-of-type {\n",
       "        vertical-align: middle;\n",
       "    }\n",
       "\n",
       "    .dataframe tbody tr th {\n",
       "        vertical-align: top;\n",
       "    }\n",
       "\n",
       "    .dataframe thead th {\n",
       "        text-align: right;\n",
       "    }\n",
       "</style>\n",
       "<table border=\"1\" class=\"dataframe\">\n",
       "  <thead>\n",
       "    <tr style=\"text-align: right;\">\n",
       "      <th></th>\n",
       "      <th>date_block_num</th>\n",
       "      <th>shop_id</th>\n",
       "      <th>item_id</th>\n",
       "      <th>item_price</th>\n",
       "      <th>item_cnt_day</th>\n",
       "    </tr>\n",
       "  </thead>\n",
       "  <tbody>\n",
       "    <tr>\n",
       "      <th>count</th>\n",
       "      <td>1609123.00</td>\n",
       "      <td>1609123.00</td>\n",
       "      <td>1609123.00</td>\n",
       "      <td>1609123.00</td>\n",
       "      <td>1609123.00</td>\n",
       "    </tr>\n",
       "    <tr>\n",
       "      <th>mean</th>\n",
       "      <td>14.66</td>\n",
       "      <td>32.81</td>\n",
       "      <td>10680.99</td>\n",
       "      <td>790.69</td>\n",
       "      <td>2.27</td>\n",
       "    </tr>\n",
       "    <tr>\n",
       "      <th>std</th>\n",
       "      <td>9.54</td>\n",
       "      <td>16.54</td>\n",
       "      <td>6238.88</td>\n",
       "      <td>1532.59</td>\n",
       "      <td>8.47</td>\n",
       "    </tr>\n",
       "    <tr>\n",
       "      <th>min</th>\n",
       "      <td>0.00</td>\n",
       "      <td>0.00</td>\n",
       "      <td>0.00</td>\n",
       "      <td>0.09</td>\n",
       "      <td>-22.00</td>\n",
       "    </tr>\n",
       "    <tr>\n",
       "      <th>25%</th>\n",
       "      <td>6.00</td>\n",
       "      <td>21.00</td>\n",
       "      <td>5045.00</td>\n",
       "      <td>199.00</td>\n",
       "      <td>1.00</td>\n",
       "    </tr>\n",
       "    <tr>\n",
       "      <th>50%</th>\n",
       "      <td>14.00</td>\n",
       "      <td>31.00</td>\n",
       "      <td>10497.00</td>\n",
       "      <td>399.00</td>\n",
       "      <td>1.00</td>\n",
       "    </tr>\n",
       "    <tr>\n",
       "      <th>75%</th>\n",
       "      <td>23.00</td>\n",
       "      <td>47.00</td>\n",
       "      <td>16060.00</td>\n",
       "      <td>898.50</td>\n",
       "      <td>2.00</td>\n",
       "    </tr>\n",
       "    <tr>\n",
       "      <th>max</th>\n",
       "      <td>33.00</td>\n",
       "      <td>59.00</td>\n",
       "      <td>22169.00</td>\n",
       "      <td>50999.00</td>\n",
       "      <td>1644.00</td>\n",
       "    </tr>\n",
       "  </tbody>\n",
       "</table>\n",
       "</div>"
      ],
      "text/plain": [
       "       date_block_num    shop_id    item_id  item_price  item_cnt_day\n",
       "count      1609123.00 1609123.00 1609123.00  1609123.00    1609123.00\n",
       "mean            14.66      32.81   10680.99      790.69          2.27\n",
       "std              9.54      16.54    6238.88     1532.59          8.47\n",
       "min              0.00       0.00       0.00        0.09        -22.00\n",
       "25%              6.00      21.00    5045.00      199.00          1.00\n",
       "50%             14.00      31.00   10497.00      399.00          1.00\n",
       "75%             23.00      47.00   16060.00      898.50          2.00\n",
       "max             33.00      59.00   22169.00    50999.00       1644.00"
      ]
     },
     "execution_count": 227,
     "metadata": {
      "tags": []
     },
     "output_type": "execute_result"
    },
    {
     "name": "stdout",
     "output_type": "stream",
     "text": [
      "time: 267 ms (started: 2021-02-10 10:17:16 +09:00)\n"
     ]
    }
   ],
   "source": [
    "pd.set_option('display.float_format', lambda x: '%.2f' % x)\n",
    "train_merged.describe()"
   ]
  },
  {
   "cell_type": "code",
   "execution_count": null,
   "id": "dress-confidence",
   "metadata": {
    "id": "dress-confidence",
    "outputId": "17814379-7b85-42f4-cb74-dc6dc6ac2e20"
   },
   "outputs": [
    {
     "data": {
      "text/html": [
       "<div>\n",
       "<style scoped>\n",
       "    .dataframe tbody tr th:only-of-type {\n",
       "        vertical-align: middle;\n",
       "    }\n",
       "\n",
       "    .dataframe tbody tr th {\n",
       "        vertical-align: top;\n",
       "    }\n",
       "\n",
       "    .dataframe thead th {\n",
       "        text-align: right;\n",
       "    }\n",
       "</style>\n",
       "<table border=\"1\" class=\"dataframe\">\n",
       "  <thead>\n",
       "    <tr style=\"text-align: right;\">\n",
       "      <th></th>\n",
       "      <th>date_block_num</th>\n",
       "      <th>shop_id</th>\n",
       "      <th>item_id</th>\n",
       "      <th>item_price</th>\n",
       "      <th>item_cnt_day</th>\n",
       "    </tr>\n",
       "  </thead>\n",
       "  <tbody>\n",
       "    <tr>\n",
       "      <th>4147</th>\n",
       "      <td>0</td>\n",
       "      <td>2</td>\n",
       "      <td>5643</td>\n",
       "      <td>2387.61</td>\n",
       "      <td>0.00</td>\n",
       "    </tr>\n",
       "    <tr>\n",
       "      <th>5609</th>\n",
       "      <td>0</td>\n",
       "      <td>4</td>\n",
       "      <td>7218</td>\n",
       "      <td>1594.00</td>\n",
       "      <td>0.00</td>\n",
       "    </tr>\n",
       "    <tr>\n",
       "      <th>6558</th>\n",
       "      <td>0</td>\n",
       "      <td>6</td>\n",
       "      <td>3676</td>\n",
       "      <td>2199.00</td>\n",
       "      <td>0.00</td>\n",
       "    </tr>\n",
       "    <tr>\n",
       "      <th>6566</th>\n",
       "      <td>0</td>\n",
       "      <td>6</td>\n",
       "      <td>3778</td>\n",
       "      <td>899.00</td>\n",
       "      <td>0.00</td>\n",
       "    </tr>\n",
       "    <tr>\n",
       "      <th>6753</th>\n",
       "      <td>0</td>\n",
       "      <td>6</td>\n",
       "      <td>5753</td>\n",
       "      <td>3490.00</td>\n",
       "      <td>0.00</td>\n",
       "    </tr>\n",
       "    <tr>\n",
       "      <th>...</th>\n",
       "      <td>...</td>\n",
       "      <td>...</td>\n",
       "      <td>...</td>\n",
       "      <td>...</td>\n",
       "      <td>...</td>\n",
       "    </tr>\n",
       "    <tr>\n",
       "      <th>1604609</th>\n",
       "      <td>33</td>\n",
       "      <td>52</td>\n",
       "      <td>18187</td>\n",
       "      <td>299.00</td>\n",
       "      <td>0.00</td>\n",
       "    </tr>\n",
       "    <tr>\n",
       "      <th>1605819</th>\n",
       "      <td>33</td>\n",
       "      <td>56</td>\n",
       "      <td>1538</td>\n",
       "      <td>999.00</td>\n",
       "      <td>0.00</td>\n",
       "    </tr>\n",
       "    <tr>\n",
       "      <th>1605876</th>\n",
       "      <td>33</td>\n",
       "      <td>56</td>\n",
       "      <td>3237</td>\n",
       "      <td>1998.00</td>\n",
       "      <td>0.00</td>\n",
       "    </tr>\n",
       "    <tr>\n",
       "      <th>1606537</th>\n",
       "      <td>33</td>\n",
       "      <td>56</td>\n",
       "      <td>19858</td>\n",
       "      <td>249.00</td>\n",
       "      <td>0.00</td>\n",
       "    </tr>\n",
       "    <tr>\n",
       "      <th>1607912</th>\n",
       "      <td>33</td>\n",
       "      <td>58</td>\n",
       "      <td>3115</td>\n",
       "      <td>349.00</td>\n",
       "      <td>0.00</td>\n",
       "    </tr>\n",
       "  </tbody>\n",
       "</table>\n",
       "<p>2583 rows × 5 columns</p>\n",
       "</div>"
      ],
      "text/plain": [
       "         date_block_num  shop_id  item_id  item_price  item_cnt_day\n",
       "4147                  0        2     5643     2387.61          0.00\n",
       "5609                  0        4     7218     1594.00          0.00\n",
       "6558                  0        6     3676     2199.00          0.00\n",
       "6566                  0        6     3778      899.00          0.00\n",
       "6753                  0        6     5753     3490.00          0.00\n",
       "...                 ...      ...      ...         ...           ...\n",
       "1604609              33       52    18187      299.00          0.00\n",
       "1605819              33       56     1538      999.00          0.00\n",
       "1605876              33       56     3237     1998.00          0.00\n",
       "1606537              33       56    19858      249.00          0.00\n",
       "1607912              33       58     3115      349.00          0.00\n",
       "\n",
       "[2583 rows x 5 columns]"
      ]
     },
     "execution_count": 228,
     "metadata": {
      "tags": []
     },
     "output_type": "execute_result"
    },
    {
     "name": "stdout",
     "output_type": "stream",
     "text": [
      "time: 11.5 ms (started: 2021-02-10 10:17:20 +09:00)\n"
     ]
    }
   ],
   "source": [
    "train_merged[train_merged['item_cnt_day'] == 0]"
   ]
  },
  {
   "cell_type": "code",
   "execution_count": null,
   "id": "fatal-chosen",
   "metadata": {
    "id": "fatal-chosen",
    "outputId": "8640064f-89b2-475e-d6bc-f3713bb2d238"
   },
   "outputs": [
    {
     "data": {
      "text/html": [
       "<div>\n",
       "<style scoped>\n",
       "    .dataframe tbody tr th:only-of-type {\n",
       "        vertical-align: middle;\n",
       "    }\n",
       "\n",
       "    .dataframe tbody tr th {\n",
       "        vertical-align: top;\n",
       "    }\n",
       "\n",
       "    .dataframe thead th {\n",
       "        text-align: right;\n",
       "    }\n",
       "</style>\n",
       "<table border=\"1\" class=\"dataframe\">\n",
       "  <thead>\n",
       "    <tr style=\"text-align: right;\">\n",
       "      <th></th>\n",
       "      <th>date_block_num</th>\n",
       "      <th>shop_id</th>\n",
       "      <th>item_id</th>\n",
       "      <th>item_price</th>\n",
       "      <th>item_cnt_day</th>\n",
       "    </tr>\n",
       "  </thead>\n",
       "  <tbody>\n",
       "    <tr>\n",
       "      <th>5821</th>\n",
       "      <td>0</td>\n",
       "      <td>4</td>\n",
       "      <td>12211</td>\n",
       "      <td>1399.00</td>\n",
       "      <td>-1.00</td>\n",
       "    </tr>\n",
       "    <tr>\n",
       "      <th>7326</th>\n",
       "      <td>0</td>\n",
       "      <td>6</td>\n",
       "      <td>12283</td>\n",
       "      <td>1999.00</td>\n",
       "      <td>-1.00</td>\n",
       "    </tr>\n",
       "    <tr>\n",
       "      <th>11045</th>\n",
       "      <td>0</td>\n",
       "      <td>12</td>\n",
       "      <td>1590</td>\n",
       "      <td>2599.00</td>\n",
       "      <td>-13.00</td>\n",
       "    </tr>\n",
       "    <tr>\n",
       "      <th>11046</th>\n",
       "      <td>0</td>\n",
       "      <td>12</td>\n",
       "      <td>1592</td>\n",
       "      <td>3999.00</td>\n",
       "      <td>-1.00</td>\n",
       "    </tr>\n",
       "    <tr>\n",
       "      <th>11047</th>\n",
       "      <td>0</td>\n",
       "      <td>12</td>\n",
       "      <td>1593</td>\n",
       "      <td>1799.00</td>\n",
       "      <td>-6.00</td>\n",
       "    </tr>\n",
       "    <tr>\n",
       "      <th>...</th>\n",
       "      <td>...</td>\n",
       "      <td>...</td>\n",
       "      <td>...</td>\n",
       "      <td>...</td>\n",
       "      <td>...</td>\n",
       "    </tr>\n",
       "    <tr>\n",
       "      <th>1590963</th>\n",
       "      <td>33</td>\n",
       "      <td>26</td>\n",
       "      <td>10513</td>\n",
       "      <td>1499.00</td>\n",
       "      <td>-1.00</td>\n",
       "    </tr>\n",
       "    <tr>\n",
       "      <th>1591278</th>\n",
       "      <td>33</td>\n",
       "      <td>26</td>\n",
       "      <td>21363</td>\n",
       "      <td>3199.00</td>\n",
       "      <td>-1.00</td>\n",
       "    </tr>\n",
       "    <tr>\n",
       "      <th>1595028</th>\n",
       "      <td>33</td>\n",
       "      <td>34</td>\n",
       "      <td>7233</td>\n",
       "      <td>599.00</td>\n",
       "      <td>-1.00</td>\n",
       "    </tr>\n",
       "    <tr>\n",
       "      <th>1602434</th>\n",
       "      <td>33</td>\n",
       "      <td>48</td>\n",
       "      <td>2860</td>\n",
       "      <td>1799.00</td>\n",
       "      <td>-1.00</td>\n",
       "    </tr>\n",
       "    <tr>\n",
       "      <th>1602603</th>\n",
       "      <td>33</td>\n",
       "      <td>48</td>\n",
       "      <td>6674</td>\n",
       "      <td>29990.00</td>\n",
       "      <td>-1.00</td>\n",
       "    </tr>\n",
       "  </tbody>\n",
       "</table>\n",
       "<p>915 rows × 5 columns</p>\n",
       "</div>"
      ],
      "text/plain": [
       "         date_block_num  shop_id  item_id  item_price  item_cnt_day\n",
       "5821                  0        4    12211     1399.00         -1.00\n",
       "7326                  0        6    12283     1999.00         -1.00\n",
       "11045                 0       12     1590     2599.00        -13.00\n",
       "11046                 0       12     1592     3999.00         -1.00\n",
       "11047                 0       12     1593     1799.00         -6.00\n",
       "...                 ...      ...      ...         ...           ...\n",
       "1590963              33       26    10513     1499.00         -1.00\n",
       "1591278              33       26    21363     3199.00         -1.00\n",
       "1595028              33       34     7233      599.00         -1.00\n",
       "1602434              33       48     2860     1799.00         -1.00\n",
       "1602603              33       48     6674    29990.00         -1.00\n",
       "\n",
       "[915 rows x 5 columns]"
      ]
     },
     "execution_count": 229,
     "metadata": {
      "tags": []
     },
     "output_type": "execute_result"
    },
    {
     "name": "stdout",
     "output_type": "stream",
     "text": [
      "time: 9.61 ms (started: 2021-02-10 10:17:21 +09:00)\n"
     ]
    }
   ],
   "source": [
    "train_merged[train_merged['item_cnt_day'] < 0]"
   ]
  },
  {
   "cell_type": "code",
   "execution_count": null,
   "id": "finite-pregnancy",
   "metadata": {
    "id": "finite-pregnancy",
    "outputId": "dbef61f9-13b6-4e6c-e5d5-992f0ec40560"
   },
   "outputs": [
    {
     "data": {
      "text/html": [
       "<div>\n",
       "<style scoped>\n",
       "    .dataframe tbody tr th:only-of-type {\n",
       "        vertical-align: middle;\n",
       "    }\n",
       "\n",
       "    .dataframe tbody tr th {\n",
       "        vertical-align: top;\n",
       "    }\n",
       "\n",
       "    .dataframe thead th {\n",
       "        text-align: right;\n",
       "    }\n",
       "</style>\n",
       "<table border=\"1\" class=\"dataframe\">\n",
       "  <thead>\n",
       "    <tr style=\"text-align: right;\">\n",
       "      <th></th>\n",
       "      <th>date_block_num</th>\n",
       "      <th>shop_id</th>\n",
       "      <th>item_id</th>\n",
       "      <th>item_price</th>\n",
       "      <th>item_cnt_day</th>\n",
       "    </tr>\n",
       "  </thead>\n",
       "  <tbody>\n",
       "    <tr>\n",
       "      <th>0</th>\n",
       "      <td>0</td>\n",
       "      <td>0</td>\n",
       "      <td>32</td>\n",
       "      <td>221.00</td>\n",
       "      <td>6.00</td>\n",
       "    </tr>\n",
       "    <tr>\n",
       "      <th>1</th>\n",
       "      <td>0</td>\n",
       "      <td>0</td>\n",
       "      <td>33</td>\n",
       "      <td>347.00</td>\n",
       "      <td>3.00</td>\n",
       "    </tr>\n",
       "    <tr>\n",
       "      <th>2</th>\n",
       "      <td>0</td>\n",
       "      <td>0</td>\n",
       "      <td>35</td>\n",
       "      <td>247.00</td>\n",
       "      <td>1.00</td>\n",
       "    </tr>\n",
       "    <tr>\n",
       "      <th>3</th>\n",
       "      <td>0</td>\n",
       "      <td>0</td>\n",
       "      <td>43</td>\n",
       "      <td>221.00</td>\n",
       "      <td>1.00</td>\n",
       "    </tr>\n",
       "    <tr>\n",
       "      <th>4</th>\n",
       "      <td>0</td>\n",
       "      <td>0</td>\n",
       "      <td>51</td>\n",
       "      <td>128.50</td>\n",
       "      <td>2.00</td>\n",
       "    </tr>\n",
       "    <tr>\n",
       "      <th>...</th>\n",
       "      <td>...</td>\n",
       "      <td>...</td>\n",
       "      <td>...</td>\n",
       "      <td>...</td>\n",
       "      <td>...</td>\n",
       "    </tr>\n",
       "    <tr>\n",
       "      <th>1609118</th>\n",
       "      <td>33</td>\n",
       "      <td>59</td>\n",
       "      <td>22087</td>\n",
       "      <td>119.00</td>\n",
       "      <td>6.00</td>\n",
       "    </tr>\n",
       "    <tr>\n",
       "      <th>1609119</th>\n",
       "      <td>33</td>\n",
       "      <td>59</td>\n",
       "      <td>22088</td>\n",
       "      <td>119.00</td>\n",
       "      <td>2.00</td>\n",
       "    </tr>\n",
       "    <tr>\n",
       "      <th>1609120</th>\n",
       "      <td>33</td>\n",
       "      <td>59</td>\n",
       "      <td>22091</td>\n",
       "      <td>179.00</td>\n",
       "      <td>1.00</td>\n",
       "    </tr>\n",
       "    <tr>\n",
       "      <th>1609121</th>\n",
       "      <td>33</td>\n",
       "      <td>59</td>\n",
       "      <td>22100</td>\n",
       "      <td>629.00</td>\n",
       "      <td>1.00</td>\n",
       "    </tr>\n",
       "    <tr>\n",
       "      <th>1609122</th>\n",
       "      <td>33</td>\n",
       "      <td>59</td>\n",
       "      <td>22102</td>\n",
       "      <td>1250.00</td>\n",
       "      <td>1.00</td>\n",
       "    </tr>\n",
       "  </tbody>\n",
       "</table>\n",
       "<p>1609123 rows × 5 columns</p>\n",
       "</div>"
      ],
      "text/plain": [
       "         date_block_num  shop_id  item_id  item_price  item_cnt_day\n",
       "0                     0        0       32      221.00          6.00\n",
       "1                     0        0       33      347.00          3.00\n",
       "2                     0        0       35      247.00          1.00\n",
       "3                     0        0       43      221.00          1.00\n",
       "4                     0        0       51      128.50          2.00\n",
       "...                 ...      ...      ...         ...           ...\n",
       "1609118              33       59    22087      119.00          6.00\n",
       "1609119              33       59    22088      119.00          2.00\n",
       "1609120              33       59    22091      179.00          1.00\n",
       "1609121              33       59    22100      629.00          1.00\n",
       "1609122              33       59    22102     1250.00          1.00\n",
       "\n",
       "[1609123 rows x 5 columns]"
      ]
     },
     "execution_count": 235,
     "metadata": {
      "tags": []
     },
     "output_type": "execute_result"
    },
    {
     "name": "stdout",
     "output_type": "stream",
     "text": [
      "time: 8.54 ms (started: 2021-02-10 10:20:59 +09:00)\n"
     ]
    }
   ],
   "source": [
    "train_merged"
   ]
  },
  {
   "cell_type": "markdown",
   "id": "auburn-tooth",
   "metadata": {
    "id": "auburn-tooth"
   },
   "source": [
    "### 필요한 column 추가"
   ]
  },
  {
   "cell_type": "code",
   "execution_count": null,
   "id": "solved-study",
   "metadata": {
    "id": "solved-study",
    "outputId": "25d8fb81-5ba1-40bf-b1da-abcf97e2d83f"
   },
   "outputs": [
    {
     "data": {
      "text/html": [
       "<div>\n",
       "<style scoped>\n",
       "    .dataframe tbody tr th:only-of-type {\n",
       "        vertical-align: middle;\n",
       "    }\n",
       "\n",
       "    .dataframe tbody tr th {\n",
       "        vertical-align: top;\n",
       "    }\n",
       "\n",
       "    .dataframe thead th {\n",
       "        text-align: right;\n",
       "    }\n",
       "</style>\n",
       "<table border=\"1\" class=\"dataframe\">\n",
       "  <thead>\n",
       "    <tr style=\"text-align: right;\">\n",
       "      <th></th>\n",
       "      <th>date_block_num</th>\n",
       "      <th>shop_id</th>\n",
       "      <th>item_id</th>\n",
       "      <th>item_price</th>\n",
       "      <th>item_cnt_day</th>\n",
       "      <th>item_category_id</th>\n",
       "    </tr>\n",
       "  </thead>\n",
       "  <tbody>\n",
       "    <tr>\n",
       "      <th>0</th>\n",
       "      <td>0</td>\n",
       "      <td>0</td>\n",
       "      <td>32</td>\n",
       "      <td>221.00</td>\n",
       "      <td>6.00</td>\n",
       "      <td>40</td>\n",
       "    </tr>\n",
       "    <tr>\n",
       "      <th>1</th>\n",
       "      <td>0</td>\n",
       "      <td>0</td>\n",
       "      <td>33</td>\n",
       "      <td>347.00</td>\n",
       "      <td>3.00</td>\n",
       "      <td>37</td>\n",
       "    </tr>\n",
       "    <tr>\n",
       "      <th>2</th>\n",
       "      <td>0</td>\n",
       "      <td>0</td>\n",
       "      <td>35</td>\n",
       "      <td>247.00</td>\n",
       "      <td>1.00</td>\n",
       "      <td>40</td>\n",
       "    </tr>\n",
       "    <tr>\n",
       "      <th>3</th>\n",
       "      <td>0</td>\n",
       "      <td>0</td>\n",
       "      <td>43</td>\n",
       "      <td>221.00</td>\n",
       "      <td>1.00</td>\n",
       "      <td>40</td>\n",
       "    </tr>\n",
       "    <tr>\n",
       "      <th>4</th>\n",
       "      <td>0</td>\n",
       "      <td>0</td>\n",
       "      <td>51</td>\n",
       "      <td>128.50</td>\n",
       "      <td>2.00</td>\n",
       "      <td>57</td>\n",
       "    </tr>\n",
       "    <tr>\n",
       "      <th>5</th>\n",
       "      <td>0</td>\n",
       "      <td>0</td>\n",
       "      <td>61</td>\n",
       "      <td>195.00</td>\n",
       "      <td>1.00</td>\n",
       "      <td>43</td>\n",
       "    </tr>\n",
       "    <tr>\n",
       "      <th>6</th>\n",
       "      <td>0</td>\n",
       "      <td>0</td>\n",
       "      <td>75</td>\n",
       "      <td>76.00</td>\n",
       "      <td>1.00</td>\n",
       "      <td>40</td>\n",
       "    </tr>\n",
       "    <tr>\n",
       "      <th>7</th>\n",
       "      <td>0</td>\n",
       "      <td>0</td>\n",
       "      <td>88</td>\n",
       "      <td>76.00</td>\n",
       "      <td>1.00</td>\n",
       "      <td>40</td>\n",
       "    </tr>\n",
       "    <tr>\n",
       "      <th>8</th>\n",
       "      <td>0</td>\n",
       "      <td>0</td>\n",
       "      <td>95</td>\n",
       "      <td>193.00</td>\n",
       "      <td>1.00</td>\n",
       "      <td>40</td>\n",
       "    </tr>\n",
       "    <tr>\n",
       "      <th>9</th>\n",
       "      <td>0</td>\n",
       "      <td>0</td>\n",
       "      <td>96</td>\n",
       "      <td>70.00</td>\n",
       "      <td>1.00</td>\n",
       "      <td>40</td>\n",
       "    </tr>\n",
       "  </tbody>\n",
       "</table>\n",
       "</div>"
      ],
      "text/plain": [
       "   date_block_num  shop_id  item_id  item_price  item_cnt_day  \\\n",
       "0               0        0       32      221.00          6.00   \n",
       "1               0        0       33      347.00          3.00   \n",
       "2               0        0       35      247.00          1.00   \n",
       "3               0        0       43      221.00          1.00   \n",
       "4               0        0       51      128.50          2.00   \n",
       "5               0        0       61      195.00          1.00   \n",
       "6               0        0       75       76.00          1.00   \n",
       "7               0        0       88       76.00          1.00   \n",
       "8               0        0       95      193.00          1.00   \n",
       "9               0        0       96       70.00          1.00   \n",
       "\n",
       "   item_category_id  \n",
       "0                40  \n",
       "1                37  \n",
       "2                40  \n",
       "3                40  \n",
       "4                57  \n",
       "5                43  \n",
       "6                40  \n",
       "7                40  \n",
       "8                40  \n",
       "9                40  "
      ]
     },
     "execution_count": 236,
     "metadata": {
      "tags": []
     },
     "output_type": "execute_result"
    },
    {
     "name": "stdout",
     "output_type": "stream",
     "text": [
      "time: 300 ms (started: 2021-02-10 10:21:09 +09:00)\n"
     ]
    }
   ],
   "source": [
    "train_add_column = pd.merge(train_merged, items, left_on='item_id', right_on='item_id', how='left')\n",
    "train_add_column = train_add_column.drop(['item_name'], axis=1)\n",
    "train_add_column.head(10)"
   ]
  },
  {
   "cell_type": "code",
   "execution_count": null,
   "id": "deluxe-cleaners",
   "metadata": {
    "id": "deluxe-cleaners",
    "outputId": "94c56848-5b6d-4574-f526-87689d591066"
   },
   "outputs": [
    {
     "data": {
      "text/html": [
       "<div>\n",
       "<style scoped>\n",
       "    .dataframe tbody tr th:only-of-type {\n",
       "        vertical-align: middle;\n",
       "    }\n",
       "\n",
       "    .dataframe tbody tr th {\n",
       "        vertical-align: top;\n",
       "    }\n",
       "\n",
       "    .dataframe thead th {\n",
       "        text-align: right;\n",
       "    }\n",
       "</style>\n",
       "<table border=\"1\" class=\"dataframe\">\n",
       "  <thead>\n",
       "    <tr style=\"text-align: right;\">\n",
       "      <th></th>\n",
       "      <th>date_block_num</th>\n",
       "      <th>shop_id</th>\n",
       "      <th>item_id</th>\n",
       "      <th>item_price</th>\n",
       "      <th>item_cnt_day</th>\n",
       "      <th>item_category_id</th>\n",
       "      <th>item_category_name_eng</th>\n",
       "    </tr>\n",
       "  </thead>\n",
       "  <tbody>\n",
       "    <tr>\n",
       "      <th>0</th>\n",
       "      <td>0</td>\n",
       "      <td>0</td>\n",
       "      <td>32</td>\n",
       "      <td>221.00</td>\n",
       "      <td>6.00</td>\n",
       "      <td>40</td>\n",
       "      <td>Movie - DVD</td>\n",
       "    </tr>\n",
       "    <tr>\n",
       "      <th>1</th>\n",
       "      <td>0</td>\n",
       "      <td>0</td>\n",
       "      <td>33</td>\n",
       "      <td>347.00</td>\n",
       "      <td>3.00</td>\n",
       "      <td>37</td>\n",
       "      <td>Cinema - Blu-Ray</td>\n",
       "    </tr>\n",
       "    <tr>\n",
       "      <th>2</th>\n",
       "      <td>0</td>\n",
       "      <td>0</td>\n",
       "      <td>35</td>\n",
       "      <td>247.00</td>\n",
       "      <td>1.00</td>\n",
       "      <td>40</td>\n",
       "      <td>Movie - DVD</td>\n",
       "    </tr>\n",
       "    <tr>\n",
       "      <th>3</th>\n",
       "      <td>0</td>\n",
       "      <td>0</td>\n",
       "      <td>43</td>\n",
       "      <td>221.00</td>\n",
       "      <td>1.00</td>\n",
       "      <td>40</td>\n",
       "      <td>Movie - DVD</td>\n",
       "    </tr>\n",
       "    <tr>\n",
       "      <th>4</th>\n",
       "      <td>0</td>\n",
       "      <td>0</td>\n",
       "      <td>51</td>\n",
       "      <td>128.50</td>\n",
       "      <td>2.00</td>\n",
       "      <td>57</td>\n",
       "      <td>Music - MP3</td>\n",
       "    </tr>\n",
       "  </tbody>\n",
       "</table>\n",
       "</div>"
      ],
      "text/plain": [
       "   date_block_num  shop_id  item_id  item_price  item_cnt_day  \\\n",
       "0               0        0       32      221.00          6.00   \n",
       "1               0        0       33      347.00          3.00   \n",
       "2               0        0       35      247.00          1.00   \n",
       "3               0        0       43      221.00          1.00   \n",
       "4               0        0       51      128.50          2.00   \n",
       "\n",
       "   item_category_id item_category_name_eng  \n",
       "0                40            Movie - DVD  \n",
       "1                37       Cinema - Blu-Ray  \n",
       "2                40            Movie - DVD  \n",
       "3                40            Movie - DVD  \n",
       "4                57            Music - MP3  "
      ]
     },
     "execution_count": 237,
     "metadata": {
      "tags": []
     },
     "output_type": "execute_result"
    },
    {
     "name": "stdout",
     "output_type": "stream",
     "text": [
      "time: 239 ms (started: 2021-02-10 10:21:52 +09:00)\n"
     ]
    }
   ],
   "source": [
    "train_add_column = pd.merge(train_add_column, item_categories_eng, left_on='item_category_id', right_on='item_category_id', how='left')\n",
    "train_add_column = train_add_column.drop(['item_category_name'], axis=1)\n",
    "train_add_column.head()"
   ]
  },
  {
   "cell_type": "code",
   "execution_count": null,
   "id": "level-channel",
   "metadata": {
    "id": "level-channel",
    "outputId": "b9e297bc-564f-4c45-cc00-dfc16c6b1963"
   },
   "outputs": [
    {
     "data": {
      "text/html": [
       "<div>\n",
       "<style scoped>\n",
       "    .dataframe tbody tr th:only-of-type {\n",
       "        vertical-align: middle;\n",
       "    }\n",
       "\n",
       "    .dataframe tbody tr th {\n",
       "        vertical-align: top;\n",
       "    }\n",
       "\n",
       "    .dataframe thead th {\n",
       "        text-align: right;\n",
       "    }\n",
       "</style>\n",
       "<table border=\"1\" class=\"dataframe\">\n",
       "  <thead>\n",
       "    <tr style=\"text-align: right;\">\n",
       "      <th></th>\n",
       "      <th>date_block_num</th>\n",
       "      <th>shop_id</th>\n",
       "      <th>item_id</th>\n",
       "      <th>item_price</th>\n",
       "      <th>item_cnt_day</th>\n",
       "      <th>item_category_id</th>\n",
       "      <th>item_category_name_eng</th>\n",
       "    </tr>\n",
       "  </thead>\n",
       "  <tbody>\n",
       "    <tr>\n",
       "      <th>1386174</th>\n",
       "      <td>27</td>\n",
       "      <td>6</td>\n",
       "      <td>9254</td>\n",
       "      <td>1100.00</td>\n",
       "      <td>1.00</td>\n",
       "      <td>80</td>\n",
       "      <td>Service_Tickets</td>\n",
       "    </tr>\n",
       "    <tr>\n",
       "      <th>1386974</th>\n",
       "      <td>27</td>\n",
       "      <td>7</td>\n",
       "      <td>9250</td>\n",
       "      <td>1300.00</td>\n",
       "      <td>1.00</td>\n",
       "      <td>80</td>\n",
       "      <td>Service_Tickets</td>\n",
       "    </tr>\n",
       "    <tr>\n",
       "      <th>1387980</th>\n",
       "      <td>27</td>\n",
       "      <td>12</td>\n",
       "      <td>9244</td>\n",
       "      <td>900.00</td>\n",
       "      <td>4.00</td>\n",
       "      <td>80</td>\n",
       "      <td>Service_Tickets</td>\n",
       "    </tr>\n",
       "    <tr>\n",
       "      <th>1387981</th>\n",
       "      <td>27</td>\n",
       "      <td>12</td>\n",
       "      <td>9248</td>\n",
       "      <td>1300.00</td>\n",
       "      <td>13.00</td>\n",
       "      <td>80</td>\n",
       "      <td>Service_Tickets</td>\n",
       "    </tr>\n",
       "    <tr>\n",
       "      <th>1387982</th>\n",
       "      <td>27</td>\n",
       "      <td>12</td>\n",
       "      <td>9252</td>\n",
       "      <td>1100.00</td>\n",
       "      <td>1.00</td>\n",
       "      <td>80</td>\n",
       "      <td>Service_Tickets</td>\n",
       "    </tr>\n",
       "    <tr>\n",
       "      <th>...</th>\n",
       "      <td>...</td>\n",
       "      <td>...</td>\n",
       "      <td>...</td>\n",
       "      <td>...</td>\n",
       "      <td>...</td>\n",
       "      <td>...</td>\n",
       "      <td>...</td>\n",
       "    </tr>\n",
       "    <tr>\n",
       "      <th>1574826</th>\n",
       "      <td>32</td>\n",
       "      <td>56</td>\n",
       "      <td>9250</td>\n",
       "      <td>1533.33</td>\n",
       "      <td>18.00</td>\n",
       "      <td>80</td>\n",
       "      <td>Service_Tickets</td>\n",
       "    </tr>\n",
       "    <tr>\n",
       "      <th>1574827</th>\n",
       "      <td>32</td>\n",
       "      <td>56</td>\n",
       "      <td>9254</td>\n",
       "      <td>1320.00</td>\n",
       "      <td>19.00</td>\n",
       "      <td>80</td>\n",
       "      <td>Service_Tickets</td>\n",
       "    </tr>\n",
       "    <tr>\n",
       "      <th>1577339</th>\n",
       "      <td>32</td>\n",
       "      <td>59</td>\n",
       "      <td>9246</td>\n",
       "      <td>1100.00</td>\n",
       "      <td>2.00</td>\n",
       "      <td>80</td>\n",
       "      <td>Service_Tickets</td>\n",
       "    </tr>\n",
       "    <tr>\n",
       "      <th>1577340</th>\n",
       "      <td>32</td>\n",
       "      <td>59</td>\n",
       "      <td>9250</td>\n",
       "      <td>1500.00</td>\n",
       "      <td>12.00</td>\n",
       "      <td>80</td>\n",
       "      <td>Service_Tickets</td>\n",
       "    </tr>\n",
       "    <tr>\n",
       "      <th>1577341</th>\n",
       "      <td>32</td>\n",
       "      <td>59</td>\n",
       "      <td>9254</td>\n",
       "      <td>1366.67</td>\n",
       "      <td>8.00</td>\n",
       "      <td>80</td>\n",
       "      <td>Service_Tickets</td>\n",
       "    </tr>\n",
       "  </tbody>\n",
       "</table>\n",
       "<p>298 rows × 7 columns</p>\n",
       "</div>"
      ],
      "text/plain": [
       "         date_block_num  shop_id  item_id  item_price  item_cnt_day  \\\n",
       "1386174              27        6     9254     1100.00          1.00   \n",
       "1386974              27        7     9250     1300.00          1.00   \n",
       "1387980              27       12     9244      900.00          4.00   \n",
       "1387981              27       12     9248     1300.00         13.00   \n",
       "1387982              27       12     9252     1100.00          1.00   \n",
       "...                 ...      ...      ...         ...           ...   \n",
       "1574826              32       56     9250     1533.33         18.00   \n",
       "1574827              32       56     9254     1320.00         19.00   \n",
       "1577339              32       59     9246     1100.00          2.00   \n",
       "1577340              32       59     9250     1500.00         12.00   \n",
       "1577341              32       59     9254     1366.67          8.00   \n",
       "\n",
       "         item_category_id item_category_name_eng  \n",
       "1386174                80        Service_Tickets  \n",
       "1386974                80        Service_Tickets  \n",
       "1387980                80        Service_Tickets  \n",
       "1387981                80        Service_Tickets  \n",
       "1387982                80        Service_Tickets  \n",
       "...                   ...                    ...  \n",
       "1574826                80        Service_Tickets  \n",
       "1574827                80        Service_Tickets  \n",
       "1577339                80        Service_Tickets  \n",
       "1577340                80        Service_Tickets  \n",
       "1577341                80        Service_Tickets  \n",
       "\n",
       "[298 rows x 7 columns]"
      ]
     },
     "execution_count": 238,
     "metadata": {
      "tags": []
     },
     "output_type": "execute_result"
    },
    {
     "name": "stdout",
     "output_type": "stream",
     "text": [
      "time: 259 ms (started: 2021-02-10 10:22:46 +09:00)\n"
     ]
    }
   ],
   "source": [
    "train_add_column.loc[(train_add_column['item_category_name_eng']=='Service - Tickets'), 'item_category_name_eng'] = \"Service_Tickets\"\n",
    "train_add_column[train_add_column['item_category_name_eng']=='Service_Tickets']"
   ]
  },
  {
   "cell_type": "code",
   "execution_count": null,
   "id": "inappropriate-share",
   "metadata": {
    "id": "inappropriate-share",
    "outputId": "478d8478-eac1-4df3-92ac-525b6153e5ab"
   },
   "outputs": [
    {
     "data": {
      "text/html": [
       "<div>\n",
       "<style scoped>\n",
       "    .dataframe tbody tr th:only-of-type {\n",
       "        vertical-align: middle;\n",
       "    }\n",
       "\n",
       "    .dataframe tbody tr th {\n",
       "        vertical-align: top;\n",
       "    }\n",
       "\n",
       "    .dataframe thead th {\n",
       "        text-align: right;\n",
       "    }\n",
       "</style>\n",
       "<table border=\"1\" class=\"dataframe\">\n",
       "  <thead>\n",
       "    <tr style=\"text-align: right;\">\n",
       "      <th></th>\n",
       "      <th>date_block_num</th>\n",
       "      <th>shop_id</th>\n",
       "      <th>item_id</th>\n",
       "      <th>item_price</th>\n",
       "      <th>item_cnt_day</th>\n",
       "      <th>item_category_id</th>\n",
       "      <th>main_category_name</th>\n",
       "    </tr>\n",
       "  </thead>\n",
       "  <tbody>\n",
       "    <tr>\n",
       "      <th>0</th>\n",
       "      <td>0</td>\n",
       "      <td>0</td>\n",
       "      <td>32</td>\n",
       "      <td>221.00</td>\n",
       "      <td>6.00</td>\n",
       "      <td>40</td>\n",
       "      <td>Movie</td>\n",
       "    </tr>\n",
       "    <tr>\n",
       "      <th>1</th>\n",
       "      <td>0</td>\n",
       "      <td>0</td>\n",
       "      <td>33</td>\n",
       "      <td>347.00</td>\n",
       "      <td>3.00</td>\n",
       "      <td>37</td>\n",
       "      <td>Cinema</td>\n",
       "    </tr>\n",
       "    <tr>\n",
       "      <th>2</th>\n",
       "      <td>0</td>\n",
       "      <td>0</td>\n",
       "      <td>35</td>\n",
       "      <td>247.00</td>\n",
       "      <td>1.00</td>\n",
       "      <td>40</td>\n",
       "      <td>Movie</td>\n",
       "    </tr>\n",
       "    <tr>\n",
       "      <th>3</th>\n",
       "      <td>0</td>\n",
       "      <td>0</td>\n",
       "      <td>43</td>\n",
       "      <td>221.00</td>\n",
       "      <td>1.00</td>\n",
       "      <td>40</td>\n",
       "      <td>Movie</td>\n",
       "    </tr>\n",
       "    <tr>\n",
       "      <th>4</th>\n",
       "      <td>0</td>\n",
       "      <td>0</td>\n",
       "      <td>51</td>\n",
       "      <td>128.50</td>\n",
       "      <td>2.00</td>\n",
       "      <td>57</td>\n",
       "      <td>Music</td>\n",
       "    </tr>\n",
       "    <tr>\n",
       "      <th>5</th>\n",
       "      <td>0</td>\n",
       "      <td>0</td>\n",
       "      <td>61</td>\n",
       "      <td>195.00</td>\n",
       "      <td>1.00</td>\n",
       "      <td>43</td>\n",
       "      <td>Books</td>\n",
       "    </tr>\n",
       "    <tr>\n",
       "      <th>6</th>\n",
       "      <td>0</td>\n",
       "      <td>0</td>\n",
       "      <td>75</td>\n",
       "      <td>76.00</td>\n",
       "      <td>1.00</td>\n",
       "      <td>40</td>\n",
       "      <td>Movie</td>\n",
       "    </tr>\n",
       "    <tr>\n",
       "      <th>7</th>\n",
       "      <td>0</td>\n",
       "      <td>0</td>\n",
       "      <td>88</td>\n",
       "      <td>76.00</td>\n",
       "      <td>1.00</td>\n",
       "      <td>40</td>\n",
       "      <td>Movie</td>\n",
       "    </tr>\n",
       "    <tr>\n",
       "      <th>8</th>\n",
       "      <td>0</td>\n",
       "      <td>0</td>\n",
       "      <td>95</td>\n",
       "      <td>193.00</td>\n",
       "      <td>1.00</td>\n",
       "      <td>40</td>\n",
       "      <td>Movie</td>\n",
       "    </tr>\n",
       "    <tr>\n",
       "      <th>9</th>\n",
       "      <td>0</td>\n",
       "      <td>0</td>\n",
       "      <td>96</td>\n",
       "      <td>70.00</td>\n",
       "      <td>1.00</td>\n",
       "      <td>40</td>\n",
       "      <td>Movie</td>\n",
       "    </tr>\n",
       "  </tbody>\n",
       "</table>\n",
       "</div>"
      ],
      "text/plain": [
       "   date_block_num  shop_id  item_id  item_price  item_cnt_day  \\\n",
       "0               0        0       32      221.00          6.00   \n",
       "1               0        0       33      347.00          3.00   \n",
       "2               0        0       35      247.00          1.00   \n",
       "3               0        0       43      221.00          1.00   \n",
       "4               0        0       51      128.50          2.00   \n",
       "5               0        0       61      195.00          1.00   \n",
       "6               0        0       75       76.00          1.00   \n",
       "7               0        0       88       76.00          1.00   \n",
       "8               0        0       95      193.00          1.00   \n",
       "9               0        0       96       70.00          1.00   \n",
       "\n",
       "   item_category_id main_category_name  \n",
       "0                40             Movie   \n",
       "1                37            Cinema   \n",
       "2                40             Movie   \n",
       "3                40             Movie   \n",
       "4                57             Music   \n",
       "5                43             Books   \n",
       "6                40             Movie   \n",
       "7                40             Movie   \n",
       "8                40             Movie   \n",
       "9                40             Movie   "
      ]
     },
     "execution_count": 239,
     "metadata": {
      "tags": []
     },
     "output_type": "execute_result"
    },
    {
     "name": "stdout",
     "output_type": "stream",
     "text": [
      "time: 3.17 s (started: 2021-02-10 10:22:54 +09:00)\n"
     ]
    }
   ],
   "source": [
    "train_add_column['main_category_name'] = train_add_column.item_category_name_eng.str.split('-').str[0]\n",
    "train_add_column = train_add_column.drop(['item_category_name_eng'], axis=1)\n",
    "train_add_column.head(10)"
   ]
  },
  {
   "cell_type": "code",
   "execution_count": null,
   "id": "simple-jason",
   "metadata": {
    "id": "simple-jason",
    "outputId": "1f2456b0-5a48-4b65-c5d6-3acf6aff92ad"
   },
   "outputs": [
    {
     "data": {
      "text/plain": [
       "array(['Movie', 'Cinema', 'Music', 'Books', 'Programs', 'PCGames',\n",
       "       'Gifts', 'Games', 'Accessories', 'Gameconsoles', 'Paymentcards',\n",
       "       'Blankmedia_spire', 'Blankmedia_piece', 'Batteries', 'Service',\n",
       "       'Deliveryofgoods', 'PC', 'Paymentcards_Cinema_Music_Games',\n",
       "       'GameConsoles', 'Tickets_Number', 'MACGames', 'AndroidGames',\n",
       "       'Service_Tickets', 'PaymentCards'], dtype=object)"
      ]
     },
     "execution_count": 245,
     "metadata": {
      "tags": []
     },
     "output_type": "execute_result"
    },
    {
     "name": "stdout",
     "output_type": "stream",
     "text": [
      "time: 4.03 s (started: 2021-02-10 10:27:13 +09:00)\n"
     ]
    }
   ],
   "source": [
    "train_add_column['main_category_name'] = train_add_column['main_category_name'].str.replace(r' +', '')\n",
    "train_add_column['main_category_name'] = train_add_column['main_category_name'].str.replace(r'(', '_')\n",
    "train_add_column['main_category_name'] = train_add_column['main_category_name'].str.replace(r')', '')\n",
    "train_add_column['main_category_name'] = train_add_column['main_category_name'].str.replace(r',', '_')\n",
    "train_add_column.main_category_name.unique()"
   ]
  },
  {
   "cell_type": "code",
   "execution_count": null,
   "id": "gorgeous-envelope",
   "metadata": {
    "id": "gorgeous-envelope",
    "outputId": "c3f4382a-a890-493b-e817-fd0aeafd4434"
   },
   "outputs": [
    {
     "data": {
      "text/html": [
       "<div>\n",
       "<style scoped>\n",
       "    .dataframe tbody tr th:only-of-type {\n",
       "        vertical-align: middle;\n",
       "    }\n",
       "\n",
       "    .dataframe tbody tr th {\n",
       "        vertical-align: top;\n",
       "    }\n",
       "\n",
       "    .dataframe thead th {\n",
       "        text-align: right;\n",
       "    }\n",
       "</style>\n",
       "<table border=\"1\" class=\"dataframe\">\n",
       "  <thead>\n",
       "    <tr style=\"text-align: right;\">\n",
       "      <th></th>\n",
       "      <th>date_block_num</th>\n",
       "      <th>shop_id</th>\n",
       "      <th>item_id</th>\n",
       "      <th>item_price</th>\n",
       "      <th>item_cnt_day</th>\n",
       "      <th>item_category_id</th>\n",
       "      <th>main_category_Accessories</th>\n",
       "      <th>main_category_AndroidGames</th>\n",
       "      <th>main_category_Batteries</th>\n",
       "      <th>main_category_Blankmedia_piece</th>\n",
       "      <th>...</th>\n",
       "      <th>main_category_Music</th>\n",
       "      <th>main_category_PC</th>\n",
       "      <th>main_category_PCGames</th>\n",
       "      <th>main_category_PaymentCards</th>\n",
       "      <th>main_category_Paymentcards</th>\n",
       "      <th>main_category_Paymentcards_Cinema_Music_Games</th>\n",
       "      <th>main_category_Programs</th>\n",
       "      <th>main_category_Service</th>\n",
       "      <th>main_category_Service_Tickets</th>\n",
       "      <th>main_category_Tickets_Number</th>\n",
       "    </tr>\n",
       "  </thead>\n",
       "  <tbody>\n",
       "    <tr>\n",
       "      <th>0</th>\n",
       "      <td>0</td>\n",
       "      <td>0</td>\n",
       "      <td>32</td>\n",
       "      <td>221.00</td>\n",
       "      <td>6.00</td>\n",
       "      <td>40</td>\n",
       "      <td>0</td>\n",
       "      <td>0</td>\n",
       "      <td>0</td>\n",
       "      <td>0</td>\n",
       "      <td>...</td>\n",
       "      <td>0</td>\n",
       "      <td>0</td>\n",
       "      <td>0</td>\n",
       "      <td>0</td>\n",
       "      <td>0</td>\n",
       "      <td>0</td>\n",
       "      <td>0</td>\n",
       "      <td>0</td>\n",
       "      <td>0</td>\n",
       "      <td>0</td>\n",
       "    </tr>\n",
       "    <tr>\n",
       "      <th>1</th>\n",
       "      <td>0</td>\n",
       "      <td>0</td>\n",
       "      <td>33</td>\n",
       "      <td>347.00</td>\n",
       "      <td>3.00</td>\n",
       "      <td>37</td>\n",
       "      <td>0</td>\n",
       "      <td>0</td>\n",
       "      <td>0</td>\n",
       "      <td>0</td>\n",
       "      <td>...</td>\n",
       "      <td>0</td>\n",
       "      <td>0</td>\n",
       "      <td>0</td>\n",
       "      <td>0</td>\n",
       "      <td>0</td>\n",
       "      <td>0</td>\n",
       "      <td>0</td>\n",
       "      <td>0</td>\n",
       "      <td>0</td>\n",
       "      <td>0</td>\n",
       "    </tr>\n",
       "    <tr>\n",
       "      <th>2</th>\n",
       "      <td>0</td>\n",
       "      <td>0</td>\n",
       "      <td>35</td>\n",
       "      <td>247.00</td>\n",
       "      <td>1.00</td>\n",
       "      <td>40</td>\n",
       "      <td>0</td>\n",
       "      <td>0</td>\n",
       "      <td>0</td>\n",
       "      <td>0</td>\n",
       "      <td>...</td>\n",
       "      <td>0</td>\n",
       "      <td>0</td>\n",
       "      <td>0</td>\n",
       "      <td>0</td>\n",
       "      <td>0</td>\n",
       "      <td>0</td>\n",
       "      <td>0</td>\n",
       "      <td>0</td>\n",
       "      <td>0</td>\n",
       "      <td>0</td>\n",
       "    </tr>\n",
       "    <tr>\n",
       "      <th>3</th>\n",
       "      <td>0</td>\n",
       "      <td>0</td>\n",
       "      <td>43</td>\n",
       "      <td>221.00</td>\n",
       "      <td>1.00</td>\n",
       "      <td>40</td>\n",
       "      <td>0</td>\n",
       "      <td>0</td>\n",
       "      <td>0</td>\n",
       "      <td>0</td>\n",
       "      <td>...</td>\n",
       "      <td>0</td>\n",
       "      <td>0</td>\n",
       "      <td>0</td>\n",
       "      <td>0</td>\n",
       "      <td>0</td>\n",
       "      <td>0</td>\n",
       "      <td>0</td>\n",
       "      <td>0</td>\n",
       "      <td>0</td>\n",
       "      <td>0</td>\n",
       "    </tr>\n",
       "    <tr>\n",
       "      <th>4</th>\n",
       "      <td>0</td>\n",
       "      <td>0</td>\n",
       "      <td>51</td>\n",
       "      <td>128.50</td>\n",
       "      <td>2.00</td>\n",
       "      <td>57</td>\n",
       "      <td>0</td>\n",
       "      <td>0</td>\n",
       "      <td>0</td>\n",
       "      <td>0</td>\n",
       "      <td>...</td>\n",
       "      <td>1</td>\n",
       "      <td>0</td>\n",
       "      <td>0</td>\n",
       "      <td>0</td>\n",
       "      <td>0</td>\n",
       "      <td>0</td>\n",
       "      <td>0</td>\n",
       "      <td>0</td>\n",
       "      <td>0</td>\n",
       "      <td>0</td>\n",
       "    </tr>\n",
       "    <tr>\n",
       "      <th>...</th>\n",
       "      <td>...</td>\n",
       "      <td>...</td>\n",
       "      <td>...</td>\n",
       "      <td>...</td>\n",
       "      <td>...</td>\n",
       "      <td>...</td>\n",
       "      <td>...</td>\n",
       "      <td>...</td>\n",
       "      <td>...</td>\n",
       "      <td>...</td>\n",
       "      <td>...</td>\n",
       "      <td>...</td>\n",
       "      <td>...</td>\n",
       "      <td>...</td>\n",
       "      <td>...</td>\n",
       "      <td>...</td>\n",
       "      <td>...</td>\n",
       "      <td>...</td>\n",
       "      <td>...</td>\n",
       "      <td>...</td>\n",
       "      <td>...</td>\n",
       "    </tr>\n",
       "    <tr>\n",
       "      <th>1609118</th>\n",
       "      <td>33</td>\n",
       "      <td>59</td>\n",
       "      <td>22087</td>\n",
       "      <td>119.00</td>\n",
       "      <td>6.00</td>\n",
       "      <td>83</td>\n",
       "      <td>0</td>\n",
       "      <td>0</td>\n",
       "      <td>1</td>\n",
       "      <td>0</td>\n",
       "      <td>...</td>\n",
       "      <td>0</td>\n",
       "      <td>0</td>\n",
       "      <td>0</td>\n",
       "      <td>0</td>\n",
       "      <td>0</td>\n",
       "      <td>0</td>\n",
       "      <td>0</td>\n",
       "      <td>0</td>\n",
       "      <td>0</td>\n",
       "      <td>0</td>\n",
       "    </tr>\n",
       "    <tr>\n",
       "      <th>1609119</th>\n",
       "      <td>33</td>\n",
       "      <td>59</td>\n",
       "      <td>22088</td>\n",
       "      <td>119.00</td>\n",
       "      <td>2.00</td>\n",
       "      <td>83</td>\n",
       "      <td>0</td>\n",
       "      <td>0</td>\n",
       "      <td>1</td>\n",
       "      <td>0</td>\n",
       "      <td>...</td>\n",
       "      <td>0</td>\n",
       "      <td>0</td>\n",
       "      <td>0</td>\n",
       "      <td>0</td>\n",
       "      <td>0</td>\n",
       "      <td>0</td>\n",
       "      <td>0</td>\n",
       "      <td>0</td>\n",
       "      <td>0</td>\n",
       "      <td>0</td>\n",
       "    </tr>\n",
       "    <tr>\n",
       "      <th>1609120</th>\n",
       "      <td>33</td>\n",
       "      <td>59</td>\n",
       "      <td>22091</td>\n",
       "      <td>179.00</td>\n",
       "      <td>1.00</td>\n",
       "      <td>83</td>\n",
       "      <td>0</td>\n",
       "      <td>0</td>\n",
       "      <td>1</td>\n",
       "      <td>0</td>\n",
       "      <td>...</td>\n",
       "      <td>0</td>\n",
       "      <td>0</td>\n",
       "      <td>0</td>\n",
       "      <td>0</td>\n",
       "      <td>0</td>\n",
       "      <td>0</td>\n",
       "      <td>0</td>\n",
       "      <td>0</td>\n",
       "      <td>0</td>\n",
       "      <td>0</td>\n",
       "    </tr>\n",
       "    <tr>\n",
       "      <th>1609121</th>\n",
       "      <td>33</td>\n",
       "      <td>59</td>\n",
       "      <td>22100</td>\n",
       "      <td>629.00</td>\n",
       "      <td>1.00</td>\n",
       "      <td>42</td>\n",
       "      <td>0</td>\n",
       "      <td>0</td>\n",
       "      <td>0</td>\n",
       "      <td>0</td>\n",
       "      <td>...</td>\n",
       "      <td>0</td>\n",
       "      <td>0</td>\n",
       "      <td>0</td>\n",
       "      <td>0</td>\n",
       "      <td>0</td>\n",
       "      <td>0</td>\n",
       "      <td>0</td>\n",
       "      <td>0</td>\n",
       "      <td>0</td>\n",
       "      <td>0</td>\n",
       "    </tr>\n",
       "    <tr>\n",
       "      <th>1609122</th>\n",
       "      <td>33</td>\n",
       "      <td>59</td>\n",
       "      <td>22102</td>\n",
       "      <td>1250.00</td>\n",
       "      <td>1.00</td>\n",
       "      <td>42</td>\n",
       "      <td>0</td>\n",
       "      <td>0</td>\n",
       "      <td>0</td>\n",
       "      <td>0</td>\n",
       "      <td>...</td>\n",
       "      <td>0</td>\n",
       "      <td>0</td>\n",
       "      <td>0</td>\n",
       "      <td>0</td>\n",
       "      <td>0</td>\n",
       "      <td>0</td>\n",
       "      <td>0</td>\n",
       "      <td>0</td>\n",
       "      <td>0</td>\n",
       "      <td>0</td>\n",
       "    </tr>\n",
       "  </tbody>\n",
       "</table>\n",
       "<p>1609123 rows × 30 columns</p>\n",
       "</div>"
      ],
      "text/plain": [
       "         date_block_num  shop_id  item_id  item_price  item_cnt_day  \\\n",
       "0                     0        0       32      221.00          6.00   \n",
       "1                     0        0       33      347.00          3.00   \n",
       "2                     0        0       35      247.00          1.00   \n",
       "3                     0        0       43      221.00          1.00   \n",
       "4                     0        0       51      128.50          2.00   \n",
       "...                 ...      ...      ...         ...           ...   \n",
       "1609118              33       59    22087      119.00          6.00   \n",
       "1609119              33       59    22088      119.00          2.00   \n",
       "1609120              33       59    22091      179.00          1.00   \n",
       "1609121              33       59    22100      629.00          1.00   \n",
       "1609122              33       59    22102     1250.00          1.00   \n",
       "\n",
       "         item_category_id  main_category_Accessories  \\\n",
       "0                      40                          0   \n",
       "1                      37                          0   \n",
       "2                      40                          0   \n",
       "3                      40                          0   \n",
       "4                      57                          0   \n",
       "...                   ...                        ...   \n",
       "1609118                83                          0   \n",
       "1609119                83                          0   \n",
       "1609120                83                          0   \n",
       "1609121                42                          0   \n",
       "1609122                42                          0   \n",
       "\n",
       "         main_category_AndroidGames  main_category_Batteries  \\\n",
       "0                                 0                        0   \n",
       "1                                 0                        0   \n",
       "2                                 0                        0   \n",
       "3                                 0                        0   \n",
       "4                                 0                        0   \n",
       "...                             ...                      ...   \n",
       "1609118                           0                        1   \n",
       "1609119                           0                        1   \n",
       "1609120                           0                        1   \n",
       "1609121                           0                        0   \n",
       "1609122                           0                        0   \n",
       "\n",
       "         main_category_Blankmedia_piece  ...  main_category_Music  \\\n",
       "0                                     0  ...                    0   \n",
       "1                                     0  ...                    0   \n",
       "2                                     0  ...                    0   \n",
       "3                                     0  ...                    0   \n",
       "4                                     0  ...                    1   \n",
       "...                                 ...  ...                  ...   \n",
       "1609118                               0  ...                    0   \n",
       "1609119                               0  ...                    0   \n",
       "1609120                               0  ...                    0   \n",
       "1609121                               0  ...                    0   \n",
       "1609122                               0  ...                    0   \n",
       "\n",
       "         main_category_PC  main_category_PCGames  main_category_PaymentCards  \\\n",
       "0                       0                      0                           0   \n",
       "1                       0                      0                           0   \n",
       "2                       0                      0                           0   \n",
       "3                       0                      0                           0   \n",
       "4                       0                      0                           0   \n",
       "...                   ...                    ...                         ...   \n",
       "1609118                 0                      0                           0   \n",
       "1609119                 0                      0                           0   \n",
       "1609120                 0                      0                           0   \n",
       "1609121                 0                      0                           0   \n",
       "1609122                 0                      0                           0   \n",
       "\n",
       "         main_category_Paymentcards  \\\n",
       "0                                 0   \n",
       "1                                 0   \n",
       "2                                 0   \n",
       "3                                 0   \n",
       "4                                 0   \n",
       "...                             ...   \n",
       "1609118                           0   \n",
       "1609119                           0   \n",
       "1609120                           0   \n",
       "1609121                           0   \n",
       "1609122                           0   \n",
       "\n",
       "         main_category_Paymentcards_Cinema_Music_Games  \\\n",
       "0                                                    0   \n",
       "1                                                    0   \n",
       "2                                                    0   \n",
       "3                                                    0   \n",
       "4                                                    0   \n",
       "...                                                ...   \n",
       "1609118                                              0   \n",
       "1609119                                              0   \n",
       "1609120                                              0   \n",
       "1609121                                              0   \n",
       "1609122                                              0   \n",
       "\n",
       "         main_category_Programs  main_category_Service  \\\n",
       "0                             0                      0   \n",
       "1                             0                      0   \n",
       "2                             0                      0   \n",
       "3                             0                      0   \n",
       "4                             0                      0   \n",
       "...                         ...                    ...   \n",
       "1609118                       0                      0   \n",
       "1609119                       0                      0   \n",
       "1609120                       0                      0   \n",
       "1609121                       0                      0   \n",
       "1609122                       0                      0   \n",
       "\n",
       "         main_category_Service_Tickets  main_category_Tickets_Number  \n",
       "0                                    0                             0  \n",
       "1                                    0                             0  \n",
       "2                                    0                             0  \n",
       "3                                    0                             0  \n",
       "4                                    0                             0  \n",
       "...                                ...                           ...  \n",
       "1609118                              0                             0  \n",
       "1609119                              0                             0  \n",
       "1609120                              0                             0  \n",
       "1609121                              0                             0  \n",
       "1609122                              0                             0  \n",
       "\n",
       "[1609123 rows x 30 columns]"
      ]
     },
     "execution_count": 246,
     "metadata": {
      "tags": []
     },
     "output_type": "execute_result"
    },
    {
     "name": "stdout",
     "output_type": "stream",
     "text": [
      "time: 560 ms (started: 2021-02-10 10:29:13 +09:00)\n"
     ]
    }
   ],
   "source": [
    "train_encoded = pd.concat([train_add_column, pd.get_dummies(train_add_column['main_category_name'], prefix=\"main_category\")],axis=1)\n",
    "train_encoded = train_encoded.drop(['main_category_name'], axis=1)\n",
    "train_encoded"
   ]
  },
  {
   "cell_type": "markdown",
   "id": "relative-school",
   "metadata": {
    "id": "relative-school"
   },
   "source": [
    "### train 데이터 분포 확인"
   ]
  },
  {
   "cell_type": "code",
   "execution_count": null,
   "id": "boolean-recipe",
   "metadata": {
    "id": "boolean-recipe",
    "outputId": "4c212991-2212-4bd4-b20f-df83678d995f"
   },
   "outputs": [
    {
     "data": {
      "image/png": "[encoded data removed]",
      "text/plain": [
       "<Figure size 720x720 with 6 Axes>"
      ]
     },
     "metadata": {
      "image/png": {
       "height": 606,
       "width": 627
      },
      "needs_background": "light",
      "tags": []
     },
     "output_type": "display_data"
    },
    {
     "name": "stdout",
     "output_type": "stream",
     "text": [
      "time: 36.7 s (started: 2021-02-10 10:29:36 +09:00)\n"
     ]
    }
   ],
   "source": [
    "fig, ax = plt.subplots(2, 3, figsize=(10, 10)) \n",
    "\n",
    "count = 0\n",
    "columns = train_encoded.columns\n",
    "for row in range(2):\n",
    "    for col in range(3):\n",
    "        sns.kdeplot(train_encoded[columns[count]], ax=ax[row][col])\n",
    "        ax[row][col].set_title(columns[count], fontsize=15)\n",
    "        count += 1\n",
    "        if count == 6 :\n",
    "            break"
   ]
  },
  {
   "cell_type": "markdown",
   "id": "assisted-cemetery",
   "metadata": {
    "id": "assisted-cemetery"
   },
   "source": [
    "- `item_cnt_day` 데이터가 한 쪽으로 치우쳐진 경향을 보이고 있다.\n",
    "- `item_cnt_day`에 대하여 log-scaling을 진행하여 데이터의 분포를 고르게 변화시켜 준다."
   ]
  },
  {
   "cell_type": "code",
   "execution_count": null,
   "id": "extended-clock",
   "metadata": {
    "id": "extended-clock",
    "outputId": "c7b2b2cc-ec8a-4681-f082-f1042405da27"
   },
   "outputs": [
    {
     "name": "stdout",
     "output_type": "stream",
     "text": [
      "time: 419 µs (started: 2021-02-10 10:30:16 +09:00)\n"
     ]
    }
   ],
   "source": [
    "def safe_log1p(x):\n",
    "    return np.array([ np.log1p(i) if i > 0 else 0 for i in x])"
   ]
  },
  {
   "cell_type": "code",
   "execution_count": null,
   "id": "becoming-qualification",
   "metadata": {
    "id": "becoming-qualification",
    "outputId": "135bf99a-8bce-41d4-9327-95f15c697f3b"
   },
   "outputs": [
    {
     "name": "stdout",
     "output_type": "stream",
     "text": [
      "time: 2.65 s (started: 2021-02-10 10:30:18 +09:00)\n"
     ]
    }
   ],
   "source": [
    "train_log = train_encoded.copy()\n",
    "train_log['item_cnt_day'] = safe_log1p(train_log['item_cnt_day'].values)"
   ]
  },
  {
   "cell_type": "code",
   "execution_count": null,
   "id": "magnetic-training",
   "metadata": {
    "id": "magnetic-training",
    "outputId": "2bdefee2-0daf-4d9b-d7a7-06147d533122"
   },
   "outputs": [
    {
     "name": "stdout",
     "output_type": "stream",
     "text": [
      "time: 5.47 s (started: 2021-02-10 10:30:21 +09:00)\n"
     ]
    }
   ],
   "source": [
    "train_log = train_encoded.copy()\n",
    "train_log['item_cnt_day'] = safe_log1p(train_log['item_cnt_day'].values)\n",
    "train_log['item_price'] = safe_log1p(train_log['item_price'].values)"
   ]
  },
  {
   "cell_type": "code",
   "execution_count": null,
   "id": "czech-hotel",
   "metadata": {
    "id": "czech-hotel",
    "outputId": "478e6b1e-5941-4b03-d669-aabb5f4a91d4"
   },
   "outputs": [
    {
     "name": "stderr",
     "output_type": "stream",
     "text": [
      "/home/aiffel-dj1/anaconda3/envs/aiffel/lib/python3.7/site-packages/ipykernel_launcher.py:7: UserWarning: Matplotlib is currently using module://ipykernel.pylab.backend_inline, which is a non-GUI backend, so cannot show the figure.\n",
      "  import sys\n"
     ]
    },
    {
     "data": {
      "image/png": "[encoded data removed]",
      "text/plain": [
       "<Figure size 720x360 with 2 Axes>"
      ]
     },
     "metadata": {
      "image/png": {
       "height": 334,
       "width": 599
      },
      "needs_background": "light",
      "tags": []
     },
     "output_type": "display_data"
    },
    {
     "name": "stdout",
     "output_type": "stream",
     "text": [
      "time: 11.7 s (started: 2021-02-10 10:30:31 +09:00)\n"
     ]
    }
   ],
   "source": [
    "fig, (ax1, ax2) = plt.subplots(1, 2, figsize=(10, 5)) \n",
    "sns.kdeplot(train_log['item_cnt_day'], ax=ax1)\n",
    "ax1.set_title('item_cnt_day', fontsize=15)\n",
    "\n",
    "sns.kdeplot(train_log['item_price'], ax=ax2)\n",
    "ax2.set_title('item_price', fontsize=15)\n",
    "fig.show()"
   ]
  },
  {
   "cell_type": "markdown",
   "id": "suitable-penny",
   "metadata": {
    "id": "suitable-penny"
   },
   "source": [
    "### train 데이터 분리"
   ]
  },
  {
   "cell_type": "code",
   "execution_count": null,
   "id": "violent-ground",
   "metadata": {
    "id": "violent-ground",
    "outputId": "6f8eff7c-affa-45fd-9803-d506f0171736"
   },
   "outputs": [
    {
     "name": "stdout",
     "output_type": "stream",
     "text": [
      "Index(['date_block_num', 'shop_id', 'item_id', 'item_price',\n",
      "       'item_category_id', 'main_category_Accessories',\n",
      "       'main_category_AndroidGames', 'main_category_Batteries',\n",
      "       'main_category_Blankmedia_piece', 'main_category_Blankmedia_spire',\n",
      "       'main_category_Books', 'main_category_Cinema',\n",
      "       'main_category_Deliveryofgoods', 'main_category_GameConsoles',\n",
      "       'main_category_Gameconsoles', 'main_category_Games',\n",
      "       'main_category_Gifts', 'main_category_MACGames', 'main_category_Movie',\n",
      "       'main_category_Music', 'main_category_PC', 'main_category_PCGames',\n",
      "       'main_category_PaymentCards', 'main_category_Paymentcards',\n",
      "       'main_category_Paymentcards_Cinema_Music_Games',\n",
      "       'main_category_Programs', 'main_category_Service',\n",
      "       'main_category_Service_Tickets', 'main_category_Tickets_Number'],\n",
      "      dtype='object')\n",
      "time: 47.7 ms (started: 2021-02-10 10:30:46 +09:00)\n"
     ]
    }
   ],
   "source": [
    "y = train_log['item_cnt_day']\n",
    "x_train = train_log.drop(['item_cnt_day'], axis=1)\n",
    "\n",
    "print(x_train.columns)"
   ]
  },
  {
   "cell_type": "code",
   "execution_count": null,
   "id": "twenty-federal",
   "metadata": {
    "id": "twenty-federal",
    "outputId": "1650eaee-ad91-434a-e316-dd66a9c4d334"
   },
   "outputs": [
    {
     "name": "stdout",
     "output_type": "stream",
     "text": [
      "/home/aiffel-dj1/workspace/aiffel-exploration-workspace/E10_kaggle/AIFFEL_1st_Hackathon/1.data/train_log_main_category.csv\n",
      "time: 10.5 s (started: 2021-02-10 10:31:00 +09:00)\n"
     ]
    }
   ],
   "source": [
    "train_path = join(data_dir, 'train_log_main_category.csv')\n",
    "train_log.to_csv(train_path, index=False)\n",
    "print(train_path)"
   ]
  },
  {
   "cell_type": "markdown",
   "id": "killing-barrel",
   "metadata": {
    "id": "killing-barrel"
   },
   "source": [
    "### Test 데이터 가공"
   ]
  },
  {
   "cell_type": "markdown",
   "id": "blank-stations",
   "metadata": {
    "id": "blank-stations"
   },
   "source": [
    "#### Test column 추가/삭제"
   ]
  },
  {
   "cell_type": "markdown",
   "id": "guilty-shepherd",
   "metadata": {
    "id": "guilty-shepherd"
   },
   "source": [
    "- test 데이터에 `date_block_num` column을 추가하고 모든 값은 34로 채운다.\n",
    "- `item_category_id`를 추가한다.\n",
    "- `ID`를 변수 `sub_id`에 저장하고, ID를 test에서 제거한다."
   ]
  },
  {
   "cell_type": "code",
   "execution_count": null,
   "id": "common-ethernet",
   "metadata": {
    "id": "common-ethernet",
    "outputId": "84a328b3-ac8e-4ebe-9a52-b1da1aa8d837"
   },
   "outputs": [
    {
     "name": "stdout",
     "output_type": "stream",
     "text": [
      "time: 5.95 ms (started: 2021-02-10 08:58:55 +09:00)\n"
     ]
    }
   ],
   "source": [
    "test_merge = test.copy()\n",
    "test_merge[\"date_block_num\"] = 34\n",
    "\n",
    "sub_id = test_merge[\"ID\"]\n",
    "test_merge = test_merge.drop(['ID'], axis=1)"
   ]
  },
  {
   "cell_type": "code",
   "execution_count": null,
   "id": "partial-container",
   "metadata": {
    "id": "partial-container",
    "outputId": "301d5ec7-1b41-4934-c8eb-15e90d2a7d3a"
   },
   "outputs": [
    {
     "name": "stdout",
     "output_type": "stream",
     "text": [
      "time: 36.5 ms (started: 2021-02-10 08:58:55 +09:00)\n"
     ]
    }
   ],
   "source": [
    "test_merge = pd.merge(test_merge, items, left_on='item_id', right_on='item_id', how='left')\n",
    "test_merge = test_merge.drop(['item_name'], axis=1)"
   ]
  },
  {
   "cell_type": "code",
   "execution_count": null,
   "id": "blond-belief",
   "metadata": {
    "id": "blond-belief",
    "outputId": "a134c4df-08ca-41df-f2ca-910c014bd920"
   },
   "outputs": [
    {
     "data": {
      "text/html": [
       "<div>\n",
       "<style scoped>\n",
       "    .dataframe tbody tr th:only-of-type {\n",
       "        vertical-align: middle;\n",
       "    }\n",
       "\n",
       "    .dataframe tbody tr th {\n",
       "        vertical-align: top;\n",
       "    }\n",
       "\n",
       "    .dataframe thead th {\n",
       "        text-align: right;\n",
       "    }\n",
       "</style>\n",
       "<table border=\"1\" class=\"dataframe\">\n",
       "  <thead>\n",
       "    <tr style=\"text-align: right;\">\n",
       "      <th></th>\n",
       "      <th>shop_id</th>\n",
       "      <th>item_id</th>\n",
       "      <th>date_block_num</th>\n",
       "      <th>item_category_id</th>\n",
       "    </tr>\n",
       "  </thead>\n",
       "  <tbody>\n",
       "    <tr>\n",
       "      <th>0</th>\n",
       "      <td>5</td>\n",
       "      <td>5037</td>\n",
       "      <td>34</td>\n",
       "      <td>19</td>\n",
       "    </tr>\n",
       "    <tr>\n",
       "      <th>1</th>\n",
       "      <td>5</td>\n",
       "      <td>5320</td>\n",
       "      <td>34</td>\n",
       "      <td>55</td>\n",
       "    </tr>\n",
       "    <tr>\n",
       "      <th>2</th>\n",
       "      <td>5</td>\n",
       "      <td>5233</td>\n",
       "      <td>34</td>\n",
       "      <td>19</td>\n",
       "    </tr>\n",
       "    <tr>\n",
       "      <th>3</th>\n",
       "      <td>5</td>\n",
       "      <td>5232</td>\n",
       "      <td>34</td>\n",
       "      <td>23</td>\n",
       "    </tr>\n",
       "    <tr>\n",
       "      <th>4</th>\n",
       "      <td>5</td>\n",
       "      <td>5268</td>\n",
       "      <td>34</td>\n",
       "      <td>20</td>\n",
       "    </tr>\n",
       "    <tr>\n",
       "      <th>...</th>\n",
       "      <td>...</td>\n",
       "      <td>...</td>\n",
       "      <td>...</td>\n",
       "      <td>...</td>\n",
       "    </tr>\n",
       "    <tr>\n",
       "      <th>214195</th>\n",
       "      <td>45</td>\n",
       "      <td>18454</td>\n",
       "      <td>34</td>\n",
       "      <td>55</td>\n",
       "    </tr>\n",
       "    <tr>\n",
       "      <th>214196</th>\n",
       "      <td>45</td>\n",
       "      <td>16188</td>\n",
       "      <td>34</td>\n",
       "      <td>64</td>\n",
       "    </tr>\n",
       "    <tr>\n",
       "      <th>214197</th>\n",
       "      <td>45</td>\n",
       "      <td>15757</td>\n",
       "      <td>34</td>\n",
       "      <td>55</td>\n",
       "    </tr>\n",
       "    <tr>\n",
       "      <th>214198</th>\n",
       "      <td>45</td>\n",
       "      <td>19648</td>\n",
       "      <td>34</td>\n",
       "      <td>40</td>\n",
       "    </tr>\n",
       "    <tr>\n",
       "      <th>214199</th>\n",
       "      <td>45</td>\n",
       "      <td>969</td>\n",
       "      <td>34</td>\n",
       "      <td>37</td>\n",
       "    </tr>\n",
       "  </tbody>\n",
       "</table>\n",
       "<p>214200 rows × 4 columns</p>\n",
       "</div>"
      ],
      "text/plain": [
       "        shop_id  item_id  date_block_num  item_category_id\n",
       "0             5     5037              34                19\n",
       "1             5     5320              34                55\n",
       "2             5     5233              34                19\n",
       "3             5     5232              34                23\n",
       "4             5     5268              34                20\n",
       "...         ...      ...             ...               ...\n",
       "214195       45    18454              34                55\n",
       "214196       45    16188              34                64\n",
       "214197       45    15757              34                55\n",
       "214198       45    19648              34                40\n",
       "214199       45      969              34                37\n",
       "\n",
       "[214200 rows x 4 columns]"
      ]
     },
     "execution_count": 255,
     "metadata": {
      "tags": []
     },
     "output_type": "execute_result"
    },
    {
     "name": "stdout",
     "output_type": "stream",
     "text": [
      "time: 7.98 ms (started: 2021-02-10 10:33:11 +09:00)\n"
     ]
    }
   ],
   "source": [
    "test_merge"
   ]
  },
  {
   "cell_type": "markdown",
   "id": "monthly-emergency",
   "metadata": {
    "id": "monthly-emergency"
   },
   "source": [
    "#### Test column 추가 - price"
   ]
  },
  {
   "cell_type": "markdown",
   "id": "egyptian-coverage",
   "metadata": {
    "id": "egyptian-coverage"
   },
   "source": [
    "1. 같은 shop_id, item_id를 가지는 항목의 평균"
   ]
  },
  {
   "cell_type": "code",
   "execution_count": null,
   "id": "premier-wisdom",
   "metadata": {
    "id": "premier-wisdom",
    "outputId": "1bf338e7-ce1d-4771-9711-ff3daa1a7a51"
   },
   "outputs": [
    {
     "data": {
      "text/html": [
       "<div>\n",
       "<style scoped>\n",
       "    .dataframe tbody tr th:only-of-type {\n",
       "        vertical-align: middle;\n",
       "    }\n",
       "\n",
       "    .dataframe tbody tr th {\n",
       "        vertical-align: top;\n",
       "    }\n",
       "\n",
       "    .dataframe thead th {\n",
       "        text-align: right;\n",
       "    }\n",
       "</style>\n",
       "<table border=\"1\" class=\"dataframe\">\n",
       "  <thead>\n",
       "    <tr style=\"text-align: right;\">\n",
       "      <th></th>\n",
       "      <th>item_id</th>\n",
       "      <th>shop_id</th>\n",
       "      <th>item_price</th>\n",
       "    </tr>\n",
       "  </thead>\n",
       "  <tbody>\n",
       "    <tr>\n",
       "      <th>0</th>\n",
       "      <td>0</td>\n",
       "      <td>54</td>\n",
       "      <td>4.08</td>\n",
       "    </tr>\n",
       "    <tr>\n",
       "      <th>1</th>\n",
       "      <td>1</td>\n",
       "      <td>55</td>\n",
       "      <td>8.41</td>\n",
       "    </tr>\n",
       "    <tr>\n",
       "      <th>2</th>\n",
       "      <td>2</td>\n",
       "      <td>54</td>\n",
       "      <td>4.08</td>\n",
       "    </tr>\n",
       "    <tr>\n",
       "      <th>3</th>\n",
       "      <td>3</td>\n",
       "      <td>54</td>\n",
       "      <td>4.35</td>\n",
       "    </tr>\n",
       "    <tr>\n",
       "      <th>4</th>\n",
       "      <td>4</td>\n",
       "      <td>54</td>\n",
       "      <td>4.08</td>\n",
       "    </tr>\n",
       "    <tr>\n",
       "      <th>...</th>\n",
       "      <td>...</td>\n",
       "      <td>...</td>\n",
       "      <td>...</td>\n",
       "    </tr>\n",
       "    <tr>\n",
       "      <th>424118</th>\n",
       "      <td>22168</td>\n",
       "      <td>12</td>\n",
       "      <td>6.68</td>\n",
       "    </tr>\n",
       "    <tr>\n",
       "      <th>424119</th>\n",
       "      <td>22168</td>\n",
       "      <td>16</td>\n",
       "      <td>6.68</td>\n",
       "    </tr>\n",
       "    <tr>\n",
       "      <th>424120</th>\n",
       "      <td>22168</td>\n",
       "      <td>42</td>\n",
       "      <td>6.68</td>\n",
       "    </tr>\n",
       "    <tr>\n",
       "      <th>424121</th>\n",
       "      <td>22168</td>\n",
       "      <td>43</td>\n",
       "      <td>6.68</td>\n",
       "    </tr>\n",
       "    <tr>\n",
       "      <th>424122</th>\n",
       "      <td>22169</td>\n",
       "      <td>25</td>\n",
       "      <td>8.38</td>\n",
       "    </tr>\n",
       "  </tbody>\n",
       "</table>\n",
       "<p>424123 rows × 3 columns</p>\n",
       "</div>"
      ],
      "text/plain": [
       "        item_id  shop_id  item_price\n",
       "0             0       54        4.08\n",
       "1             1       55        8.41\n",
       "2             2       54        4.08\n",
       "3             3       54        4.35\n",
       "4             4       54        4.08\n",
       "...         ...      ...         ...\n",
       "424118    22168       12        6.68\n",
       "424119    22168       16        6.68\n",
       "424120    22168       42        6.68\n",
       "424121    22168       43        6.68\n",
       "424122    22169       25        8.38\n",
       "\n",
       "[424123 rows x 3 columns]"
      ]
     },
     "execution_count": 267,
     "metadata": {
      "tags": []
     },
     "output_type": "execute_result"
    },
    {
     "name": "stdout",
     "output_type": "stream",
     "text": [
      "time: 1.25 s (started: 2021-02-10 10:37:29 +09:00)\n"
     ]
    }
   ],
   "source": [
    "price_candidate_1 = train_log.groupby(['item_id', 'shop_id']).mean().reset_index().iloc[:, :6]\n",
    "price_candidate_1 = price_candidate_1.drop(['date_block_num', 'item_cnt_day', 'item_category_id'], axis=1)\n",
    "price_candidate_1"
   ]
  },
  {
   "cell_type": "code",
   "execution_count": null,
   "id": "adolescent-leone",
   "metadata": {
    "id": "adolescent-leone",
    "outputId": "2a35e1a1-6f48-4aab-95d4-dca85931312a"
   },
   "outputs": [
    {
     "data": {
      "text/html": [
       "<div>\n",
       "<style scoped>\n",
       "    .dataframe tbody tr th:only-of-type {\n",
       "        vertical-align: middle;\n",
       "    }\n",
       "\n",
       "    .dataframe tbody tr th {\n",
       "        vertical-align: top;\n",
       "    }\n",
       "\n",
       "    .dataframe thead th {\n",
       "        text-align: right;\n",
       "    }\n",
       "</style>\n",
       "<table border=\"1\" class=\"dataframe\">\n",
       "  <thead>\n",
       "    <tr style=\"text-align: right;\">\n",
       "      <th></th>\n",
       "      <th>shop_id</th>\n",
       "      <th>item_id</th>\n",
       "      <th>date_block_num</th>\n",
       "      <th>item_category_id</th>\n",
       "      <th>item_price</th>\n",
       "    </tr>\n",
       "  </thead>\n",
       "  <tbody>\n",
       "    <tr>\n",
       "      <th>0</th>\n",
       "      <td>5</td>\n",
       "      <td>5037</td>\n",
       "      <td>34</td>\n",
       "      <td>19</td>\n",
       "      <td>7.36</td>\n",
       "    </tr>\n",
       "    <tr>\n",
       "      <th>1</th>\n",
       "      <td>5</td>\n",
       "      <td>5320</td>\n",
       "      <td>34</td>\n",
       "      <td>55</td>\n",
       "      <td>nan</td>\n",
       "    </tr>\n",
       "    <tr>\n",
       "      <th>2</th>\n",
       "      <td>5</td>\n",
       "      <td>5233</td>\n",
       "      <td>34</td>\n",
       "      <td>19</td>\n",
       "      <td>6.72</td>\n",
       "    </tr>\n",
       "    <tr>\n",
       "      <th>3</th>\n",
       "      <td>5</td>\n",
       "      <td>5232</td>\n",
       "      <td>34</td>\n",
       "      <td>23</td>\n",
       "      <td>6.40</td>\n",
       "    </tr>\n",
       "    <tr>\n",
       "      <th>4</th>\n",
       "      <td>5</td>\n",
       "      <td>5268</td>\n",
       "      <td>34</td>\n",
       "      <td>20</td>\n",
       "      <td>nan</td>\n",
       "    </tr>\n",
       "    <tr>\n",
       "      <th>...</th>\n",
       "      <td>...</td>\n",
       "      <td>...</td>\n",
       "      <td>...</td>\n",
       "      <td>...</td>\n",
       "      <td>...</td>\n",
       "    </tr>\n",
       "    <tr>\n",
       "      <th>214195</th>\n",
       "      <td>45</td>\n",
       "      <td>18454</td>\n",
       "      <td>34</td>\n",
       "      <td>55</td>\n",
       "      <td>5.16</td>\n",
       "    </tr>\n",
       "    <tr>\n",
       "      <th>214196</th>\n",
       "      <td>45</td>\n",
       "      <td>16188</td>\n",
       "      <td>34</td>\n",
       "      <td>64</td>\n",
       "      <td>nan</td>\n",
       "    </tr>\n",
       "    <tr>\n",
       "      <th>214197</th>\n",
       "      <td>45</td>\n",
       "      <td>15757</td>\n",
       "      <td>34</td>\n",
       "      <td>55</td>\n",
       "      <td>5.30</td>\n",
       "    </tr>\n",
       "    <tr>\n",
       "      <th>214198</th>\n",
       "      <td>45</td>\n",
       "      <td>19648</td>\n",
       "      <td>34</td>\n",
       "      <td>40</td>\n",
       "      <td>nan</td>\n",
       "    </tr>\n",
       "    <tr>\n",
       "      <th>214199</th>\n",
       "      <td>45</td>\n",
       "      <td>969</td>\n",
       "      <td>34</td>\n",
       "      <td>37</td>\n",
       "      <td>6.31</td>\n",
       "    </tr>\n",
       "  </tbody>\n",
       "</table>\n",
       "<p>214200 rows × 5 columns</p>\n",
       "</div>"
      ],
      "text/plain": [
       "        shop_id  item_id  date_block_num  item_category_id  item_price\n",
       "0             5     5037              34                19        7.36\n",
       "1             5     5320              34                55         nan\n",
       "2             5     5233              34                19        6.72\n",
       "3             5     5232              34                23        6.40\n",
       "4             5     5268              34                20         nan\n",
       "...         ...      ...             ...               ...         ...\n",
       "214195       45    18454              34                55        5.16\n",
       "214196       45    16188              34                64         nan\n",
       "214197       45    15757              34                55        5.30\n",
       "214198       45    19648              34                40         nan\n",
       "214199       45      969              34                37        6.31\n",
       "\n",
       "[214200 rows x 5 columns]"
      ]
     },
     "execution_count": 268,
     "metadata": {
      "tags": []
     },
     "output_type": "execute_result"
    },
    {
     "name": "stdout",
     "output_type": "stream",
     "text": [
      "time: 83.2 ms (started: 2021-02-10 10:37:38 +09:00)\n"
     ]
    }
   ],
   "source": [
    "test_1 = pd.merge(test_merge, price_candidate_1, on=['item_id','shop_id'], how='left')\n",
    "test_1"
   ]
  },
  {
   "cell_type": "markdown",
   "id": "historic-seattle",
   "metadata": {
    "id": "historic-seattle"
   },
   "source": [
    "2. 같은 category 같은 shop_id의 평균"
   ]
  },
  {
   "cell_type": "code",
   "execution_count": null,
   "id": "behind-attribute",
   "metadata": {
    "id": "behind-attribute",
    "outputId": "9c3436ef-aa7c-4a38-fce5-2758cf6acc9c"
   },
   "outputs": [
    {
     "data": {
      "text/html": [
       "<div>\n",
       "<style scoped>\n",
       "    .dataframe tbody tr th:only-of-type {\n",
       "        vertical-align: middle;\n",
       "    }\n",
       "\n",
       "    .dataframe tbody tr th {\n",
       "        vertical-align: top;\n",
       "    }\n",
       "\n",
       "    .dataframe thead th {\n",
       "        text-align: right;\n",
       "    }\n",
       "</style>\n",
       "<table border=\"1\" class=\"dataframe\">\n",
       "  <thead>\n",
       "    <tr style=\"text-align: right;\">\n",
       "      <th></th>\n",
       "      <th>item_category_id</th>\n",
       "      <th>shop_id</th>\n",
       "      <th>item_price</th>\n",
       "    </tr>\n",
       "  </thead>\n",
       "  <tbody>\n",
       "    <tr>\n",
       "      <th>0</th>\n",
       "      <td>0</td>\n",
       "      <td>0</td>\n",
       "      <td>4.54</td>\n",
       "    </tr>\n",
       "    <tr>\n",
       "      <th>1</th>\n",
       "      <td>0</td>\n",
       "      <td>25</td>\n",
       "      <td>5.00</td>\n",
       "    </tr>\n",
       "    <tr>\n",
       "      <th>2</th>\n",
       "      <td>0</td>\n",
       "      <td>38</td>\n",
       "      <td>3.15</td>\n",
       "    </tr>\n",
       "    <tr>\n",
       "      <th>3</th>\n",
       "      <td>1</td>\n",
       "      <td>0</td>\n",
       "      <td>5.65</td>\n",
       "    </tr>\n",
       "    <tr>\n",
       "      <th>4</th>\n",
       "      <td>1</td>\n",
       "      <td>45</td>\n",
       "      <td>5.00</td>\n",
       "    </tr>\n",
       "    <tr>\n",
       "      <th>...</th>\n",
       "      <td>...</td>\n",
       "      <td>...</td>\n",
       "      <td>...</td>\n",
       "    </tr>\n",
       "    <tr>\n",
       "      <th>3266</th>\n",
       "      <td>83</td>\n",
       "      <td>54</td>\n",
       "      <td>4.63</td>\n",
       "    </tr>\n",
       "    <tr>\n",
       "      <th>3267</th>\n",
       "      <td>83</td>\n",
       "      <td>56</td>\n",
       "      <td>4.62</td>\n",
       "    </tr>\n",
       "    <tr>\n",
       "      <th>3268</th>\n",
       "      <td>83</td>\n",
       "      <td>57</td>\n",
       "      <td>4.72</td>\n",
       "    </tr>\n",
       "    <tr>\n",
       "      <th>3269</th>\n",
       "      <td>83</td>\n",
       "      <td>58</td>\n",
       "      <td>4.74</td>\n",
       "    </tr>\n",
       "    <tr>\n",
       "      <th>3270</th>\n",
       "      <td>83</td>\n",
       "      <td>59</td>\n",
       "      <td>4.62</td>\n",
       "    </tr>\n",
       "  </tbody>\n",
       "</table>\n",
       "<p>3271 rows × 3 columns</p>\n",
       "</div>"
      ],
      "text/plain": [
       "      item_category_id  shop_id  item_price\n",
       "0                    0        0        4.54\n",
       "1                    0       25        5.00\n",
       "2                    0       38        3.15\n",
       "3                    1        0        5.65\n",
       "4                    1       45        5.00\n",
       "...                ...      ...         ...\n",
       "3266                83       54        4.63\n",
       "3267                83       56        4.62\n",
       "3268                83       57        4.72\n",
       "3269                83       58        4.74\n",
       "3270                83       59        4.62\n",
       "\n",
       "[3271 rows x 3 columns]"
      ]
     },
     "execution_count": 270,
     "metadata": {
      "tags": []
     },
     "output_type": "execute_result"
    },
    {
     "name": "stdout",
     "output_type": "stream",
     "text": [
      "time: 405 ms (started: 2021-02-10 10:38:37 +09:00)\n"
     ]
    }
   ],
   "source": [
    "price_candidate_2 = train_log.groupby(['item_category_id', 'shop_id']).mean().reset_index().iloc[:, :6]\n",
    "price_candidate_2 = price_candidate_2.drop(['date_block_num', 'item_id','item_cnt_day'], axis=1)\n",
    "price_candidate_2"
   ]
  },
  {
   "cell_type": "code",
   "execution_count": null,
   "id": "featured-weapon",
   "metadata": {
    "id": "featured-weapon",
    "outputId": "7f5f9725-ff47-4519-f3fb-98c040ebb06e"
   },
   "outputs": [
    {
     "name": "stdout",
     "output_type": "stream",
     "text": [
      "time: 1.97 ms (started: 2021-02-10 10:38:48 +09:00)\n"
     ]
    }
   ],
   "source": [
    "def update_price_2(x):\n",
    "    if pd.isna(x['item_price']):\n",
    "        search_res = price_candidate_2.loc[(price_candidate_2['item_category_id'] == x['item_category_id']) & \n",
    "                                (price_candidate_2['shop_id'] == x['shop_id'])].values\n",
    "        if len(search_res) > 0: return search_res[0][2]\n",
    "    return x['item_price']"
   ]
  },
  {
   "cell_type": "code",
   "execution_count": null,
   "id": "combined-parker",
   "metadata": {
    "id": "combined-parker",
    "outputId": "818c12b7-bb84-4db2-d5ed-ceed8327da9d"
   },
   "outputs": [
    {
     "data": {
      "text/html": [
       "<div>\n",
       "<style scoped>\n",
       "    .dataframe tbody tr th:only-of-type {\n",
       "        vertical-align: middle;\n",
       "    }\n",
       "\n",
       "    .dataframe tbody tr th {\n",
       "        vertical-align: top;\n",
       "    }\n",
       "\n",
       "    .dataframe thead th {\n",
       "        text-align: right;\n",
       "    }\n",
       "</style>\n",
       "<table border=\"1\" class=\"dataframe\">\n",
       "  <thead>\n",
       "    <tr style=\"text-align: right;\">\n",
       "      <th></th>\n",
       "      <th>shop_id</th>\n",
       "      <th>item_id</th>\n",
       "      <th>date_block_num</th>\n",
       "      <th>item_category_id</th>\n",
       "      <th>item_price</th>\n",
       "    </tr>\n",
       "  </thead>\n",
       "  <tbody>\n",
       "    <tr>\n",
       "      <th>0</th>\n",
       "      <td>5</td>\n",
       "      <td>5037</td>\n",
       "      <td>34</td>\n",
       "      <td>19</td>\n",
       "      <td>7.36</td>\n",
       "    </tr>\n",
       "    <tr>\n",
       "      <th>1</th>\n",
       "      <td>5</td>\n",
       "      <td>5320</td>\n",
       "      <td>34</td>\n",
       "      <td>55</td>\n",
       "      <td>5.61</td>\n",
       "    </tr>\n",
       "    <tr>\n",
       "      <th>2</th>\n",
       "      <td>5</td>\n",
       "      <td>5233</td>\n",
       "      <td>34</td>\n",
       "      <td>19</td>\n",
       "      <td>6.72</td>\n",
       "    </tr>\n",
       "    <tr>\n",
       "      <th>3</th>\n",
       "      <td>5</td>\n",
       "      <td>5232</td>\n",
       "      <td>34</td>\n",
       "      <td>23</td>\n",
       "      <td>6.40</td>\n",
       "    </tr>\n",
       "    <tr>\n",
       "      <th>4</th>\n",
       "      <td>5</td>\n",
       "      <td>5268</td>\n",
       "      <td>34</td>\n",
       "      <td>20</td>\n",
       "      <td>7.79</td>\n",
       "    </tr>\n",
       "    <tr>\n",
       "      <th>...</th>\n",
       "      <td>...</td>\n",
       "      <td>...</td>\n",
       "      <td>...</td>\n",
       "      <td>...</td>\n",
       "      <td>...</td>\n",
       "    </tr>\n",
       "    <tr>\n",
       "      <th>214195</th>\n",
       "      <td>45</td>\n",
       "      <td>18454</td>\n",
       "      <td>34</td>\n",
       "      <td>55</td>\n",
       "      <td>5.16</td>\n",
       "    </tr>\n",
       "    <tr>\n",
       "      <th>214196</th>\n",
       "      <td>45</td>\n",
       "      <td>16188</td>\n",
       "      <td>34</td>\n",
       "      <td>64</td>\n",
       "      <td>6.88</td>\n",
       "    </tr>\n",
       "    <tr>\n",
       "      <th>214197</th>\n",
       "      <td>45</td>\n",
       "      <td>15757</td>\n",
       "      <td>34</td>\n",
       "      <td>55</td>\n",
       "      <td>5.30</td>\n",
       "    </tr>\n",
       "    <tr>\n",
       "      <th>214198</th>\n",
       "      <td>45</td>\n",
       "      <td>19648</td>\n",
       "      <td>34</td>\n",
       "      <td>40</td>\n",
       "      <td>5.40</td>\n",
       "    </tr>\n",
       "    <tr>\n",
       "      <th>214199</th>\n",
       "      <td>45</td>\n",
       "      <td>969</td>\n",
       "      <td>34</td>\n",
       "      <td>37</td>\n",
       "      <td>6.31</td>\n",
       "    </tr>\n",
       "  </tbody>\n",
       "</table>\n",
       "<p>214200 rows × 5 columns</p>\n",
       "</div>"
      ],
      "text/plain": [
       "        shop_id  item_id  date_block_num  item_category_id  item_price\n",
       "0             5     5037              34                19        7.36\n",
       "1             5     5320              34                55        5.61\n",
       "2             5     5233              34                19        6.72\n",
       "3             5     5232              34                23        6.40\n",
       "4             5     5268              34                20        7.79\n",
       "...         ...      ...             ...               ...         ...\n",
       "214195       45    18454              34                55        5.16\n",
       "214196       45    16188              34                64        6.88\n",
       "214197       45    15757              34                55        5.30\n",
       "214198       45    19648              34                40        5.40\n",
       "214199       45      969              34                37        6.31\n",
       "\n",
       "[214200 rows x 5 columns]"
      ]
     },
     "execution_count": 272,
     "metadata": {
      "tags": []
     },
     "output_type": "execute_result"
    },
    {
     "name": "stdout",
     "output_type": "stream",
     "text": [
      "time: 1min 24s (started: 2021-02-10 10:39:06 +09:00)\n"
     ]
    }
   ],
   "source": [
    "test_2 = test_1.copy()\n",
    "test_2['item_price'] = test_2.apply(update_price_2, axis=1)\n",
    "test_2"
   ]
  },
  {
   "cell_type": "code",
   "execution_count": null,
   "id": "included-closing",
   "metadata": {
    "id": "included-closing",
    "outputId": "7b65b90d-71d6-4045-d871-56e8be3ddd01"
   },
   "outputs": [
    {
     "data": {
      "text/plain": [
       "shop_id                 0\n",
       "item_id                 0\n",
       "date_block_num          0\n",
       "item_category_id        0\n",
       "item_price          24137\n",
       "dtype: int64"
      ]
     },
     "execution_count": 273,
     "metadata": {
      "tags": []
     },
     "output_type": "execute_result"
    },
    {
     "name": "stdout",
     "output_type": "stream",
     "text": [
      "time: 6.68 ms (started: 2021-02-10 10:41:00 +09:00)\n"
     ]
    }
   ],
   "source": [
    "np.sum(pd.isnull(test_2))"
   ]
  },
  {
   "cell_type": "code",
   "execution_count": null,
   "id": "exact-mumbai",
   "metadata": {
    "id": "exact-mumbai",
    "outputId": "6a4ccc64-9109-46bf-f904-b89de3e93635"
   },
   "outputs": [
    {
     "data": {
      "text/html": [
       "<div>\n",
       "<style scoped>\n",
       "    .dataframe tbody tr th:only-of-type {\n",
       "        vertical-align: middle;\n",
       "    }\n",
       "\n",
       "    .dataframe tbody tr th {\n",
       "        vertical-align: top;\n",
       "    }\n",
       "\n",
       "    .dataframe thead th {\n",
       "        text-align: right;\n",
       "    }\n",
       "</style>\n",
       "<table border=\"1\" class=\"dataframe\">\n",
       "  <thead>\n",
       "    <tr style=\"text-align: right;\">\n",
       "      <th></th>\n",
       "      <th>shop_id</th>\n",
       "      <th>item_id</th>\n",
       "      <th>date_block_num</th>\n",
       "      <th>item_category_id</th>\n",
       "      <th>item_price</th>\n",
       "    </tr>\n",
       "  </thead>\n",
       "  <tbody>\n",
       "    <tr>\n",
       "      <th>1</th>\n",
       "      <td>5</td>\n",
       "      <td>5320</td>\n",
       "      <td>34</td>\n",
       "      <td>55</td>\n",
       "      <td>5.61</td>\n",
       "    </tr>\n",
       "    <tr>\n",
       "      <th>4</th>\n",
       "      <td>5</td>\n",
       "      <td>5268</td>\n",
       "      <td>34</td>\n",
       "      <td>20</td>\n",
       "      <td>7.79</td>\n",
       "    </tr>\n",
       "    <tr>\n",
       "      <th>9</th>\n",
       "      <td>5</td>\n",
       "      <td>5003</td>\n",
       "      <td>34</td>\n",
       "      <td>20</td>\n",
       "      <td>7.79</td>\n",
       "    </tr>\n",
       "    <tr>\n",
       "      <th>16</th>\n",
       "      <td>5</td>\n",
       "      <td>4874</td>\n",
       "      <td>34</td>\n",
       "      <td>72</td>\n",
       "      <td>7.06</td>\n",
       "    </tr>\n",
       "    <tr>\n",
       "      <th>21</th>\n",
       "      <td>5</td>\n",
       "      <td>5002</td>\n",
       "      <td>34</td>\n",
       "      <td>19</td>\n",
       "      <td>7.08</td>\n",
       "    </tr>\n",
       "    <tr>\n",
       "      <th>...</th>\n",
       "      <td>...</td>\n",
       "      <td>...</td>\n",
       "      <td>...</td>\n",
       "      <td>...</td>\n",
       "      <td>...</td>\n",
       "    </tr>\n",
       "    <tr>\n",
       "      <th>214188</th>\n",
       "      <td>45</td>\n",
       "      <td>9500</td>\n",
       "      <td>34</td>\n",
       "      <td>40</td>\n",
       "      <td>5.40</td>\n",
       "    </tr>\n",
       "    <tr>\n",
       "      <th>214189</th>\n",
       "      <td>45</td>\n",
       "      <td>16007</td>\n",
       "      <td>34</td>\n",
       "      <td>64</td>\n",
       "      <td>6.88</td>\n",
       "    </tr>\n",
       "    <tr>\n",
       "      <th>214194</th>\n",
       "      <td>45</td>\n",
       "      <td>18027</td>\n",
       "      <td>34</td>\n",
       "      <td>70</td>\n",
       "      <td>5.72</td>\n",
       "    </tr>\n",
       "    <tr>\n",
       "      <th>214196</th>\n",
       "      <td>45</td>\n",
       "      <td>16188</td>\n",
       "      <td>34</td>\n",
       "      <td>64</td>\n",
       "      <td>6.88</td>\n",
       "    </tr>\n",
       "    <tr>\n",
       "      <th>214198</th>\n",
       "      <td>45</td>\n",
       "      <td>19648</td>\n",
       "      <td>34</td>\n",
       "      <td>40</td>\n",
       "      <td>5.40</td>\n",
       "    </tr>\n",
       "  </tbody>\n",
       "</table>\n",
       "<p>102796 rows × 5 columns</p>\n",
       "</div>"
      ],
      "text/plain": [
       "        shop_id  item_id  date_block_num  item_category_id  item_price\n",
       "1             5     5320              34                55        5.61\n",
       "4             5     5268              34                20        7.79\n",
       "9             5     5003              34                20        7.79\n",
       "16            5     4874              34                72        7.06\n",
       "21            5     5002              34                19        7.08\n",
       "...         ...      ...             ...               ...         ...\n",
       "214188       45     9500              34                40        5.40\n",
       "214189       45    16007              34                64        6.88\n",
       "214194       45    18027              34                70        5.72\n",
       "214196       45    16188              34                64        6.88\n",
       "214198       45    19648              34                40        5.40\n",
       "\n",
       "[102796 rows x 5 columns]"
      ]
     },
     "execution_count": 274,
     "metadata": {
      "tags": []
     },
     "output_type": "execute_result"
    },
    {
     "name": "stdout",
     "output_type": "stream",
     "text": [
      "time: 11.4 ms (started: 2021-02-10 10:41:02 +09:00)\n"
     ]
    }
   ],
   "source": [
    "test_1_nan_index = test_1['item_price'].isnull()\n",
    "test_2[test_1_nan_index]"
   ]
  },
  {
   "cell_type": "markdown",
   "id": "liberal-climate",
   "metadata": {
    "id": "liberal-climate"
   },
   "source": [
    "3. 같은 category의 price 평균"
   ]
  },
  {
   "cell_type": "code",
   "execution_count": null,
   "id": "senior-cattle",
   "metadata": {
    "id": "senior-cattle",
    "outputId": "fb25edc5-a666-42a0-e2e6-9a3dfece4a6e"
   },
   "outputs": [
    {
     "data": {
      "text/html": [
       "<div>\n",
       "<style scoped>\n",
       "    .dataframe tbody tr th:only-of-type {\n",
       "        vertical-align: middle;\n",
       "    }\n",
       "\n",
       "    .dataframe tbody tr th {\n",
       "        vertical-align: top;\n",
       "    }\n",
       "\n",
       "    .dataframe thead th {\n",
       "        text-align: right;\n",
       "    }\n",
       "</style>\n",
       "<table border=\"1\" class=\"dataframe\">\n",
       "  <thead>\n",
       "    <tr style=\"text-align: right;\">\n",
       "      <th></th>\n",
       "      <th>item_category_id</th>\n",
       "      <th>item_price</th>\n",
       "    </tr>\n",
       "  </thead>\n",
       "  <tbody>\n",
       "    <tr>\n",
       "      <th>0</th>\n",
       "      <td>0</td>\n",
       "      <td>4.23</td>\n",
       "    </tr>\n",
       "    <tr>\n",
       "      <th>1</th>\n",
       "      <td>1</td>\n",
       "      <td>5.33</td>\n",
       "    </tr>\n",
       "    <tr>\n",
       "      <th>2</th>\n",
       "      <td>2</td>\n",
       "      <td>7.59</td>\n",
       "    </tr>\n",
       "    <tr>\n",
       "      <th>3</th>\n",
       "      <td>3</td>\n",
       "      <td>7.33</td>\n",
       "    </tr>\n",
       "    <tr>\n",
       "      <th>4</th>\n",
       "      <td>4</td>\n",
       "      <td>5.92</td>\n",
       "    </tr>\n",
       "    <tr>\n",
       "      <th>...</th>\n",
       "      <td>...</td>\n",
       "      <td>...</td>\n",
       "    </tr>\n",
       "    <tr>\n",
       "      <th>79</th>\n",
       "      <td>79</td>\n",
       "      <td>6.70</td>\n",
       "    </tr>\n",
       "    <tr>\n",
       "      <th>80</th>\n",
       "      <td>80</td>\n",
       "      <td>7.06</td>\n",
       "    </tr>\n",
       "    <tr>\n",
       "      <th>81</th>\n",
       "      <td>81</td>\n",
       "      <td>5.27</td>\n",
       "    </tr>\n",
       "    <tr>\n",
       "      <th>82</th>\n",
       "      <td>82</td>\n",
       "      <td>3.44</td>\n",
       "    </tr>\n",
       "    <tr>\n",
       "      <th>83</th>\n",
       "      <td>83</td>\n",
       "      <td>4.65</td>\n",
       "    </tr>\n",
       "  </tbody>\n",
       "</table>\n",
       "<p>84 rows × 2 columns</p>\n",
       "</div>"
      ],
      "text/plain": [
       "    item_category_id  item_price\n",
       "0                  0        4.23\n",
       "1                  1        5.33\n",
       "2                  2        7.59\n",
       "3                  3        7.33\n",
       "4                  4        5.92\n",
       "..               ...         ...\n",
       "79                79        6.70\n",
       "80                80        7.06\n",
       "81                81        5.27\n",
       "82                82        3.44\n",
       "83                83        4.65\n",
       "\n",
       "[84 rows x 2 columns]"
      ]
     },
     "execution_count": 275,
     "metadata": {
      "tags": []
     },
     "output_type": "execute_result"
    },
    {
     "name": "stdout",
     "output_type": "stream",
     "text": [
      "time: 382 ms (started: 2021-02-10 10:41:07 +09:00)\n"
     ]
    }
   ],
   "source": [
    "price_candidate_3 = train_log.groupby(['item_category_id']).mean().reset_index().iloc[:, :6]\n",
    "price_candidate_3 = price_candidate_3.drop(['date_block_num', 'shop_id', 'item_id', 'item_cnt_day'], axis=1)\n",
    "price_candidate_3"
   ]
  },
  {
   "cell_type": "code",
   "execution_count": null,
   "id": "optimum-harvest",
   "metadata": {
    "id": "optimum-harvest",
    "outputId": "bc8b582c-8f81-4170-d743-b0c590691dd3"
   },
   "outputs": [
    {
     "name": "stdout",
     "output_type": "stream",
     "text": [
      "time: 448 µs (started: 2021-02-10 10:41:12 +09:00)\n"
     ]
    }
   ],
   "source": [
    "def update_price_3(x):\n",
    "    if pd.isna(x['item_price']):\n",
    "        search_res = price_candidate_3.loc[(price_candidate_3['item_category_id'] == x['item_category_id'])].values\n",
    "        if len(search_res) > 0: return search_res[0][1]\n",
    "    return x['item_price']"
   ]
  },
  {
   "cell_type": "code",
   "execution_count": null,
   "id": "played-intent",
   "metadata": {
    "id": "played-intent",
    "outputId": "40019f4a-e37b-4d17-9d90-3f3c4aa682f0"
   },
   "outputs": [
    {
     "data": {
      "text/html": [
       "<div>\n",
       "<style scoped>\n",
       "    .dataframe tbody tr th:only-of-type {\n",
       "        vertical-align: middle;\n",
       "    }\n",
       "\n",
       "    .dataframe tbody tr th {\n",
       "        vertical-align: top;\n",
       "    }\n",
       "\n",
       "    .dataframe thead th {\n",
       "        text-align: right;\n",
       "    }\n",
       "</style>\n",
       "<table border=\"1\" class=\"dataframe\">\n",
       "  <thead>\n",
       "    <tr style=\"text-align: right;\">\n",
       "      <th></th>\n",
       "      <th>shop_id</th>\n",
       "      <th>item_id</th>\n",
       "      <th>date_block_num</th>\n",
       "      <th>item_category_id</th>\n",
       "      <th>item_price</th>\n",
       "    </tr>\n",
       "  </thead>\n",
       "  <tbody>\n",
       "    <tr>\n",
       "      <th>0</th>\n",
       "      <td>5</td>\n",
       "      <td>5037</td>\n",
       "      <td>34</td>\n",
       "      <td>19</td>\n",
       "      <td>7.36</td>\n",
       "    </tr>\n",
       "    <tr>\n",
       "      <th>1</th>\n",
       "      <td>5</td>\n",
       "      <td>5320</td>\n",
       "      <td>34</td>\n",
       "      <td>55</td>\n",
       "      <td>5.61</td>\n",
       "    </tr>\n",
       "    <tr>\n",
       "      <th>2</th>\n",
       "      <td>5</td>\n",
       "      <td>5233</td>\n",
       "      <td>34</td>\n",
       "      <td>19</td>\n",
       "      <td>6.72</td>\n",
       "    </tr>\n",
       "    <tr>\n",
       "      <th>3</th>\n",
       "      <td>5</td>\n",
       "      <td>5232</td>\n",
       "      <td>34</td>\n",
       "      <td>23</td>\n",
       "      <td>6.40</td>\n",
       "    </tr>\n",
       "    <tr>\n",
       "      <th>4</th>\n",
       "      <td>5</td>\n",
       "      <td>5268</td>\n",
       "      <td>34</td>\n",
       "      <td>20</td>\n",
       "      <td>7.79</td>\n",
       "    </tr>\n",
       "    <tr>\n",
       "      <th>...</th>\n",
       "      <td>...</td>\n",
       "      <td>...</td>\n",
       "      <td>...</td>\n",
       "      <td>...</td>\n",
       "      <td>...</td>\n",
       "    </tr>\n",
       "    <tr>\n",
       "      <th>214195</th>\n",
       "      <td>45</td>\n",
       "      <td>18454</td>\n",
       "      <td>34</td>\n",
       "      <td>55</td>\n",
       "      <td>5.16</td>\n",
       "    </tr>\n",
       "    <tr>\n",
       "      <th>214196</th>\n",
       "      <td>45</td>\n",
       "      <td>16188</td>\n",
       "      <td>34</td>\n",
       "      <td>64</td>\n",
       "      <td>6.88</td>\n",
       "    </tr>\n",
       "    <tr>\n",
       "      <th>214197</th>\n",
       "      <td>45</td>\n",
       "      <td>15757</td>\n",
       "      <td>34</td>\n",
       "      <td>55</td>\n",
       "      <td>5.30</td>\n",
       "    </tr>\n",
       "    <tr>\n",
       "      <th>214198</th>\n",
       "      <td>45</td>\n",
       "      <td>19648</td>\n",
       "      <td>34</td>\n",
       "      <td>40</td>\n",
       "      <td>5.40</td>\n",
       "    </tr>\n",
       "    <tr>\n",
       "      <th>214199</th>\n",
       "      <td>45</td>\n",
       "      <td>969</td>\n",
       "      <td>34</td>\n",
       "      <td>37</td>\n",
       "      <td>6.31</td>\n",
       "    </tr>\n",
       "  </tbody>\n",
       "</table>\n",
       "<p>214200 rows × 5 columns</p>\n",
       "</div>"
      ],
      "text/plain": [
       "        shop_id  item_id  date_block_num  item_category_id  item_price\n",
       "0             5     5037              34                19        7.36\n",
       "1             5     5320              34                55        5.61\n",
       "2             5     5233              34                19        6.72\n",
       "3             5     5232              34                23        6.40\n",
       "4             5     5268              34                20        7.79\n",
       "...         ...      ...             ...               ...         ...\n",
       "214195       45    18454              34                55        5.16\n",
       "214196       45    16188              34                64        6.88\n",
       "214197       45    15757              34                55        5.30\n",
       "214198       45    19648              34                40        5.40\n",
       "214199       45      969              34                37        6.31\n",
       "\n",
       "[214200 rows x 5 columns]"
      ]
     },
     "execution_count": 277,
     "metadata": {
      "tags": []
     },
     "output_type": "execute_result"
    },
    {
     "name": "stdout",
     "output_type": "stream",
     "text": [
      "time: 17.1 s (started: 2021-02-10 10:41:13 +09:00)\n"
     ]
    }
   ],
   "source": [
    "test_3 = test_2.copy()\n",
    "test_3['item_price'] = test_3.apply(update_price_3, axis=1)\n",
    "test_3"
   ]
  },
  {
   "cell_type": "code",
   "execution_count": null,
   "id": "varied-fourth",
   "metadata": {
    "id": "varied-fourth",
    "outputId": "dc660ff3-0ef3-4ef7-87b9-780a75de23ff"
   },
   "outputs": [
    {
     "data": {
      "text/plain": [
       "shop_id             0\n",
       "item_id             0\n",
       "date_block_num      0\n",
       "item_category_id    0\n",
       "item_price          0\n",
       "dtype: int64"
      ]
     },
     "execution_count": 278,
     "metadata": {
      "tags": []
     },
     "output_type": "execute_result"
    },
    {
     "name": "stdout",
     "output_type": "stream",
     "text": [
      "time: 4.71 ms (started: 2021-02-10 10:41:30 +09:00)\n"
     ]
    }
   ],
   "source": [
    "np.sum(pd.isnull(test_3))"
   ]
  },
  {
   "cell_type": "code",
   "execution_count": null,
   "id": "realistic-swing",
   "metadata": {
    "id": "realistic-swing",
    "outputId": "934e5ed2-8377-4d4c-ea1f-4556bf29f1f6"
   },
   "outputs": [
    {
     "data": {
      "text/html": [
       "<div>\n",
       "<style scoped>\n",
       "    .dataframe tbody tr th:only-of-type {\n",
       "        vertical-align: middle;\n",
       "    }\n",
       "\n",
       "    .dataframe tbody tr th {\n",
       "        vertical-align: top;\n",
       "    }\n",
       "\n",
       "    .dataframe thead th {\n",
       "        text-align: right;\n",
       "    }\n",
       "</style>\n",
       "<table border=\"1\" class=\"dataframe\">\n",
       "  <thead>\n",
       "    <tr style=\"text-align: right;\">\n",
       "      <th></th>\n",
       "      <th>shop_id</th>\n",
       "      <th>item_id</th>\n",
       "      <th>date_block_num</th>\n",
       "      <th>item_category_id</th>\n",
       "      <th>item_price</th>\n",
       "    </tr>\n",
       "  </thead>\n",
       "  <tbody>\n",
       "    <tr>\n",
       "      <th>200</th>\n",
       "      <td>5</td>\n",
       "      <td>6731</td>\n",
       "      <td>34</td>\n",
       "      <td>31</td>\n",
       "      <td>5.47</td>\n",
       "    </tr>\n",
       "    <tr>\n",
       "      <th>550</th>\n",
       "      <td>5</td>\n",
       "      <td>3022</td>\n",
       "      <td>34</td>\n",
       "      <td>31</td>\n",
       "      <td>5.47</td>\n",
       "    </tr>\n",
       "    <tr>\n",
       "      <th>612</th>\n",
       "      <td>5</td>\n",
       "      <td>1884</td>\n",
       "      <td>34</td>\n",
       "      <td>31</td>\n",
       "      <td>5.47</td>\n",
       "    </tr>\n",
       "    <tr>\n",
       "      <th>613</th>\n",
       "      <td>5</td>\n",
       "      <td>1885</td>\n",
       "      <td>34</td>\n",
       "      <td>31</td>\n",
       "      <td>5.47</td>\n",
       "    </tr>\n",
       "    <tr>\n",
       "      <th>683</th>\n",
       "      <td>5</td>\n",
       "      <td>3349</td>\n",
       "      <td>34</td>\n",
       "      <td>31</td>\n",
       "      <td>5.47</td>\n",
       "    </tr>\n",
       "    <tr>\n",
       "      <th>...</th>\n",
       "      <td>...</td>\n",
       "      <td>...</td>\n",
       "      <td>...</td>\n",
       "      <td>...</td>\n",
       "      <td>...</td>\n",
       "    </tr>\n",
       "    <tr>\n",
       "      <th>213832</th>\n",
       "      <td>45</td>\n",
       "      <td>3219</td>\n",
       "      <td>34</td>\n",
       "      <td>76</td>\n",
       "      <td>7.16</td>\n",
       "    </tr>\n",
       "    <tr>\n",
       "      <th>213833</th>\n",
       "      <td>45</td>\n",
       "      <td>3002</td>\n",
       "      <td>34</td>\n",
       "      <td>76</td>\n",
       "      <td>7.16</td>\n",
       "    </tr>\n",
       "    <tr>\n",
       "      <th>213834</th>\n",
       "      <td>45</td>\n",
       "      <td>2987</td>\n",
       "      <td>34</td>\n",
       "      <td>76</td>\n",
       "      <td>7.16</td>\n",
       "    </tr>\n",
       "    <tr>\n",
       "      <th>213835</th>\n",
       "      <td>45</td>\n",
       "      <td>2944</td>\n",
       "      <td>34</td>\n",
       "      <td>31</td>\n",
       "      <td>5.47</td>\n",
       "    </tr>\n",
       "    <tr>\n",
       "      <th>214161</th>\n",
       "      <td>45</td>\n",
       "      <td>1867</td>\n",
       "      <td>34</td>\n",
       "      <td>31</td>\n",
       "      <td>5.47</td>\n",
       "    </tr>\n",
       "  </tbody>\n",
       "</table>\n",
       "<p>24137 rows × 5 columns</p>\n",
       "</div>"
      ],
      "text/plain": [
       "        shop_id  item_id  date_block_num  item_category_id  item_price\n",
       "200           5     6731              34                31        5.47\n",
       "550           5     3022              34                31        5.47\n",
       "612           5     1884              34                31        5.47\n",
       "613           5     1885              34                31        5.47\n",
       "683           5     3349              34                31        5.47\n",
       "...         ...      ...             ...               ...         ...\n",
       "213832       45     3219              34                76        7.16\n",
       "213833       45     3002              34                76        7.16\n",
       "213834       45     2987              34                76        7.16\n",
       "213835       45     2944              34                31        5.47\n",
       "214161       45     1867              34                31        5.47\n",
       "\n",
       "[24137 rows x 5 columns]"
      ]
     },
     "execution_count": 279,
     "metadata": {
      "tags": []
     },
     "output_type": "execute_result"
    },
    {
     "name": "stdout",
     "output_type": "stream",
     "text": [
      "time: 9.28 ms (started: 2021-02-10 10:41:30 +09:00)\n"
     ]
    }
   ],
   "source": [
    "test_2_nan_index = test_2['item_price'].isnull()\n",
    "test_3[test_2_nan_index]"
   ]
  },
  {
   "cell_type": "markdown",
   "id": "atmospheric-panel",
   "metadata": {
    "id": "atmospheric-panel"
   },
   "source": [
    "#### category name와 main_category 추가"
   ]
  },
  {
   "cell_type": "code",
   "execution_count": null,
   "id": "objective-charles",
   "metadata": {
    "id": "objective-charles",
    "outputId": "15c2392d-40fc-49e3-8ce3-45929caf1420"
   },
   "outputs": [
    {
     "data": {
      "text/html": [
       "<div>\n",
       "<style scoped>\n",
       "    .dataframe tbody tr th:only-of-type {\n",
       "        vertical-align: middle;\n",
       "    }\n",
       "\n",
       "    .dataframe tbody tr th {\n",
       "        vertical-align: top;\n",
       "    }\n",
       "\n",
       "    .dataframe thead th {\n",
       "        text-align: right;\n",
       "    }\n",
       "</style>\n",
       "<table border=\"1\" class=\"dataframe\">\n",
       "  <thead>\n",
       "    <tr style=\"text-align: right;\">\n",
       "      <th></th>\n",
       "      <th>shop_id</th>\n",
       "      <th>item_id</th>\n",
       "      <th>date_block_num</th>\n",
       "      <th>item_category_id</th>\n",
       "      <th>item_price</th>\n",
       "      <th>item_category_name_eng</th>\n",
       "    </tr>\n",
       "  </thead>\n",
       "  <tbody>\n",
       "    <tr>\n",
       "      <th>0</th>\n",
       "      <td>5</td>\n",
       "      <td>5037</td>\n",
       "      <td>34</td>\n",
       "      <td>19</td>\n",
       "      <td>7.36</td>\n",
       "      <td>Games - PS3</td>\n",
       "    </tr>\n",
       "    <tr>\n",
       "      <th>1</th>\n",
       "      <td>5</td>\n",
       "      <td>5320</td>\n",
       "      <td>34</td>\n",
       "      <td>55</td>\n",
       "      <td>5.61</td>\n",
       "      <td>Music - locally produced CD</td>\n",
       "    </tr>\n",
       "    <tr>\n",
       "      <th>2</th>\n",
       "      <td>5</td>\n",
       "      <td>5233</td>\n",
       "      <td>34</td>\n",
       "      <td>19</td>\n",
       "      <td>6.72</td>\n",
       "      <td>Games - PS3</td>\n",
       "    </tr>\n",
       "    <tr>\n",
       "      <th>3</th>\n",
       "      <td>5</td>\n",
       "      <td>5232</td>\n",
       "      <td>34</td>\n",
       "      <td>23</td>\n",
       "      <td>6.40</td>\n",
       "      <td>Games - XBOX 360</td>\n",
       "    </tr>\n",
       "    <tr>\n",
       "      <th>4</th>\n",
       "      <td>5</td>\n",
       "      <td>5268</td>\n",
       "      <td>34</td>\n",
       "      <td>20</td>\n",
       "      <td>7.79</td>\n",
       "      <td>Games - PS4</td>\n",
       "    </tr>\n",
       "    <tr>\n",
       "      <th>5</th>\n",
       "      <td>5</td>\n",
       "      <td>5039</td>\n",
       "      <td>34</td>\n",
       "      <td>23</td>\n",
       "      <td>7.47</td>\n",
       "      <td>Games - XBOX 360</td>\n",
       "    </tr>\n",
       "    <tr>\n",
       "      <th>6</th>\n",
       "      <td>5</td>\n",
       "      <td>5041</td>\n",
       "      <td>34</td>\n",
       "      <td>20</td>\n",
       "      <td>8.27</td>\n",
       "      <td>Games - PS4</td>\n",
       "    </tr>\n",
       "    <tr>\n",
       "      <th>7</th>\n",
       "      <td>5</td>\n",
       "      <td>5046</td>\n",
       "      <td>34</td>\n",
       "      <td>55</td>\n",
       "      <td>5.78</td>\n",
       "      <td>Music - locally produced CD</td>\n",
       "    </tr>\n",
       "    <tr>\n",
       "      <th>8</th>\n",
       "      <td>5</td>\n",
       "      <td>5319</td>\n",
       "      <td>34</td>\n",
       "      <td>55</td>\n",
       "      <td>5.70</td>\n",
       "      <td>Music - locally produced CD</td>\n",
       "    </tr>\n",
       "    <tr>\n",
       "      <th>9</th>\n",
       "      <td>5</td>\n",
       "      <td>5003</td>\n",
       "      <td>34</td>\n",
       "      <td>20</td>\n",
       "      <td>7.79</td>\n",
       "      <td>Games - PS4</td>\n",
       "    </tr>\n",
       "  </tbody>\n",
       "</table>\n",
       "</div>"
      ],
      "text/plain": [
       "   shop_id  item_id  date_block_num  item_category_id  item_price  \\\n",
       "0        5     5037              34                19        7.36   \n",
       "1        5     5320              34                55        5.61   \n",
       "2        5     5233              34                19        6.72   \n",
       "3        5     5232              34                23        6.40   \n",
       "4        5     5268              34                20        7.79   \n",
       "5        5     5039              34                23        7.47   \n",
       "6        5     5041              34                20        8.27   \n",
       "7        5     5046              34                55        5.78   \n",
       "8        5     5319              34                55        5.70   \n",
       "9        5     5003              34                20        7.79   \n",
       "\n",
       "        item_category_name_eng  \n",
       "0                  Games - PS3  \n",
       "1  Music - locally produced CD  \n",
       "2                  Games - PS3  \n",
       "3             Games - XBOX 360  \n",
       "4                  Games - PS4  \n",
       "5             Games - XBOX 360  \n",
       "6                  Games - PS4  \n",
       "7  Music - locally produced CD  \n",
       "8  Music - locally produced CD  \n",
       "9                  Games - PS4  "
      ]
     },
     "execution_count": 280,
     "metadata": {
      "tags": []
     },
     "output_type": "execute_result"
    },
    {
     "name": "stdout",
     "output_type": "stream",
     "text": [
      "time: 41.6 ms (started: 2021-02-10 10:42:52 +09:00)\n"
     ]
    }
   ],
   "source": [
    "test_merged = pd.merge(test_3, item_categories_eng, left_on='item_category_id', right_on='item_category_id', how='left')\n",
    "test_merged = test_merged.drop(['item_category_name'], axis=1)\n",
    "test_merged.head(10)"
   ]
  },
  {
   "cell_type": "code",
   "execution_count": null,
   "id": "continued-groove",
   "metadata": {
    "id": "continued-groove",
    "outputId": "51d4c791-43e0-4952-8b2e-9a164300cf7a"
   },
   "outputs": [
    {
     "data": {
      "text/html": [
       "<div>\n",
       "<style scoped>\n",
       "    .dataframe tbody tr th:only-of-type {\n",
       "        vertical-align: middle;\n",
       "    }\n",
       "\n",
       "    .dataframe tbody tr th {\n",
       "        vertical-align: top;\n",
       "    }\n",
       "\n",
       "    .dataframe thead th {\n",
       "        text-align: right;\n",
       "    }\n",
       "</style>\n",
       "<table border=\"1\" class=\"dataframe\">\n",
       "  <thead>\n",
       "    <tr style=\"text-align: right;\">\n",
       "      <th></th>\n",
       "      <th>shop_id</th>\n",
       "      <th>item_id</th>\n",
       "      <th>date_block_num</th>\n",
       "      <th>item_category_id</th>\n",
       "      <th>item_price</th>\n",
       "      <th>item_category_name_eng</th>\n",
       "    </tr>\n",
       "  </thead>\n",
       "  <tbody>\n",
       "  </tbody>\n",
       "</table>\n",
       "</div>"
      ],
      "text/plain": [
       "Empty DataFrame\n",
       "Columns: [shop_id, item_id, date_block_num, item_category_id, item_price, item_category_name_eng]\n",
       "Index: []"
      ]
     },
     "execution_count": 281,
     "metadata": {
      "tags": []
     },
     "output_type": "execute_result"
    },
    {
     "name": "stdout",
     "output_type": "stream",
     "text": [
      "time: 49.6 ms (started: 2021-02-10 10:42:58 +09:00)\n"
     ]
    }
   ],
   "source": [
    "test_merged.loc[(test_merged['item_category_name_eng']=='Service - Tickets'), 'item_category_name_eng'] = \"Service_Tickets\"\n",
    "test_merged[test_merged['item_category_name_eng']=='Service_Tickets']"
   ]
  },
  {
   "cell_type": "code",
   "execution_count": null,
   "id": "effective-cleveland",
   "metadata": {
    "id": "effective-cleveland",
    "outputId": "171b9f40-9dd8-4a07-c5db-457dfb6671f4"
   },
   "outputs": [
    {
     "data": {
      "text/html": [
       "<div>\n",
       "<style scoped>\n",
       "    .dataframe tbody tr th:only-of-type {\n",
       "        vertical-align: middle;\n",
       "    }\n",
       "\n",
       "    .dataframe tbody tr th {\n",
       "        vertical-align: top;\n",
       "    }\n",
       "\n",
       "    .dataframe thead th {\n",
       "        text-align: right;\n",
       "    }\n",
       "</style>\n",
       "<table border=\"1\" class=\"dataframe\">\n",
       "  <thead>\n",
       "    <tr style=\"text-align: right;\">\n",
       "      <th></th>\n",
       "      <th>shop_id</th>\n",
       "      <th>item_id</th>\n",
       "      <th>date_block_num</th>\n",
       "      <th>item_category_id</th>\n",
       "      <th>item_price</th>\n",
       "      <th>main_category_name</th>\n",
       "    </tr>\n",
       "  </thead>\n",
       "  <tbody>\n",
       "    <tr>\n",
       "      <th>0</th>\n",
       "      <td>5</td>\n",
       "      <td>5037</td>\n",
       "      <td>34</td>\n",
       "      <td>19</td>\n",
       "      <td>7.36</td>\n",
       "      <td>Games</td>\n",
       "    </tr>\n",
       "    <tr>\n",
       "      <th>1</th>\n",
       "      <td>5</td>\n",
       "      <td>5320</td>\n",
       "      <td>34</td>\n",
       "      <td>55</td>\n",
       "      <td>5.61</td>\n",
       "      <td>Music</td>\n",
       "    </tr>\n",
       "    <tr>\n",
       "      <th>2</th>\n",
       "      <td>5</td>\n",
       "      <td>5233</td>\n",
       "      <td>34</td>\n",
       "      <td>19</td>\n",
       "      <td>6.72</td>\n",
       "      <td>Games</td>\n",
       "    </tr>\n",
       "    <tr>\n",
       "      <th>3</th>\n",
       "      <td>5</td>\n",
       "      <td>5232</td>\n",
       "      <td>34</td>\n",
       "      <td>23</td>\n",
       "      <td>6.40</td>\n",
       "      <td>Games</td>\n",
       "    </tr>\n",
       "    <tr>\n",
       "      <th>4</th>\n",
       "      <td>5</td>\n",
       "      <td>5268</td>\n",
       "      <td>34</td>\n",
       "      <td>20</td>\n",
       "      <td>7.79</td>\n",
       "      <td>Games</td>\n",
       "    </tr>\n",
       "    <tr>\n",
       "      <th>5</th>\n",
       "      <td>5</td>\n",
       "      <td>5039</td>\n",
       "      <td>34</td>\n",
       "      <td>23</td>\n",
       "      <td>7.47</td>\n",
       "      <td>Games</td>\n",
       "    </tr>\n",
       "    <tr>\n",
       "      <th>6</th>\n",
       "      <td>5</td>\n",
       "      <td>5041</td>\n",
       "      <td>34</td>\n",
       "      <td>20</td>\n",
       "      <td>8.27</td>\n",
       "      <td>Games</td>\n",
       "    </tr>\n",
       "    <tr>\n",
       "      <th>7</th>\n",
       "      <td>5</td>\n",
       "      <td>5046</td>\n",
       "      <td>34</td>\n",
       "      <td>55</td>\n",
       "      <td>5.78</td>\n",
       "      <td>Music</td>\n",
       "    </tr>\n",
       "    <tr>\n",
       "      <th>8</th>\n",
       "      <td>5</td>\n",
       "      <td>5319</td>\n",
       "      <td>34</td>\n",
       "      <td>55</td>\n",
       "      <td>5.70</td>\n",
       "      <td>Music</td>\n",
       "    </tr>\n",
       "    <tr>\n",
       "      <th>9</th>\n",
       "      <td>5</td>\n",
       "      <td>5003</td>\n",
       "      <td>34</td>\n",
       "      <td>20</td>\n",
       "      <td>7.79</td>\n",
       "      <td>Games</td>\n",
       "    </tr>\n",
       "  </tbody>\n",
       "</table>\n",
       "</div>"
      ],
      "text/plain": [
       "   shop_id  item_id  date_block_num  item_category_id  item_price  \\\n",
       "0        5     5037              34                19        7.36   \n",
       "1        5     5320              34                55        5.61   \n",
       "2        5     5233              34                19        6.72   \n",
       "3        5     5232              34                23        6.40   \n",
       "4        5     5268              34                20        7.79   \n",
       "5        5     5039              34                23        7.47   \n",
       "6        5     5041              34                20        8.27   \n",
       "7        5     5046              34                55        5.78   \n",
       "8        5     5319              34                55        5.70   \n",
       "9        5     5003              34                20        7.79   \n",
       "\n",
       "  main_category_name  \n",
       "0             Games   \n",
       "1             Music   \n",
       "2             Games   \n",
       "3             Games   \n",
       "4             Games   \n",
       "5             Games   \n",
       "6             Games   \n",
       "7             Music   \n",
       "8             Music   \n",
       "9             Games   "
      ]
     },
     "execution_count": 282,
     "metadata": {
      "tags": []
     },
     "output_type": "execute_result"
    },
    {
     "name": "stdout",
     "output_type": "stream",
     "text": [
      "time: 488 ms (started: 2021-02-10 10:43:02 +09:00)\n"
     ]
    }
   ],
   "source": [
    "test_merged['main_category_name'] = test_merged.item_category_name_eng.str.split('-').str[0]\n",
    "test_merged = test_merged.drop(['item_category_name_eng'], axis=1)\n",
    "test_merged.head(10)"
   ]
  },
  {
   "cell_type": "code",
   "execution_count": null,
   "id": "thrown-consequence",
   "metadata": {
    "id": "thrown-consequence",
    "outputId": "7da82ab5-3cf1-41da-d723-e61cc013e0bd"
   },
   "outputs": [
    {
     "data": {
      "text/plain": [
       "array(['Games', 'Music', 'PCGames', 'Gifts', 'Paymentcards',\n",
       "       'Accessories', 'Movie', 'Cinema', 'Books', 'Gameconsoles',\n",
       "       'Service', 'Programs', 'Batteries', 'Deliveryofgoods', 'PC',\n",
       "       'PaymentCards', 'MACGames', 'AndroidGames'], dtype=object)"
      ]
     },
     "execution_count": 283,
     "metadata": {
      "tags": []
     },
     "output_type": "execute_result"
    },
    {
     "name": "stdout",
     "output_type": "stream",
     "text": [
      "time: 581 ms (started: 2021-02-10 10:43:39 +09:00)\n"
     ]
    }
   ],
   "source": [
    "test_merged['main_category_name'] = test_merged['main_category_name'].str.replace(r' +', '')\n",
    "test_merged['main_category_name'] = test_merged['main_category_name'].str.replace(r'(', '_')\n",
    "test_merged['main_category_name'] = test_merged['main_category_name'].str.replace(r')', '')\n",
    "test_merged['main_category_name'] = test_merged['main_category_name'].str.replace(r',', '_')\n",
    "test_merged.main_category_name.unique()"
   ]
  },
  {
   "cell_type": "code",
   "execution_count": null,
   "id": "proved-newman",
   "metadata": {
    "id": "proved-newman",
    "outputId": "e45171a3-3e45-4fb3-f07d-42d5902839bd"
   },
   "outputs": [
    {
     "data": {
      "text/html": [
       "<div>\n",
       "<style scoped>\n",
       "    .dataframe tbody tr th:only-of-type {\n",
       "        vertical-align: middle;\n",
       "    }\n",
       "\n",
       "    .dataframe tbody tr th {\n",
       "        vertical-align: top;\n",
       "    }\n",
       "\n",
       "    .dataframe thead th {\n",
       "        text-align: right;\n",
       "    }\n",
       "</style>\n",
       "<table border=\"1\" class=\"dataframe\">\n",
       "  <thead>\n",
       "    <tr style=\"text-align: right;\">\n",
       "      <th></th>\n",
       "      <th>shop_id</th>\n",
       "      <th>item_id</th>\n",
       "      <th>date_block_num</th>\n",
       "      <th>item_category_id</th>\n",
       "      <th>item_price</th>\n",
       "      <th>main_category_name</th>\n",
       "      <th>main_category_Accessories</th>\n",
       "      <th>main_category_AndroidGames</th>\n",
       "      <th>main_category_Batteries</th>\n",
       "      <th>main_category_Books</th>\n",
       "      <th>...</th>\n",
       "      <th>main_category_Gifts</th>\n",
       "      <th>main_category_MACGames</th>\n",
       "      <th>main_category_Movie</th>\n",
       "      <th>main_category_Music</th>\n",
       "      <th>main_category_PC</th>\n",
       "      <th>main_category_PCGames</th>\n",
       "      <th>main_category_PaymentCards</th>\n",
       "      <th>main_category_Paymentcards</th>\n",
       "      <th>main_category_Programs</th>\n",
       "      <th>main_category_Service</th>\n",
       "    </tr>\n",
       "  </thead>\n",
       "  <tbody>\n",
       "    <tr>\n",
       "      <th>0</th>\n",
       "      <td>5</td>\n",
       "      <td>5037</td>\n",
       "      <td>34</td>\n",
       "      <td>19</td>\n",
       "      <td>7.36</td>\n",
       "      <td>Games</td>\n",
       "      <td>0</td>\n",
       "      <td>0</td>\n",
       "      <td>0</td>\n",
       "      <td>0</td>\n",
       "      <td>...</td>\n",
       "      <td>0</td>\n",
       "      <td>0</td>\n",
       "      <td>0</td>\n",
       "      <td>0</td>\n",
       "      <td>0</td>\n",
       "      <td>0</td>\n",
       "      <td>0</td>\n",
       "      <td>0</td>\n",
       "      <td>0</td>\n",
       "      <td>0</td>\n",
       "    </tr>\n",
       "    <tr>\n",
       "      <th>1</th>\n",
       "      <td>5</td>\n",
       "      <td>5320</td>\n",
       "      <td>34</td>\n",
       "      <td>55</td>\n",
       "      <td>5.61</td>\n",
       "      <td>Music</td>\n",
       "      <td>0</td>\n",
       "      <td>0</td>\n",
       "      <td>0</td>\n",
       "      <td>0</td>\n",
       "      <td>...</td>\n",
       "      <td>0</td>\n",
       "      <td>0</td>\n",
       "      <td>0</td>\n",
       "      <td>1</td>\n",
       "      <td>0</td>\n",
       "      <td>0</td>\n",
       "      <td>0</td>\n",
       "      <td>0</td>\n",
       "      <td>0</td>\n",
       "      <td>0</td>\n",
       "    </tr>\n",
       "    <tr>\n",
       "      <th>2</th>\n",
       "      <td>5</td>\n",
       "      <td>5233</td>\n",
       "      <td>34</td>\n",
       "      <td>19</td>\n",
       "      <td>6.72</td>\n",
       "      <td>Games</td>\n",
       "      <td>0</td>\n",
       "      <td>0</td>\n",
       "      <td>0</td>\n",
       "      <td>0</td>\n",
       "      <td>...</td>\n",
       "      <td>0</td>\n",
       "      <td>0</td>\n",
       "      <td>0</td>\n",
       "      <td>0</td>\n",
       "      <td>0</td>\n",
       "      <td>0</td>\n",
       "      <td>0</td>\n",
       "      <td>0</td>\n",
       "      <td>0</td>\n",
       "      <td>0</td>\n",
       "    </tr>\n",
       "    <tr>\n",
       "      <th>3</th>\n",
       "      <td>5</td>\n",
       "      <td>5232</td>\n",
       "      <td>34</td>\n",
       "      <td>23</td>\n",
       "      <td>6.40</td>\n",
       "      <td>Games</td>\n",
       "      <td>0</td>\n",
       "      <td>0</td>\n",
       "      <td>0</td>\n",
       "      <td>0</td>\n",
       "      <td>...</td>\n",
       "      <td>0</td>\n",
       "      <td>0</td>\n",
       "      <td>0</td>\n",
       "      <td>0</td>\n",
       "      <td>0</td>\n",
       "      <td>0</td>\n",
       "      <td>0</td>\n",
       "      <td>0</td>\n",
       "      <td>0</td>\n",
       "      <td>0</td>\n",
       "    </tr>\n",
       "    <tr>\n",
       "      <th>4</th>\n",
       "      <td>5</td>\n",
       "      <td>5268</td>\n",
       "      <td>34</td>\n",
       "      <td>20</td>\n",
       "      <td>7.79</td>\n",
       "      <td>Games</td>\n",
       "      <td>0</td>\n",
       "      <td>0</td>\n",
       "      <td>0</td>\n",
       "      <td>0</td>\n",
       "      <td>...</td>\n",
       "      <td>0</td>\n",
       "      <td>0</td>\n",
       "      <td>0</td>\n",
       "      <td>0</td>\n",
       "      <td>0</td>\n",
       "      <td>0</td>\n",
       "      <td>0</td>\n",
       "      <td>0</td>\n",
       "      <td>0</td>\n",
       "      <td>0</td>\n",
       "    </tr>\n",
       "    <tr>\n",
       "      <th>...</th>\n",
       "      <td>...</td>\n",
       "      <td>...</td>\n",
       "      <td>...</td>\n",
       "      <td>...</td>\n",
       "      <td>...</td>\n",
       "      <td>...</td>\n",
       "      <td>...</td>\n",
       "      <td>...</td>\n",
       "      <td>...</td>\n",
       "      <td>...</td>\n",
       "      <td>...</td>\n",
       "      <td>...</td>\n",
       "      <td>...</td>\n",
       "      <td>...</td>\n",
       "      <td>...</td>\n",
       "      <td>...</td>\n",
       "      <td>...</td>\n",
       "      <td>...</td>\n",
       "      <td>...</td>\n",
       "      <td>...</td>\n",
       "      <td>...</td>\n",
       "    </tr>\n",
       "    <tr>\n",
       "      <th>214195</th>\n",
       "      <td>45</td>\n",
       "      <td>18454</td>\n",
       "      <td>34</td>\n",
       "      <td>55</td>\n",
       "      <td>5.16</td>\n",
       "      <td>Music</td>\n",
       "      <td>0</td>\n",
       "      <td>0</td>\n",
       "      <td>0</td>\n",
       "      <td>0</td>\n",
       "      <td>...</td>\n",
       "      <td>0</td>\n",
       "      <td>0</td>\n",
       "      <td>0</td>\n",
       "      <td>1</td>\n",
       "      <td>0</td>\n",
       "      <td>0</td>\n",
       "      <td>0</td>\n",
       "      <td>0</td>\n",
       "      <td>0</td>\n",
       "      <td>0</td>\n",
       "    </tr>\n",
       "    <tr>\n",
       "      <th>214196</th>\n",
       "      <td>45</td>\n",
       "      <td>16188</td>\n",
       "      <td>34</td>\n",
       "      <td>64</td>\n",
       "      <td>6.88</td>\n",
       "      <td>Gifts</td>\n",
       "      <td>0</td>\n",
       "      <td>0</td>\n",
       "      <td>0</td>\n",
       "      <td>0</td>\n",
       "      <td>...</td>\n",
       "      <td>1</td>\n",
       "      <td>0</td>\n",
       "      <td>0</td>\n",
       "      <td>0</td>\n",
       "      <td>0</td>\n",
       "      <td>0</td>\n",
       "      <td>0</td>\n",
       "      <td>0</td>\n",
       "      <td>0</td>\n",
       "      <td>0</td>\n",
       "    </tr>\n",
       "    <tr>\n",
       "      <th>214197</th>\n",
       "      <td>45</td>\n",
       "      <td>15757</td>\n",
       "      <td>34</td>\n",
       "      <td>55</td>\n",
       "      <td>5.30</td>\n",
       "      <td>Music</td>\n",
       "      <td>0</td>\n",
       "      <td>0</td>\n",
       "      <td>0</td>\n",
       "      <td>0</td>\n",
       "      <td>...</td>\n",
       "      <td>0</td>\n",
       "      <td>0</td>\n",
       "      <td>0</td>\n",
       "      <td>1</td>\n",
       "      <td>0</td>\n",
       "      <td>0</td>\n",
       "      <td>0</td>\n",
       "      <td>0</td>\n",
       "      <td>0</td>\n",
       "      <td>0</td>\n",
       "    </tr>\n",
       "    <tr>\n",
       "      <th>214198</th>\n",
       "      <td>45</td>\n",
       "      <td>19648</td>\n",
       "      <td>34</td>\n",
       "      <td>40</td>\n",
       "      <td>5.40</td>\n",
       "      <td>Movie</td>\n",
       "      <td>0</td>\n",
       "      <td>0</td>\n",
       "      <td>0</td>\n",
       "      <td>0</td>\n",
       "      <td>...</td>\n",
       "      <td>0</td>\n",
       "      <td>0</td>\n",
       "      <td>1</td>\n",
       "      <td>0</td>\n",
       "      <td>0</td>\n",
       "      <td>0</td>\n",
       "      <td>0</td>\n",
       "      <td>0</td>\n",
       "      <td>0</td>\n",
       "      <td>0</td>\n",
       "    </tr>\n",
       "    <tr>\n",
       "      <th>214199</th>\n",
       "      <td>45</td>\n",
       "      <td>969</td>\n",
       "      <td>34</td>\n",
       "      <td>37</td>\n",
       "      <td>6.31</td>\n",
       "      <td>Cinema</td>\n",
       "      <td>0</td>\n",
       "      <td>0</td>\n",
       "      <td>0</td>\n",
       "      <td>0</td>\n",
       "      <td>...</td>\n",
       "      <td>0</td>\n",
       "      <td>0</td>\n",
       "      <td>0</td>\n",
       "      <td>0</td>\n",
       "      <td>0</td>\n",
       "      <td>0</td>\n",
       "      <td>0</td>\n",
       "      <td>0</td>\n",
       "      <td>0</td>\n",
       "      <td>0</td>\n",
       "    </tr>\n",
       "  </tbody>\n",
       "</table>\n",
       "<p>214200 rows × 24 columns</p>\n",
       "</div>"
      ],
      "text/plain": [
       "        shop_id  item_id  date_block_num  item_category_id  item_price  \\\n",
       "0             5     5037              34                19        7.36   \n",
       "1             5     5320              34                55        5.61   \n",
       "2             5     5233              34                19        6.72   \n",
       "3             5     5232              34                23        6.40   \n",
       "4             5     5268              34                20        7.79   \n",
       "...         ...      ...             ...               ...         ...   \n",
       "214195       45    18454              34                55        5.16   \n",
       "214196       45    16188              34                64        6.88   \n",
       "214197       45    15757              34                55        5.30   \n",
       "214198       45    19648              34                40        5.40   \n",
       "214199       45      969              34                37        6.31   \n",
       "\n",
       "       main_category_name  main_category_Accessories  \\\n",
       "0                   Games                          0   \n",
       "1                   Music                          0   \n",
       "2                   Games                          0   \n",
       "3                   Games                          0   \n",
       "4                   Games                          0   \n",
       "...                   ...                        ...   \n",
       "214195              Music                          0   \n",
       "214196              Gifts                          0   \n",
       "214197              Music                          0   \n",
       "214198              Movie                          0   \n",
       "214199             Cinema                          0   \n",
       "\n",
       "        main_category_AndroidGames  main_category_Batteries  \\\n",
       "0                                0                        0   \n",
       "1                                0                        0   \n",
       "2                                0                        0   \n",
       "3                                0                        0   \n",
       "4                                0                        0   \n",
       "...                            ...                      ...   \n",
       "214195                           0                        0   \n",
       "214196                           0                        0   \n",
       "214197                           0                        0   \n",
       "214198                           0                        0   \n",
       "214199                           0                        0   \n",
       "\n",
       "        main_category_Books  ...  main_category_Gifts  main_category_MACGames  \\\n",
       "0                         0  ...                    0                       0   \n",
       "1                         0  ...                    0                       0   \n",
       "2                         0  ...                    0                       0   \n",
       "3                         0  ...                    0                       0   \n",
       "4                         0  ...                    0                       0   \n",
       "...                     ...  ...                  ...                     ...   \n",
       "214195                    0  ...                    0                       0   \n",
       "214196                    0  ...                    1                       0   \n",
       "214197                    0  ...                    0                       0   \n",
       "214198                    0  ...                    0                       0   \n",
       "214199                    0  ...                    0                       0   \n",
       "\n",
       "        main_category_Movie  main_category_Music  main_category_PC  \\\n",
       "0                         0                    0                 0   \n",
       "1                         0                    1                 0   \n",
       "2                         0                    0                 0   \n",
       "3                         0                    0                 0   \n",
       "4                         0                    0                 0   \n",
       "...                     ...                  ...               ...   \n",
       "214195                    0                    1                 0   \n",
       "214196                    0                    0                 0   \n",
       "214197                    0                    1                 0   \n",
       "214198                    1                    0                 0   \n",
       "214199                    0                    0                 0   \n",
       "\n",
       "        main_category_PCGames  main_category_PaymentCards  \\\n",
       "0                           0                           0   \n",
       "1                           0                           0   \n",
       "2                           0                           0   \n",
       "3                           0                           0   \n",
       "4                           0                           0   \n",
       "...                       ...                         ...   \n",
       "214195                      0                           0   \n",
       "214196                      0                           0   \n",
       "214197                      0                           0   \n",
       "214198                      0                           0   \n",
       "214199                      0                           0   \n",
       "\n",
       "        main_category_Paymentcards  main_category_Programs  \\\n",
       "0                                0                       0   \n",
       "1                                0                       0   \n",
       "2                                0                       0   \n",
       "3                                0                       0   \n",
       "4                                0                       0   \n",
       "...                            ...                     ...   \n",
       "214195                           0                       0   \n",
       "214196                           0                       0   \n",
       "214197                           0                       0   \n",
       "214198                           0                       0   \n",
       "214199                           0                       0   \n",
       "\n",
       "        main_category_Service  \n",
       "0                           0  \n",
       "1                           0  \n",
       "2                           0  \n",
       "3                           0  \n",
       "4                           0  \n",
       "...                       ...  \n",
       "214195                      0  \n",
       "214196                      0  \n",
       "214197                      0  \n",
       "214198                      0  \n",
       "214199                      0  \n",
       "\n",
       "[214200 rows x 24 columns]"
      ]
     },
     "execution_count": 284,
     "metadata": {
      "tags": []
     },
     "output_type": "execute_result"
    },
    {
     "name": "stdout",
     "output_type": "stream",
     "text": [
      "time: 106 ms (started: 2021-02-10 10:45:17 +09:00)\n"
     ]
    }
   ],
   "source": [
    "test_merged = pd.concat([test_merged, pd.get_dummies(test_merged['main_category_name'], prefix=\"main_category\")],axis=1)\n",
    "test_merged"
   ]
  },
  {
   "cell_type": "code",
   "execution_count": null,
   "id": "creative-short",
   "metadata": {
    "id": "creative-short",
    "outputId": "32ce1163-a1ed-4f29-b000-8b5897582167"
   },
   "outputs": [
    {
     "name": "stdout",
     "output_type": "stream",
     "text": [
      "time: 8.22 ms (started: 2021-02-10 10:46:54 +09:00)\n"
     ]
    }
   ],
   "source": [
    "main_category_list = train_log.columns[6:]\n",
    "\n",
    "columns = test_merged.columns\n",
    "for c in main_category_list:\n",
    "    if c not in columns: test_merged[c] = 0"
   ]
  },
  {
   "cell_type": "code",
   "execution_count": null,
   "id": "least-midwest",
   "metadata": {
    "id": "least-midwest",
    "outputId": "3f9ad81b-8e1c-4dac-ceee-9e741ae00a50"
   },
   "outputs": [
    {
     "data": {
      "text/html": [
       "<div>\n",
       "<style scoped>\n",
       "    .dataframe tbody tr th:only-of-type {\n",
       "        vertical-align: middle;\n",
       "    }\n",
       "\n",
       "    .dataframe tbody tr th {\n",
       "        vertical-align: top;\n",
       "    }\n",
       "\n",
       "    .dataframe thead th {\n",
       "        text-align: right;\n",
       "    }\n",
       "</style>\n",
       "<table border=\"1\" class=\"dataframe\">\n",
       "  <thead>\n",
       "    <tr style=\"text-align: right;\">\n",
       "      <th></th>\n",
       "      <th>shop_id</th>\n",
       "      <th>item_id</th>\n",
       "      <th>date_block_num</th>\n",
       "      <th>item_category_id</th>\n",
       "      <th>item_price</th>\n",
       "      <th>main_category_Accessories</th>\n",
       "      <th>main_category_AndroidGames</th>\n",
       "      <th>main_category_Batteries</th>\n",
       "      <th>main_category_Books</th>\n",
       "      <th>main_category_Cinema</th>\n",
       "      <th>...</th>\n",
       "      <th>main_category_PaymentCards</th>\n",
       "      <th>main_category_Paymentcards</th>\n",
       "      <th>main_category_Programs</th>\n",
       "      <th>main_category_Service</th>\n",
       "      <th>main_category_Blankmedia_piece</th>\n",
       "      <th>main_category_Blankmedia_spire</th>\n",
       "      <th>main_category_GameConsoles</th>\n",
       "      <th>main_category_Paymentcards_Cinema_Music_Games</th>\n",
       "      <th>main_category_Service_Tickets</th>\n",
       "      <th>main_category_Tickets_Number</th>\n",
       "    </tr>\n",
       "  </thead>\n",
       "  <tbody>\n",
       "    <tr>\n",
       "      <th>0</th>\n",
       "      <td>5</td>\n",
       "      <td>5037</td>\n",
       "      <td>34</td>\n",
       "      <td>19</td>\n",
       "      <td>7.36</td>\n",
       "      <td>0</td>\n",
       "      <td>0</td>\n",
       "      <td>0</td>\n",
       "      <td>0</td>\n",
       "      <td>0</td>\n",
       "      <td>...</td>\n",
       "      <td>0</td>\n",
       "      <td>0</td>\n",
       "      <td>0</td>\n",
       "      <td>0</td>\n",
       "      <td>0</td>\n",
       "      <td>0</td>\n",
       "      <td>0</td>\n",
       "      <td>0</td>\n",
       "      <td>0</td>\n",
       "      <td>0</td>\n",
       "    </tr>\n",
       "    <tr>\n",
       "      <th>1</th>\n",
       "      <td>5</td>\n",
       "      <td>5320</td>\n",
       "      <td>34</td>\n",
       "      <td>55</td>\n",
       "      <td>5.61</td>\n",
       "      <td>0</td>\n",
       "      <td>0</td>\n",
       "      <td>0</td>\n",
       "      <td>0</td>\n",
       "      <td>0</td>\n",
       "      <td>...</td>\n",
       "      <td>0</td>\n",
       "      <td>0</td>\n",
       "      <td>0</td>\n",
       "      <td>0</td>\n",
       "      <td>0</td>\n",
       "      <td>0</td>\n",
       "      <td>0</td>\n",
       "      <td>0</td>\n",
       "      <td>0</td>\n",
       "      <td>0</td>\n",
       "    </tr>\n",
       "    <tr>\n",
       "      <th>2</th>\n",
       "      <td>5</td>\n",
       "      <td>5233</td>\n",
       "      <td>34</td>\n",
       "      <td>19</td>\n",
       "      <td>6.72</td>\n",
       "      <td>0</td>\n",
       "      <td>0</td>\n",
       "      <td>0</td>\n",
       "      <td>0</td>\n",
       "      <td>0</td>\n",
       "      <td>...</td>\n",
       "      <td>0</td>\n",
       "      <td>0</td>\n",
       "      <td>0</td>\n",
       "      <td>0</td>\n",
       "      <td>0</td>\n",
       "      <td>0</td>\n",
       "      <td>0</td>\n",
       "      <td>0</td>\n",
       "      <td>0</td>\n",
       "      <td>0</td>\n",
       "    </tr>\n",
       "    <tr>\n",
       "      <th>3</th>\n",
       "      <td>5</td>\n",
       "      <td>5232</td>\n",
       "      <td>34</td>\n",
       "      <td>23</td>\n",
       "      <td>6.40</td>\n",
       "      <td>0</td>\n",
       "      <td>0</td>\n",
       "      <td>0</td>\n",
       "      <td>0</td>\n",
       "      <td>0</td>\n",
       "      <td>...</td>\n",
       "      <td>0</td>\n",
       "      <td>0</td>\n",
       "      <td>0</td>\n",
       "      <td>0</td>\n",
       "      <td>0</td>\n",
       "      <td>0</td>\n",
       "      <td>0</td>\n",
       "      <td>0</td>\n",
       "      <td>0</td>\n",
       "      <td>0</td>\n",
       "    </tr>\n",
       "    <tr>\n",
       "      <th>4</th>\n",
       "      <td>5</td>\n",
       "      <td>5268</td>\n",
       "      <td>34</td>\n",
       "      <td>20</td>\n",
       "      <td>7.79</td>\n",
       "      <td>0</td>\n",
       "      <td>0</td>\n",
       "      <td>0</td>\n",
       "      <td>0</td>\n",
       "      <td>0</td>\n",
       "      <td>...</td>\n",
       "      <td>0</td>\n",
       "      <td>0</td>\n",
       "      <td>0</td>\n",
       "      <td>0</td>\n",
       "      <td>0</td>\n",
       "      <td>0</td>\n",
       "      <td>0</td>\n",
       "      <td>0</td>\n",
       "      <td>0</td>\n",
       "      <td>0</td>\n",
       "    </tr>\n",
       "    <tr>\n",
       "      <th>5</th>\n",
       "      <td>5</td>\n",
       "      <td>5039</td>\n",
       "      <td>34</td>\n",
       "      <td>23</td>\n",
       "      <td>7.47</td>\n",
       "      <td>0</td>\n",
       "      <td>0</td>\n",
       "      <td>0</td>\n",
       "      <td>0</td>\n",
       "      <td>0</td>\n",
       "      <td>...</td>\n",
       "      <td>0</td>\n",
       "      <td>0</td>\n",
       "      <td>0</td>\n",
       "      <td>0</td>\n",
       "      <td>0</td>\n",
       "      <td>0</td>\n",
       "      <td>0</td>\n",
       "      <td>0</td>\n",
       "      <td>0</td>\n",
       "      <td>0</td>\n",
       "    </tr>\n",
       "    <tr>\n",
       "      <th>6</th>\n",
       "      <td>5</td>\n",
       "      <td>5041</td>\n",
       "      <td>34</td>\n",
       "      <td>20</td>\n",
       "      <td>8.27</td>\n",
       "      <td>0</td>\n",
       "      <td>0</td>\n",
       "      <td>0</td>\n",
       "      <td>0</td>\n",
       "      <td>0</td>\n",
       "      <td>...</td>\n",
       "      <td>0</td>\n",
       "      <td>0</td>\n",
       "      <td>0</td>\n",
       "      <td>0</td>\n",
       "      <td>0</td>\n",
       "      <td>0</td>\n",
       "      <td>0</td>\n",
       "      <td>0</td>\n",
       "      <td>0</td>\n",
       "      <td>0</td>\n",
       "    </tr>\n",
       "    <tr>\n",
       "      <th>7</th>\n",
       "      <td>5</td>\n",
       "      <td>5046</td>\n",
       "      <td>34</td>\n",
       "      <td>55</td>\n",
       "      <td>5.78</td>\n",
       "      <td>0</td>\n",
       "      <td>0</td>\n",
       "      <td>0</td>\n",
       "      <td>0</td>\n",
       "      <td>0</td>\n",
       "      <td>...</td>\n",
       "      <td>0</td>\n",
       "      <td>0</td>\n",
       "      <td>0</td>\n",
       "      <td>0</td>\n",
       "      <td>0</td>\n",
       "      <td>0</td>\n",
       "      <td>0</td>\n",
       "      <td>0</td>\n",
       "      <td>0</td>\n",
       "      <td>0</td>\n",
       "    </tr>\n",
       "    <tr>\n",
       "      <th>8</th>\n",
       "      <td>5</td>\n",
       "      <td>5319</td>\n",
       "      <td>34</td>\n",
       "      <td>55</td>\n",
       "      <td>5.70</td>\n",
       "      <td>0</td>\n",
       "      <td>0</td>\n",
       "      <td>0</td>\n",
       "      <td>0</td>\n",
       "      <td>0</td>\n",
       "      <td>...</td>\n",
       "      <td>0</td>\n",
       "      <td>0</td>\n",
       "      <td>0</td>\n",
       "      <td>0</td>\n",
       "      <td>0</td>\n",
       "      <td>0</td>\n",
       "      <td>0</td>\n",
       "      <td>0</td>\n",
       "      <td>0</td>\n",
       "      <td>0</td>\n",
       "    </tr>\n",
       "    <tr>\n",
       "      <th>9</th>\n",
       "      <td>5</td>\n",
       "      <td>5003</td>\n",
       "      <td>34</td>\n",
       "      <td>20</td>\n",
       "      <td>7.79</td>\n",
       "      <td>0</td>\n",
       "      <td>0</td>\n",
       "      <td>0</td>\n",
       "      <td>0</td>\n",
       "      <td>0</td>\n",
       "      <td>...</td>\n",
       "      <td>0</td>\n",
       "      <td>0</td>\n",
       "      <td>0</td>\n",
       "      <td>0</td>\n",
       "      <td>0</td>\n",
       "      <td>0</td>\n",
       "      <td>0</td>\n",
       "      <td>0</td>\n",
       "      <td>0</td>\n",
       "      <td>0</td>\n",
       "    </tr>\n",
       "  </tbody>\n",
       "</table>\n",
       "<p>10 rows × 29 columns</p>\n",
       "</div>"
      ],
      "text/plain": [
       "   shop_id  item_id  date_block_num  item_category_id  item_price  \\\n",
       "0        5     5037              34                19        7.36   \n",
       "1        5     5320              34                55        5.61   \n",
       "2        5     5233              34                19        6.72   \n",
       "3        5     5232              34                23        6.40   \n",
       "4        5     5268              34                20        7.79   \n",
       "5        5     5039              34                23        7.47   \n",
       "6        5     5041              34                20        8.27   \n",
       "7        5     5046              34                55        5.78   \n",
       "8        5     5319              34                55        5.70   \n",
       "9        5     5003              34                20        7.79   \n",
       "\n",
       "   main_category_Accessories  main_category_AndroidGames  \\\n",
       "0                          0                           0   \n",
       "1                          0                           0   \n",
       "2                          0                           0   \n",
       "3                          0                           0   \n",
       "4                          0                           0   \n",
       "5                          0                           0   \n",
       "6                          0                           0   \n",
       "7                          0                           0   \n",
       "8                          0                           0   \n",
       "9                          0                           0   \n",
       "\n",
       "   main_category_Batteries  main_category_Books  main_category_Cinema  ...  \\\n",
       "0                        0                    0                     0  ...   \n",
       "1                        0                    0                     0  ...   \n",
       "2                        0                    0                     0  ...   \n",
       "3                        0                    0                     0  ...   \n",
       "4                        0                    0                     0  ...   \n",
       "5                        0                    0                     0  ...   \n",
       "6                        0                    0                     0  ...   \n",
       "7                        0                    0                     0  ...   \n",
       "8                        0                    0                     0  ...   \n",
       "9                        0                    0                     0  ...   \n",
       "\n",
       "   main_category_PaymentCards  main_category_Paymentcards  \\\n",
       "0                           0                           0   \n",
       "1                           0                           0   \n",
       "2                           0                           0   \n",
       "3                           0                           0   \n",
       "4                           0                           0   \n",
       "5                           0                           0   \n",
       "6                           0                           0   \n",
       "7                           0                           0   \n",
       "8                           0                           0   \n",
       "9                           0                           0   \n",
       "\n",
       "   main_category_Programs  main_category_Service  \\\n",
       "0                       0                      0   \n",
       "1                       0                      0   \n",
       "2                       0                      0   \n",
       "3                       0                      0   \n",
       "4                       0                      0   \n",
       "5                       0                      0   \n",
       "6                       0                      0   \n",
       "7                       0                      0   \n",
       "8                       0                      0   \n",
       "9                       0                      0   \n",
       "\n",
       "   main_category_Blankmedia_piece  main_category_Blankmedia_spire  \\\n",
       "0                               0                               0   \n",
       "1                               0                               0   \n",
       "2                               0                               0   \n",
       "3                               0                               0   \n",
       "4                               0                               0   \n",
       "5                               0                               0   \n",
       "6                               0                               0   \n",
       "7                               0                               0   \n",
       "8                               0                               0   \n",
       "9                               0                               0   \n",
       "\n",
       "   main_category_GameConsoles  main_category_Paymentcards_Cinema_Music_Games  \\\n",
       "0                           0                                              0   \n",
       "1                           0                                              0   \n",
       "2                           0                                              0   \n",
       "3                           0                                              0   \n",
       "4                           0                                              0   \n",
       "5                           0                                              0   \n",
       "6                           0                                              0   \n",
       "7                           0                                              0   \n",
       "8                           0                                              0   \n",
       "9                           0                                              0   \n",
       "\n",
       "   main_category_Service_Tickets  main_category_Tickets_Number  \n",
       "0                              0                             0  \n",
       "1                              0                             0  \n",
       "2                              0                             0  \n",
       "3                              0                             0  \n",
       "4                              0                             0  \n",
       "5                              0                             0  \n",
       "6                              0                             0  \n",
       "7                              0                             0  \n",
       "8                              0                             0  \n",
       "9                              0                             0  \n",
       "\n",
       "[10 rows x 29 columns]"
      ]
     },
     "execution_count": 294,
     "metadata": {
      "tags": []
     },
     "output_type": "execute_result"
    },
    {
     "name": "stdout",
     "output_type": "stream",
     "text": [
      "time: 32.6 ms (started: 2021-02-10 10:47:00 +09:00)\n"
     ]
    }
   ],
   "source": [
    "test_merged = test_merged.drop(['main_category_name'], axis=1)\n",
    "test_merged.head(10)"
   ]
  },
  {
   "cell_type": "markdown",
   "id": "sexual-inspiration",
   "metadata": {
    "id": "sexual-inspiration"
   },
   "source": [
    "#### 정제된 테스트 데이터 저장"
   ]
  },
  {
   "cell_type": "code",
   "execution_count": null,
   "id": "hungarian-poster",
   "metadata": {
    "id": "hungarian-poster",
    "outputId": "03b78a36-3910-4354-c519-d3c269a61455"
   },
   "outputs": [
    {
     "name": "stdout",
     "output_type": "stream",
     "text": [
      "/home/aiffel-dj1/workspace/aiffel-exploration-workspace/E10_kaggle/AIFFEL_1st_Hackathon/1.data/test_main_category.csv\n",
      "time: 1.06 s (started: 2021-02-10 10:47:09 +09:00)\n"
     ]
    }
   ],
   "source": [
    "test_merged_path = join(data_dir, 'test_main_category.csv')\n",
    "test_merged.to_csv(test_merged_path, index=False)\n",
    "print(test_merged_path)"
   ]
  },
  {
   "cell_type": "markdown",
   "id": "alpha-equation",
   "metadata": {
    "id": "alpha-equation"
   },
   "source": [
    "- 이제 저장된 데이터를 불러와서 사용할 것이다!"
   ]
  },
  {
   "cell_type": "code",
   "execution_count": null,
   "id": "stock-corps",
   "metadata": {
    "id": "stock-corps",
    "outputId": "aebdb607-9c20-4b20-c1dd-b5cf4118c84b"
   },
   "outputs": [
    {
     "name": "stdout",
     "output_type": "stream",
     "text": [
      "x_train shape : (1609123, 29)\n",
      "y shape : (1609123,)\n",
      "test shape : (214200, 29)\n",
      "time: 2.65 s (started: 2021-02-10 12:53:02 +09:00)\n"
     ]
    }
   ],
   "source": [
    "test = pd.read_csv(join(data_dir, 'test_main_category.csv'))\n",
    "\n",
    "train_merged_log = pd.read_csv(join(data_dir, 'train_log_main_category.csv'))\n",
    "y = train_merged_log['item_cnt_day']\n",
    "x_train = train_merged_log.drop(['item_cnt_day'], axis=1)\n",
    "\n",
    "print(f'x_train shape : {x_train.shape}')\n",
    "print(f'y shape : {y.shape}')\n",
    "print(f'test shape : {test.shape}')"
   ]
  },
  {
   "cell_type": "markdown",
   "id": "rolled-manufacturer",
   "metadata": {
    "id": "rolled-manufacturer"
   },
   "source": [
    "## 모델 선정 및 학습"
   ]
  },
  {
   "cell_type": "markdown",
   "id": "B2FYHNxxQOY-",
   "metadata": {
    "id": "B2FYHNxxQOY-"
   },
   "source": [
    "### 수희"
   ]
  },
  {
   "cell_type": "markdown",
   "id": "tlzLhC6MQbJU",
   "metadata": {
    "id": "tlzLhC6MQbJU"
   },
   "source": [
    "#### 설계\n",
    "회귀모델(lightgbm)을 적용하여 다음달의 판매량을 예측해 보고자 한다.<br/>\n",
    "\n",
    "1. Grid search + average blending\n",
    "  - 그리드 서치를 통하여 각 모델에 대한 최적의 하이퍼 파라리터를 탐색한다.\n",
    "  - 찾아낸 하이퍼 파라미터를 이용하여 각 모델을 학습시키고 average blending을 통하여 최종 결과를 도출한다.\n",
    "  - 사용된 함수는 다음과 같다.\n",
    "    - `get_hy_by_gride_search(model, param_grid, x_train, y, verbose=2, n_jobs=5, cv=5)` : 단일 모델에 대한 grid search를 수행하여, 최적의 하이퍼 파라미터를 반환한다.\n",
    "    - `train_models(x_train, y, test, hps)`: 하이퍼 파라미터 정보를 받아 모델을 학습하고 예측결과를 반환한다.\n",
    "    - `averaging_blending(predictions)` : 예측 결과들을 입력받아 average blending을 하고 결과를 반환한다.\n",
    "    - `modeling(models, x_tain, y, test, verbose=2, n_jobs=5, cv=5)` : 위 함수들을 통합하여, 대상 모델 정보를 입력받아 하이퍼 파라미터 search + average blending 된 예측값을 반환한다.\n",
    "\n",
    "\n",
    "2. lightgbm\n",
    "  - 위의 방식을 사용할 때, GradientBoostingRegressor, XGBRegressor, LGBMRegressor 세가지 모델을 중점으로 실험을 진행하였다.\n",
    "  - 하지만, GradientBoostingRegressor와 XGBRegressor의 학습 속도가 너무 늦어 진행에 어려움을 겪었고 가장 빠르게 학습이 되는 LGBMRegressor만을 사용하여서 결과 도출을 시도하였다."
   ]
  },
  {
   "cell_type": "code",
   "execution_count": null,
   "id": "macro-journalist",
   "metadata": {
    "id": "macro-journalist",
    "outputId": "85722c72-f305-491a-a225-ca5881e09f7d"
   },
   "outputs": [
    {
     "name": "stdout",
     "output_type": "stream",
     "text": [
      "time: 146 ms (started: 2021-02-10 12:53:05 +09:00)\n"
     ]
    }
   ],
   "source": [
    "from sklearn.linear_model import LinearRegression # 일반 회귀 모델\n",
    "from sklearn.linear_model import Ridge, Lasso, ElasticNet # norm 규제 회기 모델\n",
    "from sklearn.linear_model import ARDRegression, BayesianRidge # 베이지안 회귀\n",
    "from sklearn.ensemble import RandomForestRegressor # 앙상블 모델, bagging\n",
    "from sklearn.ensemble import GradientBoostingRegressor # 앙상블 모델, boosting\n",
    "import xgboost as xgb # 앙상블 모델, boosting\n",
    "import lightgbm as lgb # 앙상블 모델, boosting\n",
    "from sklearn.model_selection import GridSearchCV\n",
    "from sklearn.model_selection import KFold, cross_val_score\n",
    "\n",
    "rs = 2021"
   ]
  },
  {
   "cell_type": "markdown",
   "id": "do2fLp4HUoM4",
   "metadata": {
    "id": "do2fLp4HUoM4"
   },
   "source": [
    "#### 전처리 데이터 검증\n",
    "- 본 문서의 기록에는 한 가진 유형은 전처리 데이터가 존재하지만, 프로젝트를 진행하면서 총 네가지 버전의 데이터를 사용하였고 이를 train 데이터를 기준으로 설명한면 다음과 같다.\n",
    "\n",
    "1. `date_block_num, shop_id, item_id`\n",
    "  - 테스트 데이터와 직접적인 관계가 있는 shop_id, item_id 데이터를 column으로 가지는 데이터셋\n",
    "  - test 데이터셋에 date_block_num = 34인 column을 추가하여 예측 결과를 볼 수 있도록 하였다.\n",
    "  - cross_val_score : 0.0560\n",
    "2. `date_block_num,\tshop_id,\titem_id,\titem_category_id`\n",
    "  - item_category_id를 추가하여 train 데이터셋에서는 등장하지 않았지만 test 데이셋에서는 등장하는 데이터에 대한 정보를 심어보았다.\n",
    "  - cross_val_score : 0.2083\n",
    "4. `date_block_num,\tshop_id,\titem_id,\titem_category_id, item_price`\n",
    "  - 판매량을 예측할 경우, 판매 금액은 중요한 요소가 될 것이다. 이에 대한 정보를 추가하였다.\n",
    "  - cross_val_score : 0.2073\n",
    "5. 4에 아이템의 대분류 값을 넣어 주었다.\n",
    "  - cross_val_score : 0.2015"
   ]
  },
  {
   "cell_type": "markdown",
   "id": "cyFoOTM-Wybt",
   "metadata": {
    "id": "cyFoOTM-Wybt"
   },
   "source": [
    "#### Grid search + average blending"
   ]
  },
  {
   "cell_type": "markdown",
   "id": "SyDka7m_W7mH",
   "metadata": {
    "id": "SyDka7m_W7mH"
   },
   "source": [
    "- 함수 정의"
   ]
  },
  {
   "cell_type": "code",
   "execution_count": null,
   "id": "romance-democrat",
   "metadata": {
    "id": "romance-democrat",
    "outputId": "74ffb618-9946-4666-b278-49244159fbd4"
   },
   "outputs": [
    {
     "name": "stdout",
     "output_type": "stream",
     "text": [
      "time: 1.6 ms (started: 2021-02-10 12:53:14 +09:00)\n"
     ]
    }
   ],
   "source": [
    "def get_hy_by_gride_search(model, param_grid, x_train, y, verbose=2, n_jobs=5, cv=5):\n",
    "    grid_model = GridSearchCV(model,\n",
    "                              param_grid=param_grid,\n",
    "                              scoring='neg_mean_squared_error',\n",
    "                              cv=cv,\n",
    "                              verbose=verbose,\n",
    "                              n_jobs=n_jobs)\n",
    "\n",
    "    grid_model.fit(x_train, y)\n",
    "\n",
    "    # 결과값 저장\n",
    "    params = grid_model.cv_results_['params']\n",
    "    score = grid_model.cv_results_['mean_test_score']\n",
    "\n",
    "    # 데이터 프레임 생성\n",
    "    results = pd.DataFrame(params)\n",
    "    results['score'] = score\n",
    "\n",
    "    # RMSLE 값 계산 후 정렬\n",
    "    results['RMSLE'] = np.sqrt(-1 * results['score'])\n",
    "    results = results.sort_values('RMSLE')\n",
    "    if verbose > 1 : display(results)\n",
    "    \n",
    "    params = { p : results[:1][p].values[0] for p in param_grid.keys() }\n",
    "    \n",
    "    return params, results[:1]['RMSLE'].values[0]"
   ]
  },
  {
   "cell_type": "code",
   "execution_count": null,
   "id": "foreign-clinic",
   "metadata": {
    "id": "foreign-clinic",
    "outputId": "e9432955-8152-4d2f-ada2-17399b869067"
   },
   "outputs": [
    {
     "name": "stdout",
     "output_type": "stream",
     "text": [
      "time: 1.26 ms (started: 2021-02-10 12:53:14 +09:00)\n"
     ]
    }
   ],
   "source": [
    "from sklearn.ensemble import GradientBoostingRegressor # 앙상블 모델, boosting\n",
    "import xgboost as xgb # 앙상블 모델, boosting\n",
    "import lightgbm as lgb # 앙상블 모델, boosting"
   ]
  },
  {
   "cell_type": "code",
   "execution_count": null,
   "id": "waiting-naples",
   "metadata": {
    "id": "waiting-naples",
    "outputId": "3cf4165a-eeeb-42be-b62e-5fada30c998c"
   },
   "outputs": [
    {
     "name": "stdout",
     "output_type": "stream",
     "text": [
      "time: 2.34 ms (started: 2021-02-10 12:53:16 +09:00)\n"
     ]
    }
   ],
   "source": [
    "def train_models(x_train, y, test, hps):\n",
    "    models = []\n",
    "    for name, hp in hps.items() : \n",
    "        hp = hp['params']\n",
    "        if name == 'LightGBM' :\n",
    "            model = lgb.LGBMRegressor(max_depth=hp['max_depth'] ,\n",
    "                                      n_estimators=hp['n_estimators'],\n",
    "                                      random_state=rs)\n",
    "        elif name == 'GradientBoosting':\n",
    "            model = GradientBoostingRegressor(learning_rate=hp['learning_rate'],\n",
    "                                              n_estimators=hp['n_estimators'],\n",
    "                                              random_state=rs)\n",
    "        elif name == 'XGBoost':\n",
    "            model = xgb.XGBRegressor(learning_rate=hp['learning_rate'],\n",
    "                                     max_depth=hp['max_depth'] ,\n",
    "                                     n_estimators=hp['n_estimators'],\n",
    "                                     random_state=rs)\n",
    "        model.fit(x_train.values, y)\n",
    "        models.append(model)\n",
    "    \n",
    "    predictions = np.column_stack([\n",
    "        m.predict(test.values) for m in models\n",
    "    ])\n",
    "\n",
    "    return predictions"
   ]
  },
  {
   "cell_type": "code",
   "execution_count": null,
   "id": "descending-democrat",
   "metadata": {
    "id": "descending-democrat",
    "outputId": "96c9b11f-999c-4681-f69c-fe4005c92a87"
   },
   "outputs": [
    {
     "name": "stdout",
     "output_type": "stream",
     "text": [
      "time: 1.19 ms (started: 2021-02-10 12:53:18 +09:00)\n"
     ]
    }
   ],
   "source": [
    "def averaging_blending(predictions):\n",
    "    return np.mean(predictions, axis=1)"
   ]
  },
  {
   "cell_type": "code",
   "execution_count": null,
   "id": "fiscal-inside",
   "metadata": {
    "id": "fiscal-inside",
    "outputId": "d5b7f771-9680-44b1-92cb-0f810bca95bd"
   },
   "outputs": [
    {
     "name": "stdout",
     "output_type": "stream",
     "text": [
      "time: 1.8 ms (started: 2021-02-10 12:53:19 +09:00)\n"
     ]
    }
   ],
   "source": [
    "def modeling(models, x_tain, y, test, verbose=2, n_jobs=5, cv=5):\n",
    "    print(f'⭐ [modeling] start to find hyper params')\n",
    "    \n",
    "    hps = {}\n",
    "    for model in models:\n",
    "        print(f'⭐ [modeling] >>> {model[\"name\"]}')\n",
    "        params, PMSLE = get_hy_by_gride_search(model['model'], \n",
    "                                               model['param_grid'], \n",
    "                                               x_tain, \n",
    "                                               y, \n",
    "                                               verbose=verbose,\n",
    "                                               n_jobs=n_jobs,\n",
    "                                               cv=cv)\n",
    "        hps[model[\"name\"]] = { 'params' : params, 'PMSLE' : PMSLE }\n",
    "    \n",
    "    if verbose > 1 :\n",
    "        print(f'⭐ [modeling] hyper param search end')\n",
    "        print(hps)\n",
    "    \n",
    "    predictions = train_models(x_train, y, test, hps)\n",
    "    y_pred = averaging_blending(predictions)\n",
    "    y_pred = np.expm1(y_pred)\n",
    "    return y_pred"
   ]
  },
  {
   "cell_type": "markdown",
   "id": "QXIr4HZSW4ZW",
   "metadata": {
    "id": "QXIr4HZSW4ZW"
   },
   "source": [
    "- 탐색 결과"
   ]
  },
  {
   "cell_type": "code",
   "execution_count": null,
   "id": "brown-playing",
   "metadata": {
    "id": "brown-playing",
    "outputId": "875eef50-d81a-4343-fb9c-db091fb81267"
   },
   "outputs": [
    {
     "name": "stdout",
     "output_type": "stream",
     "text": [
      "⭐ [modeling] start to find hyper params\n",
      "⭐ [modeling] >>> LightGBM\n",
      "Fitting 5 folds for each of 9 candidates, totalling 45 fits\n"
     ]
    },
    {
     "name": "stderr",
     "output_type": "stream",
     "text": [
      "[Parallel(n_jobs=10)]: Using backend LokyBackend with 10 concurrent workers.\n",
      "[Parallel(n_jobs=10)]: Done  21 tasks      | elapsed:  1.2min\n",
      "[Parallel(n_jobs=10)]: Done  45 out of  45 | elapsed:  2.4min finished\n"
     ]
    },
    {
     "name": "stdout",
     "output_type": "stream",
     "text": [
      "[LightGBM] [Warning] Accuracy may be bad since you didn't explicitly set num_leaves OR 2^max_depth > num_leaves. (num_leaves=31).\n"
     ]
    },
    {
     "data": {
      "text/html": [
       "<div>\n",
       "<style scoped>\n",
       "    .dataframe tbody tr th:only-of-type {\n",
       "        vertical-align: middle;\n",
       "    }\n",
       "\n",
       "    .dataframe tbody tr th {\n",
       "        vertical-align: top;\n",
       "    }\n",
       "\n",
       "    .dataframe thead th {\n",
       "        text-align: right;\n",
       "    }\n",
       "</style>\n",
       "<table border=\"1\" class=\"dataframe\">\n",
       "  <thead>\n",
       "    <tr style=\"text-align: right;\">\n",
       "      <th></th>\n",
       "      <th>max_depth</th>\n",
       "      <th>n_estimators</th>\n",
       "      <th>score</th>\n",
       "      <th>RMSLE</th>\n",
       "    </tr>\n",
       "  </thead>\n",
       "  <tbody>\n",
       "    <tr>\n",
       "      <th>5</th>\n",
       "      <td>20</td>\n",
       "      <td>400</td>\n",
       "      <td>-0.167497</td>\n",
       "      <td>0.409264</td>\n",
       "    </tr>\n",
       "    <tr>\n",
       "      <th>8</th>\n",
       "      <td>40</td>\n",
       "      <td>400</td>\n",
       "      <td>-0.167497</td>\n",
       "      <td>0.409264</td>\n",
       "    </tr>\n",
       "    <tr>\n",
       "      <th>2</th>\n",
       "      <td>10</td>\n",
       "      <td>400</td>\n",
       "      <td>-0.168118</td>\n",
       "      <td>0.410022</td>\n",
       "    </tr>\n",
       "    <tr>\n",
       "      <th>4</th>\n",
       "      <td>20</td>\n",
       "      <td>200</td>\n",
       "      <td>-0.173223</td>\n",
       "      <td>0.416201</td>\n",
       "    </tr>\n",
       "    <tr>\n",
       "      <th>7</th>\n",
       "      <td>40</td>\n",
       "      <td>200</td>\n",
       "      <td>-0.173223</td>\n",
       "      <td>0.416201</td>\n",
       "    </tr>\n",
       "    <tr>\n",
       "      <th>1</th>\n",
       "      <td>10</td>\n",
       "      <td>200</td>\n",
       "      <td>-0.173809</td>\n",
       "      <td>0.416904</td>\n",
       "    </tr>\n",
       "    <tr>\n",
       "      <th>3</th>\n",
       "      <td>20</td>\n",
       "      <td>100</td>\n",
       "      <td>-0.178785</td>\n",
       "      <td>0.422830</td>\n",
       "    </tr>\n",
       "    <tr>\n",
       "      <th>6</th>\n",
       "      <td>40</td>\n",
       "      <td>100</td>\n",
       "      <td>-0.178785</td>\n",
       "      <td>0.422830</td>\n",
       "    </tr>\n",
       "    <tr>\n",
       "      <th>0</th>\n",
       "      <td>10</td>\n",
       "      <td>100</td>\n",
       "      <td>-0.178923</td>\n",
       "      <td>0.422993</td>\n",
       "    </tr>\n",
       "  </tbody>\n",
       "</table>\n",
       "</div>"
      ],
      "text/plain": [
       "   max_depth  n_estimators     score     RMSLE\n",
       "5         20           400 -0.167497  0.409264\n",
       "8         40           400 -0.167497  0.409264\n",
       "2         10           400 -0.168118  0.410022\n",
       "4         20           200 -0.173223  0.416201\n",
       "7         40           200 -0.173223  0.416201\n",
       "1         10           200 -0.173809  0.416904\n",
       "3         20           100 -0.178785  0.422830\n",
       "6         40           100 -0.178785  0.422830\n",
       "0         10           100 -0.178923  0.422993"
      ]
     },
     "metadata": {
      "tags": []
     },
     "output_type": "display_data"
    },
    {
     "name": "stdout",
     "output_type": "stream",
     "text": [
      "⭐ [modeling] hyper param search end\n",
      "{'LightGBM': {'params': {'n_estimators': 400, 'max_depth': 20}, 'PMSLE': 0.4092639419765125}}\n",
      "time: 2min 38s (started: 2021-02-10 12:53:27 +09:00)\n"
     ]
    }
   ],
   "source": [
    "models = [\n",
    "    {\n",
    "        'name' : 'LightGBM',\n",
    "        'model' :  lgb.LGBMRegressor(random_state=rs),\n",
    "        'param_grid' : {\n",
    "            'n_estimators': [100, 200, 400],\n",
    "            'max_depth': [10, 20, 40]\n",
    "        }\n",
    "    }\n",
    "]\n",
    "   \n",
    "y_pred = modeling(models, x_train, y, test, verbose=2, n_jobs=10, cv=5)"
   ]
  },
  {
   "cell_type": "code",
   "execution_count": null,
   "id": "hungry-naples",
   "metadata": {
    "id": "hungry-naples",
    "outputId": "2a729a32-1091-4687-f9ef-49e52d261c9f"
   },
   "outputs": [
    {
     "data": {
      "text/html": [
       "<div>\n",
       "<style scoped>\n",
       "    .dataframe tbody tr th:only-of-type {\n",
       "        vertical-align: middle;\n",
       "    }\n",
       "\n",
       "    .dataframe tbody tr th {\n",
       "        vertical-align: top;\n",
       "    }\n",
       "\n",
       "    .dataframe thead th {\n",
       "        text-align: right;\n",
       "    }\n",
       "</style>\n",
       "<table border=\"1\" class=\"dataframe\">\n",
       "  <thead>\n",
       "    <tr style=\"text-align: right;\">\n",
       "      <th></th>\n",
       "      <th>ID</th>\n",
       "      <th>item_cnt_month</th>\n",
       "    </tr>\n",
       "  </thead>\n",
       "  <tbody>\n",
       "    <tr>\n",
       "      <th>0</th>\n",
       "      <td>0</td>\n",
       "      <td>6.433868</td>\n",
       "    </tr>\n",
       "    <tr>\n",
       "      <th>1</th>\n",
       "      <td>1</td>\n",
       "      <td>3.232737</td>\n",
       "    </tr>\n",
       "    <tr>\n",
       "      <th>2</th>\n",
       "      <td>2</td>\n",
       "      <td>6.433868</td>\n",
       "    </tr>\n",
       "    <tr>\n",
       "      <th>3</th>\n",
       "      <td>3</td>\n",
       "      <td>6.254655</td>\n",
       "    </tr>\n",
       "    <tr>\n",
       "      <th>4</th>\n",
       "      <td>4</td>\n",
       "      <td>6.433868</td>\n",
       "    </tr>\n",
       "  </tbody>\n",
       "</table>\n",
       "</div>"
      ],
      "text/plain": [
       "   ID  item_cnt_month\n",
       "0   0        6.433868\n",
       "1   1        3.232737\n",
       "2   2        6.433868\n",
       "3   3        6.254655\n",
       "4   4        6.433868"
      ]
     },
     "execution_count": 14,
     "metadata": {
      "tags": []
     },
     "output_type": "execute_result"
    },
    {
     "name": "stdout",
     "output_type": "stream",
     "text": [
      "time: 7.26 ms (started: 2021-02-10 12:57:06 +09:00)\n"
     ]
    }
   ],
   "source": [
    "sub = sample_submission.copy()\n",
    "sub['item_cnt_month'] = y_pred\n",
    "sub.head()"
   ]
  },
  {
   "cell_type": "code",
   "execution_count": null,
   "id": "structured-research",
   "metadata": {
    "id": "structured-research",
    "outputId": "bc51d736-7ddf-42d9-9906-e5b2f395e734"
   },
   "outputs": [
    {
     "name": "stdout",
     "output_type": "stream",
     "text": [
      "/home/aiffel-dj1/workspace/aiffel-exploration-workspace/E10_kaggle/AIFFEL_1st_Hackathon/3.submission/rmsle_0_4092639419765125.csv\n",
      "time: 437 ms (started: 2021-02-10 12:57:08 +09:00)\n"
     ]
    }
   ],
   "source": [
    "sub_path = join(submission_dir, 'rmsle_0_4092639419765125.csv')\n",
    "sub.to_csv(sub_path, index=False)\n",
    "print(sub_path)"
   ]
  },
  {
   "cell_type": "code",
   "execution_count": null,
   "id": "duplicate-forth",
   "metadata": {
    "id": "duplicate-forth",
    "outputId": "e41cb426-d0da-47e9-b24a-00bf38ed3dc1"
   },
   "outputs": [
    {
     "name": "stdout",
     "output_type": "stream",
     "text": [
      "⭐ [modeling] start to find hyper params\n",
      "⭐ [modeling] >>> LightGBM\n",
      "Fitting 5 folds for each of 9 candidates, totalling 45 fits\n"
     ]
    },
    {
     "name": "stderr",
     "output_type": "stream",
     "text": [
      "[Parallel(n_jobs=10)]: Using backend LokyBackend with 10 concurrent workers.\n",
      "[Parallel(n_jobs=10)]: Done  21 tasks      | elapsed:  1.9min\n",
      "[Parallel(n_jobs=10)]: Done  45 out of  45 | elapsed:  3.9min finished\n"
     ]
    },
    {
     "name": "stdout",
     "output_type": "stream",
     "text": [
      "[LightGBM] [Warning] Accuracy may be bad since you didn't explicitly set num_leaves OR 2^max_depth > num_leaves. (num_leaves=31).\n"
     ]
    },
    {
     "data": {
      "text/html": [
       "<div>\n",
       "<style scoped>\n",
       "    .dataframe tbody tr th:only-of-type {\n",
       "        vertical-align: middle;\n",
       "    }\n",
       "\n",
       "    .dataframe tbody tr th {\n",
       "        vertical-align: top;\n",
       "    }\n",
       "\n",
       "    .dataframe thead th {\n",
       "        text-align: right;\n",
       "    }\n",
       "</style>\n",
       "<table border=\"1\" class=\"dataframe\">\n",
       "  <thead>\n",
       "    <tr style=\"text-align: right;\">\n",
       "      <th></th>\n",
       "      <th>max_depth</th>\n",
       "      <th>n_estimators</th>\n",
       "      <th>score</th>\n",
       "      <th>RMSLE</th>\n",
       "    </tr>\n",
       "  </thead>\n",
       "  <tbody>\n",
       "    <tr>\n",
       "      <th>5</th>\n",
       "      <td>20</td>\n",
       "      <td>800</td>\n",
       "      <td>-0.023952</td>\n",
       "      <td>0.154765</td>\n",
       "    </tr>\n",
       "    <tr>\n",
       "      <th>8</th>\n",
       "      <td>25</td>\n",
       "      <td>800</td>\n",
       "      <td>-0.023952</td>\n",
       "      <td>0.154765</td>\n",
       "    </tr>\n",
       "    <tr>\n",
       "      <th>2</th>\n",
       "      <td>15</td>\n",
       "      <td>800</td>\n",
       "      <td>-0.024054</td>\n",
       "      <td>0.155093</td>\n",
       "    </tr>\n",
       "    <tr>\n",
       "      <th>4</th>\n",
       "      <td>20</td>\n",
       "      <td>400</td>\n",
       "      <td>-0.025258</td>\n",
       "      <td>0.158929</td>\n",
       "    </tr>\n",
       "    <tr>\n",
       "      <th>7</th>\n",
       "      <td>25</td>\n",
       "      <td>400</td>\n",
       "      <td>-0.025258</td>\n",
       "      <td>0.158929</td>\n",
       "    </tr>\n",
       "    <tr>\n",
       "      <th>1</th>\n",
       "      <td>15</td>\n",
       "      <td>400</td>\n",
       "      <td>-0.025422</td>\n",
       "      <td>0.159443</td>\n",
       "    </tr>\n",
       "    <tr>\n",
       "      <th>3</th>\n",
       "      <td>20</td>\n",
       "      <td>200</td>\n",
       "      <td>-0.027484</td>\n",
       "      <td>0.165784</td>\n",
       "    </tr>\n",
       "    <tr>\n",
       "      <th>6</th>\n",
       "      <td>25</td>\n",
       "      <td>200</td>\n",
       "      <td>-0.027484</td>\n",
       "      <td>0.165784</td>\n",
       "    </tr>\n",
       "    <tr>\n",
       "      <th>0</th>\n",
       "      <td>15</td>\n",
       "      <td>200</td>\n",
       "      <td>-0.027488</td>\n",
       "      <td>0.165795</td>\n",
       "    </tr>\n",
       "  </tbody>\n",
       "</table>\n",
       "</div>"
      ],
      "text/plain": [
       "   max_depth  n_estimators     score     RMSLE\n",
       "5         20           800 -0.023952  0.154765\n",
       "8         25           800 -0.023952  0.154765\n",
       "2         15           800 -0.024054  0.155093\n",
       "4         20           400 -0.025258  0.158929\n",
       "7         25           400 -0.025258  0.158929\n",
       "1         15           400 -0.025422  0.159443\n",
       "3         20           200 -0.027484  0.165784\n",
       "6         25           200 -0.027484  0.165784\n",
       "0         15           200 -0.027488  0.165795"
      ]
     },
     "metadata": {
      "tags": []
     },
     "output_type": "display_data"
    },
    {
     "name": "stdout",
     "output_type": "stream",
     "text": [
      "⭐ [modeling] hyper param search end\n",
      "{'LightGBM': {'params': {'n_estimators': 800, 'max_depth': 20}, 'PMSLE': 0.15476460219851457}}\n",
      "time: 4min 15s (started: 2021-02-10 06:50:36 +09:00)\n"
     ]
    }
   ],
   "source": [
    "models = [\n",
    "    {\n",
    "        'name' : 'LightGBM',\n",
    "        'model' :  lgb.LGBMRegressor(random_state=rs),\n",
    "        'param_grid' : {\n",
    "            'n_estimators': [200, 400, 800],\n",
    "            'max_depth': [15, 20, 25]\n",
    "        }\n",
    "    }\n",
    "]\n",
    "   \n",
    "y_pred = modeling(models, x_train, y, test, verbose=2, n_jobs=10, cv=5)"
   ]
  },
  {
   "cell_type": "code",
   "execution_count": null,
   "id": "educated-motivation",
   "metadata": {
    "id": "educated-motivation",
    "outputId": "bb8f7702-24a0-4e2e-d14e-f426ea4d8368"
   },
   "outputs": [
    {
     "name": "stdout",
     "output_type": "stream",
     "text": [
      "/home/aiffel-dj1/workspace/aiffel-exploration-workspace/E10_kaggle/AIFFEL_1st_Hackathon/3.submission/rmsle_0.154765.csv\n",
      "time: 423 ms (started: 2021-02-10 06:55:44 +09:00)\n"
     ]
    }
   ],
   "source": [
    "sub = sample_submission.copy()\n",
    "sub['item_cnt_month'] = y_pred\n",
    "sub.head()\n",
    "\n",
    "sub_path = join(submission_dir, 'rmsle_0.154765.csv')\n",
    "sub.to_csv(sub_path, index=False)\n",
    "print(sub_path)"
   ]
  },
  {
   "cell_type": "code",
   "execution_count": null,
   "id": "compatible-nickname",
   "metadata": {
    "id": "compatible-nickname",
    "outputId": "6fdd5f5a-abb5-4c46-92bc-e7724eebae9f"
   },
   "outputs": [
    {
     "name": "stdout",
     "output_type": "stream",
     "text": [
      "⭐ [modeling] start to find hyper params\n",
      "⭐ [modeling] >>> LightGBM\n",
      "Fitting 5 folds for each of 9 candidates, totalling 45 fits\n"
     ]
    },
    {
     "name": "stderr",
     "output_type": "stream",
     "text": [
      "[Parallel(n_jobs=10)]: Using backend LokyBackend with 10 concurrent workers.\n",
      "[Parallel(n_jobs=10)]: Done  21 tasks      | elapsed:  3.6min\n",
      "[Parallel(n_jobs=10)]: Done  45 out of  45 | elapsed:  8.0min finished\n"
     ]
    },
    {
     "name": "stdout",
     "output_type": "stream",
     "text": [
      "[LightGBM] [Warning] Accuracy may be bad since you didn't explicitly set num_leaves OR 2^max_depth > num_leaves. (num_leaves=31).\n"
     ]
    },
    {
     "data": {
      "text/html": [
       "<div>\n",
       "<style scoped>\n",
       "    .dataframe tbody tr th:only-of-type {\n",
       "        vertical-align: middle;\n",
       "    }\n",
       "\n",
       "    .dataframe tbody tr th {\n",
       "        vertical-align: top;\n",
       "    }\n",
       "\n",
       "    .dataframe thead th {\n",
       "        text-align: right;\n",
       "    }\n",
       "</style>\n",
       "<table border=\"1\" class=\"dataframe\">\n",
       "  <thead>\n",
       "    <tr style=\"text-align: right;\">\n",
       "      <th></th>\n",
       "      <th>max_depth</th>\n",
       "      <th>n_estimators</th>\n",
       "      <th>score</th>\n",
       "      <th>RMSLE</th>\n",
       "    </tr>\n",
       "  </thead>\n",
       "  <tbody>\n",
       "    <tr>\n",
       "      <th>2</th>\n",
       "      <td>18</td>\n",
       "      <td>1600</td>\n",
       "      <td>-0.023247</td>\n",
       "      <td>0.152468</td>\n",
       "    </tr>\n",
       "    <tr>\n",
       "      <th>5</th>\n",
       "      <td>20</td>\n",
       "      <td>1600</td>\n",
       "      <td>-0.023266</td>\n",
       "      <td>0.152532</td>\n",
       "    </tr>\n",
       "    <tr>\n",
       "      <th>8</th>\n",
       "      <td>22</td>\n",
       "      <td>1600</td>\n",
       "      <td>-0.023266</td>\n",
       "      <td>0.152532</td>\n",
       "    </tr>\n",
       "    <tr>\n",
       "      <th>1</th>\n",
       "      <td>18</td>\n",
       "      <td>800</td>\n",
       "      <td>-0.023895</td>\n",
       "      <td>0.154579</td>\n",
       "    </tr>\n",
       "    <tr>\n",
       "      <th>4</th>\n",
       "      <td>20</td>\n",
       "      <td>800</td>\n",
       "      <td>-0.023952</td>\n",
       "      <td>0.154765</td>\n",
       "    </tr>\n",
       "    <tr>\n",
       "      <th>7</th>\n",
       "      <td>22</td>\n",
       "      <td>800</td>\n",
       "      <td>-0.023952</td>\n",
       "      <td>0.154765</td>\n",
       "    </tr>\n",
       "    <tr>\n",
       "      <th>0</th>\n",
       "      <td>18</td>\n",
       "      <td>400</td>\n",
       "      <td>-0.025250</td>\n",
       "      <td>0.158904</td>\n",
       "    </tr>\n",
       "    <tr>\n",
       "      <th>3</th>\n",
       "      <td>20</td>\n",
       "      <td>400</td>\n",
       "      <td>-0.025258</td>\n",
       "      <td>0.158929</td>\n",
       "    </tr>\n",
       "    <tr>\n",
       "      <th>6</th>\n",
       "      <td>22</td>\n",
       "      <td>400</td>\n",
       "      <td>-0.025258</td>\n",
       "      <td>0.158929</td>\n",
       "    </tr>\n",
       "  </tbody>\n",
       "</table>\n",
       "</div>"
      ],
      "text/plain": [
       "   max_depth  n_estimators     score     RMSLE\n",
       "2         18          1600 -0.023247  0.152468\n",
       "5         20          1600 -0.023266  0.152532\n",
       "8         22          1600 -0.023266  0.152532\n",
       "1         18           800 -0.023895  0.154579\n",
       "4         20           800 -0.023952  0.154765\n",
       "7         22           800 -0.023952  0.154765\n",
       "0         18           400 -0.025250  0.158904\n",
       "3         20           400 -0.025258  0.158929\n",
       "6         22           400 -0.025258  0.158929"
      ]
     },
     "metadata": {
      "tags": []
     },
     "output_type": "display_data"
    },
    {
     "name": "stdout",
     "output_type": "stream",
     "text": [
      "⭐ [modeling] hyper param search end\n",
      "{'LightGBM': {'params': {'n_estimators': 1600, 'max_depth': 18}, 'PMSLE': 0.15246845843538992}}\n",
      "time: 9min 1s (started: 2021-02-10 06:56:58 +09:00)\n"
     ]
    }
   ],
   "source": [
    "models = [\n",
    "    {\n",
    "        'name' : 'LightGBM',\n",
    "        'model' :  lgb.LGBMRegressor(random_state=rs),\n",
    "        'param_grid' : {\n",
    "            'n_estimators': [400, 800, 1600],\n",
    "            'max_depth': [18, 20, 22]\n",
    "        }\n",
    "    }\n",
    "]\n",
    "   \n",
    "y_pred = modeling(models, x_train, y, test, verbose=2, n_jobs=10, cv=5)"
   ]
  },
  {
   "cell_type": "code",
   "execution_count": null,
   "id": "cardiovascular-manhattan",
   "metadata": {
    "id": "cardiovascular-manhattan",
    "outputId": "182c7f1e-5466-4f57-9aa0-83d8bfd5a5c4"
   },
   "outputs": [
    {
     "name": "stdout",
     "output_type": "stream",
     "text": [
      "/home/aiffel-dj1/workspace/aiffel-exploration-workspace/E10_kaggle/AIFFEL_1st_Hackathon/3.submission/rmsle_0_152468.csv\n",
      "time: 415 ms (started: 2021-02-10 07:06:04 +09:00)\n"
     ]
    }
   ],
   "source": [
    "sub = sample_submission.copy()\n",
    "sub['item_cnt_month'] = y_pred\n",
    "sub.head()\n",
    "\n",
    "sub_path = join(submission_dir, 'rmsle_0_152468.csv')\n",
    "sub.to_csv(sub_path, index=False)\n",
    "print(sub_path)"
   ]
  },
  {
   "cell_type": "code",
   "execution_count": null,
   "id": "lined-hybrid",
   "metadata": {
    "id": "lined-hybrid",
    "outputId": "b680bd23-90a7-4be4-a6b8-edb03df75e96"
   },
   "outputs": [
    {
     "name": "stdout",
     "output_type": "stream",
     "text": [
      "⭐ [modeling] start to find hyper params\n",
      "⭐ [modeling] >>> LightGBM\n",
      "Fitting 5 folds for each of 3 candidates, totalling 15 fits\n"
     ]
    },
    {
     "name": "stderr",
     "output_type": "stream",
     "text": [
      "[Parallel(n_jobs=10)]: Using backend LokyBackend with 10 concurrent workers.\n",
      "[Parallel(n_jobs=10)]: Done   4 out of  15 | elapsed:  1.5min remaining:  4.1min\n",
      "[Parallel(n_jobs=10)]: Done  12 out of  15 | elapsed:  8.1min remaining:  2.0min\n",
      "[Parallel(n_jobs=10)]: Done  15 out of  15 | elapsed:  8.3min finished\n"
     ]
    },
    {
     "name": "stdout",
     "output_type": "stream",
     "text": [
      "[LightGBM] [Warning] Accuracy may be bad since you didn't explicitly set num_leaves OR 2^max_depth > num_leaves. (num_leaves=31).\n"
     ]
    },
    {
     "data": {
      "text/html": [
       "<div>\n",
       "<style scoped>\n",
       "    .dataframe tbody tr th:only-of-type {\n",
       "        vertical-align: middle;\n",
       "    }\n",
       "\n",
       "    .dataframe tbody tr th {\n",
       "        vertical-align: top;\n",
       "    }\n",
       "\n",
       "    .dataframe thead th {\n",
       "        text-align: right;\n",
       "    }\n",
       "</style>\n",
       "<table border=\"1\" class=\"dataframe\">\n",
       "  <thead>\n",
       "    <tr style=\"text-align: right;\">\n",
       "      <th></th>\n",
       "      <th>max_depth</th>\n",
       "      <th>n_estimators</th>\n",
       "      <th>score</th>\n",
       "      <th>RMSLE</th>\n",
       "    </tr>\n",
       "  </thead>\n",
       "  <tbody>\n",
       "    <tr>\n",
       "      <th>2</th>\n",
       "      <td>18</td>\n",
       "      <td>3200</td>\n",
       "      <td>-0.022975</td>\n",
       "      <td>0.151574</td>\n",
       "    </tr>\n",
       "    <tr>\n",
       "      <th>1</th>\n",
       "      <td>18</td>\n",
       "      <td>1600</td>\n",
       "      <td>-0.023247</td>\n",
       "      <td>0.152468</td>\n",
       "    </tr>\n",
       "    <tr>\n",
       "      <th>0</th>\n",
       "      <td>18</td>\n",
       "      <td>800</td>\n",
       "      <td>-0.023895</td>\n",
       "      <td>0.154579</td>\n",
       "    </tr>\n",
       "  </tbody>\n",
       "</table>\n",
       "</div>"
      ],
      "text/plain": [
       "   max_depth  n_estimators     score     RMSLE\n",
       "2         18          3200 -0.022975  0.151574\n",
       "1         18          1600 -0.023247  0.152468\n",
       "0         18           800 -0.023895  0.154579"
      ]
     },
     "metadata": {
      "tags": []
     },
     "output_type": "display_data"
    },
    {
     "name": "stdout",
     "output_type": "stream",
     "text": [
      "⭐ [modeling] hyper param search end\n",
      "{'LightGBM': {'params': {'n_estimators': 3200, 'max_depth': 18}, 'PMSLE': 0.1515738974607014}}\n",
      "time: 9min 54s (started: 2021-02-10 07:21:29 +09:00)\n"
     ]
    }
   ],
   "source": [
    "models = [\n",
    "    {\n",
    "        'name' : 'LightGBM',\n",
    "        'model' :  lgb.LGBMRegressor(random_state=rs),\n",
    "        'param_grid' : {\n",
    "            'n_estimators': [800, 1600, 3200],\n",
    "            'max_depth': [18]\n",
    "        }\n",
    "    }\n",
    "]\n",
    "   \n",
    "y_pred = modeling(models, x_train, y, test, verbose=2, n_jobs=10, cv=5)"
   ]
  },
  {
   "cell_type": "code",
   "execution_count": null,
   "id": "bigger-premium",
   "metadata": {
    "id": "bigger-premium",
    "outputId": "ab09562e-1662-4591-c837-aacec7607653"
   },
   "outputs": [
    {
     "name": "stdout",
     "output_type": "stream",
     "text": [
      "/home/aiffel-dj1/workspace/aiffel-exploration-workspace/E10_kaggle/AIFFEL_1st_Hackathon/3.submission/rmsle_0_151574.csv\n",
      "time: 431 ms (started: 2021-02-10 07:31:37 +09:00)\n"
     ]
    }
   ],
   "source": [
    "sub = sample_submission.copy()\n",
    "sub['item_cnt_month'] = y_pred\n",
    "sub.head()\n",
    "\n",
    "sub_path = join(submission_dir, 'rmsle_0_151574.csv')\n",
    "sub.to_csv(sub_path, index=False)\n",
    "print(sub_path)"
   ]
  },
  {
   "cell_type": "markdown",
   "id": "Krhh6KJEXB4v",
   "metadata": {
    "id": "Krhh6KJEXB4v"
   },
   "source": [
    "#### lightgbm"
   ]
  },
  {
   "cell_type": "code",
   "execution_count": null,
   "id": "prescription-reply",
   "metadata": {
    "id": "prescription-reply",
    "outputId": "d555880d-5372-43f8-c26c-b228fbe97981"
   },
   "outputs": [
    {
     "name": "stdout",
     "output_type": "stream",
     "text": [
      "time: 712 ms (started: 2021-02-10 12:57:40 +09:00)\n"
     ]
    }
   ],
   "source": [
    "from sklearn.model_selection import train_test_split\n",
    "X_train, X_val, y_train, y_val = train_test_split(x_train, y, test_size=0.33, random_state=rs)\n",
    "\n",
    "cat_features = ['item_category_id','date_block_num','shop_id','item_id']\n",
    "cat_features += list(x_train.columns[6:])\n",
    "lgb_train = lgb.Dataset(X_train, y_train)\n",
    "lgb_val = lgb.Dataset(X_val, y_val)"
   ]
  },
  {
   "cell_type": "code",
   "execution_count": null,
   "id": "authorized-validation",
   "metadata": {
    "id": "authorized-validation",
    "outputId": "4b2986bb-4ef0-4821-bd01-98e94ec45c6c",
    "scrolled": true
   },
   "outputs": [
    {
     "name": "stderr",
     "output_type": "stream",
     "text": [
      "/home/aiffel-dj1/anaconda3/envs/aiffel/lib/python3.7/site-packages/lightgbm/engine.py:151: UserWarning: Found `n_estimators` in params. Will use it instead of argument\n",
      "  warnings.warn(\"Found `{}` in params. Will use it instead of argument\".format(alias))\n",
      "/home/aiffel-dj1/anaconda3/envs/aiffel/lib/python3.7/site-packages/lightgbm/engine.py:151: UserWarning: Found `num_rounds` in params. Will use it instead of argument\n",
      "  warnings.warn(\"Found `{}` in params. Will use it instead of argument\".format(alias))\n",
      "/home/aiffel-dj1/anaconda3/envs/aiffel/lib/python3.7/site-packages/lightgbm/engine.py:156: UserWarning: Found `early_stopping_rounds` in params. Will use it instead of argument\n",
      "  warnings.warn(\"Found `{}` in params. Will use it instead of argument\".format(alias))\n",
      "/home/aiffel-dj1/anaconda3/envs/aiffel/lib/python3.7/site-packages/lightgbm/basic.py:1555: UserWarning: categorical_feature in Dataset is overridden.\n",
      "New categorical_feature is ['date_block_num', 'item_category_id', 'item_id', 'main_category_AndroidGames', 'main_category_Batteries', 'main_category_Blankmedia_piece', 'main_category_Blankmedia_spire', 'main_category_Books', 'main_category_Cinema', 'main_category_Deliveryofgoods', 'main_category_GameConsoles', 'main_category_Gameconsoles', 'main_category_Games', 'main_category_Gifts', 'main_category_MACGames', 'main_category_Movie', 'main_category_Music', 'main_category_PC', 'main_category_PCGames', 'main_category_PaymentCards', 'main_category_Paymentcards', 'main_category_Paymentcards_Cinema_Music_Games', 'main_category_Programs', 'main_category_Service', 'main_category_Service_Tickets', 'main_category_Tickets_Number', 'shop_id']\n",
      "  'New categorical_feature is {}'.format(sorted(list(categorical_feature))))\n"
     ]
    },
    {
     "name": "stdout",
     "output_type": "stream",
     "text": [
      "[LightGBM] [Warning] Auto-choosing row-wise multi-threading, the overhead of testing was 0.004184 seconds.\n",
      "You can set `force_row_wise=true` to remove the overhead.\n",
      "And if memory is not enough, you can set `force_col_wise=true`.\n",
      "[LightGBM] [Info] Total Bins 12332\n",
      "[LightGBM] [Info] Number of data points in the train set: 1078112, number of used features: 26\n"
     ]
    },
    {
     "name": "stderr",
     "output_type": "stream",
     "text": [
      "/home/aiffel-dj1/anaconda3/envs/aiffel/lib/python3.7/site-packages/lightgbm/basic.py:1286: UserWarning: Overriding the parameters from Reference Dataset.\n",
      "  warnings.warn('Overriding the parameters from Reference Dataset.')\n",
      "/home/aiffel-dj1/anaconda3/envs/aiffel/lib/python3.7/site-packages/lightgbm/basic.py:1098: UserWarning: categorical_column in param dict is overridden.\n",
      "  warnings.warn('{} in param dict is overridden.'.format(cat_alias))\n"
     ]
    },
    {
     "name": "stdout",
     "output_type": "stream",
     "text": [
      "[LightGBM] [Info] Start training from score 0.956625\n",
      "Training until validation scores don't improve for 30 rounds\n",
      "[50]\ttraining's rmse: 0.433385\tvalid_1's rmse: 0.435982\n",
      "[100]\ttraining's rmse: 0.401987\tvalid_1's rmse: 0.405959\n",
      "[150]\ttraining's rmse: 0.382583\tvalid_1's rmse: 0.387611\n",
      "[200]\ttraining's rmse: 0.370088\tvalid_1's rmse: 0.376132\n",
      "[250]\ttraining's rmse: 0.361533\tvalid_1's rmse: 0.368521\n",
      "[300]\ttraining's rmse: 0.354583\tvalid_1's rmse: 0.362369\n",
      "[350]\ttraining's rmse: 0.348832\tvalid_1's rmse: 0.357219\n",
      "[400]\ttraining's rmse: 0.343545\tvalid_1's rmse: 0.352619\n",
      "[450]\ttraining's rmse: 0.339037\tvalid_1's rmse: 0.348704\n",
      "[500]\ttraining's rmse: 0.33566\tvalid_1's rmse: 0.345784\n",
      "[LightGBM] [Warning] No further splits with positive gain, best gain: -inf\n",
      "[LightGBM] [Warning] No further splits with positive gain, best gain: -inf\n",
      "[LightGBM] [Warning] No further splits with positive gain, best gain: -inf\n",
      "[550]\ttraining's rmse: 0.332765\tvalid_1's rmse: 0.34325\n",
      "[600]\ttraining's rmse: 0.330038\tvalid_1's rmse: 0.340869\n",
      "[650]\ttraining's rmse: 0.328273\tvalid_1's rmse: 0.339338\n",
      "[LightGBM] [Warning] No further splits with positive gain, best gain: -inf\n",
      "[700]\ttraining's rmse: 0.326649\tvalid_1's rmse: 0.337915\n",
      "[LightGBM] [Warning] No further splits with positive gain, best gain: -inf\n",
      "[750]\ttraining's rmse: 0.325281\tvalid_1's rmse: 0.336711\n",
      "[LightGBM] [Warning] No further splits with positive gain, best gain: -inf\n",
      "[800]\ttraining's rmse: 0.323803\tvalid_1's rmse: 0.335382\n",
      "[850]\ttraining's rmse: 0.322452\tvalid_1's rmse: 0.334176\n",
      "[900]\ttraining's rmse: 0.321134\tvalid_1's rmse: 0.333\n",
      "[950]\ttraining's rmse: 0.320196\tvalid_1's rmse: 0.332195\n",
      "[1000]\ttraining's rmse: 0.319099\tvalid_1's rmse: 0.331242\n",
      "Did not meet early stopping. Best iteration is:\n",
      "[1000]\ttraining's rmse: 0.319099\tvalid_1's rmse: 0.331242\n",
      "time: 1min 26s (started: 2021-02-10 12:57:42 +09:00)\n"
     ]
    }
   ],
   "source": [
    "params = {\n",
    "    'objective': 'rmse',\n",
    "    'metric': 'rmse',\n",
    "    'num_leaves': 100,\n",
    "    'min_data_in_leaf':10,\n",
    "    'feature_fraction':0.7,\n",
    "    'learning_rate': 0.01,\n",
    "    'num_rounds': 1000,\n",
    "    'early_stopping_rounds': 30,\n",
    "    'seed': rs,\n",
    "    'max_depth': 18,\n",
    "    'n_estimators':1024\n",
    "}\n",
    "\n",
    "model = lgb.train(params=params, train_set=lgb_train, valid_sets=(lgb_train, lgb_val), verbose_eval=50,categorical_feature=cat_features)"
   ]
  },
  {
   "cell_type": "code",
   "execution_count": null,
   "id": "final-horror",
   "metadata": {
    "id": "final-horror",
    "outputId": "3e506f35-9c85-47e3-a0d8-309ee5c8c4c9"
   },
   "outputs": [
    {
     "name": "stdout",
     "output_type": "stream",
     "text": [
      "/home/aiffel-dj1/workspace/aiffel-exploration-workspace/E10_kaggle/AIFFEL_1st_Hackathon/3.submission/rmsle_0_331242.csv\n",
      "time: 5.61 s (started: 2021-02-10 12:59:48 +09:00)\n"
     ]
    }
   ],
   "source": [
    "sub = sample_submission.copy()\n",
    "sub['item_cnt_month'] = model.predict(test).clip(0,20)\n",
    "sub.head()\n",
    "\n",
    "sub_path = join(submission_dir, 'rmsle_0_331242.csv')\n",
    "sub.to_csv(sub_path, index=False)\n",
    "print(sub_path)"
   ]
  },
  {
   "cell_type": "code",
   "execution_count": null,
   "id": "rubber-playlist",
   "metadata": {
    "id": "rubber-playlist",
    "outputId": "8ccb3885-3136-467c-f02b-4dcb2ffb1bb4",
    "scrolled": true
   },
   "outputs": [
    {
     "name": "stdout",
     "output_type": "stream",
     "text": [
      "[LightGBM] [Warning] Auto-choosing col-wise multi-threading, the overhead of testing was 0.019037 seconds.\n",
      "You can set `force_col_wise=true` to remove the overhead.\n",
      "[LightGBM] [Info] Total Bins 12332\n",
      "[LightGBM] [Info] Number of data points in the train set: 1078112, number of used features: 26\n",
      "[LightGBM] [Info] Start training from score 0.956625\n",
      "Training until validation scores don't improve for 30 rounds\n",
      "[50]\ttraining's rmse: 0.428988\tvalid_1's rmse: 0.432046\n",
      "[100]\ttraining's rmse: 0.394554\tvalid_1's rmse: 0.399463\n",
      "[150]\ttraining's rmse: 0.373058\tvalid_1's rmse: 0.379366\n",
      "[200]\ttraining's rmse: 0.359446\tvalid_1's rmse: 0.36701\n",
      "[250]\ttraining's rmse: 0.350219\tvalid_1's rmse: 0.358912\n",
      "[300]\ttraining's rmse: 0.343121\tvalid_1's rmse: 0.352819\n",
      "[LightGBM] [Warning] No further splits with positive gain, best gain: -inf\n",
      "[350]\ttraining's rmse: 0.337352\tvalid_1's rmse: 0.34778\n",
      "[LightGBM] [Warning] No further splits with positive gain, best gain: -inf\n",
      "[400]\ttraining's rmse: 0.332101\tvalid_1's rmse: 0.343373\n",
      "[450]\ttraining's rmse: 0.327654\tvalid_1's rmse: 0.339666\n",
      "[500]\ttraining's rmse: 0.32427\tvalid_1's rmse: 0.336889\n",
      "[LightGBM] [Warning] No further splits with positive gain, best gain: -inf\n",
      "[LightGBM] [Warning] No further splits with positive gain, best gain: -inf\n",
      "[LightGBM] [Warning] No further splits with positive gain, best gain: -inf\n",
      "[550]\ttraining's rmse: 0.321676\tvalid_1's rmse: 0.334703\n",
      "[600]\ttraining's rmse: 0.31913\tvalid_1's rmse: 0.332536\n",
      "[LightGBM] [Warning] No further splits with positive gain, best gain: -inf\n",
      "[650]\ttraining's rmse: 0.317656\tvalid_1's rmse: 0.331289\n",
      "[LightGBM] [Warning] No further splits with positive gain, best gain: -inf\n",
      "[LightGBM] [Warning] No further splits with positive gain, best gain: -inf\n",
      "[LightGBM] [Warning] No further splits with positive gain, best gain: -inf\n",
      "[LightGBM] [Warning] No further splits with positive gain, best gain: -inf\n",
      "[LightGBM] [Warning] No further splits with positive gain, best gain: -inf\n",
      "[700]\ttraining's rmse: 0.316104\tvalid_1's rmse: 0.329941\n",
      "[LightGBM] [Warning] No further splits with positive gain, best gain: -inf\n",
      "[LightGBM] [Warning] No further splits with positive gain, best gain: -inf\n",
      "[LightGBM] [Warning] No further splits with positive gain, best gain: -inf\n",
      "[LightGBM] [Warning] No further splits with positive gain, best gain: -inf\n",
      "[750]\ttraining's rmse: 0.314811\tvalid_1's rmse: 0.328828\n",
      "[LightGBM] [Warning] No further splits with positive gain, best gain: -inf\n",
      "[800]\ttraining's rmse: 0.313602\tvalid_1's rmse: 0.327782\n",
      "[850]\ttraining's rmse: 0.312513\tvalid_1's rmse: 0.326857\n",
      "[LightGBM] [Warning] No further splits with positive gain, best gain: -inf\n",
      "[900]\ttraining's rmse: 0.311313\tvalid_1's rmse: 0.325827\n",
      "[950]\ttraining's rmse: 0.310282\tvalid_1's rmse: 0.324985\n",
      "[LightGBM] [Warning] No further splits with positive gain, best gain: -inf\n",
      "[1000]\ttraining's rmse: 0.30937\tvalid_1's rmse: 0.324237\n",
      "Did not meet early stopping. Best iteration is:\n",
      "[1000]\ttraining's rmse: 0.30937\tvalid_1's rmse: 0.324237\n",
      "time: 1min 43s (started: 2021-02-10 13:01:39 +09:00)\n"
     ]
    }
   ],
   "source": [
    "params = {\n",
    "    'objective': 'rmse',\n",
    "    'metric': 'rmse',\n",
    "    'num_leaves': 200,\n",
    "    'min_data_in_leaf':10,\n",
    "    'feature_fraction':0.7,\n",
    "    'learning_rate': 0.01,\n",
    "    'num_rounds': 1000,\n",
    "    'early_stopping_rounds': 30,\n",
    "    'seed': rs,\n",
    "    'max_depth': 18,\n",
    "    'n_estimators':2000\n",
    "}\n",
    "\n",
    "model_2 = lgb.train(params=params, train_set=lgb_train, valid_sets=(lgb_train, lgb_val), verbose_eval=50,categorical_feature=cat_features)"
   ]
  },
  {
   "cell_type": "code",
   "execution_count": null,
   "id": "obvious-pendant",
   "metadata": {
    "id": "obvious-pendant",
    "outputId": "d366c7a5-e867-43c0-a2d9-eafb3056893a"
   },
   "outputs": [
    {
     "data": {
      "text/plain": [
       "<lightgbm.basic.Booster at 0x7f471545ed50>"
      ]
     },
     "execution_count": 21,
     "metadata": {
      "tags": []
     },
     "output_type": "execute_result"
    },
    {
     "name": "stdout",
     "output_type": "stream",
     "text": [
      "time: 510 ms (started: 2021-02-10 13:04:37 +09:00)\n"
     ]
    }
   ],
   "source": [
    "model_2.save_model('lgb_model_rmse_324237.txt')"
   ]
  },
  {
   "cell_type": "code",
   "execution_count": null,
   "id": "freelance-istanbul",
   "metadata": {
    "id": "freelance-istanbul",
    "outputId": "665b3813-8fbf-4a2e-ee1c-8a2e3ffc060b"
   },
   "outputs": [
    {
     "name": "stdout",
     "output_type": "stream",
     "text": [
      "/home/aiffel-dj1/workspace/aiffel-exploration-workspace/E10_kaggle/AIFFEL_1st_Hackathon/3.submission/rmsle_0_324237.csv\n",
      "time: 6.65 s (started: 2021-02-10 13:04:48 +09:00)\n"
     ]
    }
   ],
   "source": [
    "sub = sample_submission.copy()\n",
    "sub['item_cnt_month'] = model_2.predict(test).clip(0,20)\n",
    "sub.head()\n",
    "\n",
    "sub_path = join(submission_dir, 'rmsle_0_324237.csv')\n",
    "sub.to_csv(sub_path, index=False)\n",
    "print(sub_path)"
   ]
  },
  {
   "cell_type": "code",
   "execution_count": null,
   "id": "funky-notice",
   "metadata": {
    "id": "funky-notice",
    "outputId": "1ddb2ec3-8741-448e-99c8-6d70661438d5"
   },
   "outputs": [
    {
     "name": "stdout",
     "output_type": "stream",
     "text": [
      "[LightGBM] [Warning] Auto-choosing col-wise multi-threading, the overhead of testing was 0.018960 seconds.\n",
      "You can set `force_col_wise=true` to remove the overhead.\n",
      "[LightGBM] [Info] Total Bins 12332\n",
      "[LightGBM] [Info] Number of data points in the train set: 1078112, number of used features: 26\n",
      "[LightGBM] [Info] Start training from score 0.956625\n",
      "Training until validation scores don't improve for 30 rounds\n",
      "[50]\ttraining's rmse: 0.359688\tvalid_1's rmse: 0.367052\n",
      "[100]\ttraining's rmse: 0.33416\tvalid_1's rmse: 0.345133\n",
      "[150]\ttraining's rmse: 0.322494\tvalid_1's rmse: 0.334899\n",
      "[200]\ttraining's rmse: 0.317768\tvalid_1's rmse: 0.330761\n",
      "[250]\ttraining's rmse: 0.313968\tvalid_1's rmse: 0.327536\n",
      "[300]\ttraining's rmse: 0.309628\tvalid_1's rmse: 0.323828\n",
      "[350]\ttraining's rmse: 0.305499\tvalid_1's rmse: 0.32045\n",
      "[400]\ttraining's rmse: 0.302048\tvalid_1's rmse: 0.317664\n",
      "[450]\ttraining's rmse: 0.296258\tvalid_1's rmse: 0.312963\n",
      "[500]\ttraining's rmse: 0.293137\tvalid_1's rmse: 0.310586\n",
      "[LightGBM] [Warning] No further splits with positive gain, best gain: -inf\n",
      "[550]\ttraining's rmse: 0.29074\tvalid_1's rmse: 0.308792\n",
      "[600]\ttraining's rmse: 0.287885\tvalid_1's rmse: 0.306667\n",
      "[650]\ttraining's rmse: 0.286103\tvalid_1's rmse: 0.305414\n",
      "[700]\ttraining's rmse: 0.284066\tvalid_1's rmse: 0.30405\n",
      "[LightGBM] [Warning] No further splits with positive gain, best gain: -inf\n",
      "[750]\ttraining's rmse: 0.281725\tvalid_1's rmse: 0.302483\n",
      "[800]\ttraining's rmse: 0.279451\tvalid_1's rmse: 0.30107\n",
      "[850]\ttraining's rmse: 0.277232\tvalid_1's rmse: 0.299705\n",
      "[900]\ttraining's rmse: 0.27515\tvalid_1's rmse: 0.298437\n",
      "[950]\ttraining's rmse: 0.273877\tvalid_1's rmse: 0.297819\n",
      "[1000]\ttraining's rmse: 0.272652\tvalid_1's rmse: 0.297175\n",
      "[LightGBM] [Warning] No further splits with positive gain, best gain: -inf\n",
      "[1050]\ttraining's rmse: 0.271566\tvalid_1's rmse: 0.296659\n",
      "[1100]\ttraining's rmse: 0.269902\tvalid_1's rmse: 0.29578\n",
      "[1150]\ttraining's rmse: 0.26865\tvalid_1's rmse: 0.295145\n",
      "[1200]\ttraining's rmse: 0.267572\tvalid_1's rmse: 0.294617\n",
      "[1250]\ttraining's rmse: 0.266619\tvalid_1's rmse: 0.29419\n",
      "[1300]\ttraining's rmse: 0.265845\tvalid_1's rmse: 0.293835\n",
      "[LightGBM] [Warning] No further splits with positive gain, best gain: -inf\n",
      "[LightGBM] [Warning] No further splits with positive gain, best gain: -inf\n",
      "[1350]\ttraining's rmse: 0.26519\tvalid_1's rmse: 0.293555\n",
      "[1400]\ttraining's rmse: 0.264477\tvalid_1's rmse: 0.293284\n",
      "[LightGBM] [Warning] No further splits with positive gain, best gain: -inf\n",
      "[1450]\ttraining's rmse: 0.263894\tvalid_1's rmse: 0.293049\n",
      "[LightGBM] [Warning] No further splits with positive gain, best gain: -inf\n",
      "[1500]\ttraining's rmse: 0.263225\tvalid_1's rmse: 0.292809\n",
      "[1550]\ttraining's rmse: 0.262592\tvalid_1's rmse: 0.292561\n",
      "[1600]\ttraining's rmse: 0.262058\tvalid_1's rmse: 0.292373\n",
      "[LightGBM] [Warning] No further splits with positive gain, best gain: -inf\n",
      "[1650]\ttraining's rmse: 0.26148\tvalid_1's rmse: 0.292176\n",
      "[1700]\ttraining's rmse: 0.260892\tvalid_1's rmse: 0.291951\n",
      "[1750]\ttraining's rmse: 0.260383\tvalid_1's rmse: 0.291776\n",
      "[LightGBM] [Warning] No further splits with positive gain, best gain: -inf\n",
      "[1800]\ttraining's rmse: 0.259964\tvalid_1's rmse: 0.291643\n",
      "[LightGBM] [Warning] No further splits with positive gain, best gain: -inf\n",
      "[1850]\ttraining's rmse: 0.259508\tvalid_1's rmse: 0.291488\n",
      "[LightGBM] [Warning] No further splits with positive gain, best gain: -inf\n",
      "[1900]\ttraining's rmse: 0.259039\tvalid_1's rmse: 0.291338\n",
      "[1950]\ttraining's rmse: 0.258581\tvalid_1's rmse: 0.291219\n",
      "[2000]\ttraining's rmse: 0.258242\tvalid_1's rmse: 0.291102\n",
      "Did not meet early stopping. Best iteration is:\n",
      "[2000]\ttraining's rmse: 0.258242\tvalid_1's rmse: 0.291102\n",
      "time: 2min 12s (started: 2021-02-10 13:08:52 +09:00)\n"
     ]
    }
   ],
   "source": [
    "params = {\n",
    "    'objective': 'rmse',\n",
    "    'metric': 'rmse',\n",
    "    'num_leaves': 100,\n",
    "    'min_data_in_leaf':10,\n",
    "    'feature_fraction':0.7,\n",
    "    'learning_rate': 0.05,\n",
    "    'num_rounds': 2000,\n",
    "    'early_stopping_rounds': 30,\n",
    "    'seed': rs,\n",
    "    'max_depth': 18,\n",
    "    'n_estimators':3200\n",
    "}\n",
    "\n",
    "model_3 = lgb.train(params=params, train_set=lgb_train, valid_sets=(lgb_train, lgb_val), verbose_eval=50,categorical_feature=cat_features)"
   ]
  },
  {
   "cell_type": "code",
   "execution_count": null,
   "id": "swedish-egypt",
   "metadata": {
    "id": "swedish-egypt",
    "outputId": "4a0d0ad7-22fd-48b4-eb41-c6c5783f1e08"
   },
   "outputs": [
    {
     "data": {
      "text/plain": [
       "<lightgbm.basic.Booster at 0x7f4715438e10>"
      ]
     },
     "execution_count": 26,
     "metadata": {
      "tags": []
     },
     "output_type": "execute_result"
    },
    {
     "name": "stdout",
     "output_type": "stream",
     "text": [
      "time: 446 ms (started: 2021-02-10 13:11:13 +09:00)\n"
     ]
    }
   ],
   "source": [
    "model_3.save_model('lgb_model_rmse_291102.txt')"
   ]
  },
  {
   "cell_type": "code",
   "execution_count": null,
   "id": "played-sheffield",
   "metadata": {
    "id": "played-sheffield",
    "outputId": "fe98bc38-a6f8-4705-d2a0-10d2963d66dc"
   },
   "outputs": [
    {
     "name": "stdout",
     "output_type": "stream",
     "text": [
      "/home/aiffel-dj1/workspace/aiffel-exploration-workspace/E10_kaggle/AIFFEL_1st_Hackathon/3.submission/rmsle_0_291102.csv\n",
      "time: 10.8 s (started: 2021-02-10 13:11:36 +09:00)\n"
     ]
    }
   ],
   "source": [
    "sub = sample_submission.copy()\n",
    "sub['item_cnt_month'] = model_3.predict(test).clip(0,20)\n",
    "sub.head()\n",
    "\n",
    "sub_path = join(submission_dir, 'rmsle_0_291102.csv')\n",
    "sub.to_csv(sub_path, index=False)\n",
    "print(sub_path)"
   ]
  },
  {
   "cell_type": "code",
   "execution_count": null,
   "id": "framed-astronomy",
   "metadata": {
    "id": "framed-astronomy",
    "outputId": "cf4251a5-0e76-46ce-c847-5aec61b6bfb1",
    "scrolled": true
   },
   "outputs": [
    {
     "name": "stdout",
     "output_type": "stream",
     "text": [
      "[LightGBM] [Warning] Auto-choosing col-wise multi-threading, the overhead of testing was 0.023248 seconds.\n",
      "You can set `force_col_wise=true` to remove the overhead.\n",
      "[LightGBM] [Info] Total Bins 12332\n",
      "[LightGBM] [Info] Number of data points in the train set: 1078112, number of used features: 26\n",
      "[LightGBM] [Info] Start training from score 0.956625\n",
      "Training until validation scores don't improve for 30 rounds\n",
      "[50]\ttraining's rmse: 0.334041\tvalid_1's rmse: 0.344926\n",
      "[100]\ttraining's rmse: 0.316431\tvalid_1's rmse: 0.329912\n",
      "[150]\ttraining's rmse: 0.306502\tvalid_1's rmse: 0.321345\n",
      "[200]\ttraining's rmse: 0.30018\tvalid_1's rmse: 0.316278\n",
      "[250]\ttraining's rmse: 0.294515\tvalid_1's rmse: 0.311991\n",
      "[300]\ttraining's rmse: 0.290097\tvalid_1's rmse: 0.308671\n",
      "[350]\ttraining's rmse: 0.286224\tvalid_1's rmse: 0.306022\n",
      "[400]\ttraining's rmse: 0.28258\tvalid_1's rmse: 0.303767\n",
      "[450]\ttraining's rmse: 0.277641\tvalid_1's rmse: 0.300619\n",
      "[500]\ttraining's rmse: 0.274436\tvalid_1's rmse: 0.298707\n",
      "[LightGBM] [Warning] No further splits with positive gain, best gain: -inf\n",
      "[550]\ttraining's rmse: 0.272534\tvalid_1's rmse: 0.297769\n",
      "[600]\ttraining's rmse: 0.270687\tvalid_1's rmse: 0.296856\n",
      "[650]\ttraining's rmse: 0.269251\tvalid_1's rmse: 0.296239\n",
      "[700]\ttraining's rmse: 0.266671\tvalid_1's rmse: 0.294942\n",
      "[LightGBM] [Warning] No further splits with positive gain, best gain: -inf\n",
      "[750]\ttraining's rmse: 0.265521\tvalid_1's rmse: 0.294538\n",
      "[800]\ttraining's rmse: 0.264212\tvalid_1's rmse: 0.294058\n",
      "[850]\ttraining's rmse: 0.26308\tvalid_1's rmse: 0.293663\n",
      "[900]\ttraining's rmse: 0.262078\tvalid_1's rmse: 0.293328\n",
      "[950]\ttraining's rmse: 0.261158\tvalid_1's rmse: 0.293102\n",
      "[1000]\ttraining's rmse: 0.260211\tvalid_1's rmse: 0.29285\n",
      "[LightGBM] [Warning] No further splits with positive gain, best gain: -inf\n",
      "[1050]\ttraining's rmse: 0.259554\tvalid_1's rmse: 0.292701\n",
      "[1100]\ttraining's rmse: 0.258679\tvalid_1's rmse: 0.292473\n",
      "[1150]\ttraining's rmse: 0.257785\tvalid_1's rmse: 0.292191\n",
      "[1200]\ttraining's rmse: 0.256927\tvalid_1's rmse: 0.291945\n",
      "[1250]\ttraining's rmse: 0.256187\tvalid_1's rmse: 0.291779\n",
      "[1300]\ttraining's rmse: 0.255475\tvalid_1's rmse: 0.291602\n",
      "[LightGBM] [Warning] No further splits with positive gain, best gain: -inf\n",
      "[LightGBM] [Warning] No further splits with positive gain, best gain: -inf\n",
      "[1350]\ttraining's rmse: 0.254624\tvalid_1's rmse: 0.291338\n",
      "[1400]\ttraining's rmse: 0.253874\tvalid_1's rmse: 0.291181\n",
      "[1450]\ttraining's rmse: 0.25315\tvalid_1's rmse: 0.290942\n",
      "[LightGBM] [Warning] No further splits with positive gain, best gain: -inf\n",
      "[1500]\ttraining's rmse: 0.252358\tvalid_1's rmse: 0.290728\n",
      "[1550]\ttraining's rmse: 0.251707\tvalid_1's rmse: 0.290556\n",
      "[1600]\ttraining's rmse: 0.251111\tvalid_1's rmse: 0.290429\n",
      "[LightGBM] [Warning] No further splits with positive gain, best gain: -inf\n",
      "[1650]\ttraining's rmse: 0.250459\tvalid_1's rmse: 0.29029\n",
      "[1700]\ttraining's rmse: 0.249778\tvalid_1's rmse: 0.290152\n",
      "[1750]\ttraining's rmse: 0.249095\tvalid_1's rmse: 0.290003\n",
      "[1800]\ttraining's rmse: 0.248578\tvalid_1's rmse: 0.289909\n",
      "[LightGBM] [Warning] No further splits with positive gain, best gain: -inf\n",
      "[1850]\ttraining's rmse: 0.248025\tvalid_1's rmse: 0.289819\n",
      "[LightGBM] [Warning] No further splits with positive gain, best gain: -inf\n",
      "[1900]\ttraining's rmse: 0.247431\tvalid_1's rmse: 0.289706\n",
      "[1950]\ttraining's rmse: 0.246883\tvalid_1's rmse: 0.289613\n",
      "[2000]\ttraining's rmse: 0.246406\tvalid_1's rmse: 0.289526\n",
      "Did not meet early stopping. Best iteration is:\n",
      "[2000]\ttraining's rmse: 0.246406\tvalid_1's rmse: 0.289526\n",
      "time: 1min 48s (started: 2021-02-10 13:15:32 +09:00)\n"
     ]
    }
   ],
   "source": [
    "params = {\n",
    "    'objective': 'rmse',\n",
    "    'metric': 'rmse',\n",
    "    'num_leaves': 100,\n",
    "    'min_data_in_leaf':10,\n",
    "    'feature_fraction':0.7,\n",
    "    'learning_rate': 0.1,\n",
    "    'num_rounds': 2000,\n",
    "    'early_stopping_rounds': 30,\n",
    "    'seed': rs,\n",
    "    'max_depth': 18,\n",
    "    'n_estimators':4800\n",
    "}\n",
    "\n",
    "model_3 = lgb.train(params=params, train_set=lgb_train, valid_sets=(lgb_train, lgb_val), verbose_eval=50,categorical_feature=cat_features)"
   ]
  },
  {
   "cell_type": "code",
   "execution_count": null,
   "id": "accessible-ancient",
   "metadata": {
    "id": "accessible-ancient",
    "outputId": "3ba0cb33-228d-4674-cfe3-cfbcd911191f"
   },
   "outputs": [
    {
     "data": {
      "text/plain": [
       "<lightgbm.basic.Booster at 0x7f4715458290>"
      ]
     },
     "execution_count": 30,
     "metadata": {
      "tags": []
     },
     "output_type": "execute_result"
    },
    {
     "name": "stdout",
     "output_type": "stream",
     "text": [
      "time: 386 ms (started: 2021-02-10 13:17:56 +09:00)\n"
     ]
    }
   ],
   "source": [
    "model_3.save_model('lgb_model_rmse_289526.txt')"
   ]
  },
  {
   "cell_type": "code",
   "execution_count": null,
   "id": "adverse-belgium",
   "metadata": {
    "id": "adverse-belgium",
    "outputId": "a3d1d9eb-9149-4523-b527-42154d6ba540"
   },
   "outputs": [
    {
     "name": "stdout",
     "output_type": "stream",
     "text": [
      "/home/aiffel-dj1/workspace/aiffel-exploration-workspace/E10_kaggle/AIFFEL_1st_Hackathon/3.submission/rmsle_0_289526.csv\n",
      "time: 9.37 s (started: 2021-02-10 13:18:15 +09:00)\n"
     ]
    }
   ],
   "source": [
    "sub = sample_submission.copy()\n",
    "sub['item_cnt_month'] = model_3.predict(test).clip(0,20)\n",
    "sub.head()\n",
    "\n",
    "sub_path = join(submission_dir, 'rmsle_0_289526.csv')\n",
    "sub.to_csv(sub_path, index=False)\n",
    "print(sub_path)"
   ]
  },
  {
   "cell_type": "code",
   "execution_count": null,
   "id": "raising-independence",
   "metadata": {
    "id": "raising-independence",
    "outputId": "9c9e6ee7-df6f-4afe-ed2a-ecd6d298e366",
    "scrolled": true
   },
   "outputs": [
    {
     "name": "stdout",
     "output_type": "stream",
     "text": [
      "[LightGBM] [Warning] Auto-choosing col-wise multi-threading, the overhead of testing was 0.020907 seconds.\n",
      "You can set `force_col_wise=true` to remove the overhead.\n",
      "[LightGBM] [Info] Total Bins 12332\n",
      "[LightGBM] [Info] Number of data points in the train set: 1078112, number of used features: 26\n",
      "[LightGBM] [Info] Start training from score 0.956625\n",
      "Training until validation scores don't improve for 30 rounds\n",
      "[50]\ttraining's rmse: 0.334041\tvalid_1's rmse: 0.344926\n",
      "[100]\ttraining's rmse: 0.316431\tvalid_1's rmse: 0.329912\n",
      "[150]\ttraining's rmse: 0.306502\tvalid_1's rmse: 0.321345\n",
      "[200]\ttraining's rmse: 0.30018\tvalid_1's rmse: 0.316278\n",
      "[250]\ttraining's rmse: 0.294515\tvalid_1's rmse: 0.311991\n",
      "[300]\ttraining's rmse: 0.290097\tvalid_1's rmse: 0.308671\n",
      "[350]\ttraining's rmse: 0.286224\tvalid_1's rmse: 0.306022\n",
      "[400]\ttraining's rmse: 0.28258\tvalid_1's rmse: 0.303767\n",
      "[450]\ttraining's rmse: 0.277641\tvalid_1's rmse: 0.300619\n",
      "[500]\ttraining's rmse: 0.274436\tvalid_1's rmse: 0.298707\n",
      "[LightGBM] [Warning] No further splits with positive gain, best gain: -inf\n",
      "[550]\ttraining's rmse: 0.272534\tvalid_1's rmse: 0.297769\n",
      "[600]\ttraining's rmse: 0.270687\tvalid_1's rmse: 0.296856\n",
      "[650]\ttraining's rmse: 0.269251\tvalid_1's rmse: 0.296239\n",
      "[700]\ttraining's rmse: 0.266671\tvalid_1's rmse: 0.294942\n",
      "[LightGBM] [Warning] No further splits with positive gain, best gain: -inf\n",
      "[750]\ttraining's rmse: 0.265521\tvalid_1's rmse: 0.294538\n",
      "[800]\ttraining's rmse: 0.264212\tvalid_1's rmse: 0.294058\n",
      "[850]\ttraining's rmse: 0.26308\tvalid_1's rmse: 0.293663\n",
      "[900]\ttraining's rmse: 0.262078\tvalid_1's rmse: 0.293328\n",
      "[950]\ttraining's rmse: 0.261158\tvalid_1's rmse: 0.293102\n",
      "[1000]\ttraining's rmse: 0.260211\tvalid_1's rmse: 0.29285\n",
      "[LightGBM] [Warning] No further splits with positive gain, best gain: -inf\n",
      "[1050]\ttraining's rmse: 0.259554\tvalid_1's rmse: 0.292701\n",
      "[1100]\ttraining's rmse: 0.258679\tvalid_1's rmse: 0.292473\n",
      "[1150]\ttraining's rmse: 0.257785\tvalid_1's rmse: 0.292191\n",
      "[1200]\ttraining's rmse: 0.256927\tvalid_1's rmse: 0.291945\n",
      "[1250]\ttraining's rmse: 0.256187\tvalid_1's rmse: 0.291779\n",
      "[1300]\ttraining's rmse: 0.255475\tvalid_1's rmse: 0.291602\n",
      "[LightGBM] [Warning] No further splits with positive gain, best gain: -inf\n",
      "[LightGBM] [Warning] No further splits with positive gain, best gain: -inf\n",
      "[1350]\ttraining's rmse: 0.254624\tvalid_1's rmse: 0.291338\n",
      "[1400]\ttraining's rmse: 0.253874\tvalid_1's rmse: 0.291181\n",
      "[1450]\ttraining's rmse: 0.25315\tvalid_1's rmse: 0.290942\n",
      "[LightGBM] [Warning] No further splits with positive gain, best gain: -inf\n",
      "[1500]\ttraining's rmse: 0.252358\tvalid_1's rmse: 0.290728\n",
      "[1550]\ttraining's rmse: 0.251707\tvalid_1's rmse: 0.290556\n",
      "[1600]\ttraining's rmse: 0.251111\tvalid_1's rmse: 0.290429\n",
      "[LightGBM] [Warning] No further splits with positive gain, best gain: -inf\n",
      "[1650]\ttraining's rmse: 0.250459\tvalid_1's rmse: 0.29029\n",
      "[1700]\ttraining's rmse: 0.249778\tvalid_1's rmse: 0.290152\n",
      "[1750]\ttraining's rmse: 0.249095\tvalid_1's rmse: 0.290003\n",
      "[1800]\ttraining's rmse: 0.248578\tvalid_1's rmse: 0.289909\n",
      "[LightGBM] [Warning] No further splits with positive gain, best gain: -inf\n",
      "[1850]\ttraining's rmse: 0.248025\tvalid_1's rmse: 0.289819\n",
      "[LightGBM] [Warning] No further splits with positive gain, best gain: -inf\n",
      "[1900]\ttraining's rmse: 0.247431\tvalid_1's rmse: 0.289706\n",
      "[1950]\ttraining's rmse: 0.246883\tvalid_1's rmse: 0.289613\n",
      "[2000]\ttraining's rmse: 0.246406\tvalid_1's rmse: 0.289526\n",
      "[2050]\ttraining's rmse: 0.245743\tvalid_1's rmse: 0.289414\n",
      "[LightGBM] [Warning] No further splits with positive gain, best gain: -inf\n",
      "[2100]\ttraining's rmse: 0.24521\tvalid_1's rmse: 0.289314\n",
      "[2150]\ttraining's rmse: 0.244595\tvalid_1's rmse: 0.289238\n",
      "[LightGBM] [Warning] No further splits with positive gain, best gain: -inf\n",
      "[2200]\ttraining's rmse: 0.244037\tvalid_1's rmse: 0.289128\n",
      "[2250]\ttraining's rmse: 0.243448\tvalid_1's rmse: 0.288989\n",
      "[LightGBM] [Warning] No further splits with positive gain, best gain: -inf\n",
      "[2300]\ttraining's rmse: 0.242996\tvalid_1's rmse: 0.288926\n",
      "[2350]\ttraining's rmse: 0.242422\tvalid_1's rmse: 0.288857\n",
      "[2400]\ttraining's rmse: 0.241916\tvalid_1's rmse: 0.288781\n",
      "[2450]\ttraining's rmse: 0.241334\tvalid_1's rmse: 0.288657\n",
      "[LightGBM] [Warning] No further splits with positive gain, best gain: -inf\n",
      "[2500]\ttraining's rmse: 0.240852\tvalid_1's rmse: 0.28857\n",
      "[2550]\ttraining's rmse: 0.240339\tvalid_1's rmse: 0.288535\n",
      "[LightGBM] [Warning] No further splits with positive gain, best gain: -inf\n",
      "[2600]\ttraining's rmse: 0.239852\tvalid_1's rmse: 0.288447\n",
      "[2650]\ttraining's rmse: 0.239384\tvalid_1's rmse: 0.288379\n",
      "[2700]\ttraining's rmse: 0.238936\tvalid_1's rmse: 0.288334\n",
      "[LightGBM] [Warning] No further splits with positive gain, best gain: -inf\n",
      "[LightGBM] [Warning] No further splits with positive gain, best gain: -inf\n",
      "[2750]\ttraining's rmse: 0.238544\tvalid_1's rmse: 0.288279\n",
      "[2800]\ttraining's rmse: 0.238092\tvalid_1's rmse: 0.28823\n",
      "[2850]\ttraining's rmse: 0.237522\tvalid_1's rmse: 0.288165\n",
      "[LightGBM] [Warning] No further splits with positive gain, best gain: -inf\n",
      "[2900]\ttraining's rmse: 0.237148\tvalid_1's rmse: 0.288125\n",
      "[2950]\ttraining's rmse: 0.236734\tvalid_1's rmse: 0.28809\n",
      "[3000]\ttraining's rmse: 0.23626\tvalid_1's rmse: 0.288047\n",
      "[LightGBM] [Warning] No further splits with positive gain, best gain: -inf\n",
      "[3050]\ttraining's rmse: 0.235802\tvalid_1's rmse: 0.28799\n",
      "[3100]\ttraining's rmse: 0.235364\tvalid_1's rmse: 0.287926\n",
      "[3150]\ttraining's rmse: 0.235002\tvalid_1's rmse: 0.287892\n",
      "[3200]\ttraining's rmse: 0.234498\tvalid_1's rmse: 0.287877\n",
      "[3250]\ttraining's rmse: 0.234148\tvalid_1's rmse: 0.287843\n",
      "[3300]\ttraining's rmse: 0.233727\tvalid_1's rmse: 0.287809\n",
      "[3350]\ttraining's rmse: 0.233329\tvalid_1's rmse: 0.287769\n",
      "[3400]\ttraining's rmse: 0.232961\tvalid_1's rmse: 0.287736\n",
      "[3450]\ttraining's rmse: 0.232545\tvalid_1's rmse: 0.287721\n",
      "Early stopping, best iteration is:\n",
      "[3422]\ttraining's rmse: 0.232776\tvalid_1's rmse: 0.28772\n",
      "time: 3min 45s (started: 2021-02-10 13:25:23 +09:00)\n"
     ]
    }
   ],
   "source": [
    "params = {\n",
    "    'objective': 'rmse',\n",
    "    'metric': 'rmse',\n",
    "    'num_leaves': 100,\n",
    "    'min_data_in_leaf':10,\n",
    "    'feature_fraction':0.7,\n",
    "    'learning_rate': 0.1,\n",
    "    'num_rounds': 5000,\n",
    "    'early_stopping_rounds': 30,\n",
    "    'seed': rs,\n",
    "    'max_depth': 18,\n",
    "    'n_estimators':6400\n",
    "}\n",
    "\n",
    "model_5 = lgb.train(params=params, train_set=lgb_train, valid_sets=(lgb_train, lgb_val), verbose_eval=50,categorical_feature=cat_features)"
   ]
  },
  {
   "cell_type": "code",
   "execution_count": null,
   "id": "brief-meter",
   "metadata": {
    "id": "brief-meter",
    "outputId": "5155b536-64e6-4733-f131-6f17a8eb34e0"
   },
   "outputs": [
    {
     "data": {
      "text/plain": [
       "<lightgbm.basic.Booster at 0x7f47154384d0>"
      ]
     },
     "execution_count": 35,
     "metadata": {
      "tags": []
     },
     "output_type": "execute_result"
    },
    {
     "name": "stdout",
     "output_type": "stream",
     "text": [
      "time: 554 ms (started: 2021-02-10 13:30:35 +09:00)\n"
     ]
    }
   ],
   "source": [
    "model_5.save_model('lgb_model_rmse_28772.txt')"
   ]
  },
  {
   "cell_type": "code",
   "execution_count": null,
   "id": "consistent-mambo",
   "metadata": {
    "id": "consistent-mambo",
    "outputId": "9a09b471-8078-4769-e8be-778a7caa88b2"
   },
   "outputs": [
    {
     "name": "stdout",
     "output_type": "stream",
     "text": [
      "/home/aiffel-dj1/workspace/aiffel-exploration-workspace/E10_kaggle/AIFFEL_1st_Hackathon/3.submission/rmsle_0_28772.csv\n",
      "time: 25.6 s (started: 2021-02-10 13:30:51 +09:00)\n"
     ]
    }
   ],
   "source": [
    "sub = sample_submission.copy()\n",
    "sub['item_cnt_month'] = model_5.predict(test).clip(0,20)\n",
    "sub.head()\n",
    "\n",
    "sub_path = join(submission_dir, 'rmsle_0_28772.csv')\n",
    "sub.to_csv(sub_path, index=False)\n",
    "print(sub_path)"
   ]
  },
  {
   "cell_type": "markdown",
   "id": "wz83vWITPTnF",
   "metadata": {
    "id": "wz83vWITPTnF"
   },
   "source": [
    "#### 결과\n",
    "- lgb_model_rmse_289526.txt1 으로 저장한 모델이 submission 결과 가장 좋은 socre(1.23721)을 기록하였다.\n",
    "- submission history\n",
    "\n",
    "![history_1](https://user-images.githubusercontent.com/16831323/107467885-56372900-6baa-11eb-99b2-1a20ff6ba60e.png)\n",
    "\n",
    "![history_2](https://user-images.githubusercontent.com/16831323/107467888-57685600-6baa-11eb-8141-eb33037c2383.png)"
   ]
  },
  {
   "cell_type": "markdown",
   "id": "MfBkVS3sPTlZ",
   "metadata": {
    "id": "MfBkVS3sPTlZ"
   },
   "source": [
    "### 창원"
   ]
  },
  {
   "cell_type": "markdown",
   "id": "kHg2sWG7afE4",
   "metadata": {
    "id": "kHg2sWG7afE4"
   },
   "source": [
    "## 모델 선택 (1) - 스테킹 앙상블\n",
    "- ### 선택 이유: 다양한 모델들의 학습 결과를 다시 학습 데이터로 사용해 예측 결과를 높일 수 있다고 판단.   \n",
    "### 기존의 블랜딩 기법보다 성능이 좋다고 인식해서 선택\n",
    "- ### 스테킹에 사용한 모델: GradientBoostingRegressor, XGBRegressor, LGBMRegressor, RandomForestRegressor  \n",
    "- ### 최종선택 모델: LGBMRegressor  \n",
    "\n",
    "*!실행을 위한 코드 작성이 아닌 시도의 결과에 대한 것으로 코드는 주석처리함!*"
   ]
  },
  {
   "cell_type": "markdown",
   "id": "w9PjPpMLah3H",
   "metadata": {
    "id": "w9PjPpMLah3H"
   },
   "source": [
    "**모델 불러오기**"
   ]
  },
  {
   "cell_type": "code",
   "execution_count": null,
   "id": "WxVS7raYQLG2",
   "metadata": {
    "id": "WxVS7raYQLG2"
   },
   "outputs": [],
   "source": [
    "# # 모델 불러오기\n",
    "\n",
    "# random_state=2020\n",
    "\n",
    "# gboost = GradientBoostingRegressor(random_state=random_state)\n",
    "# xgboost = XGBRegressor(random_state=random_state)\n",
    "# lightgbm = LGBMRegressor(random_state=random_state)\n",
    "# rdforest = RandomForestRegressor(random_state=random_state)\n",
    "\n",
    "# models = [gboost, xgboost, lightgbm, rdforest]\n",
    "\n",
    "# print('모델 정의')"
   ]
  },
  {
   "cell_type": "markdown",
   "id": "lsfblxYaajlz",
   "metadata": {
    "id": "lsfblxYaajlz"
   },
   "source": [
    "**스테킹 앙상블 함수 구현**"
   ]
  },
  {
   "cell_type": "code",
   "execution_count": null,
   "id": "D5Gd5E8malrQ",
   "metadata": {
    "id": "D5Gd5E8malrQ"
   },
   "outputs": [],
   "source": [
    "# # 스테킹 앙상블 함수 구현\n",
    "\n",
    "# from sklearn.model_selection import KFold\n",
    "# from sklearn.metrics import mean_absolute_error\n",
    "\n",
    "# # 개별 기반 모델에서 최종 메타 모델이 사용할 학습 및 테스트용 데이터를 생성하기 위한 함수\n",
    "# def get_stacking_base_datasets(model, X_train_n, y_train_n, X_test_n, n_folds):\n",
    "#     # 지정된 n_folds값으로 KFolds 생성\n",
    "#     kf = KFold(n_splits=n_folds, shuffle=True, random_state=0)\n",
    "#     # 추후에 메타 모델이 사용할 학습 데이터 반환을 위해 넘파이 배열 초기화\n",
    "#     train_fold_pred = np.zeros((X_train_n.shape[0], 1))\n",
    "#     test_pred = np.zeros((X_test_n.shape[0], 1))\n",
    "#     print(model.__class__.__name__, 'model 시작')\n",
    "    \n",
    "#     for folder_counter, (train_index, valid_index) in enumerate(kf.split(X_train_n)):\n",
    "#         # 입력된 학습 데이터에서 기반 모델이 학습/예측할 폴드 데이터 세트 추출\n",
    "#         print('\\t 폴드세트: ', folder_counter, '시작')\n",
    "#         X_tr = X_train_n[train_index]\n",
    "#         y_tr = y_train_n[train_index]\n",
    "#         X_te = X_train_n[valid_index]\n",
    "        \n",
    "#         # 폴드 세트 내부에서 다시 만들어진 학습 데이터로 기반 모델의 학습 수행.\n",
    "#         model.fit(X_tr, y_tr)\n",
    "#         # 폴드 세트 내부에서 다시 만들어진 검증 데이터로 기반 모델 예측 후 데이터 저장.\n",
    "#         train_fold_pred[valid_index, :] = model.predict(X_te).reshape(-1,1)\n",
    "#         # 입력된 원본 테스트 데이터를 폴드 세트 내 학습된 기반 모델에서 예측 후 데이터 저장.\n",
    "        \n",
    "#     # 폴드 세트 내에서 원본 테스트 데이터를 예측한 데이터를 평균하여 테스트 데이터로 생성\n",
    "#     test_pred_mean = np.mean(test_pred, axis=1).reshape(-1,1)\n",
    "    \n",
    "#     # train_fold_pred는 최종 메타 모델이 사용하는 학습 데이터, test_pred_mean은 테스트 데이터 \n",
    "#     return train_fold_pred, test_pred_mean"
   ]
  },
  {
   "cell_type": "markdown",
   "id": "xDiGiEuOamDA",
   "metadata": {
    "id": "xDiGiEuOamDA"
   },
   "source": [
    "**train, test data**"
   ]
  },
  {
   "cell_type": "code",
   "execution_count": null,
   "id": "drMWEPurapWJ",
   "metadata": {
    "id": "drMWEPurapWJ"
   },
   "outputs": [],
   "source": [
    "# # train, test data\n",
    "\n",
    "# # train, test 데이터셋 분리 - 여기에도 random_state를 고정합니다. \n",
    "# from sklearn.model_selection import train_test_split\n",
    "# X_train, X_test, y_train, y_test = train_test_split(x_train, y, random_state=2020, test_size=0.2)"
   ]
  },
  {
   "cell_type": "markdown",
   "id": "IfUl3Ia7apux",
   "metadata": {
    "id": "IfUl3Ia7apux"
   },
   "source": [
    "**스테킹 앙상블 실행**"
   ]
  },
  {
   "cell_type": "code",
   "execution_count": null,
   "id": "ix3RGgu2aqHX",
   "metadata": {
    "id": "ix3RGgu2aqHX"
   },
   "outputs": [],
   "source": [
    "# # 스테킹 앙상블 실행\n",
    "\n",
    "# # get_stacking_base_datasets()는 넘파이 ndarray를 인자로 사용하므로 DataFrame을 넘파이로 변환.\n",
    "# X_train_n = X_train.values\n",
    "# X_test_n = X_test.values\n",
    "# y_train_n = y_train.values\n",
    "\n",
    "# # 각 개별 기반(Base) 모델이 생성한 학습용/테스트용 데이터 반환.\n",
    "# gboost_train, gboost_test = get_stacking_base_datasets(gboost, X_train_n, y_train_n, X_test_n, 5)\n",
    "# rdforest_train, rdforest_test = get_stacking_base_datasets(rdforest, X_train_n, y_train_n, X_test_n, 5)\n",
    "# xgb_train, xgb_test = get_stacking_base_datasets(xgboost, X_train_n, y_train_n, X_test_n, 5)\n",
    "# lgbm_train, lgbm_test = get_stacking_base_datasets(lightgbm, X_train_n, y_train_n, X_test_n, 5)\n",
    "\n",
    "# # 개별 모델이 반환환 학습 및 테스트용 데이터 세트를 스테킹 형태로 결합\n",
    "# Stack_final_X_train = np.concatenate((gboost_train, rdforest_train, xgb_train, lgbm_train), axis=1)\n",
    "# Stack_final_X_test = np.concatenate((gboost_test, rdforest_test, xgb_test, lgbm_test), axis=1)"
   ]
  },
  {
   "cell_type": "markdown",
   "id": "gyBPEVoNav0W",
   "metadata": {
    "id": "gyBPEVoNav0W"
   },
   "source": [
    "**최종 모델 실행 및 예측, RMSE값 측정**"
   ]
  },
  {
   "cell_type": "code",
   "execution_count": null,
   "id": "G3DlWepwawOy",
   "metadata": {
    "id": "G3DlWepwawOy"
   },
   "outputs": [],
   "source": [
    "# 최종 메타 모델은 lightgbm 적용\n",
    "meta_model_lgbm = LGBMRegressor(random_state=2020)\n",
    "\n",
    "# 개별 모델 예측값을 기반으로 새롭게 만들어진 학습/테스트 데이터로 메타 모델 예측 및 RMSE 측정.\n",
    "meta_model_lgbm.fit(Stack_final_X_train, y_train)\n",
    "final = meta_model_lgbm.predict(Stack_final_X_test)\n",
    "final = np.expm1(final)\n",
    "mse = mean_squared_error(y_test, final)\n",
    "rmse = np.sqrt(mse)\n",
    "print('스태킹 회귀 모델의 최종 RMSE 값은: ', rmse) # 0.49771333652823163"
   ]
  },
  {
   "cell_type": "markdown",
   "id": "vM8_nfyha1OC",
   "metadata": {
    "id": "vM8_nfyha1OC"
   },
   "source": [
    "### 결과: 스테킹 실시한 결과 RMSE값은 0.498 수준으로 베이스라인 대비 성능 향상 확인"
   ]
  },
  {
   "cell_type": "markdown",
   "id": "A0YSx0N7a41r",
   "metadata": {
    "id": "A0YSx0N7a41r"
   },
   "source": [
    "***"
   ]
  },
  {
   "cell_type": "markdown",
   "id": "ryqfD7lta6oI",
   "metadata": {
    "id": "ryqfD7lta6oI"
   },
   "source": [
    "## 모델 선택 (2) - Random Search\n",
    "- ### 선택 이유: Grid Search보다 높은 성능을 기대할 수 있음\n",
    "\n",
    "*!실행을 위한 코드 작성이 아닌 시도의 결과에 대한 것으로 코드는 주석처리함!*"
   ]
  },
  {
   "cell_type": "markdown",
   "id": "i8WjcPoMa8ot",
   "metadata": {
    "id": "i8WjcPoMa8ot"
   },
   "source": [
    "**Random Search를 위한 파라미터 설정**"
   ]
  },
  {
   "cell_type": "code",
   "execution_count": null,
   "id": "6RgPmGN1a1qU",
   "metadata": {
    "id": "6RgPmGN1a1qU"
   },
   "outputs": [],
   "source": [
    "# from sklearn.model_selection import RandomizedSearchCV\n",
    "# from scipy.stats import randint\n",
    "# param_distribs = { \n",
    "#                 'n_estimators': randint(low=1, high=200), \n",
    "#                 'max_features': randint(low=1, high=8), \n",
    "#                 }\n",
    "\n",
    "# forest_reg = RandomForestRegressor(random_state=2020)\n",
    "# rnd_search = RandomizedSearchCV(forest_reg, param_distributions=param_distribs, n_iter=10, cv=5, scoring='neg_mean_squared_error', random_state=2020)\n",
    "# rnd_search.fit(x_train, y)"
   ]
  },
  {
   "cell_type": "code",
   "execution_count": null,
   "id": "WVtnK9vta--C",
   "metadata": {
    "id": "WVtnK9vta--C"
   },
   "outputs": [],
   "source": [
    "# cvres = rnd_search.cv_results_\n",
    "# for mean_score, params in zip(cvres[\"mean_test_score\"], cvres[\"params\"]):\n",
    "#     print(np.sqrt(-mean_score), params)\n",
    "    \n",
    "# # 0.17340967359484602 {'max_features': 1, 'n_estimators': 137}\n",
    "# # 0.1595232202829273 {'max_features': 4, 'n_estimators': 119}\n",
    "# # 0.15997978425404097 {'max_features': 4, 'n_estimators': 92}\n",
    "# # nan {'max_features': 6, 'n_estimators': 132}\n",
    "# # 0.1733592444613846 {'max_features': 1, 'n_estimators': 158}\n",
    "# # 0.1733055889866064 {'max_features': 1, 'n_estimators': 161}\n",
    "# # 0.1831760406800843 {'max_features': 1, 'n_estimators': 10}\n",
    "# # 0.15918636404581996 {'max_features': 4, 'n_estimators': 140}\n",
    "# # 0.15615464003682003 {'max_features': 3, 'n_estimators': 191} --- 최고 성능\n",
    "# # 0.15958138279837497 {'max_features': 4, 'n_estimators': 103}    "
   ]
  },
  {
   "cell_type": "markdown",
   "id": "Sa207wcRbA55",
   "metadata": {
    "id": "Sa207wcRbA55"
   },
   "source": [
    "### 결과: Random Search 결과 다양한 파라미터를 탐색해 최적의 파라미터 탐색함"
   ]
  },
  {
   "cell_type": "markdown",
   "id": "dETwBsEIbDKm",
   "metadata": {
    "id": "dETwBsEIbDKm"
   },
   "source": [
    "***"
   ]
  },
  {
   "cell_type": "markdown",
   "id": "WUaascEhPTPT",
   "metadata": {
    "id": "WUaascEhPTPT"
   },
   "source": [
    "### 보배"
   ]
  },
  {
   "cell_type": "markdown",
   "id": "XWzQGGH7PTNG",
   "metadata": {
    "id": "XWzQGGH7PTNG"
   },
   "source": [
    "### 1. RMSE 계산(RMSLE, RMSE, MSE)"
   ]
  },
  {
   "cell_type": "code",
   "execution_count": null,
   "id": "j2YicYpSPTK8",
   "metadata": {
    "id": "j2YicYpSPTK8"
   },
   "outputs": [],
   "source": [
    "from sklearn.metrics import mean_squared_error, mean_absolute_error\n",
    "\n",
    "# log 값 변환 시 NaN등의 이슈로 log() 가 아닌 log1p() 를 이용하여 RMSLE 계산\n",
    "def rmsle(y, pred):\n",
    "    log_y = np.log1p(y)\n",
    "    log_pred = np.log1p(pred)\n",
    "    squared_error = (log_y - log_pred) ** 2\n",
    "    rmsle = np.sqrt(np.mean(squared_error))\n",
    "    return rmsle\n",
    "\n",
    "# 사이킷런의 mean_square_error() 를 이용하여 RMSE 계산\n",
    "def rmse(y,pred):\n",
    "    return np.sqrt(mean_squared_error(y,pred))\n",
    "\n",
    "# MSE, RMSE, RMSLE 를 모두 계산 \n",
    "def evaluate_regr(y,pred):\n",
    "    rmsle_val = rmsle(y,pred)\n",
    "    rmse_val = rmse(y,pred)\n",
    "    # MSE 는 scikit learn의 mean_absolute_error() 로 계산\n",
    "    mse_val = mean_absolute_error(y,pred)\n",
    "    print('RMSLE: {0:.3f}, RMSE: {1:.3F}, MSE: {2:.3F}'.format(rmsle_val, rmse_val, mse_val))"
   ]
  },
  {
   "cell_type": "markdown",
   "id": "hByT9v5oPTIj",
   "metadata": {
    "id": "hByT9v5oPTIj"
   },
   "source": [
    "### 2. 학습/테스트 데이터 셋 분할"
   ]
  },
  {
   "cell_type": "code",
   "execution_count": null,
   "id": "oGcuHD99PTGu",
   "metadata": {
    "id": "oGcuHD99PTGu"
   },
   "outputs": [],
   "source": [
    "from sklearn.model_selection import train_test_split , GridSearchCV\n",
    "from sklearn.linear_model import LinearRegression , Ridge , Lasso\n",
    "\n",
    "X_features = x_train\n",
    "y_target = y\n",
    "\n",
    "X_train, X_test, y_train, y_test = train_test_split(X_features, y_target, test_size=0.2, random_state=0)\n",
    "\n",
    "lr_reg = LinearRegression()\n",
    "lr_reg.fit(X_train, y_train)     # 선형회귀모델-학습평가데이터\n",
    "pred = lr_reg.predict(X_test)    # 예측\n",
    "\n",
    "evaluate_regr(y_test,pred)    # 평가"
   ]
  },
  {
   "cell_type": "markdown",
   "id": "h7MygUlvPTDd",
   "metadata": {
    "id": "h7MygUlvPTDd"
   },
   "source": [
    "RMSLE: 0.204, RMSE: 0.486, MSE: 0.341"
   ]
  },
  {
   "cell_type": "markdown",
   "id": "9MRFmqUUPTA9",
   "metadata": {
    "id": "9MRFmqUUPTA9"
   },
   "source": [
    "### 3. 실제 판매량과 예측값 비교"
   ]
  },
  {
   "cell_type": "code",
   "execution_count": null,
   "id": "9MhnmXvoPS2_",
   "metadata": {
    "id": "9MhnmXvoPS2_"
   },
   "outputs": [],
   "source": [
    "def get_top_error_data(y_test, pred, n_tops = 5):\n",
    "    # DataFrame에 컬럼들로 실제 판매량와 예측 값을 서로 비교 할 수 있도록 생성 \n",
    "    result_df = pd.DataFrame(y_test.values, columns=['item_cnt_day'])\n",
    "    result_df['predicted_cnt']= np.round(pred)\n",
    "    result_df['diff'] = np.abs(result_df['item_cnt_day'] - result_df['predicted_cnt'])\n",
    "    # 예측값과 실제값이 가장 큰 데이터 순으로 출력. \n",
    "    print(result_df.sort_values('diff', ascending=False)[:n_tops])\n",
    "    \n",
    "get_top_error_data(y_test,pred,n_tops=10)"
   ]
  },
  {
   "cell_type": "code",
   "execution_count": null,
   "id": "ta7a7ZLHeAcq",
   "metadata": {
    "id": "ta7a7ZLHeAcq"
   },
   "outputs": [],
   "source": [
    "#         item_cnt_day  predicted_cnt      diff\n",
    "# 30673       7.405496            1.0  6.405496\n",
    "# 47994       7.019297            1.0  6.019297\n",
    "# 159245      6.972606            1.0  5.972606\n",
    "# 320346      6.642487            1.0  5.642487\n",
    "# 31770       6.633318            1.0  5.633318\n",
    "# 248604      6.548219            1.0  5.548219\n",
    "# 189955      6.486161            1.0  5.486161\n",
    "# 101706      6.439350            1.0  5.439350\n",
    "# 58198       6.395262            1.0  5.395262"
   ]
  },
  {
   "cell_type": "code",
   "execution_count": null,
   "id": "gbRyYYqeeAUu",
   "metadata": {
    "id": "gbRyYYqeeAUu"
   },
   "outputs": [],
   "source": [
    "# \n",
    "y_target.hist()         "
   ]
  },
  {
   "cell_type": "code",
   "execution_count": null,
   "id": "1hguNxgje7Vj",
   "metadata": {
    "id": "1hguNxgje7Vj"
   },
   "outputs": [],
   "source": [
    "# 회귀계수 값 시각화\n",
    "coef = pd.Series(lr_reg.coef_, index=X_features.columns)\n",
    "coef_sort = coef.sort_values(ascending=False)\n",
    "sns.barplot(x=coef_sort.values, y=coef_sort.index)"
   ]
  },
  {
   "cell_type": "markdown",
   "id": "NPGPEtv5eARb",
   "metadata": {
    "id": "NPGPEtv5eARb"
   },
   "source": [
    "**결과)** 실제 'item_cnt_day'과 예측한 값을 비교하여 차이인 'diff'를 출력하였다. 'item_cnt_day' 데이터에서 최대값과 최소자료의 차이가 큰 것이 문제가 되었다. 소수로 1건씩 판매되는 것과 대량으로 판매되는 것의 수량 차이에서 오는 데이터의 문제가 여기에서도 그대로 확인되었다."
   ]
  },
  {
   "cell_type": "markdown",
   "id": "QIR7GczPe2yh",
   "metadata": {
    "id": "QIR7GczPe2yh"
   },
   "source": [
    "**회귀 계수 값 시각화)** 실제값과 예측값의 차이가 커서 회귀 계수 값을 시각화 하였더니, 'item_price'피처의 회귀계수가 독보적으로 큰 값을 가지고 있다. 회귀모델의 R squar(결정계수, coefficeient of determination)를 뒤늦게 확인하였더니, 설명력이 매우 낮았다. 회귀모델을 선택했으면 독립변수들이 종속변수를 제대로 설명하고 있는지 데이터 전처리 이후에 확인하고 진행했어야 했는데 이 점을 놓쳐서 아쉽다."
   ]
  },
  {
   "cell_type": "markdown",
   "id": "uZP-sKy2e2v5",
   "metadata": {
    "id": "uZP-sKy2e2v5"
   },
   "source": [
    "### 4. 모델별 평가 수행"
   ]
  },
  {
   "cell_type": "code",
   "execution_count": null,
   "id": "9uTpHty4e2td",
   "metadata": {
    "id": "9uTpHty4e2td"
   },
   "outputs": [],
   "source": [
    "# 모델과 학습/테스트 데이터 셋을 입력하면 성능 평가 수치를 반환\n",
    "def get_model_predict(model, X_train, X_test, y_train, y_test, is_expm1=False):\n",
    "    model.fit(X_train, y_train)\n",
    "    pred = model.predict(X_test)\n",
    "    if is_expm1 :\n",
    "        y_test = np.expm1(y_test)\n",
    "        pred = np.expm1(pred)\n",
    "    print('###',model.__class__.__name__,'###')\n",
    "    evaluate_regr(y_test, pred)\n",
    "# end of function get_model_predict    \n",
    "\n",
    "# model 별로 평가 수행\n",
    "lr_reg = LinearRegression()\n",
    "ridge_reg = Ridge(alpha=10)\n",
    "lasso_reg = Lasso(alpha=0.01)\n",
    "\n",
    "for model in [lr_reg, ridge_reg, lasso_reg]:\n",
    "    get_model_predict(model,X_train, X_test, y_train, y_test,is_expm1=True)"
   ]
  },
  {
   "cell_type": "code",
   "execution_count": null,
   "id": "DE1Drsvve2q6",
   "metadata": {
    "id": "DE1Drsvve2q6"
   },
   "outputs": [],
   "source": [
    "# ### LinearRegression ###\n",
    "# RMSLE: 0.485, RMSE: 7.941, MSE: 1.429\n",
    "# ### Ridge ###\n",
    "# RMSLE: 0.485, RMSE: 7.941, MSE: 1.429\n",
    "# ### Lasso ###\n",
    "# RMSLE: 0.485, RMSE: 7.941, MSE: 1.430"
   ]
  },
  {
   "cell_type": "code",
   "execution_count": null,
   "id": "8_eFYmjQe2oR",
   "metadata": {
    "id": "8_eFYmjQe2oR"
   },
   "outputs": [],
   "source": [
    "from sklearn.ensemble import RandomForestRegressor, GradientBoostingRegressor\n",
    "from xgboost import XGBRegressor\n",
    "from lightgbm import LGBMRegressor\n",
    "\n",
    "\n",
    "# 랜덤 포레스트, XGBoost, LightGBM model 별로 평가 수행\n",
    "rf_reg = RandomForestRegressor(n_estimators=500)\n",
    "xgb_reg = XGBRegressor(n_estimators=500)\n",
    "lgbm_reg = LGBMRegressor(n_estimators=500)\n",
    "\n",
    "for model in [rf_reg, xgb_reg, lgbm_reg]:\n",
    "    get_model_predict(model,X_train, X_test, y_train, y_test,is_expm1=True)"
   ]
  },
  {
   "cell_type": "markdown",
   "id": "jqLnSSBle2lp",
   "metadata": {
    "id": "jqLnSSBle2lp"
   },
   "source": [
    "**결과)** 랜덤포레스트, XGBoost, LightGBM model 별로 평가를 시도하려 했으나, 커널이 죽어서 진행이 불가했다."
   ]
  },
  {
   "cell_type": "markdown",
   "id": "vo_DsaBcQAyo",
   "metadata": {
    "id": "vo_DsaBcQAyo"
   },
   "source": [
    "## 회고"
   ]
  },
  {
   "cell_type": "markdown",
   "id": "PDJWl_58QDR8",
   "metadata": {
    "id": "PDJWl_58QDR8"
   },
   "source": [
    "### 창원"
   ]
  },
  {
   "cell_type": "markdown",
   "id": "I-MRBy5Zcysl",
   "metadata": {
    "id": "I-MRBy5Zcysl"
   },
   "source": [
    "1. AIFFEL의 첫 번째 해커톤이라 너무 긴장되었는데 멋진 팀원분들과 만나 서로의 단점을 보완해주고 장점을 극대화시킬 수 있는 시간이었다.\n",
    "2. 이제까지 혼자서 코드를 작성하고 마크다운을 썼는데 함께 하는 과정에서 Github을 활용하고 소통에서 어떻게 접근해야 하는지 알 수 있었다.\n",
    "3. 또한 일정과 업무 관리 등의 전체 기획의 측면에서도 깨달은 것이 많았다.  \n",
    "\n",
    "\n",
    "1. 데이터에 대해 먼저 이야기하면 이상치가 발견되었는데 처리는 아래와 같다. \n",
    "- `item_price`에서 엄청 한 개의 큰 값(보통 5,000 수준인데 30,000)이 있었고, 음수도 존재했다. 이 부분은 과감히 제외시켰다.\n",
    "- `item_cnt_day`에서도 엄청 큰 한개의 값은 제외시켰고, 음수도 있었는데 **환불**로 생각해 그대로 사용하기로 했다.\n",
    "2. 또한 merge를 통해 월별로 데이터를 묶어 합계와 평균을 이용해 데이터 전처리를 했고\n",
    "3. 0으로 나눠지는 로그 문제를 해결하기 위해 `safe_log1p`함수를 만들어 해결했다.\n",
    "4. 데이터 형태가 워낙 까다롭게 느껴져서 우리팀은 새벽 2시까지 전처리에 매달렸고 드디어 모델링 시작  \n",
    "\n",
    "\n",
    "5. 모델링은 각자가 하고 싶은 것을 선정해 진행했다. 나의 경우 스테킹 양상블과 랜덤 서치를 선택했다.\n",
    "6. 스테킹 앙상블은 워낙 성능이 좋다는 말을 들어서 그런지 진짜 확인해보고 싶었고\n",
    "7. 랜덤 서치의 경우 그리드 서치보다 좋다고 하는데 이것도 진짜 그럴까? 하는 마음에 시도해봤다.  \n",
    "\n",
    "\n",
    "8. 스테킹의 경우 결과적으로는 캐글 점수가 기대보다 좋지 않았는데, 스테킹 모델링에 대해 공부해보고 함수도 구현해봤다.\n",
    "9. 스테킹 앙상블이 좋은 이유가 `여러 개의 모델이 학습한 결과를 다시 학습 데이터로 만들어 최종 모델에 입력된다`라는 점이다.\n",
    "10. 베이스라인보다는 개선되었지만 기대했던 향상보다는 미치지 못해 아쉬웠다.  \n",
    "\n",
    "\n",
    "11. 랜덤 서치는 관련 개념과 코드 학습에 시간을 많이 쏟은 탓에 코드 구현이 늦게 되어서 하이퍼파라미터 탐색까지만 시도해 볼 수 있었다.\n",
    "12. 시간이 좀 더 있었다면 학습을 진행할 수 있었을텐데 아쉬움이 남았다.  \n",
    "\n",
    "\n",
    "13. 모델링을 하면서 느낀 점은 `시간과의 싸움`이었다.\n",
    "14. 스테킹과 랜덤서치 모두 오랜 시간이 걸렸으며, 스테킹의 경우 1시간 정도걸렸고 랜덤 서치의 경우 거의 2시간이 걸렸던 것 같다.\n",
    "15. 책이나 강의자료에서 말하는 `시간이 오래 걸린다`의 의미를 피부로 느꼈고, 컴퓨팅 파워도 얼마나 중요한 지 느꼈다.(커널이 계속 죽어ㅠㅠ)  \n",
    "\n",
    "\n",
    "16. 마지막으로 새벽까지 잠 줄여가며 전처리에 큰 공을 세우신 수희님과  \n",
    "17. 날카로운 분석과 체계를 잡아주신 보배님  \n",
    "18. 열심히 따라가며 모델링 시도해본 나에게  \n",
    "\n",
    "\n",
    "### 모두 수고하셨습니다! 👏👏👏"
   ]
  },
  {
   "cell_type": "markdown",
   "id": "b3OrSCJbQDrk",
   "metadata": {
    "id": "b3OrSCJbQDrk"
   },
   "source": [
    "### 보배"
   ]
  },
  {
   "cell_type": "markdown",
   "id": "RdfzPGTGQLY9",
   "metadata": {
    "id": "RdfzPGTGQLY9"
   },
   "source": [
    "제 생에 처음의 해커톤이었습니다. 이번 해커톤의 프로젝트는 test data에 대해 모든 상점에서 판매되는 제품의 총량에 대해 예측하는 것이 목표였습니다. 데이터를 살펴보면 상점 및 제품 목록은 매달 약간 변경이 되었고, 즉 이러한 상황을 처리할 수 있는 강력한 모델을 만드는 것이 이 프로젝트의 도전적 과제 중 하나라고 소개하고 있습니다.\n",
    "\n",
    "그래서 데이터를 살펴보고, 데이터의 전처리 방향을 함께 논의하는데 가장 많은 시간을 보냈던 것 같습니다. 전처리에 많은 시간을 할애하다보니, 지금 생각해보면 미처 시도해보지 못했던 방법이나 진행 중에 확인하며 진행해야 했던 부분들이 뒤늦게 보여 아쉬움이 남았습니다.\n",
    "\n",
    "하지만 이틀 동안 수희님, 창원님과 한 팀이 되어 프로젝트를 진행하면서 그동안 몰랐던 것들을 배울 수 있는 좋은 기회였습니다. 많이 부족하지만, 늦은 새벽 지친 기색 없이 배려 해주신 두분께 감사드립니다.\n"
   ]
  },
  {
   "cell_type": "markdown",
   "id": "9bRUyJFnQD3m",
   "metadata": {
    "id": "9bRUyJFnQD3m"
   },
   "source": [
    "### 수희"
   ]
  },
  {
   "cell_type": "markdown",
   "id": "NGACXvRfQLyH",
   "metadata": {
    "id": "NGACXvRfQLyH"
   },
   "source": [
    "- 처음 캐글에 도전하면서 우여곡절이 많았다.\n",
    "- 가장 큰 깨달음은 전처리의 엄청엄청엄청난 중요성이었다. 프로젝트 마감 3시간 정도전에 전처리 된 데이터들의 R스퀘어 값을 계산해 검증을 거쳐야 한다는 사실을 알게 되어, 스코어를 구했더니 처첨한 결과가 나왔었다. 일반적으로 0.5 이상이 되어야 모델을 돌려볼 가치가 있을텐테 0.2 언저리의 값을 얻었었다. 이 결과가 더 처참하다고 생각되었던 이유는 전날 새벽 2시까지 전처리에만 매달려 있었기 때문이었다. 이를 통해, 목적에 맞는 데이터 전처리 방식에 대해서 더 공부해겠다고 생각이 들었다. ㅠㅠ"
   ]
  }
 ],
 "metadata": {
  "colab": {
   "collapsed_sections": [
    "warming-mouth",
    "forced-broadcasting",
    "resistant-verification",
    "placed-circus",
    "further-statistics",
    "conceptual-aviation",
    "robust-convention",
    "auburn-tooth",
    "relative-school",
    "suitable-penny",
    "killing-barrel",
    "blank-stations",
    "monthly-emergency",
    "atmospheric-panel",
    "sexual-inspiration"
   ],
   "name": "8조_해커톤_210209_baseline_v1_1.ipynb",
   "provenance": []
  },
  "kernelspec": {
   "display_name": "Python 3",
   "language": "python",
   "name": "python3"
  },
  "language_info": {
   "codemirror_mode": {
    "name": "ipython",
    "version": 3
   },
   "file_extension": ".py",
   "mimetype": "text/x-python",
   "name": "python",
   "nbconvert_exporter": "python",
   "pygments_lexer": "ipython3",
   "version": "3.7.9"
  },
  "toc": {
   "base_numbering": 1,
   "nav_menu": {},
   "number_sections": true,
   "sideBar": false,
   "skip_h1_title": false,
   "title_cell": "Table of Contents",
   "title_sidebar": "Contents",
   "toc_cell": false,
   "toc_position": {
    "height": "824px",
    "left": "72px",
    "top": "87px",
    "width": "701.594px"
   },
   "toc_section_display": true,
   "toc_window_display": false
  }
 },
 "nbformat": 4,
 "nbformat_minor": 5
}
