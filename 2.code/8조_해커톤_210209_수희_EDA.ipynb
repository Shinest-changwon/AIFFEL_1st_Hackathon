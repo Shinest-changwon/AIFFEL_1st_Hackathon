{
 "cells": [
  {
   "cell_type": "markdown",
   "id": "smoking-athens",
   "metadata": {},
   "source": [
    "# Preprocessing\n",
    "---"
   ]
  },
  {
   "cell_type": "markdown",
   "id": "accepting-petroleum",
   "metadata": {},
   "source": [
    "## 데이터 불러오기"
   ]
  },
  {
   "cell_type": "code",
   "execution_count": null,
   "id": "naked-forwarding",
   "metadata": {
    "scrolled": true
   },
   "outputs": [],
   "source": [
    "!pwd"
   ]
  },
  {
   "cell_type": "code",
   "execution_count": 1,
   "id": "documentary-sequence",
   "metadata": {},
   "outputs": [],
   "source": [
    "import os\n",
    "from os.path import join\n",
    "\n",
    "import pandas as pd\n",
    "import numpy as np\n",
    "import missingno as msno"
   ]
  },
  {
   "cell_type": "code",
   "execution_count": 81,
   "id": "infrared-glenn",
   "metadata": {},
   "outputs": [
    {
     "name": "stdout",
     "output_type": "stream",
     "text": [
      "train data dim : (2935849, 6)\n",
      "test data dim : (214200, 3)\n",
      "submission dim : (214200, 2)\n",
      "item_categories data dim : (84, 2)\n",
      "items data dim : (22170, 3)\n",
      "shops data dim : (60, 2)\n"
     ]
    }
   ],
   "source": [
    "workspace_dir = os.getenv('HOME') + '/workspace/aiffel-exploration-workspace/E10_kaggle/AIFFEL_1st_Hackathon'\n",
    "data_dir = workspace_dir + '/1.data'\n",
    "code_dir = workspace_dir + '/2.code'\n",
    "\n",
    "train_data_path = join(data_dir, 'sales_train.csv')\n",
    "test_data_path = join(data_dir, 'test.csv')\n",
    "sample_submission_data_path = join(data_dir,'sample_submission.csv')\n",
    "item_categories_data_path = join(data_dir, 'item_categories.csv')\n",
    "items_data_path = join(data_dir, 'items.csv')\n",
    "shops_data_path = join(data_dir, 'shops.csv')\n",
    "\n",
    "train = pd.read_csv(train_data_path)\n",
    "test = pd.read_csv(test_data_path)\n",
    "sample_submission = pd.read_csv(sample_submission_data_path)\n",
    "item_categories = pd.read_csv(item_categories_data_path)\n",
    "items = pd.read_csv(items_data_path)\n",
    "shops = pd.read_csv(shops_data_path)\n",
    "\n",
    "print('train data dim : {}'.format(train.shape)) # 훈련 데이터 형태\n",
    "print('test data dim : {}'.format(test.shape))    # 시험 데이터 형태\n",
    "print('submission dim : {}'.format(sample_submission.shape)) # 제출 샘플 데이터 형태\n",
    "print('item_categories data dim : {}'.format(item_categories.shape)) # 아이템 카데고리 데이터 형태\n",
    "print('items data dim : {}'.format(items.shape)) # 아이템 데이터 형태\n",
    "print('shops data dim : {}'.format(shops.shape)) # 상점 데이터 형태"
   ]
  },
  {
   "cell_type": "code",
   "execution_count": 3,
   "id": "supported-saudi",
   "metadata": {},
   "outputs": [
    {
     "name": "stdout",
     "output_type": "stream",
     "text": [
      "Index(['date', 'date_block_num', 'shop_id', 'item_id', 'item_price',\n",
      "       'item_cnt_day'],\n",
      "      dtype='object')\n",
      "Index(['ID', 'shop_id', 'item_id'], dtype='object')\n",
      "Index(['ID', 'item_cnt_month'], dtype='object')\n",
      "Index(['item_category_name', 'item_category_id'], dtype='object')\n",
      "Index(['item_name', 'item_id', 'item_category_id'], dtype='object')\n",
      "Index(['shop_name', 'shop_id'], dtype='object')\n"
     ]
    }
   ],
   "source": [
    "print(train.columns)\n",
    "print(test.columns)\n",
    "print(sample_submission.columns)\n",
    "print(item_categories.columns)\n",
    "print(items.columns)\n",
    "print(shops.columns)"
   ]
  },
  {
   "cell_type": "markdown",
   "id": "happy-trainer",
   "metadata": {},
   "source": [
    "## EDA 1) 데이터 살펴보기\n",
    "---\n",
    "데이터 의존도가 낮은 순으로 탐색"
   ]
  },
  {
   "cell_type": "markdown",
   "id": "satellite-spank",
   "metadata": {},
   "source": [
    "### item_categories"
   ]
  },
  {
   "cell_type": "markdown",
   "id": "imported-philip",
   "metadata": {},
   "source": [
    "- item_categories.csv의 데이터 프레임\n",
    "- name of item category"
   ]
  },
  {
   "cell_type": "code",
   "execution_count": 4,
   "id": "satisfied-latino",
   "metadata": {},
   "outputs": [
    {
     "name": "stdout",
     "output_type": "stream",
     "text": [
      "<class 'pandas.core.frame.DataFrame'>\n",
      "RangeIndex: 84 entries, 0 to 83\n",
      "Data columns (total 2 columns):\n",
      " #   Column              Non-Null Count  Dtype \n",
      "---  ------              --------------  ----- \n",
      " 0   item_category_name  84 non-null     object\n",
      " 1   item_category_id    84 non-null     int64 \n",
      "dtypes: int64(1), object(1)\n",
      "memory usage: 1.4+ KB\n"
     ]
    }
   ],
   "source": [
    "item_categories.info()"
   ]
  },
  {
   "cell_type": "code",
   "execution_count": 5,
   "id": "emerging-naples",
   "metadata": {},
   "outputs": [
    {
     "data": {
      "text/html": [
       "<div>\n",
       "<style scoped>\n",
       "    .dataframe tbody tr th:only-of-type {\n",
       "        vertical-align: middle;\n",
       "    }\n",
       "\n",
       "    .dataframe tbody tr th {\n",
       "        vertical-align: top;\n",
       "    }\n",
       "\n",
       "    .dataframe thead th {\n",
       "        text-align: right;\n",
       "    }\n",
       "</style>\n",
       "<table border=\"1\" class=\"dataframe\">\n",
       "  <thead>\n",
       "    <tr style=\"text-align: right;\">\n",
       "      <th></th>\n",
       "      <th>item_category_name</th>\n",
       "      <th>item_category_id</th>\n",
       "    </tr>\n",
       "  </thead>\n",
       "  <tbody>\n",
       "    <tr>\n",
       "      <th>74</th>\n",
       "      <td>Программы - MAC (Цифра)</td>\n",
       "      <td>74</td>\n",
       "    </tr>\n",
       "    <tr>\n",
       "      <th>75</th>\n",
       "      <td>Программы - Для дома и офиса</td>\n",
       "      <td>75</td>\n",
       "    </tr>\n",
       "    <tr>\n",
       "      <th>76</th>\n",
       "      <td>Программы - Для дома и офиса (Цифра)</td>\n",
       "      <td>76</td>\n",
       "    </tr>\n",
       "    <tr>\n",
       "      <th>77</th>\n",
       "      <td>Программы - Обучающие</td>\n",
       "      <td>77</td>\n",
       "    </tr>\n",
       "    <tr>\n",
       "      <th>78</th>\n",
       "      <td>Программы - Обучающие (Цифра)</td>\n",
       "      <td>78</td>\n",
       "    </tr>\n",
       "    <tr>\n",
       "      <th>79</th>\n",
       "      <td>Служебные</td>\n",
       "      <td>79</td>\n",
       "    </tr>\n",
       "    <tr>\n",
       "      <th>80</th>\n",
       "      <td>Служебные - Билеты</td>\n",
       "      <td>80</td>\n",
       "    </tr>\n",
       "    <tr>\n",
       "      <th>81</th>\n",
       "      <td>Чистые носители (шпиль)</td>\n",
       "      <td>81</td>\n",
       "    </tr>\n",
       "    <tr>\n",
       "      <th>82</th>\n",
       "      <td>Чистые носители (штучные)</td>\n",
       "      <td>82</td>\n",
       "    </tr>\n",
       "    <tr>\n",
       "      <th>83</th>\n",
       "      <td>Элементы питания</td>\n",
       "      <td>83</td>\n",
       "    </tr>\n",
       "  </tbody>\n",
       "</table>\n",
       "</div>"
      ],
      "text/plain": [
       "                      item_category_name  item_category_id\n",
       "74               Программы - MAC (Цифра)                74\n",
       "75          Программы - Для дома и офиса                75\n",
       "76  Программы - Для дома и офиса (Цифра)                76\n",
       "77                 Программы - Обучающие                77\n",
       "78         Программы - Обучающие (Цифра)                78\n",
       "79                             Служебные                79\n",
       "80                    Служебные - Билеты                80\n",
       "81               Чистые носители (шпиль)                81\n",
       "82             Чистые носители (штучные)                82\n",
       "83                      Элементы питания                83"
      ]
     },
     "execution_count": 5,
     "metadata": {},
     "output_type": "execute_result"
    }
   ],
   "source": [
    "item_categories.tail(10)"
   ]
  },
  {
   "cell_type": "markdown",
   "id": "stock-briefs",
   "metadata": {},
   "source": [
    "- 러시아어로는 데이터를 이해하는 것에 어려움인 있어 item_category_name을 영어로 번역한 item_category_name_eng column을 가지는 문서 파일을 불러와 `item_categories_eng`로 저장하였다."
   ]
  },
  {
   "cell_type": "code",
   "execution_count": 6,
   "id": "wound-governor",
   "metadata": {},
   "outputs": [],
   "source": [
    "item_categories_with_eng_name_data_path = join(data_dir, 'item_category_with_eng_name.csv')\n",
    "item_categories_eng = pd.read_csv(item_categories_with_eng_name_data_path)"
   ]
  },
  {
   "cell_type": "code",
   "execution_count": 7,
   "id": "aware-router",
   "metadata": {},
   "outputs": [
    {
     "name": "stdout",
     "output_type": "stream",
     "text": [
      "<class 'pandas.core.frame.DataFrame'>\n",
      "RangeIndex: 84 entries, 0 to 83\n",
      "Data columns (total 3 columns):\n",
      " #   Column                  Non-Null Count  Dtype \n",
      "---  ------                  --------------  ----- \n",
      " 0   item_category_id        84 non-null     int64 \n",
      " 1   item_category_name      84 non-null     object\n",
      " 2   item_category_name_eng  84 non-null     object\n",
      "dtypes: int64(1), object(2)\n",
      "memory usage: 2.1+ KB\n"
     ]
    }
   ],
   "source": [
    "item_categories_eng.info()"
   ]
  },
  {
   "cell_type": "code",
   "execution_count": 8,
   "id": "fitted-antibody",
   "metadata": {},
   "outputs": [
    {
     "data": {
      "text/html": [
       "<div>\n",
       "<style scoped>\n",
       "    .dataframe tbody tr th:only-of-type {\n",
       "        vertical-align: middle;\n",
       "    }\n",
       "\n",
       "    .dataframe tbody tr th {\n",
       "        vertical-align: top;\n",
       "    }\n",
       "\n",
       "    .dataframe thead th {\n",
       "        text-align: right;\n",
       "    }\n",
       "</style>\n",
       "<table border=\"1\" class=\"dataframe\">\n",
       "  <thead>\n",
       "    <tr style=\"text-align: right;\">\n",
       "      <th></th>\n",
       "      <th>item_category_id</th>\n",
       "      <th>item_category_name</th>\n",
       "      <th>item_category_name_eng</th>\n",
       "    </tr>\n",
       "  </thead>\n",
       "  <tbody>\n",
       "    <tr>\n",
       "      <th>74</th>\n",
       "      <td>74</td>\n",
       "      <td>Программы - MAC (Цифра)</td>\n",
       "      <td>Programs - MAC (Digital)</td>\n",
       "    </tr>\n",
       "    <tr>\n",
       "      <th>75</th>\n",
       "      <td>75</td>\n",
       "      <td>Программы - Для дома и офиса</td>\n",
       "      <td>Programs - For Home and Office</td>\n",
       "    </tr>\n",
       "    <tr>\n",
       "      <th>76</th>\n",
       "      <td>76</td>\n",
       "      <td>Программы - Для дома и офиса (Цифра)</td>\n",
       "      <td>Programs - For Home and Office (Digital)</td>\n",
       "    </tr>\n",
       "    <tr>\n",
       "      <th>77</th>\n",
       "      <td>77</td>\n",
       "      <td>Программы - Обучающие</td>\n",
       "      <td>Programs - Educational</td>\n",
       "    </tr>\n",
       "    <tr>\n",
       "      <th>78</th>\n",
       "      <td>78</td>\n",
       "      <td>Программы - Обучающие (Цифра)</td>\n",
       "      <td>Programs - Educational (Digital)</td>\n",
       "    </tr>\n",
       "    <tr>\n",
       "      <th>79</th>\n",
       "      <td>79</td>\n",
       "      <td>Служебные</td>\n",
       "      <td>Service</td>\n",
       "    </tr>\n",
       "    <tr>\n",
       "      <th>80</th>\n",
       "      <td>80</td>\n",
       "      <td>Служебные - Билеты</td>\n",
       "      <td>Service - Tickets</td>\n",
       "    </tr>\n",
       "    <tr>\n",
       "      <th>81</th>\n",
       "      <td>81</td>\n",
       "      <td>Чистые носители (шпиль)</td>\n",
       "      <td>Blank media (spire)</td>\n",
       "    </tr>\n",
       "    <tr>\n",
       "      <th>82</th>\n",
       "      <td>82</td>\n",
       "      <td>Чистые носители (штучные)</td>\n",
       "      <td>Blank media (piece)</td>\n",
       "    </tr>\n",
       "    <tr>\n",
       "      <th>83</th>\n",
       "      <td>83</td>\n",
       "      <td>Элементы питания</td>\n",
       "      <td>Batteries</td>\n",
       "    </tr>\n",
       "  </tbody>\n",
       "</table>\n",
       "</div>"
      ],
      "text/plain": [
       "    item_category_id                    item_category_name  \\\n",
       "74                74               Программы - MAC (Цифра)   \n",
       "75                75          Программы - Для дома и офиса   \n",
       "76                76  Программы - Для дома и офиса (Цифра)   \n",
       "77                77                 Программы - Обучающие   \n",
       "78                78         Программы - Обучающие (Цифра)   \n",
       "79                79                             Служебные   \n",
       "80                80                    Служебные - Билеты   \n",
       "81                81               Чистые носители (шпиль)   \n",
       "82                82             Чистые носители (штучные)   \n",
       "83                83                      Элементы питания   \n",
       "\n",
       "                      item_category_name_eng  \n",
       "74                  Programs - MAC (Digital)  \n",
       "75            Programs - For Home and Office  \n",
       "76  Programs - For Home and Office (Digital)  \n",
       "77                    Programs - Educational  \n",
       "78          Programs - Educational (Digital)  \n",
       "79                                   Service  \n",
       "80                         Service - Tickets  \n",
       "81                       Blank media (spire)  \n",
       "82                       Blank media (piece)  \n",
       "83                                 Batteries  "
      ]
     },
     "execution_count": 8,
     "metadata": {},
     "output_type": "execute_result"
    }
   ],
   "source": [
    "item_categories_eng.tail(10)"
   ]
  },
  {
   "cell_type": "markdown",
   "id": "square-debut",
   "metadata": {},
   "source": [
    "- 결측치 확인"
   ]
  },
  {
   "cell_type": "code",
   "execution_count": 9,
   "id": "blank-ranking",
   "metadata": {},
   "outputs": [
    {
     "data": {
      "text/plain": [
       "item_category_id          0\n",
       "item_category_name        0\n",
       "item_category_name_eng    0\n",
       "dtype: int64"
      ]
     },
     "execution_count": 9,
     "metadata": {},
     "output_type": "execute_result"
    }
   ],
   "source": [
    "np.sum(pd.isnull(item_categories_eng))"
   ]
  },
  {
   "cell_type": "markdown",
   "id": "union-optics",
   "metadata": {},
   "source": [
    "- `get_item_category_name(id, lang=\"ru\")`"
   ]
  },
  {
   "cell_type": "code",
   "execution_count": 10,
   "id": "thermal-syndicate",
   "metadata": {},
   "outputs": [],
   "source": [
    "def get_item_category_name(id, lang=\"ru\"):\n",
    "    item = item_categories_eng[item_categories_eng['item_category_id'] == id].reset_index(drop=True)\n",
    "    if len(item) <= 0 : print(f'[get_item_category_name] Invalid id {id}')\n",
    "    elif lang == \"ru\": return item.loc[0]['item_category_name']\n",
    "    elif lang == \"eng\": return item.loc[0]['item_category_name_eng']"
   ]
  },
  {
   "cell_type": "code",
   "execution_count": 11,
   "id": "brown-laser",
   "metadata": {},
   "outputs": [
    {
     "name": "stdout",
     "output_type": "stream",
     "text": [
      "[get_item_category_name] Invalid id 84\n"
     ]
    },
    {
     "data": {
      "text/plain": [
       "('Элементы питания', 'Batteries', None)"
      ]
     },
     "execution_count": 11,
     "metadata": {},
     "output_type": "execute_result"
    }
   ],
   "source": [
    "get_item_category_name(83), get_item_category_name(83, 'eng'), get_item_category_name(84)"
   ]
  },
  {
   "cell_type": "markdown",
   "id": "inside-volume",
   "metadata": {},
   "source": [
    "### items"
   ]
  },
  {
   "cell_type": "markdown",
   "id": "varied-juvenile",
   "metadata": {},
   "source": [
    "- items.csv의 데이터 프레임\n",
    "- 판매 품목의 id, name, category(FK, item_categories.item_category_id)에 관한 정보를 가지고 있다."
   ]
  },
  {
   "cell_type": "code",
   "execution_count": 12,
   "id": "express-replica",
   "metadata": {},
   "outputs": [
    {
     "name": "stdout",
     "output_type": "stream",
     "text": [
      "<class 'pandas.core.frame.DataFrame'>\n",
      "RangeIndex: 22170 entries, 0 to 22169\n",
      "Data columns (total 3 columns):\n",
      " #   Column            Non-Null Count  Dtype \n",
      "---  ------            --------------  ----- \n",
      " 0   item_name         22170 non-null  object\n",
      " 1   item_id           22170 non-null  int64 \n",
      " 2   item_category_id  22170 non-null  int64 \n",
      "dtypes: int64(2), object(1)\n",
      "memory usage: 519.7+ KB\n"
     ]
    }
   ],
   "source": [
    "items.info()"
   ]
  },
  {
   "cell_type": "code",
   "execution_count": 13,
   "id": "radical-people",
   "metadata": {},
   "outputs": [
    {
     "data": {
      "text/html": [
       "<div>\n",
       "<style scoped>\n",
       "    .dataframe tbody tr th:only-of-type {\n",
       "        vertical-align: middle;\n",
       "    }\n",
       "\n",
       "    .dataframe tbody tr th {\n",
       "        vertical-align: top;\n",
       "    }\n",
       "\n",
       "    .dataframe thead th {\n",
       "        text-align: right;\n",
       "    }\n",
       "</style>\n",
       "<table border=\"1\" class=\"dataframe\">\n",
       "  <thead>\n",
       "    <tr style=\"text-align: right;\">\n",
       "      <th></th>\n",
       "      <th>item_name</th>\n",
       "      <th>item_id</th>\n",
       "      <th>item_category_id</th>\n",
       "    </tr>\n",
       "  </thead>\n",
       "  <tbody>\n",
       "    <tr>\n",
       "      <th>22160</th>\n",
       "      <td>ЯРМАРКА ТЩЕСЛАВИЯ (Регион)</td>\n",
       "      <td>22160</td>\n",
       "      <td>40</td>\n",
       "    </tr>\n",
       "    <tr>\n",
       "      <th>22161</th>\n",
       "      <td>ЯРОСЛАВ. ТЫСЯЧУ ЛЕТ НАЗАД э (BD)</td>\n",
       "      <td>22161</td>\n",
       "      <td>37</td>\n",
       "    </tr>\n",
       "    <tr>\n",
       "      <th>22162</th>\n",
       "      <td>ЯРОСТЬ</td>\n",
       "      <td>22162</td>\n",
       "      <td>40</td>\n",
       "    </tr>\n",
       "    <tr>\n",
       "      <th>22163</th>\n",
       "      <td>ЯРОСТЬ ( регион)</td>\n",
       "      <td>22163</td>\n",
       "      <td>40</td>\n",
       "    </tr>\n",
       "    <tr>\n",
       "      <th>22164</th>\n",
       "      <td>ЯРОСТЬ (BD)</td>\n",
       "      <td>22164</td>\n",
       "      <td>37</td>\n",
       "    </tr>\n",
       "    <tr>\n",
       "      <th>22165</th>\n",
       "      <td>Ядерный титбит 2 [PC, Цифровая версия]</td>\n",
       "      <td>22165</td>\n",
       "      <td>31</td>\n",
       "    </tr>\n",
       "    <tr>\n",
       "      <th>22166</th>\n",
       "      <td>Язык запросов 1С:Предприятия  [Цифровая версия]</td>\n",
       "      <td>22166</td>\n",
       "      <td>54</td>\n",
       "    </tr>\n",
       "    <tr>\n",
       "      <th>22167</th>\n",
       "      <td>Язык запросов 1С:Предприятия 8 (+CD). Хрустале...</td>\n",
       "      <td>22167</td>\n",
       "      <td>49</td>\n",
       "    </tr>\n",
       "    <tr>\n",
       "      <th>22168</th>\n",
       "      <td>Яйцо для Little Inu</td>\n",
       "      <td>22168</td>\n",
       "      <td>62</td>\n",
       "    </tr>\n",
       "    <tr>\n",
       "      <th>22169</th>\n",
       "      <td>Яйцо дракона (Игра престолов)</td>\n",
       "      <td>22169</td>\n",
       "      <td>69</td>\n",
       "    </tr>\n",
       "  </tbody>\n",
       "</table>\n",
       "</div>"
      ],
      "text/plain": [
       "                                               item_name  item_id  \\\n",
       "22160                         ЯРМАРКА ТЩЕСЛАВИЯ (Регион)    22160   \n",
       "22161                   ЯРОСЛАВ. ТЫСЯЧУ ЛЕТ НАЗАД э (BD)    22161   \n",
       "22162                                             ЯРОСТЬ    22162   \n",
       "22163                                   ЯРОСТЬ ( регион)    22163   \n",
       "22164                                        ЯРОСТЬ (BD)    22164   \n",
       "22165             Ядерный титбит 2 [PC, Цифровая версия]    22165   \n",
       "22166    Язык запросов 1С:Предприятия  [Цифровая версия]    22166   \n",
       "22167  Язык запросов 1С:Предприятия 8 (+CD). Хрустале...    22167   \n",
       "22168                                Яйцо для Little Inu    22168   \n",
       "22169                      Яйцо дракона (Игра престолов)    22169   \n",
       "\n",
       "       item_category_id  \n",
       "22160                40  \n",
       "22161                37  \n",
       "22162                40  \n",
       "22163                40  \n",
       "22164                37  \n",
       "22165                31  \n",
       "22166                54  \n",
       "22167                49  \n",
       "22168                62  \n",
       "22169                69  "
      ]
     },
     "execution_count": 13,
     "metadata": {},
     "output_type": "execute_result"
    }
   ],
   "source": [
    "items.tail(10)"
   ]
  },
  {
   "cell_type": "markdown",
   "id": "adjusted-retro",
   "metadata": {},
   "source": [
    "- 결측치 확인"
   ]
  },
  {
   "cell_type": "code",
   "execution_count": 14,
   "id": "waiting-speech",
   "metadata": {},
   "outputs": [
    {
     "data": {
      "text/plain": [
       "item_name           0\n",
       "item_id             0\n",
       "item_category_id    0\n",
       "dtype: int64"
      ]
     },
     "execution_count": 14,
     "metadata": {},
     "output_type": "execute_result"
    }
   ],
   "source": [
    "np.sum(pd.isnull(items))"
   ]
  },
  {
   "cell_type": "markdown",
   "id": "falling-breeding",
   "metadata": {},
   "source": [
    "- `get_item_name(id)`"
   ]
  },
  {
   "cell_type": "code",
   "execution_count": 15,
   "id": "racial-thirty",
   "metadata": {},
   "outputs": [],
   "source": [
    "def get_item_name(id, lang=\"ru\"):\n",
    "    item = items[items['item_id'] == id].reset_index(drop=True)\n",
    "    return item.loc[0]['item_name'] if len(item) > 0 else print(f'[get_item_name] Invalid id {id}')"
   ]
  },
  {
   "cell_type": "markdown",
   "id": "suited-edgar",
   "metadata": {},
   "source": [
    "- get_item_category_id(id):"
   ]
  },
  {
   "cell_type": "code",
   "execution_count": 16,
   "id": "alien-nomination",
   "metadata": {},
   "outputs": [],
   "source": [
    "def get_item_category_id(id):\n",
    "    item = items[items['item_id'] == id].reset_index(drop=True)\n",
    "    return item.loc[0]['item_category_id'] if len(item) > 0 else print(f'[get_item_name] Invalid id {id}')"
   ]
  },
  {
   "cell_type": "code",
   "execution_count": 17,
   "id": "effective-cooler",
   "metadata": {},
   "outputs": [
    {
     "name": "stdout",
     "output_type": "stream",
     "text": [
      "[get_item_name] Invalid id 22170\n"
     ]
    },
    {
     "data": {
      "text/plain": [
       "('Яйцо дракона (Игра престолов)', None)"
      ]
     },
     "execution_count": 17,
     "metadata": {},
     "output_type": "execute_result"
    }
   ],
   "source": [
    "get_item_name(22169), get_item_name(22170)"
   ]
  },
  {
   "cell_type": "markdown",
   "id": "negative-reception",
   "metadata": {},
   "source": [
    "### shops"
   ]
  },
  {
   "cell_type": "markdown",
   "id": "second-simulation",
   "metadata": {},
   "source": [
    "- shops.csv의 데이터 프레임\n",
    "- 가게의 id, name에 관한 정보를 가지고 있다."
   ]
  },
  {
   "cell_type": "code",
   "execution_count": 18,
   "id": "instant-sarah",
   "metadata": {},
   "outputs": [
    {
     "name": "stdout",
     "output_type": "stream",
     "text": [
      "<class 'pandas.core.frame.DataFrame'>\n",
      "RangeIndex: 60 entries, 0 to 59\n",
      "Data columns (total 2 columns):\n",
      " #   Column     Non-Null Count  Dtype \n",
      "---  ------     --------------  ----- \n",
      " 0   shop_name  60 non-null     object\n",
      " 1   shop_id    60 non-null     int64 \n",
      "dtypes: int64(1), object(1)\n",
      "memory usage: 1.1+ KB\n"
     ]
    }
   ],
   "source": [
    "shops.info()"
   ]
  },
  {
   "cell_type": "code",
   "execution_count": 19,
   "id": "bored-kentucky",
   "metadata": {},
   "outputs": [
    {
     "data": {
      "text/html": [
       "<div>\n",
       "<style scoped>\n",
       "    .dataframe tbody tr th:only-of-type {\n",
       "        vertical-align: middle;\n",
       "    }\n",
       "\n",
       "    .dataframe tbody tr th {\n",
       "        vertical-align: top;\n",
       "    }\n",
       "\n",
       "    .dataframe thead th {\n",
       "        text-align: right;\n",
       "    }\n",
       "</style>\n",
       "<table border=\"1\" class=\"dataframe\">\n",
       "  <thead>\n",
       "    <tr style=\"text-align: right;\">\n",
       "      <th></th>\n",
       "      <th>shop_name</th>\n",
       "      <th>shop_id</th>\n",
       "    </tr>\n",
       "  </thead>\n",
       "  <tbody>\n",
       "    <tr>\n",
       "      <th>50</th>\n",
       "      <td>Тюмень ТЦ \"Гудвин\"</td>\n",
       "      <td>50</td>\n",
       "    </tr>\n",
       "    <tr>\n",
       "      <th>51</th>\n",
       "      <td>Тюмень ТЦ \"Зеленый Берег\"</td>\n",
       "      <td>51</td>\n",
       "    </tr>\n",
       "    <tr>\n",
       "      <th>52</th>\n",
       "      <td>Уфа ТК \"Центральный\"</td>\n",
       "      <td>52</td>\n",
       "    </tr>\n",
       "    <tr>\n",
       "      <th>53</th>\n",
       "      <td>Уфа ТЦ \"Семья\" 2</td>\n",
       "      <td>53</td>\n",
       "    </tr>\n",
       "    <tr>\n",
       "      <th>54</th>\n",
       "      <td>Химки ТЦ \"Мега\"</td>\n",
       "      <td>54</td>\n",
       "    </tr>\n",
       "    <tr>\n",
       "      <th>55</th>\n",
       "      <td>Цифровой склад 1С-Онлайн</td>\n",
       "      <td>55</td>\n",
       "    </tr>\n",
       "    <tr>\n",
       "      <th>56</th>\n",
       "      <td>Чехов ТРЦ \"Карнавал\"</td>\n",
       "      <td>56</td>\n",
       "    </tr>\n",
       "    <tr>\n",
       "      <th>57</th>\n",
       "      <td>Якутск Орджоникидзе, 56</td>\n",
       "      <td>57</td>\n",
       "    </tr>\n",
       "    <tr>\n",
       "      <th>58</th>\n",
       "      <td>Якутск ТЦ \"Центральный\"</td>\n",
       "      <td>58</td>\n",
       "    </tr>\n",
       "    <tr>\n",
       "      <th>59</th>\n",
       "      <td>Ярославль ТЦ \"Альтаир\"</td>\n",
       "      <td>59</td>\n",
       "    </tr>\n",
       "  </tbody>\n",
       "</table>\n",
       "</div>"
      ],
      "text/plain": [
       "                    shop_name  shop_id\n",
       "50         Тюмень ТЦ \"Гудвин\"       50\n",
       "51  Тюмень ТЦ \"Зеленый Берег\"       51\n",
       "52       Уфа ТК \"Центральный\"       52\n",
       "53           Уфа ТЦ \"Семья\" 2       53\n",
       "54            Химки ТЦ \"Мега\"       54\n",
       "55   Цифровой склад 1С-Онлайн       55\n",
       "56       Чехов ТРЦ \"Карнавал\"       56\n",
       "57    Якутск Орджоникидзе, 56       57\n",
       "58    Якутск ТЦ \"Центральный\"       58\n",
       "59     Ярославль ТЦ \"Альтаир\"       59"
      ]
     },
     "execution_count": 19,
     "metadata": {},
     "output_type": "execute_result"
    }
   ],
   "source": [
    "shops.tail(10)"
   ]
  },
  {
   "cell_type": "markdown",
   "id": "systematic-radical",
   "metadata": {},
   "source": [
    "- 결측치 확인"
   ]
  },
  {
   "cell_type": "code",
   "execution_count": 20,
   "id": "meaning-member",
   "metadata": {},
   "outputs": [
    {
     "data": {
      "text/plain": [
       "shop_name    0\n",
       "shop_id      0\n",
       "dtype: int64"
      ]
     },
     "execution_count": 20,
     "metadata": {},
     "output_type": "execute_result"
    }
   ],
   "source": [
    "np.sum(pd.isnull(shops))"
   ]
  },
  {
   "cell_type": "markdown",
   "id": "embedded-transparency",
   "metadata": {},
   "source": [
    "### train"
   ]
  },
  {
   "cell_type": "code",
   "execution_count": 21,
   "id": "under-message",
   "metadata": {},
   "outputs": [
    {
     "name": "stdout",
     "output_type": "stream",
     "text": [
      "<class 'pandas.core.frame.DataFrame'>\n",
      "RangeIndex: 2935849 entries, 0 to 2935848\n",
      "Data columns (total 6 columns):\n",
      " #   Column          Dtype  \n",
      "---  ------          -----  \n",
      " 0   date            object \n",
      " 1   date_block_num  int64  \n",
      " 2   shop_id         int64  \n",
      " 3   item_id         int64  \n",
      " 4   item_price      float64\n",
      " 5   item_cnt_day    float64\n",
      "dtypes: float64(2), int64(3), object(1)\n",
      "memory usage: 134.4+ MB\n"
     ]
    }
   ],
   "source": [
    "train.info()"
   ]
  },
  {
   "cell_type": "code",
   "execution_count": 31,
   "id": "located-concentration",
   "metadata": {},
   "outputs": [
    {
     "data": {
      "text/html": [
       "<div>\n",
       "<style scoped>\n",
       "    .dataframe tbody tr th:only-of-type {\n",
       "        vertical-align: middle;\n",
       "    }\n",
       "\n",
       "    .dataframe tbody tr th {\n",
       "        vertical-align: top;\n",
       "    }\n",
       "\n",
       "    .dataframe thead th {\n",
       "        text-align: right;\n",
       "    }\n",
       "</style>\n",
       "<table border=\"1\" class=\"dataframe\">\n",
       "  <thead>\n",
       "    <tr style=\"text-align: right;\">\n",
       "      <th></th>\n",
       "      <th>date</th>\n",
       "      <th>date_block_num</th>\n",
       "      <th>shop_id</th>\n",
       "      <th>item_id</th>\n",
       "      <th>item_price</th>\n",
       "      <th>item_cnt_day</th>\n",
       "    </tr>\n",
       "  </thead>\n",
       "  <tbody>\n",
       "    <tr>\n",
       "      <th>0</th>\n",
       "      <td>20130102</td>\n",
       "      <td>0</td>\n",
       "      <td>59</td>\n",
       "      <td>22154</td>\n",
       "      <td>999.00</td>\n",
       "      <td>1.0</td>\n",
       "    </tr>\n",
       "    <tr>\n",
       "      <th>1</th>\n",
       "      <td>20130103</td>\n",
       "      <td>0</td>\n",
       "      <td>25</td>\n",
       "      <td>2552</td>\n",
       "      <td>899.00</td>\n",
       "      <td>1.0</td>\n",
       "    </tr>\n",
       "    <tr>\n",
       "      <th>2</th>\n",
       "      <td>20130105</td>\n",
       "      <td>0</td>\n",
       "      <td>25</td>\n",
       "      <td>2552</td>\n",
       "      <td>899.00</td>\n",
       "      <td>-1.0</td>\n",
       "    </tr>\n",
       "    <tr>\n",
       "      <th>3</th>\n",
       "      <td>20130106</td>\n",
       "      <td>0</td>\n",
       "      <td>25</td>\n",
       "      <td>2554</td>\n",
       "      <td>1709.05</td>\n",
       "      <td>1.0</td>\n",
       "    </tr>\n",
       "    <tr>\n",
       "      <th>4</th>\n",
       "      <td>20130115</td>\n",
       "      <td>0</td>\n",
       "      <td>25</td>\n",
       "      <td>2555</td>\n",
       "      <td>1099.00</td>\n",
       "      <td>1.0</td>\n",
       "    </tr>\n",
       "    <tr>\n",
       "      <th>...</th>\n",
       "      <td>...</td>\n",
       "      <td>...</td>\n",
       "      <td>...</td>\n",
       "      <td>...</td>\n",
       "      <td>...</td>\n",
       "      <td>...</td>\n",
       "    </tr>\n",
       "    <tr>\n",
       "      <th>2935844</th>\n",
       "      <td>20151010</td>\n",
       "      <td>33</td>\n",
       "      <td>25</td>\n",
       "      <td>7409</td>\n",
       "      <td>299.00</td>\n",
       "      <td>1.0</td>\n",
       "    </tr>\n",
       "    <tr>\n",
       "      <th>2935845</th>\n",
       "      <td>20151009</td>\n",
       "      <td>33</td>\n",
       "      <td>25</td>\n",
       "      <td>7460</td>\n",
       "      <td>299.00</td>\n",
       "      <td>1.0</td>\n",
       "    </tr>\n",
       "    <tr>\n",
       "      <th>2935846</th>\n",
       "      <td>20151014</td>\n",
       "      <td>33</td>\n",
       "      <td>25</td>\n",
       "      <td>7459</td>\n",
       "      <td>349.00</td>\n",
       "      <td>1.0</td>\n",
       "    </tr>\n",
       "    <tr>\n",
       "      <th>2935847</th>\n",
       "      <td>20151022</td>\n",
       "      <td>33</td>\n",
       "      <td>25</td>\n",
       "      <td>7440</td>\n",
       "      <td>299.00</td>\n",
       "      <td>1.0</td>\n",
       "    </tr>\n",
       "    <tr>\n",
       "      <th>2935848</th>\n",
       "      <td>20151003</td>\n",
       "      <td>33</td>\n",
       "      <td>25</td>\n",
       "      <td>7460</td>\n",
       "      <td>299.00</td>\n",
       "      <td>1.0</td>\n",
       "    </tr>\n",
       "  </tbody>\n",
       "</table>\n",
       "<p>2935849 rows × 6 columns</p>\n",
       "</div>"
      ],
      "text/plain": [
       "             date  date_block_num  shop_id  item_id  item_price  item_cnt_day\n",
       "0        20130102               0       59    22154      999.00           1.0\n",
       "1        20130103               0       25     2552      899.00           1.0\n",
       "2        20130105               0       25     2552      899.00          -1.0\n",
       "3        20130106               0       25     2554     1709.05           1.0\n",
       "4        20130115               0       25     2555     1099.00           1.0\n",
       "...           ...             ...      ...      ...         ...           ...\n",
       "2935844  20151010              33       25     7409      299.00           1.0\n",
       "2935845  20151009              33       25     7460      299.00           1.0\n",
       "2935846  20151014              33       25     7459      349.00           1.0\n",
       "2935847  20151022              33       25     7440      299.00           1.0\n",
       "2935848  20151003              33       25     7460      299.00           1.0\n",
       "\n",
       "[2935849 rows x 6 columns]"
      ]
     },
     "execution_count": 31,
     "metadata": {},
     "output_type": "execute_result"
    }
   ],
   "source": [
    "train"
   ]
  },
  {
   "cell_type": "markdown",
   "id": "unavailable-number",
   "metadata": {},
   "source": [
    "- date가 '일/월/년' 순이기 때문에 sort를 하거나 할 때 불편한 사항이 있다. date의 format을 '년월일'로 변경한다."
   ]
  },
  {
   "cell_type": "code",
   "execution_count": 22,
   "id": "seventh-gregory",
   "metadata": {},
   "outputs": [],
   "source": [
    "def change_date(date):\n",
    "    splited = date.split('.')\n",
    "    return f'{splited[2]}{splited[1]}{splited[0]}'\n",
    "train['date'] = train['date'].apply(change_date).astype(str)"
   ]
  },
  {
   "cell_type": "code",
   "execution_count": 23,
   "id": "automated-breathing",
   "metadata": {},
   "outputs": [
    {
     "data": {
      "text/html": [
       "<div>\n",
       "<style scoped>\n",
       "    .dataframe tbody tr th:only-of-type {\n",
       "        vertical-align: middle;\n",
       "    }\n",
       "\n",
       "    .dataframe tbody tr th {\n",
       "        vertical-align: top;\n",
       "    }\n",
       "\n",
       "    .dataframe thead th {\n",
       "        text-align: right;\n",
       "    }\n",
       "</style>\n",
       "<table border=\"1\" class=\"dataframe\">\n",
       "  <thead>\n",
       "    <tr style=\"text-align: right;\">\n",
       "      <th></th>\n",
       "      <th>date</th>\n",
       "      <th>date_block_num</th>\n",
       "      <th>shop_id</th>\n",
       "      <th>item_id</th>\n",
       "      <th>item_price</th>\n",
       "      <th>item_cnt_day</th>\n",
       "    </tr>\n",
       "  </thead>\n",
       "  <tbody>\n",
       "    <tr>\n",
       "      <th>count</th>\n",
       "      <td>2935849</td>\n",
       "      <td>2935849</td>\n",
       "      <td>2935849</td>\n",
       "      <td>2935849</td>\n",
       "      <td>2935849.0</td>\n",
       "      <td>2935849.0</td>\n",
       "    </tr>\n",
       "    <tr>\n",
       "      <th>min</th>\n",
       "      <td>20130101</td>\n",
       "      <td>0</td>\n",
       "      <td>0</td>\n",
       "      <td>0</td>\n",
       "      <td>-1.0</td>\n",
       "      <td>-22.0</td>\n",
       "    </tr>\n",
       "    <tr>\n",
       "      <th>max</th>\n",
       "      <td>20151031</td>\n",
       "      <td>33</td>\n",
       "      <td>59</td>\n",
       "      <td>22169</td>\n",
       "      <td>307980.0</td>\n",
       "      <td>2169.0</td>\n",
       "    </tr>\n",
       "  </tbody>\n",
       "</table>\n",
       "</div>"
      ],
      "text/plain": [
       "           date  date_block_num  shop_id  item_id  item_price  item_cnt_day\n",
       "count   2935849         2935849  2935849  2935849   2935849.0     2935849.0\n",
       "min    20130101               0        0        0        -1.0         -22.0\n",
       "max    20151031              33       59    22169    307980.0        2169.0"
      ]
     },
     "execution_count": 23,
     "metadata": {},
     "output_type": "execute_result"
    }
   ],
   "source": [
    "# mean 하지 말것, 터짐\n",
    "train.agg(['count','min','max'])"
   ]
  },
  {
   "cell_type": "markdown",
   "id": "simplified-movement",
   "metadata": {},
   "source": [
    "- 데이터 유효성 확인\n",
    "    1. train.shop_id는 shop.shop_id에 존재해야 한다.\n",
    "    2. train.item_id는 shop.item_id에 존재해야 한다.\n",
    "    3. date와 date_block_num가 알맞게 매치되어야 한다."
   ]
  },
  {
   "cell_type": "code",
   "execution_count": 24,
   "id": "blessed-denver",
   "metadata": {},
   "outputs": [
    {
     "data": {
      "text/plain": [
       "True"
      ]
     },
     "execution_count": 24,
     "metadata": {},
     "output_type": "execute_result"
    }
   ],
   "source": [
    "# train.shop_id는 shop.shop_id에 존재해야 한다.\n",
    "train_shop = train['shop_id'].unique()\n",
    "shops_shop = shops['shop_id'].unique()\n",
    "\n",
    "is_shop_exist = lambda x : x in shops_shop\n",
    "validation_shop_id_res = np.array([ is_shop_exist(shop) for shop in train_shop ])\n",
    "validation_shop_id_res.all()"
   ]
  },
  {
   "cell_type": "code",
   "execution_count": 25,
   "id": "numerical-professor",
   "metadata": {},
   "outputs": [
    {
     "data": {
      "text/plain": [
       "False"
      ]
     },
     "execution_count": 25,
     "metadata": {},
     "output_type": "execute_result"
    }
   ],
   "source": [
    "test = np.array([ is_shop_exist(shop) for shop in [70, 80] ])\n",
    "test.all()"
   ]
  },
  {
   "cell_type": "code",
   "execution_count": 27,
   "id": "bulgarian-transsexual",
   "metadata": {},
   "outputs": [
    {
     "data": {
      "text/plain": [
       "True"
      ]
     },
     "execution_count": 27,
     "metadata": {},
     "output_type": "execute_result"
    }
   ],
   "source": [
    "# train.item_id는 shop.item_id에 존재해야 한다.\n",
    "train_item = train['item_id'].unique()\n",
    "items_item = items['item_id'].unique()\n",
    "\n",
    "is_item_exist = lambda x : x in items_item\n",
    "validation_item_id_res = np.array([ is_item_exist(item) for item in train_item ])\n",
    "validation_item_id_res.all()"
   ]
  },
  {
   "cell_type": "code",
   "execution_count": null,
   "id": "hired-stopping",
   "metadata": {},
   "outputs": [],
   "source": [
    "# date와 date_block_num가 알맞게 매치되어야 한다."
   ]
  },
  {
   "cell_type": "code",
   "execution_count": 52,
   "id": "sudden-going",
   "metadata": {
    "scrolled": true
   },
   "outputs": [
    {
     "data": {
      "text/plain": [
       "{'201301': 0,\n",
       " '201302': 1,\n",
       " '201303': 2,\n",
       " '201304': 3,\n",
       " '201305': 4,\n",
       " '201306': 5,\n",
       " '201307': 6,\n",
       " '201308': 7,\n",
       " '201309': 8,\n",
       " '201310': 9,\n",
       " '201311': 10,\n",
       " '201312': 11,\n",
       " '201401': 12,\n",
       " '201402': 13,\n",
       " '201403': 14,\n",
       " '201404': 15,\n",
       " '201405': 16,\n",
       " '201406': 17,\n",
       " '201407': 18,\n",
       " '201408': 19,\n",
       " '201409': 20,\n",
       " '201410': 21,\n",
       " '201411': 22,\n",
       " '201412': 23,\n",
       " '201501': 24,\n",
       " '201502': 25,\n",
       " '201503': 26,\n",
       " '201504': 27,\n",
       " '201505': 28,\n",
       " '201506': 29,\n",
       " '201507': 30,\n",
       " '201508': 31,\n",
       " '201509': 32,\n",
       " '201510': 33,\n",
       " '201511': 34,\n",
       " '201512': 35}"
      ]
     },
     "execution_count": 52,
     "metadata": {},
     "output_type": "execute_result"
    }
   ],
   "source": [
    "year = ['2013', '2014', '2015']\n",
    "month = ['01','02','03','04','05','06','07','08','09','10','11','12']\n",
    "date_block_list = [ f'{y}{m}' for y in year for m in month ]\n",
    "date_block_num_dict = { n : i for i, n in enumerate(date_block_list)}\n",
    "date_block_num_dict"
   ]
  },
  {
   "cell_type": "code",
   "execution_count": 77,
   "id": "hairy-creation",
   "metadata": {},
   "outputs": [
    {
     "data": {
      "text/plain": [
       "True"
      ]
     },
     "execution_count": 77,
     "metadata": {},
     "output_type": "execute_result"
    }
   ],
   "source": [
    "train_date = train.loc[:, 'date':'date_block_num'].values\n",
    "is_correct_block_num = lambda d, dn: True if date_block_num_dict[d] == dn else False\n",
    "res = np.array([ is_correct_block_num(d[:6], dn) for d, dn in train_date ])\n",
    "res.all()"
   ]
  },
  {
   "cell_type": "markdown",
   "id": "extended-reform",
   "metadata": {},
   "source": [
    "- 확인 결과, train의 item_id, shop_id, date_block_num은 유효한 데이터이다."
   ]
  },
  {
   "cell_type": "markdown",
   "id": "overall-forty",
   "metadata": {},
   "source": [
    "### test"
   ]
  },
  {
   "cell_type": "markdown",
   "id": "driven-cuisine",
   "metadata": {},
   "source": [
    "- test.csv의 데이터 프레임\n",
    "- 테스트에 사용될 데이터로, ID, shop_id, item_id를 column으로 가지고 있다."
   ]
  },
  {
   "cell_type": "code",
   "execution_count": 83,
   "id": "tight-patent",
   "metadata": {},
   "outputs": [
    {
     "name": "stdout",
     "output_type": "stream",
     "text": [
      "<class 'pandas.core.frame.DataFrame'>\n",
      "RangeIndex: 214200 entries, 0 to 214199\n",
      "Data columns (total 3 columns):\n",
      " #   Column   Non-Null Count   Dtype\n",
      "---  ------   --------------   -----\n",
      " 0   ID       214200 non-null  int64\n",
      " 1   shop_id  214200 non-null  int64\n",
      " 2   item_id  214200 non-null  int64\n",
      "dtypes: int64(3)\n",
      "memory usage: 4.9 MB\n"
     ]
    }
   ],
   "source": [
    "test.info()"
   ]
  },
  {
   "cell_type": "markdown",
   "id": "proof-transsexual",
   "metadata": {},
   "source": [
    "### sample_submission"
   ]
  },
  {
   "cell_type": "markdown",
   "id": "answering-thermal",
   "metadata": {},
   "source": [
    "- sample_submission.csv의 데이터 프레임\n",
    "- 테스트 결과를 저장할 csv의 파일을 옳바른 포맷을 정의하고 있다.\n",
    "- ID는 test.ID와 같은 값을 가진다.\n",
    "- item_cnt_month는 train date 이후 한달(2015/11)간 특정 가게(shop_id)에서 특정 아이템(item_id)가 얼마나 판매될지를 예측한 값이다."
   ]
  },
  {
   "cell_type": "code",
   "execution_count": 85,
   "id": "italic-referral",
   "metadata": {},
   "outputs": [
    {
     "data": {
      "text/html": [
       "<div>\n",
       "<style scoped>\n",
       "    .dataframe tbody tr th:only-of-type {\n",
       "        vertical-align: middle;\n",
       "    }\n",
       "\n",
       "    .dataframe tbody tr th {\n",
       "        vertical-align: top;\n",
       "    }\n",
       "\n",
       "    .dataframe thead th {\n",
       "        text-align: right;\n",
       "    }\n",
       "</style>\n",
       "<table border=\"1\" class=\"dataframe\">\n",
       "  <thead>\n",
       "    <tr style=\"text-align: right;\">\n",
       "      <th></th>\n",
       "      <th>ID</th>\n",
       "      <th>item_cnt_month</th>\n",
       "    </tr>\n",
       "  </thead>\n",
       "  <tbody>\n",
       "    <tr>\n",
       "      <th>214195</th>\n",
       "      <td>214195</td>\n",
       "      <td>0.5</td>\n",
       "    </tr>\n",
       "    <tr>\n",
       "      <th>214196</th>\n",
       "      <td>214196</td>\n",
       "      <td>0.5</td>\n",
       "    </tr>\n",
       "    <tr>\n",
       "      <th>214197</th>\n",
       "      <td>214197</td>\n",
       "      <td>0.5</td>\n",
       "    </tr>\n",
       "    <tr>\n",
       "      <th>214198</th>\n",
       "      <td>214198</td>\n",
       "      <td>0.5</td>\n",
       "    </tr>\n",
       "    <tr>\n",
       "      <th>214199</th>\n",
       "      <td>214199</td>\n",
       "      <td>0.5</td>\n",
       "    </tr>\n",
       "  </tbody>\n",
       "</table>\n",
       "</div>"
      ],
      "text/plain": [
       "            ID  item_cnt_month\n",
       "214195  214195             0.5\n",
       "214196  214196             0.5\n",
       "214197  214197             0.5\n",
       "214198  214198             0.5\n",
       "214199  214199             0.5"
      ]
     },
     "execution_count": 85,
     "metadata": {},
     "output_type": "execute_result"
    }
   ],
   "source": [
    "sample_submission.tail()"
   ]
  },
  {
   "cell_type": "markdown",
   "id": "vital-nicaragua",
   "metadata": {},
   "source": [
    "## EDA 2) 이상치 탐색\n",
    "---"
   ]
  },
  {
   "cell_type": "code",
   "execution_count": 92,
   "id": "competitive-excitement",
   "metadata": {},
   "outputs": [],
   "source": [
    "import matplotlib.pyplot as plt\n",
    "import seaborn as sns"
   ]
  },
  {
   "cell_type": "markdown",
   "id": "liable-implementation",
   "metadata": {},
   "source": [
    "### train"
   ]
  },
  {
   "cell_type": "markdown",
   "id": "durable-algebra",
   "metadata": {},
   "source": [
    "#### train.item_price"
   ]
  },
  {
   "cell_type": "code",
   "execution_count": 115,
   "id": "brilliant-makeup",
   "metadata": {},
   "outputs": [],
   "source": [
    "price_mean = train['item_price'].mean()\n",
    "price_max = train['item_price'].max() + 100\n",
    "price_min = train['item_price'].min() - 100"
   ]
  },
  {
   "cell_type": "code",
   "execution_count": 117,
   "id": "surprised-access",
   "metadata": {},
   "outputs": [
    {
     "data": {
      "image/png": "[encoded data removed]",
      "text/plain": [
       "<Figure size 720x360 with 1 Axes>"
      ]
     },
     "metadata": {
      "needs_background": "light"
     },
     "output_type": "display_data"
    }
   ],
   "source": [
    "fig, ax1 = plt.subplots(1, figsize=(10,5))\n",
    "sns.scatterplot(data=train , x='date_block_num', y='item_price', palette=\"ch:r=-.2,d=.3_r\", ax=ax1)\n",
    "ax1.set_title('train.item_price')\n",
    "ax1.set_ylim(top=price_max, bottom=price_min)\n",
    "plt.show()"
   ]
  },
  {
   "cell_type": "markdown",
   "id": "possible-eagle",
   "metadata": {},
   "source": [
    "- 그래프상에서 너무 큰 값이 발견 되었다. 이 값에 대해 자세히 알아보자."
   ]
  },
  {
   "cell_type": "code",
   "execution_count": 122,
   "id": "official-firmware",
   "metadata": {},
   "outputs": [
    {
     "data": {
      "text/html": [
       "<div>\n",
       "<style scoped>\n",
       "    .dataframe tbody tr th:only-of-type {\n",
       "        vertical-align: middle;\n",
       "    }\n",
       "\n",
       "    .dataframe tbody tr th {\n",
       "        vertical-align: top;\n",
       "    }\n",
       "\n",
       "    .dataframe thead th {\n",
       "        text-align: right;\n",
       "    }\n",
       "</style>\n",
       "<table border=\"1\" class=\"dataframe\">\n",
       "  <thead>\n",
       "    <tr style=\"text-align: right;\">\n",
       "      <th></th>\n",
       "      <th>date</th>\n",
       "      <th>date_block_num</th>\n",
       "      <th>shop_id</th>\n",
       "      <th>item_id</th>\n",
       "      <th>item_price</th>\n",
       "      <th>item_cnt_day</th>\n",
       "    </tr>\n",
       "  </thead>\n",
       "  <tbody>\n",
       "    <tr>\n",
       "      <th>1163158</th>\n",
       "      <td>13.12.2013</td>\n",
       "      <td>11</td>\n",
       "      <td>12</td>\n",
       "      <td>6066</td>\n",
       "      <td>307980.0</td>\n",
       "      <td>1.0</td>\n",
       "    </tr>\n",
       "  </tbody>\n",
       "</table>\n",
       "</div>"
      ],
      "text/plain": [
       "               date  date_block_num  shop_id  item_id  item_price  \\\n",
       "1163158  13.12.2013              11       12     6066    307980.0   \n",
       "\n",
       "         item_cnt_day  \n",
       "1163158           1.0  "
      ]
     },
     "execution_count": 122,
     "metadata": {},
     "output_type": "execute_result"
    }
   ],
   "source": [
    "train[train['item_price'] > 100000]"
   ]
  },
  {
   "cell_type": "code",
   "execution_count": 121,
   "id": "inner-intake",
   "metadata": {},
   "outputs": [
    {
     "name": "stdout",
     "output_type": "stream",
     "text": [
      "item name : Radmin 3  - 522 лиц.\n",
      "item catetgory : Programs - For Home and Office\n"
     ]
    }
   ],
   "source": [
    "print(f'item name : {get_item_name(6066)}')\n",
    "print(f'item catetgory : {get_item_category_name(get_item_category_id(6066), \"eng\")}')"
   ]
  },
  {
   "cell_type": "markdown",
   "id": "essential-portfolio",
   "metadata": {},
   "source": [
    "- 발견된 데이터가 이상치인지 특이치인지 확인하기 위하여 제품의 정보를 인터넷상으로 찾아 보았다.\n",
    "- 데이터 제공자인 1C의 제품 판매 홈페이지(https://online.1c.ru/)에서 아래와 같은 제품을 확인할 수 있었다. \n",
    "<img src=\"./assets/note_01_price_outlier.png\" width=\"80%\">\n",
    "\n",
    "\n",
    "- 해당 데이터는 Radmin이라는 운영체제로 인터넷상에서는 최대 25개의 라이센스를 묶음으로 판매하고 있다. item_name 정보를 기반으로 추리하면, 문제의 데이터 ***Radmin 3  - 522 лиц.***은 Radmin 라이센스 522개를 묶음으로 판매한 것으로 생각할 수 있다. 관공서나 기업에서 단체구매를 했다고 생각할 수 있을 것이다.\n",
    "- 하지만 금액적으로 살펴 보았을 때, 한개의 라이센스의 가격이 1250이기 때문에 522개를 판매했다는 가정이 맞을려면 652500(1250\\*522)가 되어야 한다. 데이터상의 값은 307980보다 월등히 높은 값을 보인다.\n",
    "- 실생활에서 생각을해 보면 대량구매를 할 때, 할인을 받는 경우가 왕왕있다. 이점을 고려하면 652500 * 0.472 = 307980이므로 52.8%를 할인 받았다고 볼 수 있다.\n",
    "- 아무리 대량구매를 했다고하여도 50% 넘는 금액을 할인받았다고는 보기 힘들다. "
   ]
  },
  {
   "cell_type": "markdown",
   "id": "toxic-syndication",
   "metadata": {},
   "source": [
    " #### train.item_cnt_day\n",
    "- 너무 큰 데이터 1. ['item_id']==11373\n",
    "    - 가격 동일 카테고리의 제품들에 비해 가격이 너무 저렴하고 판매량이 높다.\n",
    "    - 배송이 이렇게 많다는거면 할인 이벤트라고 볼 수 있을 것 같다.\n",
    "    - 일반적이지 않은 데이터이므로 삭제\n",
    "- 너무 큰 데이터 2. 100 인거는 T셔츠니까 살리기"
   ]
  },
  {
   "cell_type": "code",
   "execution_count": null,
   "id": "russian-village",
   "metadata": {},
   "outputs": [],
   "source": [
    "⭐⭐⭐⭐⭐⭐⭐⭐⭐⭐⭐⭐⭐⭐⭐⭐⭐⭐⭐⭐⭐⭐⭐⭐"
   ]
  },
  {
   "cell_type": "code",
   "execution_count": null,
   "id": "macro-dinner",
   "metadata": {},
   "outputs": [],
   "source": [
    "삭제 coloumn : date, price\n",
    "date_block_num을 34로 넣어서 돌리기\n",
    "\n",
    "x = date_block_num, shop_id, item_id\n",
    "y = item_cnt_day\n",
    "\n"
   ]
  }
 ],
 "metadata": {
  "kernelspec": {
   "display_name": "aiffel",
   "language": "python",
   "name": "aiffel"
  },
  "language_info": {
   "codemirror_mode": {
    "name": "ipython",
    "version": 3
   },
   "file_extension": ".py",
   "mimetype": "text/x-python",
   "name": "python",
   "nbconvert_exporter": "python",
   "pygments_lexer": "ipython3",
   "version": "3.7.9"
  },
  "toc": {
   "base_numbering": 1,
   "nav_menu": {},
   "number_sections": true,
   "sideBar": true,
   "skip_h1_title": false,
   "title_cell": "Table of Contents",
   "title_sidebar": "Contents",
   "toc_cell": false,
   "toc_position": {},
   "toc_section_display": true,
   "toc_window_display": false
  }
 },
 "nbformat": 4,
 "nbformat_minor": 5
}
